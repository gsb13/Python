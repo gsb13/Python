{
 "cells": [
  {
   "cell_type": "markdown",
   "id": "aa45e74b",
   "metadata": {},
   "source": [
    "Great question! Let's explore how **dictionaries** (`dict`) work in Python, and how you can handle **scenarios with duplicate keys** effectively.\n",
    "\n",
    "---\n",
    "\n",
    "## 🧠 What is a Dictionary in Python?\n",
    "\n",
    "A **dictionary** in Python is a **collection of key-value pairs**.\n",
    "\n",
    "* Keys must be **unique** and **immutable** (like strings, numbers, tuples).\n",
    "* Values can be of any type (even another dictionary).\n",
    "\n",
    "### 📌 Syntax:\n",
    "\n",
    "```python\n",
    "my_dict = {\n",
    "    \"name\": \"Alice\",\n",
    "    \"age\": 25,\n",
    "    \"city\": \"New York\"\n",
    "}\n",
    "```\n",
    "\n",
    "---\n",
    "\n",
    "## ⚙️ How Dictionaries Work Internally\n",
    "\n",
    "Dictionaries in Python use a **hash table** under the hood.\n",
    "\n",
    "* When you add a key, Python calculates its **hash** using the `__hash__()` method.\n",
    "* This hash determines where the key-value pair is stored.\n",
    "* Keys must be **hashable**, which is why mutable types like lists can’t be used as keys.\n",
    "\n",
    "---\n",
    "\n",
    "## 🔁 What Happens If You Use the Same Key Twice?\n",
    "\n",
    "If you define a dictionary with **duplicate keys**, **only the last occurrence** will be kept. The earlier ones are **overwritten**.\n",
    "\n",
    "### ⚠️ Example:\n",
    "\n",
    "```python\n",
    "my_dict = {\n",
    "    'name': 'Alice',\n",
    "    'name': 'Bob'\n",
    "}\n",
    "\n",
    "print(my_dict)\n",
    "```\n",
    "\n",
    "### ✅ Output:\n",
    "\n",
    "```python\n",
    "{'name': 'Bob'}\n",
    "```\n",
    "\n",
    "Python silently keeps the **last assignment** to the key `'name'`.\n",
    "\n",
    "---\n",
    "\n",
    "## 🔄 Scenarios & How to Handle Duplicate Keys\n",
    "\n",
    "Here are some **real-world use-cases** where handling \"duplicate keys\" is needed, and how to work around Python’s uniqueness constraint:\n",
    "\n",
    "---\n",
    "\n",
    "### 🔸 1. **Group Values by Key (Many-to-One Mapping)**\n",
    "\n",
    "✅ Use a **dictionary of lists** to store multiple values per key.\n",
    "\n",
    "```python\n",
    "data = [('Math', 90), ('Science', 85), ('Math', 95), ('English', 88)]\n",
    "\n",
    "grouped = {}\n",
    "\n",
    "for subject, score in data:\n",
    "    if subject not in grouped:\n",
    "        grouped[subject] = []\n",
    "    grouped[subject].append(score)\n",
    "\n",
    "print(grouped)\n",
    "```\n",
    "\n",
    "### ✅ Output:\n",
    "\n",
    "```python\n",
    "{'Math': [90, 95], 'Science': [85], 'English': [88]}\n",
    "```\n",
    "\n",
    "---\n",
    "\n",
    "### 🔸 2. **Using `defaultdict` from `collections`**\n",
    "\n",
    "Makes the above even simpler:\n",
    "\n",
    "```python\n",
    "from collections import defaultdict\n",
    "\n",
    "grouped = defaultdict(list)\n",
    "\n",
    "for subject, score in data:\n",
    "    grouped[subject].append(score)\n",
    "\n",
    "print(dict(grouped))\n",
    "```\n",
    "\n",
    "---\n",
    "\n",
    "### 🔸 3. **Count Occurrences of Each Key**\n",
    "\n",
    "Use a `dict` or `defaultdict` to count items like words or elements.\n",
    "\n",
    "```python\n",
    "from collections import defaultdict\n",
    "\n",
    "items = ['apple', 'banana', 'apple', 'orange', 'banana', 'apple']\n",
    "\n",
    "count = defaultdict(int)\n",
    "\n",
    "for item in items:\n",
    "    count[item] += 1\n",
    "\n",
    "print(dict(count))\n",
    "```\n",
    "\n",
    "### ✅ Output:\n",
    "\n",
    "```python\n",
    "{'apple': 3, 'banana': 2, 'orange': 1}\n",
    "```\n",
    "\n",
    "---\n",
    "\n",
    "### 🔸 4. **Store Key-Value Pairs as a List of Tuples**\n",
    "\n",
    "When you need true **duplicate keys** and want to preserve all data:\n",
    "\n",
    "```python\n",
    "data = [\n",
    "    ('id', 101),\n",
    "    ('name', 'Alice'),\n",
    "    ('id', 102),\n",
    "    ('name', 'Bob')\n",
    "]\n",
    "\n",
    "# Store as list of tuples or process into grouped dict\n",
    "```\n",
    "\n",
    "---\n",
    "\n",
    "### 🔸 5. **Custom Merge Logic on Duplicate Keys**\n",
    "\n",
    "Say you want to keep the **maximum** score for each subject:\n",
    "\n",
    "```python\n",
    "scores = [('Math', 90), ('Science', 85), ('Math', 95)]\n",
    "\n",
    "highest = {}\n",
    "\n",
    "for subject, score in scores:\n",
    "    if subject not in highest or score > highest[subject]:\n",
    "        highest[subject] = score\n",
    "\n",
    "print(highest)\n",
    "```\n",
    "\n",
    "### ✅ Output:\n",
    "\n",
    "```python\n",
    "{'Math': 95, 'Science': 85}\n",
    "```\n",
    "\n",
    "---\n",
    "\n",
    "## 🧪 Summary: How to Handle Same/Duplicate Keys\n",
    "\n",
    "| Scenario                           | Solution                                   |\n",
    "| ---------------------------------- | ------------------------------------------ |\n",
    "| Store multiple values per key      | Use `dict` of lists or `defaultdict(list)` |\n",
    "| Count duplicate keys               | Use `defaultdict(int)` or `Counter`        |\n",
    "| Preserve duplicates                | Use list of tuples                         |\n",
    "| Merge values (max, min, sum, etc.) | Write custom logic                         |\n",
    "\n",
    "---\n",
    "\n",
    "## 💬 Let Me Know\n",
    "\n",
    "Would you like a mini-project where you handle dictionary operations with real-world data (like students, products, or logs)? I'd be happy to create one for you.\n"
   ]
  },
  {
   "cell_type": "code",
   "execution_count": 1,
   "id": "dd03325f",
   "metadata": {},
   "outputs": [
    {
     "name": "stdout",
     "output_type": "stream",
     "text": [
      "{1: 1, 2: 2, 3: 1, 4: 3}\n"
     ]
    }
   ],
   "source": [
    "# Count frequency of each element in a list\n",
    "# approach 1: using dictionary\n",
    "def count_frequency(lst):\n",
    "    frequency = {}\n",
    "    for item in lst:\n",
    "        if item in frequency:\n",
    "            frequency[item] += 1\n",
    "        else:\n",
    "            frequency[item] = 1\n",
    "    return frequency\n",
    "\n",
    "#example usage\n",
    "lst = [1, 2, 2, 3, 4, 4, 4]\n",
    "print(count_frequency(lst))"
   ]
  },
  {
   "cell_type": "code",
   "execution_count": 2,
   "id": "12a2e93d",
   "metadata": {},
   "outputs": [
    {
     "name": "stdout",
     "output_type": "stream",
     "text": [
      "{'apple': 3, 'banana': 2, 'orange': 1}\n"
     ]
    }
   ],
   "source": [
    "elements = ['apple', 'banana', 'apple', 'orange', 'banana', 'apple']\n",
    "print(count_frequency(elements))"
   ]
  },
  {
   "cell_type": "code",
   "execution_count": 4,
   "id": "3868551c",
   "metadata": {},
   "outputs": [
    {
     "name": "stdout",
     "output_type": "stream",
     "text": [
      "{'apple': 3, 'banana': 2, 'orange': 1}\n"
     ]
    }
   ],
   "source": [
    "# approach 2: without inbuilt functions and dictionary\n",
    "def count_frequency_no_dict(lst):\n",
    "    frequency = []\n",
    "    for item in lst:\n",
    "        found = False\n",
    "        for pair in frequency:\n",
    "            if pair[0] == item:\n",
    "                pair[1] += 1\n",
    "                found = True\n",
    "                break\n",
    "        if not found:\n",
    "            frequency.append([item, 1])\n",
    "    return frequency\n",
    "\n",
    "#example usage\n",
    "elements = ['apple', 'banana', 'apple', 'orange', 'banana', 'apple']\n",
    "print(count_frequency(elements))\n"
   ]
  },
  {
   "cell_type": "code",
   "execution_count": 5,
   "id": "4e294a54",
   "metadata": {},
   "outputs": [
    {
     "name": "stdout",
     "output_type": "stream",
     "text": [
      "{1: 'a', 2: 'b', 3: 'c'}\n"
     ]
    }
   ],
   "source": [
    "# Invert a dictionary (keys become values and vice versa)\n",
    "# approach 1: using dictionary comprehension\n",
    "def invert_dictionary(d):\n",
    "    return {v: k for k, v in d.items()}\n",
    "\n",
    "#example usage\n",
    "d = {'a': 1, 'b': 2, 'c': 3}\n",
    "print(invert_dictionary(d))\n"
   ]
  },
  {
   "cell_type": "code",
   "execution_count": 8,
   "id": "d21bc9ef",
   "metadata": {},
   "outputs": [
    {
     "name": "stdout",
     "output_type": "stream",
     "text": [
      "[[1, 'a'], [2, 'b'], [3, 'c']]\n"
     ]
    }
   ],
   "source": [
    "# Invert a dictionary (keys become values and vice versa)\n",
    "# approach 2: without inbuilt functions and dictionary\n",
    "def invert_dictionary_no_dict(d):\n",
    "    inverted = []\n",
    "    for k, v in d.items():\n",
    "        inverted.append([v, k])\n",
    "    return inverted\n",
    "#example usage\n",
    "d = {'a': 1, 'b': 2, 'c': 3}\n",
    "print(invert_dictionary_no_dict(d))"
   ]
  },
  {
   "cell_type": "code",
   "execution_count": null,
   "id": "7a4c7121",
   "metadata": {},
   "outputs": [
    {
     "name": "stdout",
     "output_type": "stream",
     "text": [
      "{'hello': 2, 'world': 2, 'everyone': 1, 'welcome': 1, 'to': 1, 'the': 1, 'of': 1, 'python': 2, 'is': 1, 'great': 1}\n"
     ]
    }
   ],
   "source": [
    "#1. Frequency Counter for Words in a Paragraph\n",
    "def word_frequency(paragraph):\n",
    "    words = paragraph.split()\n",
    "    frequency = {}\n",
    "    for word in words:\n",
    "        word = word.lower().strip('.,!?;\"\\'()[]{}')  # Normalize the word #'.,!?;\"\\'()[]{} --> Remove punctuation\n",
    "        if word in frequency:\n",
    "            frequency[word] += 1\n",
    "        else:\n",
    "            frequency[word] = 1\n",
    "    return frequency\n",
    "\n",
    "paragraph = \"Hello world! Hello everyone. Welcome to the world of Python. Python is great.\"\n",
    "print(word_frequency(paragraph))"
   ]
  },
  {
   "cell_type": "code",
   "execution_count": 3,
   "id": "857ab022",
   "metadata": {},
   "outputs": [
    {
     "name": "stdout",
     "output_type": "stream",
     "text": [
      "{'python': 3, 'is': 3, 'great': 1, 'and': 1, 'easy': 1, 'to': 1, 'learn.': 1, 'popular.': 1}\n"
     ]
    }
   ],
   "source": [
    "#approch 2: \n",
    "text = \"Python is great and Python is easy to learn. Python is popular.\"\n",
    "\n",
    "words = text.lower().split()\n",
    "freq = {}\n",
    "\n",
    "for word in words:\n",
    "    freq[word] = freq.get(word, 0) + 1\n",
    "\n",
    "print(freq)"
   ]
  },
  {
   "cell_type": "code",
   "execution_count": null,
   "id": "75befdb9",
   "metadata": {},
   "outputs": [
    {
     "name": "stdout",
     "output_type": "stream",
     "text": [
      "{'HR': ['Alice', 'Charlie'], 'IT': ['Bob', 'David'], 'Finance': ['Eve']}\n"
     ]
    }
   ],
   "source": [
    "#Group Employees by Department\n",
    "employees = [\n",
    "    ('Alice', 'HR'),\n",
    "    ('Bob', 'IT'),\n",
    "    ('Charlie', 'HR'),\n",
    "    ('David', 'IT'),\n",
    "    ('Eve', 'Finance')\n",
    "]\n",
    "from collections import defaultdict\n",
    "\n",
    "grouped = defaultdict(list) # Create a dictionary with default list values example: {'HR': [], 'IT': [], 'Finance': []}\n",
    "\n",
    "for name, dept in employees:\n",
    "    grouped[dept].append(name)\n",
    "\n",
    "print(dict(grouped))"
   ]
  },
  {
   "cell_type": "code",
   "execution_count": 6,
   "id": "3a9984b5",
   "metadata": {},
   "outputs": [
    {
     "name": "stdout",
     "output_type": "stream",
     "text": [
      "[['HR', ['Alice', 'Charlie']], ['IT', ['Bob', 'David']], ['Finance', ['Eve']]]\n"
     ]
    }
   ],
   "source": [
    "# approach 2: without using inbuilt functions and dictionary\n",
    "grouped = []\n",
    "for name, dept in employees:\n",
    "    found = False\n",
    "    for pair in grouped:\n",
    "        if pair[0] == dept:\n",
    "            pair[1].append(name)\n",
    "            found = True\n",
    "            break\n",
    "    if not found:\n",
    "        grouped.append([dept, [name]])\n",
    "print(grouped)"
   ]
  },
  {
   "cell_type": "code",
   "execution_count": 7,
   "id": "28484119",
   "metadata": {},
   "outputs": [
    {
     "name": "stdout",
     "output_type": "stream",
     "text": [
      "{'Bob': 95, 'Alice': 88, 'Charlie': 78}\n"
     ]
    }
   ],
   "source": [
    "#Sort a Dictionary by Values (Descending)\n",
    "scores = {'Alice': 88, 'Bob': 95, 'Charlie': 78}\n",
    "\n",
    "sorted_scores = dict(sorted(scores.items(), key=lambda x: x[1], reverse=True))\n",
    "print(sorted_scores)"
   ]
  },
  {
   "cell_type": "code",
   "execution_count": null,
   "id": "96a620b2",
   "metadata": {},
   "outputs": [
    {
     "name": "stdout",
     "output_type": "stream",
     "text": [
      "[('Alice', 88), ('Bob', 95), ('Charlie', 78)]\n",
      "{'Bob': 95, 'Alice': 88, 'Charlie': 78}\n"
     ]
    }
   ],
   "source": [
    "# without using inbuilt functions\n",
    "items = list(scores.items())\n",
    "print(items)\n",
    "for i in range(len(items)):\n",
    "    for j in range(i + 1, len(items)): # Compare with all subsequent items\n",
    "        if items[i][1] < items[j][1]: # Compare values for descending order\n",
    "            items[i], items[j] = items[j], items[i] # Swap if the current item is less than the compared item\n",
    "sorted_scores = {}\n",
    "for k, v in items:\n",
    "    sorted_scores[k] = v\n",
    "print(sorted_scores)\n"
   ]
  },
  {
   "cell_type": "code",
   "execution_count": 11,
   "id": "f22e0f2b",
   "metadata": {},
   "outputs": [
    {
     "name": "stdout",
     "output_type": "stream",
     "text": [
      "{'a': 400, 'b': 400, 'c': 300, 'd': 400}\n"
     ]
    }
   ],
   "source": [
    "# Merge Two Dictionaries with Summed Values without using inbuilt functions\n",
    "dict1 = {'a': 100, 'b': 200, 'c': 300}\n",
    "dict2 = {'a': 300, 'b': 200, 'd': 400}\n",
    "merged = dict1.copy()  # Start with all items from dict1\n",
    "for k, v in dict2.items():\n",
    "    if k in merged:\n",
    "        merged[k] += v  # Sum values for common keys\n",
    "    else:\n",
    "        merged[k] = v  # Add new key-value pair from dict2\n",
    "print(merged)\n"
   ]
  },
  {
   "cell_type": "code",
   "execution_count": 12,
   "id": "392181e0",
   "metadata": {},
   "outputs": [
    {
     "name": "stdout",
     "output_type": "stream",
     "text": [
      "['b', 'c']\n"
     ]
    }
   ],
   "source": [
    "#Find Key(s) with Maximum Value\n",
    "data = {'a': 10, 'b': 20, 'c': 20, 'd': 5}\n",
    "max_value = max(data.values())\n",
    "max_keys = [k for k, v in data.items() if v == max_value]\n",
    "print(max_keys)"
   ]
  },
  {
   "cell_type": "code",
   "execution_count": 15,
   "id": "b217d845",
   "metadata": {},
   "outputs": [
    {
     "name": "stdout",
     "output_type": "stream",
     "text": [
      "['b', 'c']\n"
     ]
    }
   ],
   "source": [
    "#Find Key(s) with Maximum Value without using inbuilt functions\n",
    "max_value = None\n",
    "max_keys = []\n",
    "for k, v in data.items():\n",
    "    if max_value is None or v > max_value:\n",
    "        max_value = v\n",
    "        max_keys = [k]  # Start a new list of max keys\n",
    "    elif v == max_value:\n",
    "        max_keys.append(k)  # Add to the list of max keys\n",
    "\n",
    "print(max_keys)"
   ]
  },
  {
   "cell_type": "code",
   "execution_count": null,
   "id": "ff4c4a1c",
   "metadata": {},
   "outputs": [
    {
     "name": "stdout",
     "output_type": "stream",
     "text": [
      "ID: 101, Name: Alice, Department: IT\n",
      "ID: 102, Name: Bob, Department: HR\n"
     ]
    }
   ],
   "source": [
    "# nested dictionary iteration\n",
    "employees = {\n",
    "    101: {'name': 'Alice', 'dept': 'IT'},\n",
    "    102: {'name': 'Bob', 'dept': 'HR'}\n",
    "}\n",
    "\n",
    "for emp_id, details in employees.items():\n",
    "    print(f\"ID: {emp_id}, Name: {details['name']}, Department: {details['dept']}\")"
   ]
  },
  {
   "cell_type": "code",
   "execution_count": 17,
   "id": "54171b92",
   "metadata": {},
   "outputs": [
    {
     "name": "stdout",
     "output_type": "stream",
     "text": [
      "{'p': 1, 'r': 2, 'o': 1, 'g': 2, 'a': 1, 'm': 2, 'i': 1, 'n': 1}\n"
     ]
    }
   ],
   "source": [
    "# Character Frequency in a String\n",
    "s = \"Programming\"\n",
    "\n",
    "char_count = {}\n",
    "\n",
    "for char in s.lower():\n",
    "    if char.isalpha():\n",
    "        char_count[char] = char_count.get(char, 0) + 1\n",
    "\n",
    "print(char_count)"
   ]
  },
  {
   "cell_type": "code",
   "execution_count": 18,
   "id": "ad90bf02",
   "metadata": {},
   "outputs": [
    {
     "name": "stdout",
     "output_type": "stream",
     "text": [
      "{'b', 'c'}\n"
     ]
    }
   ],
   "source": [
    "#Find Common Keys Between Two Dicts\n",
    "dict1 = {'a': 1, 'b': 2, 'c': 3}\n",
    "dict2 = {'b': 3, 'c': 4, 'd': 5}\n",
    "common_keys = set(dict1.keys()) & set(dict2.keys())\n",
    "print(common_keys)"
   ]
  },
  {
   "cell_type": "code",
   "execution_count": 20,
   "id": "5d835e60",
   "metadata": {},
   "outputs": [
    {
     "name": "stdout",
     "output_type": "stream",
     "text": [
      "['b', 'c']\n"
     ]
    }
   ],
   "source": [
    "# Find Common Keys Between Two Dicts without using inbuilt functions\n",
    "common_keys = []\n",
    "for k in dict1:\n",
    "    if k in dict2:\n",
    "        common_keys.append(k)\n",
    "print(common_keys)"
   ]
  },
  {
   "cell_type": "code",
   "execution_count": 21,
   "id": "7535d726",
   "metadata": {},
   "outputs": [
    {
     "name": "stdout",
     "output_type": "stream",
     "text": [
      "{'name': 'Alice', 'age': 30, 'city': 'New York'}\n"
     ]
    }
   ],
   "source": [
    "# Create Dictionary from Two Lists\n",
    "\n",
    "keys = ['name', 'age', 'city']\n",
    "values = ['Alice', 30, 'New York']\n",
    "dictionary = dict(zip(keys, values))\n",
    "print(dictionary)"
   ]
  },
  {
   "cell_type": "code",
   "execution_count": 23,
   "id": "aea65fb1",
   "metadata": {},
   "outputs": [
    {
     "name": "stdout",
     "output_type": "stream",
     "text": [
      "{'name': 'Alice', 'age': 30, 'city': 'New York'}\n"
     ]
    }
   ],
   "source": [
    "# Create Dictionary from Two Lists -- without using inbuilt functions\n",
    "dictionary = {}\n",
    "for i in range(min(len(keys), len(values))): # range is from 0 to the length of the shorter list\n",
    "    dictionary[keys[i]] = values[i]\n",
    "print(dictionary)"
   ]
  },
  {
   "cell_type": "code",
   "execution_count": null,
   "id": "98104c34",
   "metadata": {},
   "outputs": [],
   "source": []
  }
 ],
 "metadata": {
  "kernelspec": {
   "display_name": ".venv",
   "language": "python",
   "name": "python3"
  },
  "language_info": {
   "codemirror_mode": {
    "name": "ipython",
    "version": 3
   },
   "file_extension": ".py",
   "mimetype": "text/x-python",
   "name": "python",
   "nbconvert_exporter": "python",
   "pygments_lexer": "ipython3",
   "version": "3.12.0"
  }
 },
 "nbformat": 4,
 "nbformat_minor": 5
}
