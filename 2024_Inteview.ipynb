{
 "cells": [
  {
   "cell_type": "code",
   "execution_count": null,
   "id": "b1a1be5b",
   "metadata": {},
   "outputs": [],
   "source": [
    "msg = \"\\\"i love the {}\\\".format('ganesh')\""
   ]
  },
  {
   "cell_type": "code",
   "execution_count": null,
   "id": "6ce6cf04",
   "metadata": {},
   "outputs": [],
   "source": [
    "eval(msg)"
   ]
  },
  {
   "cell_type": "code",
   "execution_count": 1,
   "id": "548065f5",
   "metadata": {},
   "outputs": [
    {
     "data": {
      "text/plain": [
       "{1, 2, 3, 4, 5, 6, 7, 8}"
      ]
     },
     "execution_count": 1,
     "metadata": {},
     "output_type": "execute_result"
    }
   ],
   "source": [
    "a = [1,2,3,7,2,1,5,6,4,8,5,4]\n",
    "\n",
    "unique_ls = set(a)\n",
    "unique_ls"
   ]
  },
  {
   "cell_type": "code",
   "execution_count": 2,
   "id": "2e13b73a",
   "metadata": {},
   "outputs": [
    {
     "name": "stdout",
     "output_type": "stream",
     "text": [
      "{1, 2, 3, 4, 5, 6, 7, 8}\n"
     ]
    }
   ],
   "source": [
    "dup = set()\n",
    "uniq = []\n",
    "for x in a:\n",
    "    if x not in dup:\n",
    "        uniq.append(x)\n",
    "        dup.add(x)\n",
    "print(dup)\n"
   ]
  },
  {
   "cell_type": "code",
   "execution_count": 4,
   "id": "c0517bca",
   "metadata": {},
   "outputs": [
    {
     "name": "stdout",
     "output_type": "stream",
     "text": [
      "List is Empty..\n"
     ]
    }
   ],
   "source": [
    "a = []\n",
    "#a = [34,45,6,5,4,56,7]\n",
    "if not a:\n",
    "    print(\"List is Empty..\")\n",
    "else:\n",
    "    print(\"List is Not Empty..\")"
   ]
  },
  {
   "cell_type": "code",
   "execution_count": 5,
   "id": "a124f68a",
   "metadata": {},
   "outputs": [
    {
     "name": "stdout",
     "output_type": "stream",
     "text": [
      "['Words', 'Longer', 'given', 'Words']\n"
     ]
    }
   ],
   "source": [
    "#Write a Python program \n",
    "#to find the list of words that are longer than n from a given list of words\n",
    "\n",
    "n=4\n",
    "str1 = \"Find the List of Words that are Longer than n from a given List of Words\"\n",
    "new_list = []\n",
    "text = str1.split(\" \")\n",
    "for x in text:\n",
    "\tif len(x) > n:\n",
    "\t\tnew_list.append(x)\n",
    "print(new_list)"
   ]
  },
  {
   "cell_type": "code",
   "execution_count": 2,
   "id": "3147765e",
   "metadata": {},
   "outputs": [
    {
     "name": "stdout",
     "output_type": "stream",
     "text": [
      "True\n",
      "True\n",
      "True\n",
      "Lists have at least one common member\n"
     ]
    },
    {
     "data": {
      "text/plain": [
       "[5, 6, 7]"
      ]
     },
     "execution_count": 2,
     "metadata": {},
     "output_type": "execute_result"
    }
   ],
   "source": [
    "'''Write a Program that get two lists as input and \n",
    "check if they have at least one common member'''\n",
    "\n",
    "list1=[1,2,3,4,5,6,7]\n",
    "list2=[5,6,7,8,9]\n",
    "com = []\n",
    "result = False\n",
    "for x in list1:\n",
    "    for y in list2:\n",
    "        if x == y:\n",
    "            com.append(x)\n",
    "            result = True\n",
    "            print(result)\n",
    "if result:\n",
    "    print(\"Lists have at  common members\")\n",
    "else:\n",
    "    print(\"Lists do not have any common member\")\n",
    "\n",
    "com"
   ]
  },
  {
   "cell_type": "code",
   "execution_count": null,
   "id": "27b9caeb",
   "metadata": {},
   "outputs": [
    {
     "data": {
      "text/plain": [
       "['Dog', 'Elephant', 'Fox', 'Ponda']"
      ]
     },
     "execution_count": 1,
     "metadata": {},
     "output_type": "execute_result"
    }
   ],
   "source": [
    "'''Write a Python program to print a specified list\n",
    "after removing the 0th, 4th and 5th elements'''\n",
    "\n",
    "\n",
    "animal = [\"Cat\", \"Dog\", \"Elephant\", \"Fox\", \"Tiger\", \"Lion\", \"Ponda\"]\n",
    "\n",
    "res = [x for i, x in enumerate(animal) if i not in (0,4,5)]\n",
    "res"
   ]
  },
  {
   "cell_type": "code",
   "execution_count": 2,
   "id": "8738cdd1",
   "metadata": {},
   "outputs": [
    {
     "name": "stdout",
     "output_type": "stream",
     "text": [
      "['Dog', 'Elephant', 'Fox', 'Ponda']\n"
     ]
    }
   ],
   "source": [
    "result = []\n",
    "for idx, name in enumerate(animal):\n",
    "    if idx not in (0, 4, 5):\n",
    "        result.append(name)\n",
    "print(result)"
   ]
  },
  {
   "cell_type": "code",
   "execution_count": 7,
   "id": "4e6ce52c",
   "metadata": {},
   "outputs": [
    {
     "name": "stdout",
     "output_type": "stream",
     "text": [
      "[1, 3, 5, 7, 9, 11, 13, 15, 17, 19, 21, 23, 25, 27, 29, 31, 33, 35, 37, 39, 41, 43, 45, 47, 49, 51, 53, 55, 57, 59, 61, 63, 65, 67, 69, 71, 73, 75, 77, 79, 81, 83, 85, 87, 89, 91, 93, 95, 97, 99]\n"
     ]
    }
   ],
   "source": [
    "res = [x for x in range(100) if x%2!=0]\n",
    "print(res)"
   ]
  },
  {
   "cell_type": "code",
   "execution_count": null,
   "id": "e4b98dc4",
   "metadata": {},
   "outputs": [
    {
     "data": {
      "text/plain": [
       "[100, 121, 144, 169, 196]"
      ]
     },
     "execution_count": 8,
     "metadata": {},
     "output_type": "execute_result"
    }
   ],
   "source": [
    "'''Write a Python program to generate and\n",
    "print a list of first and last 5 elements \n",
    "where the values are square of numbers\n",
    "between 1 and 30'''\n",
    "\n",
    "\n",
    "ls = []\n",
    "for i in range(10,15):\n",
    "    ls.append(i**2) \n",
    "ls"
   ]
  },
  {
   "cell_type": "code",
   "execution_count": 9,
   "id": "a56ce275",
   "metadata": {},
   "outputs": [
    {
     "name": "stdout",
     "output_type": "stream",
     "text": [
      "First 5 elements: [1, 4, 9, 16, 25]\n",
      "Last 5 elements: [676, 729, 784, 841, 900]\n"
     ]
    }
   ],
   "source": [
    "# Generate a list of squares of numbers between 1 and 30\n",
    "squares = [x**2 for x in range(1, 31)]\n",
    "\n",
    "# Get the first 5 and last 5 elements\n",
    "first_five = squares[:5]\n",
    "last_five = squares[-5:]\n",
    "\n",
    "# Print the results\n",
    "print(\"First 5 elements:\", first_five)\n",
    "print(\"Last 5 elements:\", last_five)"
   ]
  },
  {
   "cell_type": "code",
   "execution_count": 3,
   "id": "cc0e5a82",
   "metadata": {},
   "outputs": [
    {
     "name": "stdout",
     "output_type": "stream",
     "text": [
      "[(1, 2, 3), (1, 3, 2), (2, 1, 3), (2, 3, 1), (3, 1, 2), (3, 2, 1)]\n"
     ]
    }
   ],
   "source": [
    "import itertools\n",
    "print(list(itertools.permutations([1,2,3])))"
   ]
  },
  {
   "cell_type": "code",
   "execution_count": 4,
   "id": "8ff5dd78",
   "metadata": {},
   "outputs": [
    {
     "name": "stdout",
     "output_type": "stream",
     "text": [
      "Tutor Joes\n"
     ]
    }
   ],
   "source": [
    "s = ['T','u','t','o','r',' ','J','o','e','s']\n",
    "s1 = ''.join(s)\n",
    "print(s1)"
   ]
  },
  {
   "cell_type": "code",
   "execution_count": 5,
   "id": "5675b581",
   "metadata": {},
   "outputs": [
    {
     "name": "stdout",
     "output_type": "stream",
     "text": [
      "Lion\n"
     ]
    }
   ],
   "source": [
    "import random\n",
    "animal = [\"Cat\", \"Dog\", \"Elephant\", \"Fox\", \"Tiger\", \"Lion\", \"Ponda\"]\n",
    "print(random.choice(animal))\n",
    " "
   ]
  },
  {
   "cell_type": "code",
   "execution_count": 6,
   "id": "9d7f544d",
   "metadata": {},
   "outputs": [
    {
     "data": {
      "text/plain": [
       "0"
      ]
     },
     "execution_count": 6,
     "metadata": {},
     "output_type": "execute_result"
    }
   ],
   "source": [
    "num = [ 2,4,56,78,4,0,5,8,9]\n",
    "small = num[0]\n",
    "for i in num:\n",
    "    if i < small: #smallest\n",
    "        small = i\n",
    "        \n",
    "small"
   ]
  },
  {
   "cell_type": "code",
   "execution_count": 8,
   "id": "864de5a1",
   "metadata": {},
   "outputs": [],
   "source": [
    "li=[]\n",
    "n=int(input(\"Enter size of list \"))\n",
    "for i in range(0,n):\n",
    "    e=int(input(\"Enter element of list \"))\n",
    "    li.append(e)\n",
    "print('givenlist',li)\n",
    "small = li[0]\n",
    "for i in li:\n",
    "    if i < small:\n",
    "        small = i\n",
    "        \n",
    "print('smallest number',small)"
   ]
  },
  {
   "cell_type": "code",
   "execution_count": 1,
   "id": "e0a16071",
   "metadata": {},
   "outputs": [
    {
     "name": "stdout",
     "output_type": "stream",
     "text": [
      "2 max elements in  [2, 6, 41, 85, 0, 3, 7, 6, 10]\n",
      "[85, 41]\n"
     ]
    }
   ],
   "source": [
    "#N largest elements\n",
    "#function\n",
    "def N_max_elements(list, N):\n",
    "    result_list = []\n",
    "  \n",
    "    for i in range(0, N): \n",
    "        maximum = 0\n",
    "          \n",
    "        for j in range(len(list)):     \n",
    "            if list[j] > maximum:\n",
    "                maximum = list[j]\n",
    "                  \n",
    "        list.remove(maximum)\n",
    "        result_list.append(maximum)\n",
    "          \n",
    "    return result_list\n",
    "  \n",
    "#test\n",
    "list1 = [2, 6, 41, 85, 0, 3, 7, 6, 10]\n",
    "N = 2\n",
    "\n",
    "print(N, \"max elements in \",list1)\n",
    "  \n",
    "# Calling and printing the function\n",
    "print(N_max_elements(list1, N))"
   ]
  },
  {
   "cell_type": "code",
   "execution_count": null,
   "id": "5e7f8dcf",
   "metadata": {},
   "outputs": [],
   "source": [
    "def N_max_elements(list, N):\n",
    "    list.sort()     \n",
    "    return list[-N: ]\n",
    "\n",
    "#test\n",
    "list1 = [2, 6, 41, 85, 0, 3, 7, 6, 10]\n",
    "N = 2\n",
    "\n",
    "print(N, \"max elements in \",list1)\n",
    "  \n",
    "# Calling and printing the function\n",
    "print(N_max_elements(list1, N))"
   ]
  },
  {
   "cell_type": "code",
   "execution_count": 9,
   "id": "4316370e",
   "metadata": {},
   "outputs": [
    {
     "name": "stdout",
     "output_type": "stream",
     "text": [
      "[1, 2, 3]\n"
     ]
    }
   ],
   "source": [
    "def get_n_smallest(lst, n):\n",
    "    result = []\n",
    "\n",
    "    for _ in range(n):\n",
    "        min_index = 0\n",
    "        \n",
    "        # Find index of smallest unused element\n",
    "        for i in range(len(lst)):\n",
    "            if lst[i] < lst[min_index]:\n",
    "                min_index = i\n",
    "        \n",
    "        result.append(lst[min_index])\n",
    "        lst[min_index] = float('inf')  # Mark as used\n",
    "\n",
    "    return result\n",
    "\n",
    "# Example usage\n",
    "numbers = [10, 5, 3, 8, 2, 9, 1]\n",
    "n = 3\n",
    "\n",
    "print(get_n_smallest(numbers, n))"
   ]
  },
  {
   "cell_type": "code",
   "execution_count": null,
   "id": "69cd19db",
   "metadata": {},
   "outputs": [],
   "source": [
    "list1 = [2, 6, 41, 85, 0, 3, 7, 6, 10]\n",
    "\n",
    "positive_num = [num for num in list1 if num >0]\n",
    "\n",
    "positive_num"
   ]
  },
  {
   "cell_type": "code",
   "execution_count": null,
   "id": "6bfd3a1e",
   "metadata": {},
   "outputs": [],
   "source": [
    "pos_num = list(filter(lambda x: (x>=0),list1))  \n",
    "pos_num"
   ]
  },
  {
   "cell_type": "code",
   "execution_count": null,
   "id": "3897cdf7",
   "metadata": {},
   "outputs": [],
   "source": [
    "def removet(li):\n",
    "    li=[ num for num in li if num]\n",
    "    return li\n",
    "li=[ (), ('Studytonight', '1', '2'), (), ('3', '4', '5', '6') ]\n",
    "print(removet(li))"
   ]
  },
  {
   "cell_type": "code",
   "execution_count": null,
   "id": "11042e3b",
   "metadata": {},
   "outputs": [],
   "source": [
    "def removet(li):\n",
    "    li= filter(None, li)\n",
    "    return li\n",
    "li=[ (), ('Studytonight'), (), ('1', '2',' '), (), ('3', '4'), ('5', '6') ]\n",
    "print(removet(li))"
   ]
  },
  {
   "cell_type": "code",
   "execution_count": null,
   "id": "652ed4d3",
   "metadata": {},
   "outputs": [],
   "source": [
    "#function\n",
    "def duplicate(li):\n",
    "    n=len(li)\n",
    "    dup=[]\n",
    "    for i in range(n):\n",
    "        k = i + 1\n",
    "        for j in range(k,n):\n",
    "            if li[i] == li[j] and li[i] not in dup:\n",
    "                dup.append(li[i])\n",
    "    return dup\n",
    "\n",
    "#test\n",
    "li=[ 10, 20, 30, -10, -20, 10, 80, -10, -20, 30]\n",
    "print(\"Duplicate integeres: \",duplicate(li))"
   ]
  },
  {
   "cell_type": "code",
   "execution_count": null,
   "id": "eacfa55e",
   "metadata": {},
   "outputs": [],
   "source": [
    "from collections import Counter\n",
    "\n",
    "li=[1, 3, 2, 6, 2, 3, 5, 6, 4, 5]\n",
    "d = Counter(li)\n",
    "\n",
    "repeated_list = list([num for num in d if d[num]>1])\n",
    "print(\"Duplicate integers: \",repeated_list)"
   ]
  },
  {
   "cell_type": "code",
   "execution_count": null,
   "id": "969b6826",
   "metadata": {},
   "outputs": [],
   "source": [
    "dic1= {'x': 3, 'y' : 8, 'z': 5 }\n",
    "dic2= {1: 8, 'x': 4, 2: 6}\n",
    "\n",
    "merge_dic= {**dic1,**dic2}\n",
    "merge_dic"
   ]
  },
  {
   "cell_type": "code",
   "execution_count": null,
   "id": "2338e8c6",
   "metadata": {},
   "outputs": [],
   "source": [
    "dic1= {'x': 2, 'y' : 8, 'C': 5 }\n",
    "dic2= {'B': 8, 'y': 4, 2: 11}\n",
    "\n",
    "dic1.update(dic2)\n",
    "dic1\n"
   ]
  },
  {
   "cell_type": "code",
   "execution_count": 10,
   "id": "512084b3",
   "metadata": {},
   "outputs": [
    {
     "name": "stdout",
     "output_type": "stream",
     "text": [
      "The original dictionary is :  {'A': [1, 3, 5, 4], 'B': [4, 6, 8, 10], 'C': [6, 12, 4, 8], 'D': [5, 7, 2]}\n",
      "The unique values list is :  [1, 2, 3, 4, 5, 6, 7, 8, 10, 12]\n"
     ]
    }
   ],
   "source": [
    "#Python Program \n",
    "#to Extract Unique values from a dictionary\n",
    "\n",
    "dict1 = {'A' : [1, 3, 5, 4],\n",
    "             'B' : [4, 6, 8, 10],\n",
    "             'C' : [6, 12, 4 ,8],\n",
    "             'D' : [5, 7, 2]}\n",
    "\n",
    "print(\"The original dictionary is : \" ,dict1)\n",
    "  \n",
    "# Using list comprehension, values() and sorted()\n",
    "res = list(sorted({ele for val in dict1.values() for ele in val}))\n",
    "  \n",
    "# print result \n",
    "print(\"The unique values list is : \" , res) "
   ]
  },
  {
   "cell_type": "code",
   "execution_count": null,
   "id": "b3d0996f",
   "metadata": {},
   "outputs": [],
   "source": [
    "# unique values from a dictionary\n",
    "from itertools import chain\n",
    "\n",
    "# initializing dictionary\n",
    "dict1 = {'A' : [10, 11, 2],\n",
    "             'B' : [4, 6, 8, 10],\n",
    "             'C' : [9, 10, 23, 11, 2],\n",
    "             'D' : [10, 3, 4]}\n",
    "  \n",
    "# print original dictionary\n",
    "print(\"The original dictionary is : \" ,dict1)\n",
    "  \n",
    "# Using list comprehension, chain() values() and sorted()\n",
    "res = list(sorted(set(chain(*dict1.values()))))\n",
    "  \n",
    "# print result \n",
    "print(\"The unique values list is : \" , res) "
   ]
  },
  {
   "cell_type": "markdown",
   "id": "a8bb6951",
   "metadata": {},
   "source": [
    "Python Program To Sort Dictionaries By Values"
   ]
  },
  {
   "cell_type": "code",
   "execution_count": 11,
   "id": "88be52eb",
   "metadata": {},
   "outputs": [
    {
     "name": "stdout",
     "output_type": "stream",
     "text": [
      "Original dictionary:  {1: 13, 2: 7, 3: 0, 4: 10}\n",
      "Sorted dictionary:  {}\n",
      "{3: 0, 2: 7, 4: 10, 1: 13}\n"
     ]
    }
   ],
   "source": [
    "dic= {1: 13, 2: 7, 3: 0, 4: 10 }\n",
    "\n",
    "sorted_dic= {}\n",
    "sorted_keys = sorted(dic, key=dic.get) \n",
    "\n",
    "print(\"Original dictionary: \",dic)\n",
    "print(\"Sorted dictionary: \", sorted_dic)\n",
    "for i in sorted_keys:\n",
    "    sorted_dic[i] = dic[i]\n",
    "\n",
    "print(sorted_dic)"
   ]
  },
  {
   "cell_type": "code",
   "execution_count": 4,
   "id": "65e5e4b2",
   "metadata": {},
   "outputs": [
    {
     "name": "stdout",
     "output_type": "stream",
     "text": [
      "H\n",
      "eH\n",
      "leH\n",
      "lleH\n",
      "olleH\n",
      "Original String: Hello\n",
      "Reversed String: olleH\n"
     ]
    }
   ],
   "source": [
    "def reverse_string(s):\n",
    "    # Initialize an empty string for the reversed result\n",
    "    reversed_str = \"\"\n",
    "    \n",
    "    # Iterate through each character in the original string\n",
    "    for char in s:\n",
    "        # Prepend each character to the reversed string\n",
    "        reversed_str = char + reversed_str\n",
    "        print(reversed_str)\n",
    "    \n",
    "    return reversed_str\n",
    "\n",
    "# Example usage\n",
    "original_string = \"Hello\"\n",
    "reversed_string = reverse_string(original_string)\n",
    "print(\"Original String:\", original_string)\n",
    "print(\"Reversed String:\", reversed_string)\n"
   ]
  },
  {
   "cell_type": "code",
   "execution_count": 1,
   "id": "d692a284",
   "metadata": {},
   "outputs": [
    {
     "name": "stdout",
     "output_type": "stream",
     "text": [
      "Original dictionary:  {1: 11, 2: 5, 3: 10, 4: 6}\n",
      "Sorted dictionary: \n",
      "{2: 5, 4: 6, 3: 10, 1: 11}\n"
     ]
    }
   ],
   "source": [
    "# sorting based on values\n",
    "\n",
    "dic= {1: 11, 2: 5, 3: 10, 4: 6 }\n",
    "\n",
    "print(\"Original dictionary: \",dic)\n",
    "\n",
    "sorted_val = sorted(dic.values())\n",
    "\n",
    "sorted_dic= {}\n",
    "\n",
    "for i in sorted_val:\n",
    "    for k in dic.keys():\n",
    "        if dic[k]==i:\n",
    "            sorted_dic[k] = dic[k]\n",
    "            break\n",
    "\n",
    "print(\"Sorted dictionary: \")\n",
    "print(sorted_dic)"
   ]
  },
  {
   "cell_type": "code",
   "execution_count": 1,
   "id": "6e0a454d",
   "metadata": {},
   "outputs": [
    {
     "name": "stdout",
     "output_type": "stream",
     "text": [
      "{'x-y+z': [12, 15]}\n"
     ]
    }
   ],
   "source": [
    "#Python dictionary with keys having multiple inputs\n",
    "\n",
    "# creating an empty dictionary\n",
    "dic = {}\n",
    "# Inserting first inputs in dictionary\n",
    "a,b,c= 5, 3, 10\n",
    "# Insert second inputs in dictionary\n",
    "p,q,r= 12, 6, 9\n",
    "dic[\"x-y+z\"] = [a-b+c,p-q+r]\n",
    "# print the dictionary\n",
    "print(dic)"
   ]
  },
  {
   "cell_type": "code",
   "execution_count": 2,
   "id": "aff2a9f0",
   "metadata": {},
   "outputs": [
    {
     "name": "stdout",
     "output_type": "stream",
     "text": [
      "{'Maharashtra': ['Mumbai', 'Pune', 'Nagpur'], 'Madhya Pradesh': ['Delhi', 'Bhopal', 'Indore']}\n",
      "\n",
      "\n",
      "After adding values\n",
      "{'Maharashtra': ['Mumbai', 'Pune', 'Nagpur'], 'Madhya Pradesh': ['Delhi', 'Bhopal', 'Indore', 'Ujjain', 'Sagar']}\n"
     ]
    }
   ],
   "source": [
    "# dictionary with multiple inputs in a key\n",
    "\n",
    "# function to add multiple values\n",
    "def add_values_in_dict(dic, key, list_of_values):\n",
    "    \"\"\"Append multiple values to a key in the given dictionary\"\"\"\n",
    "    if key not in dic:\n",
    "        dic[key] = list()\n",
    "    dic[key].extend(list_of_values)\n",
    "    return dic\n",
    " \n",
    "# dictionary containing states and its cities\n",
    "places = {(\"Maharashtra\"):[\"Mumbai\",\"Pune\",\"Nagpur\"],\n",
    "          (\"Madhya Pradesh\"):[\"Delhi\",\"Bhopal\",\"Indore\"]}\n",
    " \n",
    "print(places)\n",
    "print('\\n')\n",
    "\n",
    "#adding values\n",
    "add_val=add_values_in_dict(places, \"Madhya Pradesh\", [\"Ujjain\", \"Sagar\"])\n",
    "print(\"After adding values\")\n",
    "print(add_val)\n"
   ]
  },
  {
   "cell_type": "markdown",
   "id": "2d6616ae",
   "metadata": {},
   "source": [
    "Python program to find the sum of all items in a dictionary"
   ]
  },
  {
   "cell_type": "code",
   "execution_count": null,
   "id": "9b90bb85",
   "metadata": {},
   "outputs": [],
   "source": [
    "def Sum(dic):\n",
    "    #sum variable\n",
    "    sum=0\n",
    "    #iterate through values\n",
    "    for i in dic.values():\n",
    "        sum=sum+i\n",
    "    return sum\n",
    "\n",
    "#initialisation\n",
    "dic={'x':30, 'y':145, 'z':55 }\n",
    "\n",
    "print(\"Dictionary: \", dic)\n",
    "\n",
    "#print sum\n",
    "print(\"sum: \",Sum(dic))"
   ]
  },
  {
   "cell_type": "code",
   "execution_count": null,
   "id": "fae04ddc",
   "metadata": {},
   "outputs": [],
   "source": [
    "print(\"sum: \",sum(dic.values()))"
   ]
  },
  {
   "cell_type": "markdown",
   "id": "9736070c",
   "metadata": {},
   "source": [
    "Python Program to remove a key from dictionary\n",
    "\n",
    "Input: {'x': 20, 'y': 10, 'z': 90 } d='x'\n",
    "\n",
    "Output: { 'y': 10, 'z': 90 }\n",
    "\n",
    "To solve this problem in Python, we can use the following approaches:\n",
    "\n",
    "Using del keyword\n",
    "Using pop()\n",
    "Using items() and dictionary comprehension"
   ]
  },
  {
   "cell_type": "code",
   "execution_count": null,
   "id": "bc9eeddf",
   "metadata": {},
   "outputs": [],
   "source": [
    "dic= { 'A' : \"John\", 'B' : \"Sam\", 'C' : \"Max\" }\n",
    "print(\"Dictionary before removing key: \",dic)\n",
    "\n",
    "# using dictionary comprehension to copy without 'B'\n",
    "\n",
    "new_dic= { key:val for key, val in dic.items() if key!= 'B'}\n",
    "print(\"Dictionary after removing key: \",new_dic)"
   ]
  },
  {
   "cell_type": "code",
   "execution_count": null,
   "id": "92cdb251",
   "metadata": {},
   "outputs": [],
   "source": [
    "dic= { 'A' : \"John\", 'B' : \"Sam\", 'C' : \"Max\", 'D' : \"Jake\" }\n",
    "\n",
    "print(\"Dictionary before removing key: \",dic)\n",
    "\n",
    "# using pop() to remove 'A'\n",
    "\n",
    "rem_val= dic.pop('A')\n",
    "\n",
    "print(\"Value that is removed: \", rem_val)\n",
    "print(\"Dictionary after removing key: \",dic)"
   ]
  },
  {
   "cell_type": "markdown",
   "id": "22416d3c",
   "metadata": {},
   "source": [
    "Counting the frequencies in a list using dictionary in Python\n",
    "To solve this problem we can follow these approaches-\n",
    "\n",
    "by iterating over the list and counting frequency\n",
    "using list.count() method\n",
    "using dict.get() method"
   ]
  },
  {
   "cell_type": "code",
   "execution_count": 3,
   "id": "1cfbc503",
   "metadata": {},
   "outputs": [
    {
     "name": "stdout",
     "output_type": "stream",
     "text": [
      "{1: 4, 3: 4, 2: 5, 6: 2, 5: 1, 4: 3}\n"
     ]
    }
   ],
   "source": [
    "def CountFreq(li):\n",
    "    freq = {}\n",
    "    for item in li:\n",
    "        if (item in freq):\n",
    "            freq[item] += 1\n",
    "        else:\n",
    "            freq[item] = 1\n",
    "    print(freq) \n",
    "li =[1, 1, 3, 2, 6, 5, 3, 1, 3, 3, 1, 4, 6, 4, 4, 2, 2, 2, 2]\n",
    "CountFreq(li)"
   ]
  },
  {
   "cell_type": "code",
   "execution_count": 4,
   "id": "4cb63593",
   "metadata": {},
   "outputs": [
    {
     "name": "stdout",
     "output_type": "stream",
     "text": [
      "{'a': 2, 's': 2, 'c': 3, 'b': 1}\n"
     ]
    }
   ],
   "source": [
    "def CountFreq(li):\n",
    "  freq = {}\n",
    "  for items in li:\n",
    "    freq[items] = li.count(items)\n",
    "  print(freq)\n",
    "li =['a', 's', 'a', 's', 'c', 'c', 'c','b']\n",
    "CountFreq(li)"
   ]
  },
  {
   "cell_type": "code",
   "execution_count": 13,
   "id": "e0b0d228",
   "metadata": {},
   "outputs": [
    {
     "name": "stdout",
     "output_type": "stream",
     "text": [
      "{'a': 2, 1: 3, 'b': 3, 2: 3}\n"
     ]
    }
   ],
   "source": [
    "def CountFreq(li):\n",
    "  freq = {}\n",
    "  for items in li:\n",
    "    freq[items] = freq.get(items,0)+1\n",
    "  print(freq)\n",
    "li =['a', 'a', 1, 1, 1, 'b', 'b', 'b', 2, 2, 2]\n",
    "CountFreq(li)"
   ]
  },
  {
   "cell_type": "markdown",
   "id": "aeb11456",
   "metadata": {},
   "source": [
    "Python Program to find Least Frequent Character in String"
   ]
  },
  {
   "cell_type": "code",
   "execution_count": 6,
   "id": "a27837a5",
   "metadata": {},
   "outputs": [
    {
     "name": "stdout",
     "output_type": "stream",
     "text": [
      "hgfjiufguij\n",
      "Character frequency:  {'h': 1, 'g': 2, 'f': 2, 'j': 2, 'i': 2, 'u': 2}\n",
      "Least frequent character:  h\n",
      "Most frequent character:  g\n"
     ]
    }
   ],
   "source": [
    "string= \"hgfjiufguij\"\n",
    "print(string)\n",
    "char_freq={}\n",
    "for i in string:\n",
    "    if i in char_freq:\n",
    "        char_freq[i]=char_freq[i]+1\n",
    "    else:\n",
    "        char_freq[i] = 1\n",
    "print(\"Character frequency: \", char_freq)\n",
    "result= min(char_freq, key = char_freq.get)\n",
    "print(\"Least frequent character: \",result)\n",
    "print(\"Most frequent character: \", max(char_freq, key=char_freq.get))\n"
   ]
  },
  {
   "cell_type": "code",
   "execution_count": null,
   "id": "56d2349a",
   "metadata": {},
   "outputs": [],
   "source": [
    "# least frequent character\n",
    "\n",
    "from collections import Counter\n",
    "\n",
    "string= \"hgfjiufguij\"\n",
    "print(string)\n",
    "\n",
    "# counts hashable objects\n",
    "result= Counter(string)\n",
    "# gets minimum out of all values\n",
    "result= min(result, key=result.get)\n",
    "\n",
    "print(\"Least frequent character: \",result)"
   ]
  },
  {
   "cell_type": "code",
   "execution_count": 7,
   "id": "0de0142c",
   "metadata": {},
   "outputs": [
    {
     "data": {
      "text/plain": [
       "26"
      ]
     },
     "execution_count": 7,
     "metadata": {},
     "output_type": "execute_result"
    }
   ],
   "source": [
    "#1. Write a Python program to sum all the items\n",
    "l = [1,7,-10,34,2,-8]\n",
    "sum1 = 0\n",
    "for i in l:\n",
    "    sum1 += i\n",
    "    \n",
    "sum1"
   ]
  },
  {
   "cell_type": "code",
   "execution_count": null,
   "id": "301ba530",
   "metadata": {},
   "outputs": [],
   "source": [
    "#Write a Python program to multiply all the items in a list\n",
    "\n",
    "l1=[3,4,5,4,7]\n",
    "mul = 1\n",
    "\n",
    "for i in l1:\n",
    "    mul *= i\n",
    "\n",
    "mul"
   ]
  },
  {
   "cell_type": "code",
   "execution_count": null,
   "id": "f42d6283",
   "metadata": {},
   "outputs": [],
   "source": [
    "#Write a Python program to get the largest number from a list\n",
    "ls = [1,7,10,34,2,8]\n",
    "max([number for number in ls]) "
   ]
  },
  {
   "cell_type": "code",
   "execution_count": 8,
   "id": "cd9bcd31",
   "metadata": {},
   "outputs": [
    {
     "name": "stdout",
     "output_type": "stream",
     "text": [
      "Largest number using for loop: 34\n"
     ]
    }
   ],
   "source": [
    "def largest_number_for_loop(numbers):\n",
    "    \n",
    "    '''\n",
    "    if not list return none\n",
    "    get first ele as largest\n",
    "    loop through list and compare each element wiht largest\n",
    "    if true assign that number to larges\n",
    "    '''\n",
    "    if not numbers:  # Check if the list is empty\n",
    "        return None\n",
    "    \n",
    "    largest = numbers[0]  # Assume the first number is the largest\n",
    "    for number in numbers:\n",
    "        if number > largest:  # If a larger number is found, update `largest`\n",
    "            largest = number\n",
    "    return largest\n",
    "\n",
    "# Example usage\n",
    "numbers = [1,7,10,34,2,8]\n",
    "print(\"Largest number using for loop:\", largest_number_for_loop(numbers))\n"
   ]
  },
  {
   "cell_type": "code",
   "execution_count": 9,
   "id": "219c9072",
   "metadata": {},
   "outputs": [
    {
     "data": {
      "text/plain": [
       "1"
      ]
     },
     "execution_count": 9,
     "metadata": {},
     "output_type": "execute_result"
    }
   ],
   "source": [
    "#Write a Python program to get the smallest number from a list\n",
    "numbers = [1,7,10,34,2,8]\n",
    "#min([number for number in numbers]) if numbers else none\n",
    "low = numbers[0]\n",
    "for i in numbers:\n",
    "    if i < low:\n",
    "        low = i\n",
    "        \n",
    "low"
   ]
  },
  {
   "cell_type": "code",
   "execution_count": 10,
   "id": "c35ba8d0",
   "metadata": {},
   "outputs": [
    {
     "name": "stdout",
     "output_type": "stream",
     "text": [
      "Count of matching strings: 2\n",
      "Matching strings: ['aba', '1221']\n"
     ]
    }
   ],
   "source": [
    "# Write a Python program to count the number of strings where the string length is 2 or\n",
    "#more and the first and last character are same from a given list of strings\n",
    "\n",
    "def count_matching_strings(strings):\n",
    "    count = 0  # Initialize the counter\n",
    "    result = []  # Initialize the result list\n",
    "    for string in strings:\n",
    "        # Check if the string length is 2 or more and the first and last characters are the same\n",
    "        if len(string) >= 2 and string[0] == string[-1]:\n",
    "            count += 1\n",
    "            result.append(string)\n",
    "    return count, result  # Return both count and the list of matching strings\n",
    "\n",
    "# Example usage\n",
    "strings_list = ['abc', 'xyz', 'aba', '1221',]\n",
    "count,result = count_matching_strings(strings_list)\n",
    "print(\"Count of matching strings:\", count)\n",
    "print(\"Matching strings:\", result)"
   ]
  },
  {
   "cell_type": "code",
   "execution_count": 11,
   "id": "ab6aed92",
   "metadata": {},
   "outputs": [
    {
     "name": "stdout",
     "output_type": "stream",
     "text": [
      "List after removing duplicates: [1, 2, 3, 7, 5, 6, 4, 8]\n"
     ]
    }
   ],
   "source": [
    "# Write a Python program to remove duplicates from a list\n",
    "# Sample Output\n",
    "ls = [1,2,3,7,2,1,5,6,4,8,5,4]\n",
    "\n",
    "uniq = []\n",
    "for i in ls:\n",
    "    if i not in uniq:\n",
    "        uniq.append(i)\n",
    "\n",
    "res = set(uniq)\n",
    "res\n",
    "\n",
    "res_list = uniq\n",
    "print(\"List after removing duplicates:\", res_list)"
   ]
  },
  {
   "cell_type": "code",
   "execution_count": 17,
   "id": "86166565",
   "metadata": {},
   "outputs": [
    {
     "data": {
      "text/plain": [
       "[1, 2, 3, 7, 5, 6, 4, 8]"
      ]
     },
     "execution_count": 17,
     "metadata": {},
     "output_type": "execute_result"
    }
   ],
   "source": [
    "seen = set()\n",
    "[x for x in ls if not (x in seen or seen.add(x))]"
   ]
  },
  {
   "cell_type": "code",
   "execution_count": 18,
   "id": "2359e372",
   "metadata": {},
   "outputs": [
    {
     "name": "stdout",
     "output_type": "stream",
     "text": [
      "list is not empty\n"
     ]
    }
   ],
   "source": [
    "# Write a Python program to check a list is empty or not\n",
    "\n",
    "ls1 = [10, 22, 44, 23, 4]\n",
    "if len(ls1)>0:\n",
    "    print('list is not empty')\n",
    "else:\n",
    "    print('list is empty')"
   ]
  },
  {
   "cell_type": "code",
   "execution_count": 12,
   "id": "b62c8d81",
   "metadata": {},
   "outputs": [
    {
     "name": "stdout",
     "output_type": "stream",
     "text": [
      "Words longer than 4 characters: ['apple', 'banana', 'elephant', 'grape']\n"
     ]
    }
   ],
   "source": [
    "#Write a Python program to find the list of words that are longer than n from a given list\n",
    "#of words\n",
    "\n",
    "def words_longer_than_n(words, n):\n",
    "    # Using list comprehension to find words longer than 'n'\n",
    "    return [word for word in words if len(word) > n]\n",
    "\n",
    "# Example usage\n",
    "words_list = ['apple', 'banana', 'cat', 'dog', 'elephant', 'fox', 'grape']\n",
    "n = 4\n",
    "long_words = words_longer_than_n(words_list, n)\n",
    "print(f\"Words longer than {n} characters:\", long_words)\n"
   ]
  },
  {
   "cell_type": "code",
   "execution_count": 19,
   "id": "f11cb765",
   "metadata": {},
   "outputs": [
    {
     "data": {
      "text/plain": [
       "[5]"
      ]
     },
     "execution_count": 19,
     "metadata": {},
     "output_type": "execute_result"
    }
   ],
   "source": [
    "#Write a Program that get two lists as input and check if they have at least one common member\n",
    "\n",
    "l1 = [1,2,3,4,5]\n",
    "l2 = [5,6,7,8,9]\n",
    "common = []\n",
    "for i in l1:\n",
    "    if i in l2:\n",
    "        common.append(i)\n",
    "        \n",
    "common"
   ]
  },
  {
   "cell_type": "code",
   "execution_count": 13,
   "id": "462e303c",
   "metadata": {},
   "outputs": [
    {
     "data": {
      "text/plain": [
       "[5]"
      ]
     },
     "execution_count": 13,
     "metadata": {},
     "output_type": "execute_result"
    }
   ],
   "source": [
    "list1 = [1,2,3,4,5]\n",
    "list2 = [5,6,7,8,9]\n",
    "common = [item for item in list1 if item in list2]\n",
    "common"
   ]
  },
  {
   "cell_type": "code",
   "execution_count": 15,
   "id": "5a171915",
   "metadata": {},
   "outputs": [
    {
     "data": {
      "text/plain": [
       "['Dog', 'Elephant', 'Fox', 'Ponda']"
      ]
     },
     "execution_count": 15,
     "metadata": {},
     "output_type": "execute_result"
    }
   ],
   "source": [
    "#11. Write a Python program to print a specified list after removing the 0th, 4th and 5th\n",
    "#elements. (enumerate)\n",
    "\n",
    "l1 =[\"Cat\", \"Dog\", \"Elephant\", \"Fox\", \"Tiger\", \"Lion\", \"Ponda\"]\n",
    "res = []\n",
    "for i, n in enumerate(l1):\n",
    "    if i not in (0, 4, 5):\n",
    "        res.append(n)\n",
    "res"
   ]
  },
  {
   "cell_type": "code",
   "execution_count": 16,
   "id": "165909b7",
   "metadata": {},
   "outputs": [
    {
     "data": {
      "text/plain": [
       "['Dog', 'Elephant', 'Fox', 'Ponda']"
      ]
     },
     "execution_count": 16,
     "metadata": {},
     "output_type": "execute_result"
    }
   ],
   "source": [
    "[item for index, item in enumerate(l1) if index not in (0, 4, 5)]"
   ]
  },
  {
   "cell_type": "code",
   "execution_count": 17,
   "id": "de091529",
   "metadata": {},
   "outputs": [
    {
     "data": {
      "text/plain": [
       "[7, 81, 25, 23]"
      ]
     },
     "execution_count": 17,
     "metadata": {},
     "output_type": "execute_result"
    }
   ],
   "source": [
    "# 12. Write a Python program to print the numbers of a specified list after removing even\n",
    "# numbers from it\n",
    "# Sample Output\n",
    "\n",
    "lst = [7,32,81,20,25,14,23,27]\n",
    "[item for index, item in enumerate(lst) if index % 2==0]"
   ]
  },
  {
   "cell_type": "code",
   "execution_count": 18,
   "id": "50ea6673",
   "metadata": {},
   "outputs": [
    {
     "name": "stdout",
     "output_type": "stream",
     "text": [
      "List after removing even numbers: [7, 81, 25, 23, 27]\n"
     ]
    }
   ],
   "source": [
    "def remove_even_numbers(numbers):\n",
    "    # Initialize an empty list to store odd numbers\n",
    "    result = []\n",
    "    # Iterate through the list and check for odd numbers\n",
    "    for number in numbers:\n",
    "        if number % 2 != 0:  # Check if the number is odd\n",
    "            result.append(number)  # Append odd numbers to the result list\n",
    "    return result\n",
    "\n",
    "# Example usage\n",
    "numbers_list =  [7,32,81,20,25,14,23,27]\n",
    "filtered_list = remove_even_numbers(numbers_list)\n",
    "print(\"List after removing even numbers:\", filtered_list)"
   ]
  },
  {
   "cell_type": "code",
   "execution_count": 19,
   "id": "97fe4330",
   "metadata": {},
   "outputs": [
    {
     "name": "stdout",
     "output_type": "stream",
     "text": [
      "List of first 5 elements [1, 4, 9, 16, 25] and last 5 elements [676, 729, 784, 841, 900]\n"
     ]
    }
   ],
   "source": [
    "# #Write a Python program to generate and print a list of first and last 5 elements where\n",
    "# the values are square of numbers between 1 and 30\n",
    "\n",
    "# Sample Output\n",
    "# First 5 elements : [1, 4, 9, 16, 25]\n",
    "# Last 5 elements : [625, 676, 729, 784, 841]\n",
    "\n",
    "def generate_squares():\n",
    "    # Generate a list of squares of numbers from 1 to 30\n",
    "    squares = [x**2 for x in range(1, 31)]\n",
    "    \n",
    "    # Get the first 5 elements and the last 5 elements of the list\n",
    "    result = squares[:5] \n",
    "    result2 = squares[-5:]\n",
    "    return result,result2\n",
    "\n",
    "# Example usage\n",
    "result_list,result2 = generate_squares()\n",
    "print(f\"List of first 5 elements {result_list} and last 5 elements {result2}\" )"
   ]
  },
  {
   "cell_type": "code",
   "execution_count": null,
   "id": "afa66cd3",
   "metadata": {},
   "outputs": [],
   "source": [
    "#Write a Python program to generate all permutations of a list in Python. (itertools)\n",
    "\n",
    "from itertools import permutations\n",
    "\n",
    "def generate_permutations(lst):\n",
    "    # Generate all permutations of the list\n",
    "    perms = permutations(lst)\n",
    "    return list(perms)\n",
    "\n",
    "# Example usage\n",
    "my_list = [1, 2, 3]\n",
    "all_permutations = generate_permutations(my_list)\n",
    "\n",
    "# Print all permutations\n",
    "print(\"All permutations of the list:\")\n",
    "for perm in all_permutations:\n",
    "    print(perm)"
   ]
  },
  {
   "cell_type": "code",
   "execution_count": null,
   "id": "4689c4f3",
   "metadata": {},
   "outputs": [],
   "source": [
    "# 16. Write a Python program to convert a list of characters into a string\n",
    "# Sample Output\n",
    "# ['T','u','t','o','r',' ','J','o','e','s']\n",
    "# Tutor Joe\n",
    "\n",
    "l = ['T','u','t','o','r',' ','J','o','e','s']\n",
    "\n",
    "res = \"\".join(l)\n",
    "res"
   ]
  },
  {
   "cell_type": "code",
   "execution_count": 20,
   "id": "825585d3",
   "metadata": {},
   "outputs": [
    {
     "name": "stdout",
     "output_type": "stream",
     "text": [
      "2\n"
     ]
    }
   ],
   "source": [
    "# Write a Python program to find the index of an item in a specified list\n",
    "# Sample Output\n",
    "# [20, 70, 30, 90, 10, 30, 90, 10, 80]\n",
    "# Item to find the index of 30\n",
    "# Index Number of Item = 2\n",
    "\n",
    "def find_index_number(lst, item):\n",
    "    try:\n",
    "        # Find the index of the first occurrence of the item\n",
    "        index = lst.index(item)\n",
    "        return index\n",
    "    except ValueError:\n",
    "        # If the item is not found in the list\n",
    "        return \"Item not found in the list.\"\n",
    "\n",
    "l = [20, 70, 30, 90, 10, 30, 90, 10, 80]\n",
    "num = 30\n",
    "print(find_index_number(l,num))"
   ]
  },
  {
   "cell_type": "code",
   "execution_count": 22,
   "id": "839292da",
   "metadata": {},
   "outputs": [
    {
     "name": "stdout",
     "output_type": "stream",
     "text": [
      "List: [20, 70, 30, 90, 10, 30, 90, 10, 80]\n",
      "Item to find the index of: 90\n",
      "Index Number of Item = [3, 6]\n"
     ]
    }
   ],
   "source": [
    "def find_index_comprehension(lst, item):\n",
    "    # List comprehension to find indices of the item in the list\n",
    "    indices = [index for index, value in enumerate(lst) if value == item]\n",
    "    \n",
    "    # Return the first index if the item is found, otherwise a message\n",
    "    return indices if indices else \"Item not found in the list.\"\n",
    "\n",
    "# Example usage\n",
    "my_list = [20, 70, 30, 90, 10, 30, 90, 10, 80]\n",
    "item_to_find = 90\n",
    "index = find_index_comprehension(my_list, item_to_find)\n",
    "\n",
    "print(f\"List: {my_list}\")\n",
    "print(f\"Item to find the index of: {item_to_find}\")\n",
    "print(f\"Index Number of Item = {index}\")"
   ]
  },
  {
   "cell_type": "code",
   "execution_count": null,
   "id": "6cc24446",
   "metadata": {},
   "outputs": [],
   "source": [
    "# #Write a Python Program to Add Space between Potential Words\n",
    "# Sample Output\n",
    "# ['TutorJoes', 'ComputerEducations']\n",
    "# [' Tutor Joes', ' Computer Educations']\n",
    "\n",
    "import re\n",
    "\n",
    "def add_spaces_between_words(words):\n",
    "    spaced_words = []\n",
    "    for word in words:\n",
    "        # Add spaces before capital letters (CamelCase) except the first letter\n",
    "        spaced_word = re.sub(r'(?<!^)([A-Z])', r' \\1', word)\n",
    "        spaced_words.append(spaced_word)\n",
    "    return spaced_words\n",
    "\n",
    "# Example usage\n",
    "input_list = ['TutorJoes', 'ComputerEducations']\n",
    "output_list = add_spaces_between_words(input_list)\n",
    "print(output_list)"
   ]
  },
  {
   "cell_type": "code",
   "execution_count": null,
   "id": "c4f6e541",
   "metadata": {},
   "outputs": [],
   "source": [
    "import re\n",
    "\n",
    "def add_spaces_between_words(words):\n",
    "    spaced_words = []\n",
    "    for word in words:\n",
    "        spaced_word = \"\"\n",
    "        for index, char in enumerate(word):\n",
    "            # Add a space before uppercase letters (except the first letter)\n",
    "            if index > 0 and char.isupper():\n",
    "                spaced_word += ' '\n",
    "            spaced_word += char\n",
    "        spaced_words.append(spaced_word)\n",
    "    return spaced_words\n",
    "\n",
    "# Example usage\n",
    "input_list = ['TutorJoes', 'ComputerEducations']\n",
    "output_list = add_spaces_between_words(input_list)\n",
    "print(output_list)\n"
   ]
  },
  {
   "cell_type": "code",
   "execution_count": 21,
   "id": "d272cb0b",
   "metadata": {},
   "outputs": [
    {
     "name": "stdout",
     "output_type": "stream",
     "text": [
      "['!', '!', 'T', '!', '!', '!']\n"
     ]
    }
   ],
   "source": [
    "# . Write a Python program to Replace all Characters of a List Except the given character\n",
    "# Sample Output\n",
    "# ['P', 'Y', 'T', 'H', 'O', 'N']\n",
    "\n",
    "def replace_all_except(lst, char_to_keep):\n",
    "    # Replace all characters in the list except the given character with empty strings\n",
    "    result = [char if char == char_to_keep else '!' for char in lst]\n",
    "    return result\n",
    "\n",
    "# Example usage\n",
    "input_list = ['P', 'Y', 'T', 'H', 'O', 'N']\n",
    "char_to_keep = 'T'\n",
    "output_list = replace_all_except(input_list, char_to_keep)\n",
    "print(output_list)"
   ]
  },
  {
   "cell_type": "code",
   "execution_count": 22,
   "id": "67d90147",
   "metadata": {},
   "outputs": [
    {
     "name": "stdout",
     "output_type": "stream",
     "text": [
      "3\n"
     ]
    }
   ],
   "source": [
    "# 47. Write a Python Program to Prefix frequency in string List\n",
    "# Sample Output\n",
    "# ['TjC', 'TjCpp', 'TjPython', 'Java']\n",
    "# Prefix = 'Tj'\n",
    "# Strings count with matching frequency : 3\n",
    "def get_count(ls,Prefix):\n",
    "    c = 0\n",
    "    for i in ls:\n",
    "        if Prefix in i:\n",
    "            c+=1\n",
    "    return c\n",
    "ls =['TjC', 'TjCpp', 'TjPython', 'Java']\n",
    "Prefix = 'Tj'\n",
    "print(get_count(ls, Prefix))\n"
   ]
  },
  {
   "cell_type": "code",
   "execution_count": 23,
   "id": "003ecf5c",
   "metadata": {},
   "outputs": [
    {
     "name": "stdout",
     "output_type": "stream",
     "text": [
      "Strings count with matching prefix 'Tj': 3\n"
     ]
    }
   ],
   "source": [
    "def count_strings_with_prefix(string_list, prefix):\n",
    "    # Use list comprehension to filter strings that start with the prefix\n",
    "    matching_strings = [s for s in string_list if s.startswith(prefix)]\n",
    "    # Count the number of matching strings\n",
    "    count = len(matching_strings)\n",
    "    return count\n",
    "\n",
    "# Example usage\n",
    "string_list = ['TjC', 'TjCpp', 'TjPython', 'Java']\n",
    "prefix = 'Tj'\n",
    "count = count_strings_with_prefix(string_list, prefix)\n",
    "print(f\"Strings count with matching prefix '{prefix}': {count}\")\n"
   ]
  },
  {
   "cell_type": "code",
   "execution_count": 24,
   "id": "b0dde331",
   "metadata": {},
   "outputs": [
    {
     "data": {
      "text/plain": [
       "['Education', 'Computer', 'joes', 'Tutor']"
      ]
     },
     "execution_count": 24,
     "metadata": {},
     "output_type": "execute_result"
    }
   ],
   "source": [
    "# 45. Write a Python program to reverse All Strings in String List\n",
    "# Sample Output\n",
    "# Original list = ['Tutor', 'joes', 'Computer', 'Education']\n",
    "# Reversed list = ['rotuT', 'seoj', 'retupmoC', 'noitacudE']\n",
    "\n",
    "def reverse_list_words(ls):\n",
    "    rev = []\n",
    "    for i in ls[::-1]:\n",
    "        rev.append(i)\n",
    "    return rev\n",
    "        \n",
    "\n",
    "Original = ['Tutor', 'joes', 'Computer', 'Education']\n",
    "reverse_list_words(Original)"
   ]
  },
  {
   "cell_type": "code",
   "execution_count": 26,
   "id": "44014fed",
   "metadata": {},
   "outputs": [
    {
     "data": {
      "text/plain": [
       "['rotuT', 'seoj', 'retupmoC', 'noitacudE']"
      ]
     },
     "execution_count": 26,
     "metadata": {},
     "output_type": "execute_result"
    }
   ],
   "source": [
    "\n",
    "Original = ['Tutor', 'joes', 'Computer', 'Education']\n",
    "reversed_list = [s[::-1] for s in Original]\n",
    "reversed_list"
   ]
  },
  {
   "cell_type": "code",
   "execution_count": 25,
   "id": "43cd7bff",
   "metadata": {},
   "outputs": [
    {
     "data": {
      "text/plain": [
       "['rotuT', 'seoj', 'retupmoC', 'noitacudE']"
      ]
     },
     "execution_count": 25,
     "metadata": {},
     "output_type": "execute_result"
    }
   ],
   "source": [
    "def reverse_words(ls):\n",
    "    rev = []\n",
    "    for i in ls:\n",
    "        rev.append(i[::-1])\n",
    "    return rev\n",
    "        \n",
    "\n",
    "Original = ['Tutor', 'joes', 'Computer', 'Education']\n",
    "reverse_words(Original)"
   ]
  },
  {
   "cell_type": "code",
   "execution_count": 27,
   "id": "836260e0",
   "metadata": {},
   "outputs": [
    {
     "name": "stdout",
     "output_type": "stream",
     "text": [
      "List: [18, 18, 18, 6, 3, 4, 9, 9, 9]\n",
      "Contains three consecutive common numbers: True\n"
     ]
    }
   ],
   "source": [
    "# Write a Python program to check if the list contains three consecutive common\n",
    "# numbers in Python\n",
    "# Sample Output\n",
    "# [18, 18, 18, 6, 3, 4, 9, 9, 9]\n",
    "\n",
    "def has_three_consecutive_common(lst):\n",
    "    # Iterate through the list up to the third-to-last element\n",
    "    for i in range(len(lst) - 2):\n",
    "        # Check if there are three consecutive identical numbers\n",
    "        if lst[i] == lst[i + 1] == lst[i + 2]:\n",
    "            return True\n",
    "    return False\n",
    "\n",
    "# Example usage\n",
    "my_list = [18, 18, 18, 6, 3, 4, 9, 9, 9]\n",
    "result = has_three_consecutive_common(my_list)\n",
    "\n",
    "print(f\"List: {my_list}\")\n",
    "print(f\"Contains three consecutive common numbers: {result}\")\n"
   ]
  },
  {
   "cell_type": "code",
   "execution_count": 23,
   "id": "06e2cc80",
   "metadata": {},
   "outputs": [
    {
     "data": {
      "text/plain": [
       "6"
      ]
     },
     "execution_count": 23,
     "metadata": {},
     "output_type": "execute_result"
    }
   ],
   "source": [
    "# 31. Write a Python Program to count unique values inside a list\n",
    "# Sample Output\n",
    "l = [10, 20, 30, 50, 80, 70, 70, 80, 10]\n",
    "#No of Unique Items in List : 6\n",
    "\n",
    "res = len(list(set(l)))\n",
    "res"
   ]
  },
  {
   "cell_type": "code",
   "execution_count": 7,
   "id": "379f978c",
   "metadata": {},
   "outputs": [
    {
     "name": "stdout",
     "output_type": "stream",
     "text": [
      "List: [10, 20, 30, 50, 80, 70, 70, 80, 10]\n",
      "Number of unique values: 6\n",
      "Unique values: [10, 20, 30, 50, 80, 70]\n"
     ]
    }
   ],
   "source": [
    "def count_unique_values(lst):\n",
    "    unique_values = list() #set()\n",
    "    \n",
    "    # Iterate through each element in the list\n",
    "    for item in lst:\n",
    "        # Add the item to the set\n",
    "        #unique_values.add(item)\n",
    "        if item not in unique_values:\n",
    "            unique_values.append(item)\n",
    "    \n",
    "    # The number of unique values is the size of the set\n",
    "    return len(unique_values), unique_values\n",
    "\n",
    "# Example usage\n",
    "my_list = [10, 20, 30, 50, 80, 70, 70, 80, 10]\n",
    "unique_count, unique_values= count_unique_values(my_list)\n",
    "\n",
    "print(f\"List: {my_list}\")\n",
    "print(f\"Number of unique values: {unique_count}\")\n",
    "print(f\"Unique values: {(unique_values)}\")\n"
   ]
  },
  {
   "cell_type": "code",
   "execution_count": null,
   "id": "4129a738",
   "metadata": {},
   "outputs": [],
   "source": [
    "first_name = 'Max '\n",
    "last_name = 'Verstappen'\n",
    "full_name = first_name + last_name\n",
    "# using join string method\n",
    "full_name = ''.join( (first_name, last_name) ) # takes in tuple of string in case of multiple values\n",
    "full_name"
   ]
  },
  {
   "cell_type": "code",
   "execution_count": null,
   "id": "e0e7164c",
   "metadata": {},
   "outputs": [],
   "source": [
    "full_name = ''.join( [first_name, last_name]) # takes in tuple of string in case of multiple values\n",
    "full_name"
   ]
  },
  {
   "cell_type": "code",
   "execution_count": null,
   "id": "9bb734ae",
   "metadata": {},
   "outputs": [],
   "source": [
    "def custom_power(x, y):\n",
    "    return x**y\n",
    "\n",
    "values = [1,2,3,4]\n",
    "powers = [2,1,2,3] \n",
    "map_iterator = map(custom_power, values, powers) # will skip the power of 4\n",
    "print(list(map_iterator)) # [1,2,9]"
   ]
  },
  {
   "cell_type": "code",
   "execution_count": null,
   "id": "6bf10f23",
   "metadata": {},
   "outputs": [],
   "source": [
    "# lambda [parameter list] : expression\n",
    "list(map(lambda x: x+10, [1,2,3])) # [11,12,13]\n",
    "func =  lambda x: x+10 # <function <lambda> at 0x7fdb99e9c310>\n",
    "func(25) # returns 35\n",
    "#lambda : 'hello' # with no parameter"
   ]
  },
  {
   "cell_type": "code",
   "execution_count": null,
   "id": "e313f31e",
   "metadata": {},
   "outputs": [],
   "source": [
    "products = {}\n",
    "products.update(\n",
    "    dict.keys(['Apple','Mango','Oranges'], 20)\n",
    ")\n",
    "products.update(\n",
    "    dict.keys(['Pizza','Kind Pizza','Bad Pizza'], 30)\n",
    ")"
   ]
  },
  {
   "cell_type": "code",
   "execution_count": null,
   "id": "93d4f77e",
   "metadata": {},
   "outputs": [],
   "source": [
    "class MyIterator:\n",
    "    def __init__(self, max_value):\n",
    "        self.current = 0\n",
    "        self.max_value = max_value\n",
    "\n",
    "    def __iter__(self):\n",
    "        return self\n",
    "\n",
    "    def __next__(self):\n",
    "        if self.current < self.max_value:\n",
    "            self.current += 1\n",
    "            return self.current\n",
    "        else:\n",
    "            raise StopIteration\n",
    "\n",
    "# Using the iterator\n",
    "it = MyIterator(3)\n",
    "for i in it:\n",
    "    print(i)\n"
   ]
  },
  {
   "cell_type": "code",
   "execution_count": null,
   "id": "aa7e3969",
   "metadata": {},
   "outputs": [],
   "source": [
    "def my_generator(max_value):\n",
    "    current = 0\n",
    "    while current < max_value:\n",
    "        current += 1\n",
    "        yield current\n",
    "\n",
    "# Using the generator\n",
    "gen = my_generator(3)\n",
    "for i in gen:\n",
    "    print(i)\n"
   ]
  },
  {
   "cell_type": "code",
   "execution_count": null,
   "id": "5962932f",
   "metadata": {},
   "outputs": [],
   "source": [
    "# from a given list, return the duplicate elements only in sorted order\n",
    "\n",
    "\n",
    "def find_duplicates_sorted(lst):\n",
    "    unique_elements = set()\n",
    "    duplicates = set()\n",
    "    \n",
    "    for item in lst:\n",
    "        if item in unique_elements:\n",
    "            duplicates.add(item)\n",
    "        else:\n",
    "            unique_elements.add(item)\n",
    "    \n",
    "    return sorted(duplicates)\n",
    "\n",
    "# Example usage\n",
    "my_list = [4, 3, 6, 2, 7, 3, 6, 8, 4]\n",
    "print(find_duplicates_sorted(my_list))  # Output: [3, 4, 6]\n"
   ]
  },
  {
   "cell_type": "code",
   "execution_count": null,
   "id": "c02f90f7",
   "metadata": {},
   "outputs": [],
   "source": [
    "a=[[]]*5\n",
    "a[0].append(1)\n",
    "a"
   ]
  },
  {
   "cell_type": "code",
   "execution_count": null,
   "id": "f7612d72",
   "metadata": {},
   "outputs": [],
   "source": [
    "(0,1,2,3,(4,5,6),7,8)[::3]"
   ]
  },
  {
   "cell_type": "code",
   "execution_count": null,
   "id": "ea0dff68",
   "metadata": {},
   "outputs": [],
   "source": [
    "# Write a function that unzips nested dicts into expanded dicts.\n"
   ]
  },
  {
   "cell_type": "code",
   "execution_count": null,
   "id": "1c8fdd9a",
   "metadata": {},
   "outputs": [],
   "source": [
    "class MyClass:\n",
    "    def __init__(self, a=0, b=0):\n",
    "        self.a = a\n",
    "        self.b = b\n",
    "    \n",
    "    def display(self):\n",
    "        print(f\"a: {self.a}, b: {self.b}\")\n",
    "\n",
    "# Example usage\n",
    "obj1 = MyClass()          # Uses default values a=0, b=0\n",
    "obj2 = MyClass(5)         # a=5, b=0 (b has a default value)\n",
    "obj3 = MyClass(5, 10)     # a=5, b=10\n",
    "\n",
    "obj1.display()  # Output: a: 0, b: 0\n",
    "obj2.display()  # Output: a: 5, b: 0\n",
    "obj3.display()  # Output: a: 5, b: 10\n"
   ]
  },
  {
   "cell_type": "code",
   "execution_count": null,
   "id": "64c9bafb",
   "metadata": {},
   "outputs": [],
   "source": [
    "dict1 = {'a': 1, 'b': 2}\n",
    "dict2 = {'b': 3, 'c': 4}\n",
    "\n",
    "dict1.update(dict2)  \n",
    "print(dict1) "
   ]
  },
  {
   "cell_type": "code",
   "execution_count": null,
   "id": "6e39e110",
   "metadata": {},
   "outputs": [],
   "source": [
    "dict1 | dict2"
   ]
  },
  {
   "cell_type": "code",
   "execution_count": null,
   "id": "c171086c",
   "metadata": {},
   "outputs": [],
   "source": [
    "merged_dict = {**dict1, **dict2}\n",
    "print(merged_dict)"
   ]
  },
  {
   "cell_type": "code",
   "execution_count": null,
   "id": "4980d311",
   "metadata": {},
   "outputs": [],
   "source": [
    "def merge_dicts(dict1, dict2):\n",
    "    merged_dict = {}\n",
    "\n",
    "    # Add items from the first dictionary\n",
    "    for key in dict1:\n",
    "        merged_dict[key] = dict1[key]\n",
    "    \n",
    "    # Add items from the second dictionary, overwrite if the key already exists\n",
    "    for key in dict2:\n",
    "        merged_dict[key] = dict2[key]\n",
    "    \n",
    "    return merged_dict\n",
    "\n",
    "# Example usage\n",
    "dict1 = {'a': 1, 'b': 2}\n",
    "dict2 = {'b': 3, 'c': 4}\n",
    "\n",
    "merged = merge_dicts(dict1, dict2)\n",
    "print(merged)  # Output: {'a': 1, 'b': 3, 'c': 4}\n"
   ]
  },
  {
   "cell_type": "code",
   "execution_count": null,
   "id": "f534f10f",
   "metadata": {},
   "outputs": [],
   "source": [
    "def merge_dicts(dict1, dict2):\n",
    "    # First iterate through dict1, then through dict2 to overwrite any duplicates\n",
    "    return {key: value for d in (dict1, dict2) for key, value in d.items()}\n",
    "\n",
    "# Example usage\n",
    "dict1 = {'a': 1, 'b': 2}\n",
    "dict2 = {'b': 3, 'c': 4}\n",
    "\n",
    "merged = merge_dicts(dict1, dict2)\n",
    "print(merged) "
   ]
  },
  {
   "cell_type": "markdown",
   "id": "54f63d64",
   "metadata": {},
   "source": []
  },
  {
   "cell_type": "markdown",
   "id": "046c8dda",
   "metadata": {},
   "source": [
    "In Python, data structures are used to organize and store data efficiently. Below are the most common built-in data structures:\n",
    "\n",
    "### 1. **List**\n",
    "- **Definition**: Ordered, mutable, and allows duplicate elements.\n",
    "- **Example**:\n",
    "  ```python\n",
    "  my_list = [1, 2, 3, \"apple\", 3]\n",
    "  my_list.append(\"banana\")  # Adds an element\n",
    "  print(my_list)  # Output: [1, 2, 3, 'apple', 3, 'banana']\n",
    "  ```\n",
    "\n",
    "### 2. **Tuple**\n",
    "- **Definition**: Ordered, immutable, and allows duplicate elements.\n",
    "- **Example**:\n",
    "  ```python\n",
    "  my_tuple = (1, 2, 3, \"apple\", 3)\n",
    "  print(my_tuple)  # Output: (1, 2, 3, 'apple', 3)\n",
    "  ```\n",
    "\n",
    "### 3. **Set**\n",
    "- **Definition**: Unordered, mutable, and does not allow duplicate elements.\n",
    "- **Example**:\n",
    "  ```python\n",
    "  my_set = {1, 2, 3, \"apple\", 3}\n",
    "  print(my_set)  # Output: {1, 2, 3, 'apple'}\n",
    "  ```\n",
    "\n",
    "### 4. **Dictionary**\n",
    "- **Definition**: Unordered, mutable, and stores key-value pairs. Keys are unique.\n",
    "- **Example**:\n",
    "  ```python\n",
    "  my_dict = {\"name\": \"Alice\", \"age\": 25, \"city\": \"New York\"}\n",
    "  my_dict[\"age\"] = 26  # Update value\n",
    "  print(my_dict)  # Output: {'name': 'Alice', 'age': 26, 'city': 'New York'}\n",
    "  ```\n",
    "\n",
    "### 5. **String**\n",
    "- **Definition**: Immutable sequence of characters.\n",
    "- **Example**:\n",
    "  ```python\n",
    "  my_string = \"Hello, World!\"\n",
    "  print(my_string[0])  # Output: 'H'\n",
    "  ```\n",
    "\n",
    "### 6. **Queue and Stack**\n",
    "- **Queue**: Follows FIFO (First In, First Out) principle.\n",
    "  ```python\n",
    "  from collections import deque\n",
    "  queue = deque([1, 2, 3])\n",
    "  queue.append(4)\n",
    "  print(queue.popleft())  # Output: 1\n",
    "  ```\n",
    "- **Stack**: Follows LIFO (Last In, First Out) principle.\n",
    "  ```python\n",
    "  stack = [1, 2, 3]\n",
    "  stack.append(4)\n",
    "  print(stack.pop())  # Output: 4\n",
    "  ```\n",
    "\n",
    "Each of these data structures has specific use cases depending on the requirements for ordering, mutability, and efficiency."
   ]
  },
  {
   "cell_type": "markdown",
   "id": "799ecff2",
   "metadata": {},
   "source": [
    "Mutability refers to whether an object can be changed after it is created. In Python, some data types are **mutable** (they can be modified in place), while others are **immutable** (once created, they cannot be changed).\n",
    "\n",
    "### 1. **Mutable Data Types**\n",
    "Mutable types allow modification of their contents without changing their identity (memory location). Here are some common mutable types:\n",
    "\n",
    "#### **List**\n",
    "- **Mutable**: You can change the contents, append new elements, remove elements, etc.\n",
    "- **Example**:\n",
    "  ```python\n",
    "  my_list = [1, 2, 3]\n",
    "  my_list[0] = 100  # Modify the first element\n",
    "  print(my_list)  # Output: [100, 2, 3]\n",
    "  ```\n",
    "\n",
    "#### **Set**\n",
    "- **Mutable**: You can add or remove elements, but note that sets do not allow duplicate values.\n",
    "- **Example**:\n",
    "  ```python\n",
    "  my_set = {1, 2, 3}\n",
    "  my_set.add(4)  # Add an element\n",
    "  print(my_set)  # Output: {1, 2, 3, 4}\n",
    "  ```\n",
    "\n",
    "#### **Dictionary**\n",
    "- **Mutable**: You can add, modify, or delete key-value pairs.\n",
    "- **Example**:\n",
    "  ```python\n",
    "  my_dict = {\"a\": 1, \"b\": 2}\n",
    "  my_dict[\"a\"] = 100  # Modify the value for key 'a'\n",
    "  print(my_dict)  # Output: {'a': 100, 'b': 2}\n",
    "  ```\n",
    "\n",
    "### 2. **Immutable Data Types**\n",
    "Immutable types do not allow modification of their contents after creation. If you try to change an immutable object, a new object is created instead.\n",
    "\n",
    "#### **Tuple**\n",
    "- **Immutable**: Once a tuple is created, its contents cannot be changed.\n",
    "- **Example**:\n",
    "  ```python\n",
    "  my_tuple = (1, 2, 3)\n",
    "  # my_tuple[0] = 100  # This will raise a TypeError\n",
    "  ```\n",
    "\n",
    "#### **String**\n",
    "- **Immutable**: You cannot modify a string directly. Any operation that changes the string creates a new string.\n",
    "- **Example**:\n",
    "  ```python\n",
    "  my_string = \"hello\"\n",
    "  # my_string[0] = 'H'  # This will raise a TypeError\n",
    "  new_string = my_string.replace('h', 'H')  # Creates a new string\n",
    "  print(new_string)  # Output: \"Hello\"\n",
    "  ```\n",
    "\n",
    "#### **Numbers (int, float, etc.)**\n",
    "- **Immutable**: Any operation that changes the value creates a new object in memory.\n",
    "- **Example**:\n",
    "  ```python\n",
    "  a = 5\n",
    "  a = a + 1  # This creates a new int object with value 6\n",
    "  ```\n",
    "\n",
    "### Summary of Mutability:\n",
    "| Data Type    | Mutable or Immutable |\n",
    "|--------------|----------------------|\n",
    "| List         | Mutable              |\n",
    "| Set          | Mutable              |\n",
    "| Dictionary   | Mutable              |\n",
    "| Tuple        | Immutable            |\n",
    "| String       | Immutable            |\n",
    "| Numbers (int, float) | Immutable     |\n",
    "\n",
    "### Why It Matters:\n",
    "- **Mutable objects** allow in-place modification, making them efficient when frequent changes are needed.\n",
    "- **Immutable objects** are useful for data integrity and preventing unintended modifications, which can help avoid bugs in large programs."
   ]
  },
  {
   "cell_type": "markdown",
   "id": "13190c32",
   "metadata": {},
   "source": [
    "### Dictionary in Python: Internal Working and Hashing Concepts\n",
    "\n",
    "In Python, dictionaries are implemented using **hash tables**. A dictionary stores key-value pairs, where keys are hashed, and the hash values determine where the key-value pairs are stored in memory. Here's a detailed look at how it works:\n",
    "\n",
    "### 1. **Hashing in Python Dictionaries**\n",
    "- **Hash Function**: When a key is added to a dictionary, Python uses a built-in function called `hash()` to compute an integer value (the **hash**) for the key. This hash value is used to determine the index of the storage location for the key-value pair in the hash table.\n",
    "  \n",
    "  For example:\n",
    "  ```python\n",
    "  my_dict = {\"apple\": 1}\n",
    "  print(hash(\"apple\"))  # Outputs the hash value of the string \"apple\"\n",
    "  ```\n",
    "\n",
    "- **Storage**: The hash table is an array where each element contains a bucket (memory slot) to store the key-value pair. The index for the key is computed based on the hash value of the key.\n",
    "\n",
    "- **Collisions**: When two keys have the same hash value (which is possible, though rare), a **collision** occurs. Python resolves collisions using **open addressing** (probing to find another free slot) or **chaining** (using linked lists or another data structure to store multiple items in the same slot).\n",
    "\n",
    "### 2. **Key Characteristics**\n",
    "- **Keys must be hashable**: The key must be immutable and have a `__hash__()` method defined. Immutable types like strings, numbers, and tuples are hashable.\n",
    "- **Mutable objects like lists** are not hashable and cannot be used as dictionary keys.\n",
    "\n",
    "  Example:\n",
    "  ```python\n",
    "  # Valid keys (immutable types)\n",
    "  my_dict = {1: \"one\", \"name\": \"Alice\", (1, 2): \"tuple\"}\n",
    "  \n",
    "  # Invalid key (mutable type)\n",
    "  # my_dict = {[1, 2]: \"list\"}  # Raises a TypeError\n",
    "  ```\n",
    "\n",
    "### 3. **Assigning Two Different Keys in a HashMap (Collision Handling)**\n",
    "If two keys generate the same hash value (a **hash collision**), Python handles it gracefully. The dictionary uses **collision resolution** techniques like open addressing or chaining to store both key-value pairs.\n",
    "\n",
    "#### Example:\n",
    "```python\n",
    "class Key:\n",
    "    def __init__(self, value):\n",
    "        self.value = value\n",
    "    \n",
    "    def __hash__(self):\n",
    "        return 42  # Force a collision by returning the same hash value for all instances\n",
    "    \n",
    "    def __eq__(self, other):\n",
    "        return self.value == other.value  # Define equality for this key type\n",
    "\n",
    "key1 = Key(\"first\")\n",
    "key2 = Key(\"second\")\n",
    "\n",
    "my_dict = {key1: \"value1\", key2: \"value2\"}\n",
    "print(my_dict)  # Despite the hash collision, both key-value pairs are stored\n",
    "```\n",
    "\n",
    "Here, both `key1` and `key2` will hash to the same index because the `__hash__()` method forces the same hash value (42). Python resolves this collision by checking the actual keys with `__eq__()` and ensures both key-value pairs are stored correctly.\n",
    "\n",
    "### What If You Try to Assign Two Different Keys in a Single Reference in a HashMap?\n",
    "\n",
    "If you try to assign two different keys in a dictionary where the keys happen to produce the same hash value, Python will still allow both keys to coexist. This is because Python uses the `__eq__()` method to differentiate between keys that have the same hash but are different objects.\n",
    "\n",
    "#### Example:\n",
    "```python\n",
    "# Assigning two different keys with the same hash value\n",
    "my_dict[key1] = \"value1\"\n",
    "my_dict[key2] = \"value2\"\n",
    "\n",
    "# Even though both keys have the same hash value, Python can differentiate them\n",
    "# because they are different objects and `__eq__()` will check equality.\n",
    "print(my_dict[key1])  # Output: \"value1\"\n",
    "print(my_dict[key2])  # Output: \"value2\"\n",
    "```\n",
    "\n",
    "### What Happens Internally:\n",
    "1. **Hash Calculation**: Both `key1` and `key2` generate the same hash value.\n",
    "2. **Collision Detection**: When `key2` is inserted, Python detects that the hash value of `key2` conflicts with `key1`'s hash.\n",
    "3. **Resolution**: Python checks `key1 == key2` using the `__eq__()` method. Since `key1` and `key2` are different (even though their hashes are the same), Python stores them in different memory locations through probing or chaining.\n",
    "\n",
    "### Summary:\n",
    "- Python dictionaries rely on hashing for fast access to key-value pairs.\n",
    "- Hash collisions are handled using collision resolution techniques.\n",
    "- Even if two keys produce the same hash, Python uses the `__eq__()` method to distinguish between them, allowing both to be stored."
   ]
  },
  {
   "cell_type": "code",
   "execution_count": 26,
   "id": "f6411e30",
   "metadata": {},
   "outputs": [
    {
     "name": "stdout",
     "output_type": "stream",
     "text": [
      "1=2\n",
      "2=1\n",
      "3=1\n",
      "4=3\n",
      "5=1\n",
      "6=1\n",
      "9=2\n"
     ]
    }
   ],
   "source": [
    "input_list = [1, 1, 2, 3, 4, 4, 5, 4, 6, 9, 9]\n",
    "\n",
    "# List to keep track of elements that are already counted\n",
    "counted_elements = []\n",
    "\n",
    "# Outer loop to go through each element in the input list\n",
    "for i in range(len(input_list)):\n",
    "    # If the element has not been counted yet\n",
    "    if input_list[i] not in counted_elements:\n",
    "        count = 0\n",
    "        \n",
    "        # Inner loop to count occurrences of the current element\n",
    "        for j in range(len(input_list)):\n",
    "            if input_list[i] == input_list[j]:\n",
    "                count += 1\n",
    "        \n",
    "        # Print the element and its count in the desired format\n",
    "        print(f\"{input_list[i]}={count}\")\n",
    "        \n",
    "        # Add the element to the counted list to avoid recounting\n",
    "        counted_elements.append(input_list[i])\n"
   ]
  },
  {
   "cell_type": "code",
   "execution_count": 29,
   "id": "b1ee7ef1",
   "metadata": {},
   "outputs": [
    {
     "name": "stdout",
     "output_type": "stream",
     "text": [
      "1=2\n",
      "2=1\n",
      "3=1\n",
      "4=3\n",
      "5=1\n",
      "6=1\n",
      "9=2\n"
     ]
    }
   ],
   "source": [
    "input_list = [1, 1, 2, 3, 4, 4, 5, 4, 6, 9, 9]\n",
    "\n",
    "# List to keep track of elements that are already counted\n",
    "counted_elements = []\n",
    "\n",
    "# Outer loop to go through each element in the input list\n",
    "for i in range(len(input_list)):\n",
    "    # If the element has not been counted yet\n",
    "    if input_list[i] not in counted_elements:\n",
    "        count = 0\n",
    "        # Inner loop to count occurrences of the current element\n",
    "        for j in range(len(input_list)):\n",
    "            if input_list[i] == input_list[j]:\n",
    "                count += 1\n",
    "        # Print the element and its count in the desired format\n",
    "        print(f\"{input_list[i]}={count}\")\n",
    "        # Add the element to the counted list to avoid recounting\n",
    "        counted_elements.append(input_list[i])"
   ]
  },
  {
   "cell_type": "code",
   "execution_count": 30,
   "id": "2636aa6f",
   "metadata": {},
   "outputs": [
    {
     "name": "stdout",
     "output_type": "stream",
     "text": [
      "True\n",
      "False\n"
     ]
    }
   ],
   "source": [
    "# To check if the given input string of parentheses is balanced, we can use a stack. The idea is to push opening brackets (`(`, `[`, `{`) onto the stack and pop them when encountering their matching closing brackets (`)`, `]`, `}`). At the end, if the stack is empty, the string is balanced; otherwise, it is unbalanced.\n",
    "\n",
    "# Here’s the approach:\n",
    "# 1. Traverse through each character of the string.\n",
    "# 2. If the character is an opening bracket, push it onto the stack.\n",
    "# 3. If it’s a closing bracket, check if it matches the most recent opening bracket (the one on top of the stack). If it does, pop the stack; otherwise, return `False`.\n",
    "# 4. After traversing the string, if the stack is empty, return `True` (balanced); if not, return `False`.\n",
    "\n",
    "# ### Python Code:\n",
    "# ```python\n",
    "def is_balanced(input_string):\n",
    "    # Stack to keep track of opening brackets\n",
    "    stack = []\n",
    "    \n",
    "    # Dictionary to map closing brackets to their corresponding opening brackets\n",
    "    bracket_pairs = {')': '(', ']': '[', '}': '{'}\n",
    "    \n",
    "    # Traverse each character in the input string\n",
    "    for char in input_string:\n",
    "        # If it's an opening bracket, push it onto the stack\n",
    "        if char in bracket_pairs.values():\n",
    "            stack.append(char)\n",
    "        # If it's a closing bracket\n",
    "        elif char in bracket_pairs:\n",
    "            # Check if stack is non-empty and matches the latest opening bracket\n",
    "            if stack and stack[-1] == bracket_pairs[char]:\n",
    "                stack.pop()  # Pop the matching opening bracket\n",
    "            else:\n",
    "                return False  # Unbalanced if there's no match\n",
    "    \n",
    "    # If stack is empty at the end, it means all brackets are balanced\n",
    "    return len(stack) == 0\n",
    "\n",
    "# Test cases\n",
    "input_1 = \"([]){}\"\n",
    "print(is_balanced(input_1))  # Output: True\n",
    "\n",
    "input_2 = \"([]{}\"\n",
    "print(is_balanced(input_2))  # Output: False\n",
    "# ```\n",
    "\n",
    "# ### Explanation:\n",
    "# - **Stack**: Used to keep track of opening brackets.\n",
    "# - **Dictionary `bracket_pairs`**: Maps closing brackets to their corresponding opening brackets.\n",
    "# - **Logic**: For each character, push the opening bracket to the stack. When a closing bracket is encountered, check if the stack’s top matches its corresponding opening bracket. If the stack is empty or does not match, return `False`. Finally, if the stack is empty after processing the entire string, return `True`.\n",
    "\n",
    "# ### Output:\n",
    "# ```\n",
    "# True\n",
    "# False\n"
   ]
  },
  {
   "cell_type": "code",
   "execution_count": 27,
   "id": "eb3f73e6",
   "metadata": {},
   "outputs": [
    {
     "name": "stdout",
     "output_type": "stream",
     "text": [
      "[1, 2, 3, 4, 5, 6, 7, 8, 9]\n"
     ]
    }
   ],
   "source": [
    "def flatten_list(input_list):\n",
    "    result = []\n",
    "    \n",
    "    for element in input_list:\n",
    "        # If the element is a list, recursively flatten it\n",
    "        if isinstance(element, list):\n",
    "            #print(f\"Flattening: {element}\")\n",
    "            result.extend(flatten_list(element))\n",
    "        else:\n",
    "            result.append(element)\n",
    "    \n",
    "    return result\n",
    "\n",
    "# Test case\n",
    "input_list = [1, [2, 3, [4, 5]], 6, [[7], [8, 9]]]\n",
    "output = flatten_list(input_list)\n",
    "print(output)  # Output: [1, 2, 3, 4, 5, 6, 7, 8, 9]"
   ]
  },
  {
   "cell_type": "code",
   "execution_count": 29,
   "id": "181466d1",
   "metadata": {},
   "outputs": [
    {
     "name": "stdout",
     "output_type": "stream",
     "text": [
      "[1, 2, 3, 4, 5, 6, 7, 8, 9]\n"
     ]
    }
   ],
   "source": [
    "def flatten_list(input_list):\n",
    "    result = []\n",
    "    \n",
    "    for element in input_list:\n",
    "        # If the element is a list, recursively flatten it\n",
    "        if isinstance(element, list):\n",
    "            #print(f\"Flattening: {element}\")\n",
    "            yield from flatten_list(element)\n",
    "        else:\n",
    "            yield element\n",
    "    \n",
    "    return result\n",
    "\n",
    "# Test case\n",
    "input_list = [1, [2, 3, [4, 5]], 6, [[7], [8, 9]]]\n",
    "output = list(flatten_list(input_list))\n",
    "print(output)  # Output: [1, 2, 3, 4, 5, 6, 7, 8, 9]"
   ]
  },
  {
   "cell_type": "code",
   "execution_count": 30,
   "id": "f2ba7388",
   "metadata": {},
   "outputs": [
    {
     "name": "stdout",
     "output_type": "stream",
     "text": [
      "[1, 2, 3, 4, 5, 6, 7, 8, 9]\n"
     ]
    }
   ],
   "source": [
    "# Recursive flattening using a helper function inside a list comprehension\n",
    "def flatten(nested):\n",
    "    return [item \n",
    "            for sublist in nested \n",
    "            for item in (flatten(sublist) if isinstance(sublist, list) else [sublist])]\n",
    "\n",
    "# Test\n",
    "input_list = [1, [2, 3, [4, 5]], 6, [[7], [8, 9]]]\n",
    "flattened = flatten(input_list)\n",
    "print(flattened)\n"
   ]
  },
  {
   "cell_type": "code",
   "execution_count": 4,
   "id": "5e34918b",
   "metadata": {},
   "outputs": [
    {
     "name": "stdout",
     "output_type": "stream",
     "text": [
      "[1, 6, 8, 9, 7, 2, 3, 4, 5]\n"
     ]
    }
   ],
   "source": [
    "#def flatten_list(input_list):\n",
    "    # result = []\n",
    "    \n",
    "    # for element in input_list:\n",
    "    #     # If the element is a list, recursively flatten it\n",
    "    #     if isinstance(element, list):\n",
    "    #         print(f\"Flattening: {element}\")\n",
    "    #         result.extend(flatten_list(element))\n",
    "    #     else:\n",
    "    #         result.append(element)\n",
    "    \n",
    "    # return result\n",
    "\n",
    "# give code without recursive calls with preserve order \n",
    "# def flatten_list(input_list):\n",
    "def flatten_list(input_list): \n",
    "    result = []\n",
    "    stack = [input_list]  # Use a stack to keep track of lists to process\n",
    "    \n",
    "    while stack:\n",
    "        current = stack.pop()  # Get the last list to process\n",
    "        \n",
    "        for element in current:\n",
    "            if isinstance(element, list):\n",
    "                stack.append(element)  # If it's a list, add it to the stack\n",
    "            else:\n",
    "                result.append(element)  # Otherwise, add the element to the result\n",
    "    \n",
    "    return result \n",
    "\n",
    "# Test case\n",
    "input_list = [1, [2, 3, [4, 5]], 6, [[7], [8, 9]]]\n",
    "output = flatten_list(input_list)\n",
    "print(output)  # Output: [1, 2, 3, 4, 5, 6, 7, 8, 9]"
   ]
  },
  {
   "cell_type": "code",
   "execution_count": 5,
   "id": "32dfe2bb",
   "metadata": {},
   "outputs": [
    {
     "name": "stdout",
     "output_type": "stream",
     "text": [
      "[1, 2, 3, 4, 5, 6, 7, 8, 9]\n"
     ]
    }
   ],
   "source": [
    "def flatten_list(input_list):\n",
    "    result = []\n",
    "    stack = []\n",
    "\n",
    "    # Initialize the stack with input list in reverse order\n",
    "    for i in range(len(input_list) - 1, -1, -1):\n",
    "        stack.append(input_list[i])\n",
    "\n",
    "    while stack:\n",
    "        element = stack.pop()\n",
    "\n",
    "        if isinstance(element, list):\n",
    "            # Push elements of the sublist in reverse order\n",
    "            for i in range(len(element) - 1, -1, -1):\n",
    "                stack.append(element[i])\n",
    "        else:\n",
    "            result.append(element)\n",
    "    \n",
    "    return result\n",
    "\n",
    "# Example usage\n",
    "input_list = [1, [2, 3, [4, 5]], 6, [[7], [8, 9]]]\n",
    "output = flatten_list(input_list)\n",
    "print(output)\n"
   ]
  },
  {
   "cell_type": "code",
   "execution_count": null,
   "id": "69a7994b",
   "metadata": {},
   "outputs": [],
   "source": [
    "l =[1,2,4,[6,7],[5,[3,5,[7]]]]\n",
    "res = flatten_list(l)\n",
    "res"
   ]
  },
  {
   "cell_type": "markdown",
   "id": "13519972",
   "metadata": {},
   "source": [
    "Great question. Whether **recursive** or **iterative (with a stack)** approach is better depends on a few key factors: **readability**, **performance**, **Python recursion limits**, and **control over execution**.\n",
    "\n",
    "Let’s compare them.\n",
    "\n",
    "---\n",
    "\n",
    "### ✅ 1. **Recursive Approach**\n",
    "\n",
    "#### 🔷 Pros:\n",
    "\n",
    "* **Very clean and readable** for small and medium-sized problems.\n",
    "* **Natural** way to process nested structures like lists.\n",
    "\n",
    "#### 🔷 Cons:\n",
    "\n",
    "* **Python has a recursion limit** (\\~1000 by default). Deeply nested lists (e.g., 1000+ levels) will raise a `RecursionError`.\n",
    "* **Can be less efficient** in terms of memory due to call stack overhead.\n",
    "\n",
    "#### ✅ Best for:\n",
    "\n",
    "* Cleaner code when input nesting is not too deep.\n",
    "\n",
    "---\n",
    "\n",
    "### ✅ 2. **Iterative Approach (Using Stack)**\n",
    "\n",
    "#### 🔷 Pros:\n",
    "\n",
    "* **No recursion limit**, so it handles deeply nested structures safely.\n",
    "* **More control** over processing (e.g., order, custom stack behavior).\n",
    "* Can be more memory-efficient in large-scale data processing.\n",
    "\n",
    "#### 🔷 Cons:\n",
    "\n",
    "* Slightly **more verbose** and harder to understand at first glance.\n",
    "* Requires careful management of the stack to preserve order.\n",
    "\n",
    "#### ✅ Best for:\n",
    "\n",
    "* Handling **very deeply nested structures**\n",
    "* Environments where **stack overflows are risky**\n",
    "* When recursion is **disallowed** (e.g., interviews, embedded systems)\n",
    "\n",
    "---\n",
    "\n",
    "### ⚖️ Summary Table:\n",
    "\n",
    "| Feature              | Recursive         | Iterative (Stack)  |\n",
    "| -------------------- | ----------------- | ------------------ |\n",
    "| Readability          | ✅ Simple          | ❌ Slightly complex |\n",
    "| Handles deep nesting | ❌ No (limited)    | ✅ Yes              |\n",
    "| Speed (typical use)  | ✅ Fast enough     | ✅ Comparable       |\n",
    "| Memory efficiency    | ❌ Call stack cost | ✅ Better           |\n",
    "| Error-prone          | ❌ Risk of crash   | ✅ Safer            |\n",
    "\n",
    "---\n",
    "\n",
    "### 🏁 Verdict:\n",
    "\n",
    "* Use **recursive** if you want **clean, short, readable** code and your nesting is shallow or moderate.\n",
    "* Use **iterative (with stack)** if you need to **flatten deeply nested lists**, or you're writing **production code where safety and control matter**.\n",
    "\n",
    "---\n",
    "\n",
    "Let me know if you'd like to see timing benchmarks or memory comparisons between the two approaches!\n"
   ]
  },
  {
   "cell_type": "markdown",
   "id": "fe92824f",
   "metadata": {},
   "source": [
    "In Python, `r+` and `w` are file modes used for file handling, but they have distinct behaviors:\n",
    "\n",
    "### 1. **`r+` Mode (Read and Write Mode)**\n",
    "- Opens the file for **both reading and writing**.\n",
    "- The file **must already exist**; otherwise, it will raise a `FileNotFoundError`.\n",
    "- The file pointer is placed at the **beginning** of the file.\n",
    "- Allows you to read from and write to the file without truncating it. Writing starts from the current file pointer position.\n",
    "  \n",
    "  **Example**:\n",
    "  ```python\n",
    "  with open(\"example.txt\", \"r+\") as file:\n",
    "      content = file.read()       # Read the content of the file\n",
    "      file.write(\"New content\")   # Write new content starting from the current position\n",
    "  ```\n",
    "\n",
    "  - If `example.txt` contains `Hello, World!`, reading it with `r+` will give `Hello, World!`. Writing `\"New content\"` will overwrite part of the content based on the current pointer position.\n",
    "\n",
    "### 2. **`w` Mode (Write Mode)**\n",
    "- Opens the file for **writing only**.\n",
    "- If the file does **not exist**, it will **create a new file**.\n",
    "- If the file **already exists**, it **truncates** the file (i.e., deletes all its content) before writing to it.\n",
    "- Writing starts from the beginning of the file, but you **cannot read** from the file in this mode.\n",
    "\n",
    "  **Example**:\n",
    "  ```python\n",
    "  with open(\"example.txt\", \"w\") as file:\n",
    "      file.write(\"New content\")  # Completely overwrites the file content\n",
    "  ```\n",
    "\n",
    "  - If `example.txt` contains `Hello, World!`, after opening it in `w` mode, its contents will be erased, and it will only contain `New content`.\n",
    "\n",
    "### Key Differences Between `r+` and `w`:\n",
    "| Mode  | Read Capability | Write Capability | File Creation | Truncates File Content |\n",
    "|-------|-----------------|------------------|---------------|------------------------|\n",
    "| `r+`  | Yes             | Yes              | No (file must exist) | No                     |\n",
    "| `w`   | No              | Yes              | Yes (if file doesn't exist) | Yes (if file exists)   |\n",
    "\n",
    "### Summary:\n",
    "- Use **`r+`** if you want to read and write to an existing file **without erasing its content**.\n",
    "- Use **`w`** if you want to write to a file and don't mind **erasing all its content** or creating a new file if it doesn't exist."
   ]
  },
  {
   "cell_type": "markdown",
   "id": "505080ff",
   "metadata": {},
   "source": [
    "In Python, there are several file modes used to handle files in different ways. These modes determine how a file is opened (for reading, writing, appending, etc.) and whether the file should be truncated, created, or left unchanged. Below is an explanation of each commonly used file mode.\n",
    "\n",
    "### 1. **`r` Mode (Read Mode)**\n",
    "- Opens the file for **reading only**.\n",
    "- The file **must exist**; otherwise, it will raise a `FileNotFoundError`.\n",
    "- The file pointer is placed at the **beginning** of the file.\n",
    "- **No writing** is allowed.\n",
    "\n",
    "**Example**:\n",
    "```python\n",
    "with open(\"example.txt\", \"r\") as file:\n",
    "    content = file.read()  # Read the entire content of the file\n",
    "```\n",
    "\n",
    "### 2. **`w` Mode (Write Mode)**\n",
    "- Opens the file for **writing only**.\n",
    "- If the file **does not exist**, it will **create a new file**.\n",
    "- If the file **already exists**, it will **truncate** (i.e., erase) its content before writing to it.\n",
    "- **No reading** is allowed.\n",
    "\n",
    "**Example**:\n",
    "```python\n",
    "with open(\"example.txt\", \"w\") as file:\n",
    "    file.write(\"New content\")  # Completely overwrites the file's content\n",
    "```\n",
    "\n",
    "### 3. **`a` Mode (Append Mode)**\n",
    "- Opens the file for **writing only**.\n",
    "- If the file **does not exist**, it will **create a new file**.\n",
    "- If the file **already exists**, the data will be written at the **end of the file** without truncating it (i.e., no content is erased).\n",
    "- **No reading** is allowed.\n",
    "\n",
    "**Example**:\n",
    "```python\n",
    "with open(\"example.txt\", \"a\") as file:\n",
    "    file.write(\"Appending new content\")  # Content is added at the end of the file\n",
    "```\n",
    "\n",
    "### 4. **`x` Mode (Exclusive Creation Mode)**\n",
    "- Opens the file for **exclusive creation**.\n",
    "- If the file already exists, it raises a `FileExistsError`.\n",
    "- It’s used when you want to ensure that a new file is created and you don’t want to overwrite an existing one.\n",
    "- **No reading** is allowed.\n",
    "\n",
    "**Example**:\n",
    "```python\n",
    "with open(\"new_file.txt\", \"x\") as file:\n",
    "    file.write(\"This is a new file\")  # Raises an error if the file already exists\n",
    "```\n",
    "\n",
    "### 5. **`r+` Mode (Read and Write Mode)**\n",
    "- Opens the file for **both reading and writing**.\n",
    "- The file **must already exist**; otherwise, it raises a `FileNotFoundError`.\n",
    "- The file pointer is placed at the **beginning** of the file.\n",
    "- You can both read from and write to the file, but writing doesn’t truncate the file’s content (i.e., writing starts from the current pointer position).\n",
    "\n",
    "**Example**:\n",
    "```python\n",
    "with open(\"example.txt\", \"r+\") as file:\n",
    "    content = file.read()  # Read the content\n",
    "    file.write(\"New content\")  # Write new content without erasing the old one\n",
    "```\n",
    "\n",
    "### 6. **`w+` Mode (Write and Read Mode)**\n",
    "- Opens the file for **both reading and writing**.\n",
    "- If the file **does not exist**, it will **create a new file**.\n",
    "- If the file **already exists**, it **truncates** the file (i.e., erases its content).\n",
    "- Writing starts from the beginning of the file, but you can also read the file.\n",
    "\n",
    "**Example**:\n",
    "```python\n",
    "with open(\"example.txt\", \"w+\") as file:\n",
    "    file.write(\"New content\")  # Erase and write new content\n",
    "    file.seek(0)  # Move the file pointer to the beginning\n",
    "    content = file.read()  # Read the newly written content\n",
    "```\n",
    "\n",
    "### 7. **`a+` Mode (Append and Read Mode)**\n",
    "- Opens the file for **both reading and appending**.\n",
    "- If the file **does not exist**, it will **create a new file**.\n",
    "- If the file **already exists**, you can append content to the file without erasing any existing content.\n",
    "- You can also read the file.\n",
    "\n",
    "**Example**:\n",
    "```python\n",
    "with open(\"example.txt\", \"a+\") as file:\n",
    "    file.write(\"More content\")  # Append content\n",
    "    file.seek(0)  # Move the file pointer to the beginning\n",
    "    content = file.read()  # Read the entire file\n",
    "```\n",
    "\n",
    "### 8. **`rb` Mode (Read Binary Mode)**\n",
    "- Opens the file for **reading in binary mode**.\n",
    "- Used when reading binary files such as images, audio, or any non-text files.\n",
    "- The file must exist, and **no writing** is allowed.\n",
    "\n",
    "**Example**:\n",
    "```python\n",
    "with open(\"example.bin\", \"rb\") as file:\n",
    "    binary_data = file.read()  # Read binary data\n",
    "```\n",
    "\n",
    "### 9. **`wb` Mode (Write Binary Mode)**\n",
    "- Opens the file for **writing in binary mode**.\n",
    "- If the file does not exist, it creates a new one.\n",
    "- If the file exists, it truncates it and writes the binary data.\n",
    "\n",
    "**Example**:\n",
    "```python\n",
    "with open(\"example.bin\", \"wb\") as file:\n",
    "    file.write(b'\\x00\\x01\\x02')  # Write binary data\n",
    "```\n",
    "\n",
    "### 10. **`ab` Mode (Append Binary Mode)**\n",
    "- Opens the file for **appending in binary mode**.\n",
    "- You can add binary data at the end of the file without erasing existing content.\n",
    "- If the file does not exist, it creates a new one.\n",
    "\n",
    "**Example**:\n",
    "```python\n",
    "with open(\"example.bin\", \"ab\") as file:\n",
    "    file.write(b'\\x03\\x04\\x05')  # Append binary data\n",
    "```\n",
    "\n",
    "### 11. **`r+b`, `w+b`, `a+b` Modes (Read/Write and Binary Mode)**\n",
    "- Similar to `r+`, `w+`, and `a+` modes, but the file is opened in **binary mode**.\n",
    "- Used when both reading and writing binary data.\n",
    "\n",
    "**Examples**:\n",
    "- `r+b`: Open for reading and writing binary data.\n",
    "- `w+b`: Open for reading and writing binary data, truncate if exists or create new.\n",
    "- `a+b`: Open for reading and writing binary data, append if exists or create new.\n",
    "\n",
    "### Summary Table of File Modes:\n",
    "\n",
    "| Mode  | Read | Write | Append | File Creation | File Truncate | Binary Support |\n",
    "|-------|------|-------|--------|---------------|---------------|----------------|\n",
    "| `r`   | Yes  | No    | No     | No            | No            | No             |\n",
    "| `w`   | No   | Yes   | No     | Yes           | Yes           | No             |\n",
    "| `a`   | No   | Yes   | Yes    | Yes           | No            | No             |\n",
    "| `x`   | No   | Yes   | No     | Yes           | No            | No             |\n",
    "| `r+`  | Yes  | Yes   | No     | No            | No            | No             |\n",
    "| `w+`  | Yes  | Yes   | No     | Yes           | Yes           | No             |\n",
    "| `a+`  | Yes  | Yes   | Yes    | Yes           | No            | No             |\n",
    "| `rb`  | Yes  | No    | No     | No            | No            | Yes            |\n",
    "| `wb`  | No   | Yes   | No     | Yes           | Yes           | Yes            |\n",
    "| `ab`  | No   | Yes   | Yes    | Yes           | No            | Yes            |\n",
    "| `r+b` | Yes  | Yes   | No     | No            | No            | Yes            |\n",
    "| `w+b` | Yes  | Yes   | No     | Yes           | Yes           | Yes            |\n",
    "| `a+b` | Yes  | Yes   | Yes    | Yes           | No            | Yes            |\n",
    "\n",
    "### Conclusion:\n",
    "Each mode offers different capabilities for reading, writing, and managing files, depending on the need. If you want to work with binary files, use `b`-prefixed modes like `rb`, `wb`. If you need to both read and write, choose `r+`, `w+`, or `a+` based on whether you want to truncate, append, or preserve the content.\n"
   ]
  },
  {
   "cell_type": "markdown",
   "id": "c932c41e",
   "metadata": {},
   "source": [
    "### **Multithreading** and **Multiprocessing** are both techniques used for concurrent execution, but they are suited for different types of problems based on the nature of the tasks being executed. Here’s a comparison to help decide when to use one over the other.\n",
    "\n",
    "---\n",
    "\n",
    "### **1. Multithreading**\n",
    "- **Definition**: Multithreading involves running multiple threads within a single process. Each thread shares the same memory space but can perform tasks concurrently.\n",
    "  \n",
    "#### **When to use Multithreading**:\n",
    "- **I/O-bound tasks**: Multithreading is best suited for programs where tasks spend a significant amount of time waiting for I/O operations (like reading from disk, waiting for network responses, etc.).\n",
    "- **Tasks that require shared memory**: Since threads share the same memory, multithreading is useful when you need threads to share data easily without the overhead of inter-process communication (IPC).\n",
    "- **Lightweight tasks**: Threads are more lightweight than processes. If you have a large number of lightweight tasks that need to be executed concurrently, multithreading is a better option.\n",
    "\n",
    "#### **Examples**:\n",
    "- Handling multiple client requests on a web server.\n",
    "- Running concurrent network requests or file reading/writing.\n",
    "- Any application that waits on external resources (disk, network, database).\n",
    "\n",
    "#### **Advantages**:\n",
    "- Lower memory overhead since threads share memory.\n",
    "- Easier communication between threads (since they operate in the same address space).\n",
    "  \n",
    "#### **Limitations**:\n",
    "- **Global Interpreter Lock (GIL)** in Python: Python threads are limited by the GIL, which means only one thread can execute Python bytecode at a time in CPython (the most common Python implementation). This limits the effectiveness of multithreading for CPU-bound tasks in Python.\n",
    "\n",
    "---\n",
    "\n",
    "### **2. Multiprocessing**\n",
    "- **Definition**: Multiprocessing involves running multiple processes, where each process has its own memory space. This allows true parallelism, especially on multi-core CPUs, as each process can run independently.\n",
    "\n",
    "#### **When to use Multiprocessing**:\n",
    "- **CPU-bound tasks**: If your tasks are CPU-heavy (like computations, data processing, etc.), multiprocessing is a better option since each process runs in parallel on different CPU cores, effectively utilizing multi-core CPUs.\n",
    "- **Tasks that don't need shared memory**: Processes have separate memory spaces, so multiprocessing is suitable when tasks don’t need to share memory or can work independently without frequent communication.\n",
    "- **Parallelism in Python**: Since each process has its own Python interpreter, the **GIL** does not affect multiprocessing, and multiple processes can execute Python code concurrently.\n",
    "\n",
    "#### **Examples**:\n",
    "- Performing large mathematical computations (like matrix multiplications).\n",
    "- Running data science or machine learning algorithms that process large datasets.\n",
    "- Video rendering, image processing, and other CPU-intensive tasks.\n",
    "\n",
    "#### **Advantages**:\n",
    "- **True parallelism**: Takes advantage of multiple cores without being limited by the GIL.\n",
    "- More scalable for CPU-bound tasks.\n",
    "  \n",
    "#### **Limitations**:\n",
    "- Higher memory consumption since each process has its own memory space.\n",
    "- Communication between processes is more complex and slower compared to threads (uses IPC mechanisms like pipes, queues).\n",
    "\n",
    "---\n",
    "\n",
    "### **Comparison Table**\n",
    "\n",
    "| **Aspect**              | **Multithreading**                           | **Multiprocessing**                      |\n",
    "|-------------------------|----------------------------------------------|------------------------------------------|\n",
    "| **Concurrency**          | Context switching between threads            | True parallelism with multiple processes |\n",
    "| **Use Case**             | I/O-bound tasks (e.g., network, file I/O)    | CPU-bound tasks (e.g., computations)     |\n",
    "| **Memory**               | Shared memory between threads                | Separate memory for each process         |\n",
    "| **Communication**        | Easier, since memory is shared               | Complex, requires IPC (pipes, queues)    |\n",
    "| **Overhead**             | Low (threads are lightweight)                | High (processes are heavier)             |\n",
    "| **GIL (Python)**         | Affected by GIL (limiting concurrency)       | Not affected by GIL                      |\n",
    "| **Failure Isolation**    | If a thread crashes, it may crash the program | If a process crashes, other processes are unaffected |\n",
    "| **Examples**             | Web servers, file I/O, database requests     | Data processing, computations, ML models |\n",
    "\n",
    "---\n",
    "\n",
    "### **Summary: When to Use Which?**\n",
    "\n",
    "- **Use Multithreading**:\n",
    "  - For **I/O-bound tasks** where waiting time is high (e.g., network requests, file reading/writing).\n",
    "  - When you need **lightweight concurrency** and easy sharing of data between tasks.\n",
    "  - In situations where Python's GIL won’t be a bottleneck, such as when most time is spent waiting for I/O.\n",
    "\n",
    "- **Use Multiprocessing**:\n",
    "  - For **CPU-bound tasks** that require intensive computation and parallelism.\n",
    "  - When you want to utilize **multiple CPU cores** for true parallel execution.\n",
    "  - In Python, when the GIL limits the performance of CPU-heavy multithreaded tasks, switching to multiprocessing bypasses the GIL.\n"
   ]
  },
  {
   "cell_type": "markdown",
   "id": "222ae8a9",
   "metadata": {},
   "source": []
  },
  {
   "cell_type": "markdown",
   "id": "a54586b6",
   "metadata": {},
   "source": [
    "### **Detailed Explanation of Multithreading and Why It’s Not Always Efficient with Lists**\n",
    "\n",
    "#### **What is Multithreading?**\n",
    "- **Multithreading** is a technique where a single process is divided into multiple \"threads\" that run concurrently. In Python, threads are used to perform multiple operations at the same time without waiting for the previous one to complete.\n",
    "  \n",
    "- **Threads** share the same memory space and resources of the parent process, which makes communication between threads faster and easier compared to processes. However, it also introduces challenges like **race conditions**, **deadlocks**, and **data inconsistency** when working with shared mutable data structures like lists.\n",
    "\n",
    "---\n",
    "\n",
    "### **Global Interpreter Lock (GIL) and Python Multithreading**\n",
    "- Python’s multithreading model is limited by the **Global Interpreter Lock (GIL)**. The GIL ensures that only one thread can execute Python bytecode at a time, even on multi-core processors.\n",
    "  \n",
    "  - The GIL affects **CPU-bound tasks** like computations, making multithreading less efficient for such operations because threads are not truly parallel; they just take turns executing.\n",
    "  \n",
    "  - **I/O-bound tasks**, such as reading files or making network requests, benefit from multithreading since these tasks spend a lot of time waiting for external operations to complete. During this waiting time, another thread can continue executing.\n",
    "\n",
    "#### **Effect of GIL on List Operations**\n",
    "- Python lists are mutable data structures, and list operations involve frequent reads and writes to memory.\n",
    "- Due to the **GIL**, threads are not executing in parallel, so when multiple threads are modifying the same list, they often compete for access to the list, leading to performance bottlenecks.\n",
    "  \n",
    "  - For example, in a scenario where two threads try to append elements to a shared list, one thread may have to wait until the other is done because of the GIL. This slows down the entire operation and can result in inconsistent data.\n",
    "\n",
    "---\n",
    "\n",
    "### **Why Multithreading Can Be Problematic with Lists**\n",
    "\n",
    "1. **Race Conditions**:\n",
    "   - When multiple threads modify a shared list without synchronization, **race conditions** occur. These are situations where the outcome depends on the timing and order of thread execution.\n",
    "   - For example, two threads trying to append elements to a list might overwrite each other’s changes, or one thread might read data while another is modifying it, leading to unpredictable results.\n",
    "\n",
    "   **Example of race condition**:\n",
    "   ```python\n",
    "   shared_list = []\n",
    "\n",
    "   def append_to_list():\n",
    "       for _ in range(1000):\n",
    "           shared_list.append(1)  # Appending 1 to the list\n",
    "\n",
    "   thread1 = threading.Thread(target=append_to_list)\n",
    "   thread2 = threading.Thread(target=append_to_list)\n",
    "\n",
    "   thread1.start()\n",
    "   thread2.start()\n",
    "\n",
    "   thread1.join()\n",
    "   thread2.join()\n",
    "\n",
    "   print(len(shared_list))  # This might not be 2000 due to race conditions\n",
    "   ```\n",
    "\n",
    "2. **Data Inconsistency**:\n",
    "   - If threads are modifying different parts of the list at the same time without synchronization, one thread might read outdated or inconsistent data.\n",
    "   - Python lists are not thread-safe. When threads modify the same list concurrently, it can result in **corrupted data** or **inconsistent states**.\n",
    "\n",
    "3. **Thread Synchronization Overhead**:\n",
    "   - To avoid race conditions, you can use thread synchronization mechanisms like **locks**, **mutexes**, or **semaphores**. However, these synchronization primitives introduce additional overhead.\n",
    "   - Using locks ensures that only one thread can modify the list at a time, but this negates the benefits of multithreading because the threads are effectively running sequentially due to the locking mechanism.\n",
    "\n",
    "   **Example with Lock**:\n",
    "   ```python\n",
    "   import threading\n",
    "\n",
    "   shared_list = []\n",
    "   lock = threading.Lock()\n",
    "\n",
    "   def append_to_list():\n",
    "       for _ in range(1000):\n",
    "           with lock:\n",
    "               shared_list.append(1)\n",
    "\n",
    "   thread1 = threading.Thread(target=append_to_list)\n",
    "   thread2 = threading.Thread(target=append_to_list)\n",
    "\n",
    "   thread1.start()\n",
    "   thread2.start()\n",
    "\n",
    "   thread1.join()\n",
    "   thread2.join()\n",
    "\n",
    "   print(len(shared_list))  # This will be 2000, but locks reduce performance.\n",
    "   ```\n",
    "\n",
    "   Using locks ensures correctness but sacrifices performance due to the added overhead.\n",
    "\n",
    "4. **False Sharing**:\n",
    "   - **False sharing** occurs when two threads modify different elements in a list, but those elements reside in the same cache line (a small block of memory fetched together by the CPU). Although they work on different data, the CPU needs to synchronize the entire cache line, leading to unnecessary performance degradation.\n",
    "\n",
    "---\n",
    "\n",
    "### **When Multithreading with Lists Works Well**\n",
    "Despite these challenges, multithreading can still be useful with lists in certain scenarios, such as:\n",
    "\n",
    "1. **Read-Only Operations**:\n",
    "   - If threads are only **reading** from a list and not modifying it, there are no race conditions or data consistency issues.\n",
    "   - This allows threads to operate concurrently without locking or synchronization, which can improve performance in I/O-bound tasks.\n",
    "\n",
    "2. **Independent Sub-lists**:\n",
    "   - If each thread works on a separate portion of the list (without overlapping data), you can use multithreading effectively. For example, if you’re splitting a large list into sub-lists, each thread can process a different sub-list independently.\n",
    "\n",
    "   **Example**:\n",
    "   ```python\n",
    "   import threading\n",
    "\n",
    "   def process_sublist(sublist):\n",
    "       # Perform some processing on the sublist\n",
    "       print(sum(sublist))\n",
    "\n",
    "   main_list = [1, 2, 3, 4, 5, 6, 7, 8, 9]\n",
    "   midpoint = len(main_list) // 2\n",
    "\n",
    "   thread1 = threading.Thread(target=process_sublist, args=(main_list[:midpoint],))\n",
    "   thread2 = threading.Thread(target=process_sublist, args=(main_list[midpoint:],))\n",
    "\n",
    "   thread1.start()\n",
    "   thread2.start()\n",
    "\n",
    "   thread1.join()\n",
    "   thread2.join()\n",
    "   ```\n",
    "\n",
    "3. **I/O-bound Tasks Involving Lists**:\n",
    "   - If your list processing involves **I/O operations**, such as reading from or writing to disk or network requests, multithreading can help since these operations spend time waiting for external resources. During this waiting period, other threads can continue executing.\n",
    "\n",
    "---\n",
    "\n",
    "### **Better Alternatives to Multithreading with Lists**\n",
    "\n",
    "1. **Multiprocessing**:\n",
    "   - Since Python’s **multiprocessing** uses separate processes (each with its own memory space) rather than threads, it avoids the GIL entirely. Each process can modify its own copy of the list without interference from other processes.\n",
    "   - This allows for true parallelism and is ideal for CPU-bound tasks.\n",
    "   \n",
    "   **Example of multiprocessing**:\n",
    "   ```python\n",
    "   from multiprocessing import Process, Manager\n",
    "\n",
    "   def append_to_list(shared_list):\n",
    "       for _ in range(1000):\n",
    "           shared_list.append(1)\n",
    "\n",
    "   if __name__ == \"__main__\":\n",
    "       with Manager() as manager:\n",
    "           shared_list = manager.list()  # Shared list between processes\n",
    "           p1 = Process(target=append_to_list, args=(shared_list,))\n",
    "           p2 = Process(target=append_to_list, args=(shared_list,))\n",
    "\n",
    "           p1.start()\n",
    "           p2.start()\n",
    "\n",
    "           p1.join()\n",
    "           p2.join()\n",
    "\n",
    "           print(len(shared_list))  # This will reliably be 2000\n",
    "   ```\n",
    "\n",
    "2. **Concurrent Collections (like `queue.Queue`)**:\n",
    "   - Python’s `queue.Queue` is a thread-safe data structure designed for multithreaded programs. If you need a data structure that multiple threads can safely modify concurrently, using `Queue` is a better choice than a list.\n",
    "\n",
    "---\n",
    "\n",
    "### **Summary: Why Lists and Multithreading Don't Work Well Together**\n",
    "- **Race conditions** and **data inconsistency** occur because multiple threads try to modify the same memory space concurrently.\n",
    "- The **GIL** prevents true parallelism in CPU-bound tasks, making multithreading less efficient when manipulating lists.\n",
    "- Thread synchronization (using locks) solves these problems but adds significant overhead, often negating the performance benefits of multithreading.\n",
    "- **Multiprocessing** is often a better alternative for parallel tasks involving lists in Python."
   ]
  },
  {
   "cell_type": "markdown",
   "id": "0a2c7461",
   "metadata": {},
   "source": []
  },
  {
   "cell_type": "code",
   "execution_count": 5,
   "id": "be0c1094",
   "metadata": {},
   "outputs": [
    {
     "name": "stdout",
     "output_type": "stream",
     "text": [
      "Something before the function.\n",
      "Hello!\n",
      "Something after the function.\n"
     ]
    }
   ],
   "source": [
    "def my_decorator(func):\n",
    "    def wrapper():\n",
    "        print(\"Something before the function.\")\n",
    "        func()  # Call the original function\n",
    "        print(\"Something after the function.\")\n",
    "    return wrapper\n",
    "\n",
    "@my_decorator\n",
    "def say_hello():\n",
    "    print(\"Hello!\")\n",
    "\n",
    "say_hello()\n"
   ]
  },
  {
   "cell_type": "code",
   "execution_count": 6,
   "id": "32a27069",
   "metadata": {},
   "outputs": [
    {
     "name": "stdout",
     "output_type": "stream",
     "text": [
      "Executing add with arguments (5, 10) and {}\n",
      "Finished add\n",
      "15\n"
     ]
    }
   ],
   "source": [
    "def log_execution(func):\n",
    "    def wrapper(*args, **kwargs):\n",
    "        print(f\"Executing {func.__name__} with arguments {args} and {kwargs}\")\n",
    "        result = func(*args, **kwargs)\n",
    "        print(f\"Finished {func.__name__}\")\n",
    "        return result\n",
    "    return wrapper\n",
    "\n",
    "@log_execution\n",
    "def add(a, b):\n",
    "    return a + b\n",
    "\n",
    "print(add(5, 10))"
   ]
  },
  {
   "cell_type": "code",
   "execution_count": null,
   "id": "fb681bcc",
   "metadata": {},
   "outputs": [],
   "source": []
  },
  {
   "cell_type": "markdown",
   "id": "fd92c365",
   "metadata": {},
   "source": []
  },
  {
   "cell_type": "markdown",
   "id": "d5f8db65",
   "metadata": {},
   "source": [
    "### **What is a Decorator in Python?**\n",
    "\n",
    "A **decorator** in Python is a higher-order function that allows you to modify or enhance the behavior of another function or method without changing its code. Decorators wrap a function, giving it additional functionality before or after its execution.\n",
    "\n",
    "### **How Decorators Work**\n",
    "- Decorators take a function as an argument, extend its behavior, and return a new function.\n",
    "- This is done using the `@decorator_name` syntax, which simplifies the application of decorators.\n",
    "\n",
    "### **Basic Structure of a Decorator**\n",
    "\n",
    "A decorator is simply a function that takes another function as input, defines an inner function (called a wrapper), and then returns the inner function. The inner function typically calls the original function, adding extra behavior around it.\n",
    "\n",
    "#### **Basic Example of a Decorator:**\n",
    "\n",
    "```python\n",
    "def my_decorator(func):\n",
    "    def wrapper():\n",
    "        print(\"Something before the function.\")\n",
    "        func()  # Call the original function\n",
    "        print(\"Something after the function.\")\n",
    "    return wrapper\n",
    "```\n",
    "\n",
    "To apply this decorator:\n",
    "\n",
    "```python\n",
    "@my_decorator\n",
    "def say_hello():\n",
    "    print(\"Hello!\")\n",
    "\n",
    "say_hello()\n",
    "```\n",
    "\n",
    "**Output**:\n",
    "```\n",
    "Something before the function.\n",
    "Hello!\n",
    "Something after the function.\n",
    "```\n",
    "\n",
    "In this example:\n",
    "- The `my_decorator` function is a decorator that takes `say_hello` as input.\n",
    "- It prints a message before and after the `say_hello` function is called.\n",
    "\n",
    "---\n",
    "\n",
    "### **Why Use Decorators?**\n",
    "\n",
    "Decorators are useful for:\n",
    "1. **Code Reusability**: Common functionality (like logging, timing, access control) can be written once and applied to multiple functions.\n",
    "2. **Separation of Concerns**: You can keep the core functionality of a function separate from other concerns like authentication or logging.\n",
    "3. **Code Enhancement**: Easily add or modify behavior without touching the original function code.\n",
    "\n",
    "---\n",
    "\n",
    "### **Real-World Use Cases of Decorators**\n",
    "\n",
    "#### **1. Logging with a Decorator**\n",
    "\n",
    "A common use of decorators is to log the execution of functions, helping developers track program flow.\n",
    "\n",
    "```python\n",
    "def log_execution(func):\n",
    "    def wrapper(*args, **kwargs):\n",
    "        print(f\"Executing {func.__name__} with arguments {args} and {kwargs}\")\n",
    "        result = func(*args, **kwargs)\n",
    "        print(f\"Finished {func.__name__}\")\n",
    "        return result\n",
    "    return wrapper\n",
    "\n",
    "@log_execution\n",
    "def add(a, b):\n",
    "    return a + b\n",
    "\n",
    "print(add(5, 10))\n",
    "```\n",
    "\n",
    "**Output**:\n",
    "```\n",
    "Executing add with arguments (5, 10) and {}\n",
    "Finished add\n",
    "15\n",
    "```\n",
    "\n",
    "This decorator logs the function name, its arguments, and indicates when the function has finished execution.\n",
    "\n",
    "#### **2. Timing the Execution of a Function**\n",
    "\n",
    "Decorators can be used to time the execution of functions, which is particularly helpful when optimizing performance.\n",
    "\n",
    "```python\n",
    "import time\n",
    "\n",
    "def timer(func):\n",
    "    def wrapper(*args, **kwargs):\n",
    "        start_time = time.time()\n",
    "        result = func(*args, **kwargs)\n",
    "        end_time = time.time()\n",
    "        print(f\"{func.__name__} executed in {end_time - start_time:.4f} seconds\")\n",
    "        return result\n",
    "    return wrapper\n",
    "\n",
    "@timer\n",
    "def slow_function():\n",
    "    time.sleep(2)\n",
    "    print(\"Slow function executed\")\n",
    "\n",
    "slow_function()\n",
    "```\n",
    "\n",
    "**Output**:\n",
    "```\n",
    "Slow function executed\n",
    "slow_function executed in 2.0003 seconds\n",
    "```\n",
    "\n",
    "This decorator measures the time it takes for the `slow_function` to complete.\n",
    "\n",
    "#### **3. Access Control**\n",
    "\n",
    "A decorator can be used to restrict access to certain functions based on conditions like user roles or authentication.\n",
    "\n",
    "```python\n",
    "def check_user_access(role_required):\n",
    "    def decorator(func):\n",
    "        def wrapper(user_role):\n",
    "            if user_role == role_required:\n",
    "                return func(user_role)\n",
    "            else:\n",
    "                print(\"Access Denied!\")\n",
    "        return wrapper\n",
    "    return decorator\n",
    "\n",
    "@check_user_access(\"admin\")\n",
    "def view_admin_panel(user_role):\n",
    "    print(f\"Welcome, {user_role} user. You have access to the admin panel.\")\n",
    "\n",
    "view_admin_panel(\"admin\")  # Output: Welcome, admin user. You have access to the admin panel.\n",
    "view_admin_panel(\"guest\")  # Output: Access Denied!\n",
    "```\n",
    "\n",
    "This example uses a decorator to check if the user has the appropriate role to access a function.\n",
    "\n",
    "#### **4. Memoization (Caching Results)**\n",
    "\n",
    "Memoization can be used to cache the results of expensive function calls and return the cached result when the same inputs occur again.\n",
    "\n",
    "```python\n",
    "def memoize(func):\n",
    "    cache = {}\n",
    "    \n",
    "    def wrapper(*args):\n",
    "        if args in cache:\n",
    "            return cache[args]\n",
    "        result = func(*args)\n",
    "        cache[args] = result\n",
    "        return result\n",
    "    \n",
    "    return wrapper\n",
    "\n",
    "@memoize\n",
    "def fib(n):\n",
    "    if n <= 1:\n",
    "        return n\n",
    "    return fib(n - 1) + fib(n - 2)\n",
    "\n",
    "print(fib(35))\n",
    "```\n",
    "\n",
    "In this case, the `memoize` decorator caches the results of the `fib` function, significantly improving performance for repeated function calls.\n",
    "\n",
    "---\n",
    "\n",
    "### **Decorator with Arguments**\n",
    "\n",
    "You can also create decorators that take arguments, making them even more flexible.\n",
    "\n",
    "```python\n",
    "def repeat(num_times):\n",
    "    def decorator(func):\n",
    "        def wrapper(*args, **kwargs):\n",
    "            for _ in range(num_times):\n",
    "                func(*args, **kwargs)\n",
    "        return wrapper\n",
    "    return decorator\n",
    "\n",
    "@repeat(3)\n",
    "def say_hello():\n",
    "    print(\"Hello!\")\n",
    "\n",
    "say_hello()\n",
    "```\n",
    "\n",
    "**Output**:\n",
    "```\n",
    "Hello!\n",
    "Hello!\n",
    "Hello!\n",
    "```\n",
    "\n",
    "The `repeat` decorator takes an argument (`num_times`) to control how many times the `say_hello` function is executed.\n",
    "\n",
    "---\n",
    "\n",
    "### **Chaining Multiple Decorators**\n",
    "\n",
    "You can also apply multiple decorators to a single function by stacking them.\n",
    "\n",
    "```python\n",
    "def decorator_one(func):\n",
    "    def wrapper():\n",
    "        print(\"Decorator One\")\n",
    "        func()\n",
    "    return wrapper\n",
    "\n",
    "def decorator_two(func):\n",
    "    def wrapper():\n",
    "        print(\"Decorator Two\")\n",
    "        func()\n",
    "    return wrapper\n",
    "\n",
    "@decorator_one\n",
    "@decorator_two\n",
    "def say_hello():\n",
    "    print(\"Hello!\")\n",
    "\n",
    "say_hello()\n",
    "```\n",
    "\n",
    "**Output**:\n",
    "```\n",
    "Decorator One\n",
    "Decorator Two\n",
    "Hello!\n",
    "```\n",
    "\n",
    "In this case, `decorator_one` wraps `decorator_two`, and the order of execution is from the bottom up.\n",
    "\n",
    "---\n",
    "\n",
    "### **Key Points to Remember:**\n",
    "- **@decorator syntax** is a shorthand to apply decorators to functions.\n",
    "- Decorators are often used for **cross-cutting concerns** like logging, timing, and access control.\n",
    "- **Higher-order functions**: Decorators are just functions that take another function as an argument and return a new one.\n",
    "- They can also work with **arguments**, making them more flexible for different use cases.\n"
   ]
  },
  {
   "cell_type": "markdown",
   "id": "8cfa3c93",
   "metadata": {},
   "source": [
    "### **Generators and Iterators in Python**\n",
    "\n",
    "#### **1. Iterators in Python**\n",
    "\n",
    "An **iterator** is an object in Python that allows you to traverse through all the elements in a collection (like a list, tuple, or dictionary) without having to access the elements using indexing.\n",
    "\n",
    "- **Iterator protocol**: An object must implement two methods to become an iterator:\n",
    "  - `__iter__()` - returns the iterator object itself (this allows the object to be used in a loop).\n",
    "  - `__next__()` - returns the next element from the collection. When no more items are available, it raises a `StopIteration` exception.\n",
    "\n",
    "#### **How Iterators Work:**\n",
    "```python\n",
    "# Example: Using an iterator manually\n",
    "my_list = [1, 2, 3, 4]\n",
    "iterator = iter(my_list)\n",
    "\n",
    "print(next(iterator))  # Output: 1\n",
    "print(next(iterator))  # Output: 2\n",
    "print(next(iterator))  # Output: 3\n",
    "print(next(iterator))  # Output: 4\n",
    "# next(iterator) would raise StopIteration here\n",
    "```\n",
    "\n",
    "In this example, `iter(my_list)` creates an iterator object from the list `my_list`. Using `next(iterator)` allows you to manually get the next item in the sequence.\n",
    "\n",
    "#### **Use Cases for Iterators:**\n",
    "- **Lazy evaluation**: Iterators are useful when working with large datasets because they don’t load everything into memory at once.\n",
    "- **Stream processing**: Iterators are helpful in scenarios where you need to process items as they come in, such as reading lines from a file.\n",
    "- **Custom data structures**: You can create custom iterators for your data structures to allow for custom iteration behavior.\n",
    "\n",
    "---\n",
    "\n",
    "#### **2. Generators in Python**\n",
    "\n",
    "A **generator** is a simpler way to create iterators. Instead of writing the `__iter__()` and `__next__()` methods manually, you can use a function with the `yield` statement to define a generator.\n",
    "\n",
    "- **Generators** produce items one at a time and only when requested (lazy evaluation). They keep track of where they left off between executions, which makes them memory-efficient.\n",
    "\n",
    "#### **Difference Between Generators and Regular Functions:**\n",
    "- **Regular functions** return a value and then terminate.\n",
    "- **Generators** use `yield` to return a value and pause, resuming from where they left off the next time they are called.\n",
    "\n",
    "#### **Example of a Generator:**\n",
    "```python\n",
    "def simple_generator():\n",
    "    yield 1\n",
    "    yield 2\n",
    "    yield 3\n",
    "\n",
    "gen = simple_generator()\n",
    "\n",
    "print(next(gen))  # Output: 1\n",
    "print(next(gen))  # Output: 2\n",
    "print(next(gen))  # Output: 3\n",
    "# next(gen) would raise StopIteration here\n",
    "```\n",
    "\n",
    "In this example, the `simple_generator()` function yields values one at a time. The function is paused at each `yield` statement and resumes from where it left off when `next()` is called.\n",
    "\n",
    "#### **Key Properties of Generators:**\n",
    "- **Memory-efficient**: They generate items on-the-fly, so they are useful for working with large or infinite sequences.\n",
    "- **Infinite sequences**: Generators can be used to generate an infinite sequence of values because they don’t store all values in memory at once.\n",
    "\n",
    "#### **Example of a Generator for an Infinite Sequence:**\n",
    "```python\n",
    "def infinite_sequence():\n",
    "    num = 0\n",
    "    while True:\n",
    "        yield num\n",
    "        num += 1\n",
    "\n",
    "gen = infinite_sequence()\n",
    "print(next(gen))  # Output: 0\n",
    "print(next(gen))  # Output: 1\n",
    "print(next(gen))  # Output: 2\n",
    "# This can go on indefinitely\n",
    "```\n",
    "\n",
    "#### **Use Cases for Generators:**\n",
    "1. **Memory Efficiency**: When you’re working with large datasets, such as reading large files, generators allow you to process items one at a time without loading the entire dataset into memory.\n",
    "   - Example: Reading a file line by line without loading the entire file into memory:\n",
    "     ```python\n",
    "     def read_large_file(file_path):\n",
    "         with open(file_path, \"r\") as file:\n",
    "             for line in file:\n",
    "                 yield line\n",
    "\n",
    "     for line in read_large_file(\"large_file.txt\"):\n",
    "         process(line)  # Process one line at a time\n",
    "     ```\n",
    "\n",
    "2. **Pipelining**: Generators are commonly used in data processing pipelines. Since they work lazily, you can chain multiple generators to transform or filter data step by step.\n",
    "\n",
    "   - Example: Processing a stream of numbers, filtering out even numbers:\n",
    "     ```python\n",
    "     def number_stream():\n",
    "         num = 0\n",
    "         while True:\n",
    "             yield num\n",
    "             num += 1\n",
    "\n",
    "     def filter_even_numbers(nums):\n",
    "         for num in nums:\n",
    "             if num % 2 == 0:\n",
    "                 yield num\n",
    "\n",
    "     even_numbers = filter_even_numbers(number_stream())\n",
    "\n",
    "     for even in even_numbers:\n",
    "         print(even)  # Output: 0, 2, 4, 6, ...\n",
    "     ```\n",
    "\n",
    "3. **On-Demand Computation**: Generators are great when computation is expensive, and you don’t need all results at once.\n",
    "   - Example: Calculating Fibonacci numbers lazily:\n",
    "     ```python\n",
    "     def fibonacci():\n",
    "         a, b = 0, 1\n",
    "         while True:\n",
    "             yield a\n",
    "             a, b = b, a + b\n",
    "\n",
    "     fib_gen = fibonacci()\n",
    "     print(next(fib_gen))  # Output: 0\n",
    "     print(next(fib_gen))  # Output: 1\n",
    "     print(next(fib_gen))  # Output: 1\n",
    "     ```\n",
    "\n",
    "---\n",
    "\n",
    "### **Generators vs Iterators:**\n",
    "\n",
    "| **Feature**         | **Iterator**                                          | **Generator**                                                   |\n",
    "|---------------------|-------------------------------------------------------|-----------------------------------------------------------------|\n",
    "| **Creation**        | Implements `__iter__()` and `__next__()` methods.      | Uses a function and `yield` keyword.                            |\n",
    "| **Memory Usage**    | Can be memory-intensive if the entire collection is loaded into memory. | Memory-efficient; only one item is generated at a time.         |\n",
    "| **State Management**| Iterator keeps track of its state explicitly.         | Generators automatically resume execution where they left off.  |\n",
    "| **Code Complexity** | Requires more code to implement.                      | Easier and more concise to implement using `yield`.             |\n",
    "| **Use Case**        | Suitable for smaller collections or custom iteration. | Suitable for large datasets, infinite sequences, and lazy evaluation. |\n",
    "\n",
    "---\n",
    "\n",
    "### **Key Takeaways:**\n",
    "- **Iterators** provide a protocol for sequentially accessing elements of a collection.\n",
    "- **Generators** are a special type of iterator, allowing for more efficient and lazy data generation.\n",
    "- **Use Case**: Generators are ideal when you need to process large datasets, create pipelines, or work with infinite sequences."
   ]
  },
  {
   "cell_type": "markdown",
   "id": "f9a8e8c8",
   "metadata": {},
   "source": [
    "### **Exception Handling in Python**\n",
    "\n",
    "**Exception handling** in Python allows you to manage errors gracefully during runtime, ensuring that your program can continue running or fail with a meaningful message rather than crashing abruptly.\n",
    "\n",
    "#### **Basic Structure of Exception Handling:**\n",
    "- **try**: The block of code where you suspect an error might occur.\n",
    "- **except**: The block of code that will run if an exception occurs.\n",
    "- **else**: (Optional) Executes if no exception occurs.\n",
    "- **finally**: (Optional) Executes no matter what, whether an exception occurred or not.\n",
    "\n",
    "#### **Basic Example of Exception Handling:**\n",
    "```python\n",
    "try:\n",
    "    x = 1 / 0  # Will raise a ZeroDivisionError\n",
    "except ZeroDivisionError as e:\n",
    "    print(\"Error: Cannot divide by zero!\")\n",
    "else:\n",
    "    print(\"No errors occurred.\")\n",
    "finally:\n",
    "    print(\"This will always execute.\")\n",
    "```\n",
    "\n",
    "**Output**:\n",
    "```\n",
    "Error: Cannot divide by zero!\n",
    "This will always execute.\n",
    "```\n",
    "\n",
    "---\n",
    "\n",
    "### **Custom Exceptions in Python**\n",
    "\n",
    "Sometimes, the built-in exceptions are not sufficient for your application's specific needs. In such cases, you can define your own **custom exceptions**.\n",
    "\n",
    "#### **How to Create a Custom Exception:**\n",
    "- Custom exceptions are created by subclassing Python’s built-in `Exception` class (or any of its child classes like `ValueError`, `TypeError`, etc.).\n",
    "\n",
    "#### **Basic Structure of a Custom Exception:**\n",
    "```python\n",
    "class MyCustomError(Exception):\n",
    "    pass\n",
    "\n",
    "# Example of raising a custom exception\n",
    "def check_positive(num):\n",
    "    if num < 0:\n",
    "        raise MyCustomError(\"Negative number is not allowed!\")\n",
    "    return num\n",
    "\n",
    "try:\n",
    "    check_positive(-5)\n",
    "except MyCustomError as e:\n",
    "    print(e)\n",
    "```\n",
    "\n",
    "**Output**:\n",
    "```\n",
    "Negative number is not allowed!\n",
    "```\n",
    "\n",
    "Here, `MyCustomError` is a simple custom exception class that doesn't add any extra functionality but serves the purpose of providing a more descriptive error specific to the program's logic.\n",
    "\n",
    "---\n",
    "\n",
    "### **Custom Exceptions with Additional Functionality**\n",
    "\n",
    "You can extend custom exceptions by adding custom attributes or methods to make them more informative or useful.\n",
    "\n",
    "#### **Example: Adding More Details to a Custom Exception:**\n",
    "```python\n",
    "class InvalidAgeError(Exception):\n",
    "    def __init__(self, age, message=\"Age must be between 0 and 120\"):\n",
    "        self.age = age\n",
    "        self.message = message\n",
    "        super().__init__(self.message)\n",
    "\n",
    "    def __str__(self):\n",
    "        return f'{self.age} -> {self.message}'\n",
    "\n",
    "def check_age(age):\n",
    "    if not (0 <= age <= 120):\n",
    "        raise InvalidAgeError(age)\n",
    "\n",
    "try:\n",
    "    check_age(150)\n",
    "except InvalidAgeError as e:\n",
    "    print(e)\n",
    "```\n",
    "\n",
    "**Output**:\n",
    "```\n",
    "150 -> Age must be between 0 and 120\n",
    "```\n",
    "\n",
    "In this example:\n",
    "- `InvalidAgeError` is a custom exception that takes both the invalid `age` and a custom `message`.\n",
    "- The `__str__` method is overridden to provide a meaningful error message when the exception is raised.\n",
    "\n",
    "---\n",
    "\n",
    "### **Use Cases for Custom Exceptions**\n",
    "\n",
    "#### 1. **Domain-Specific Exceptions**:\n",
    "   When you have a specific business logic error that can’t be captured by Python’s built-in exceptions, custom exceptions make it easier to express errors meaningfully.\n",
    "\n",
    "   Example:\n",
    "   ```python\n",
    "   class InsufficientFundsError(Exception):\n",
    "       def __init__(self, balance, amount):\n",
    "           super().__init__(f\"Attempted to withdraw {amount}, but only {balance} is available.\")\n",
    "\n",
    "   def withdraw(balance, amount):\n",
    "       if amount > balance:\n",
    "           raise InsufficientFundsError(balance, amount)\n",
    "       return balance - amount\n",
    "\n",
    "   try:\n",
    "       withdraw(100, 150)\n",
    "   except InsufficientFundsError as e:\n",
    "       print(e)\n",
    "   ```\n",
    "\n",
    "   **Output**:\n",
    "   ```\n",
    "   Attempted to withdraw 150, but only 100 is available.\n",
    "   ```\n",
    "\n",
    "#### 2. **Input Validation**:\n",
    "   Custom exceptions are often used to ensure that input values meet specific criteria. For instance, if you're building an application that processes customer data, you can raise specific exceptions for invalid inputs.\n",
    "\n",
    "#### 3. **Custom APIs or Libraries**:\n",
    "   When building custom libraries or APIs, custom exceptions provide users of the API with more meaningful feedback about errors.\n",
    "\n",
    "#### 4. **Complex Applications**:\n",
    "   In large-scale applications, custom exceptions can be organized into a hierarchy to handle errors more precisely. This helps in debugging by providing more specific error handling for different components.\n",
    "\n",
    "---\n",
    "\n",
    "### **Best Practices for Custom Exceptions**\n",
    "1. **Keep it Simple**: Only create a custom exception when it provides additional clarity or functionality beyond what built-in exceptions can offer.\n",
    "   \n",
    "2. **Inherit from Exception**: Always derive your custom exception from the built-in `Exception` class or one of its subclasses, like `ValueError` or `TypeError`.\n",
    "\n",
    "3. **Provide Descriptive Names**: Name your custom exceptions clearly to indicate the type of error being represented.\n",
    "\n",
    "4. **Add Useful Information**: If applicable, add attributes or methods that provide more context about the error, such as error codes, input values, or suggested fixes.\n",
    "\n",
    "---\n",
    "\n",
    "### **Exception Hierarchy Example**\n",
    "\n",
    "If your application is large and you have multiple custom exceptions, you can organize them into a hierarchy for easier error handling.\n",
    "\n",
    "```python\n",
    "class ApplicationError(Exception):\n",
    "    \"\"\"Base class for all application errors.\"\"\"\n",
    "    pass\n",
    "\n",
    "class DatabaseError(ApplicationError):\n",
    "    \"\"\"Raised when a database operation fails.\"\"\"\n",
    "    pass\n",
    "\n",
    "class ValidationError(ApplicationError):\n",
    "    \"\"\"Raised when input validation fails.\"\"\"\n",
    "    pass\n",
    "\n",
    "# Raise a DatabaseError\n",
    "try:\n",
    "    raise DatabaseError(\"Failed to connect to database.\")\n",
    "except ApplicationError as e:\n",
    "    print(f\"Caught an application error: {e}\")\n",
    "```\n",
    "\n",
    "Here, both `DatabaseError` and `ValidationError` inherit from `ApplicationError`, which makes it easier to catch all application-specific errors at once if needed.\n",
    "\n",
    "### **Key Points to Remember:**\n",
    "- **Built-in exceptions**: Use built-in exceptions for common errors (e.g., `ValueError`, `TypeError`).\n",
    "- **Custom exceptions**: Create custom exceptions for domain-specific errors to provide more meaningful error handling.\n",
    "- **Hierarchical exceptions**: For large applications, use exception hierarchies to manage errors in different parts of the program.\n",
    "\n",
    "Custom exceptions make your code more robust, readable, and maintainable by providing clearer and more precise error messages tailored to your application’s needs."
   ]
  },
  {
   "cell_type": "markdown",
   "id": "baaf38da",
   "metadata": {},
   "source": [
    "### **Unit Testing in Python with `pytest`**\n",
    "\n",
    "**Unit testing** is a software testing technique where individual components or functions of a program are tested to ensure that they are working correctly. In Python, one of the most popular frameworks for unit testing is `pytest`.\n",
    "\n",
    "#### **What is `pytest`?**\n",
    "- **`pytest`** is a testing framework that allows for simple unit tests as well as more complex functional tests.\n",
    "- It is easy to write, read, and extend compared to other testing libraries such as `unittest`.\n",
    "- `pytest` automatically finds tests in Python files and executes them.\n",
    "  \n",
    "#### **Basic Structure of Unit Testing with `pytest`**\n",
    "\n",
    "A test file should follow the naming convention `test_*.py` or `*_test.py`. Each function that you want to test should be prefixed with `test_`.\n",
    "\n",
    "#### **Example: Simple Unit Test Using `pytest`**\n",
    "\n",
    "1. **Application Code:**\n",
    "```python\n",
    "# file: app.py\n",
    "def add(a, b):\n",
    "    return a + b\n",
    "\n",
    "def divide(a, b):\n",
    "    if b == 0:\n",
    "        raise ValueError(\"Cannot divide by zero!\")\n",
    "    return a / b\n",
    "```\n",
    "\n",
    "2. **Test Code:**\n",
    "```python\n",
    "# file: test_app.py\n",
    "import pytest\n",
    "from app import add, divide\n",
    "\n",
    "def test_add():\n",
    "    assert add(2, 3) == 5\n",
    "    assert add(-1, 1) == 0\n",
    "    assert add(0, 0) == 0\n",
    "\n",
    "def test_divide():\n",
    "    assert divide(6, 3) == 2\n",
    "    assert divide(5, 2) == 2.5\n",
    "\n",
    "    with pytest.raises(ValueError):\n",
    "        divide(1, 0)\n",
    "```\n",
    "\n",
    "#### **Explanation:**\n",
    "- `test_add()`: This test checks that the `add()` function returns the correct sum for different inputs.\n",
    "- `test_divide()`: This test checks that the `divide()` function works correctly and also verifies that it raises a `ValueError` when attempting to divide by zero using `pytest.raises()`.\n",
    "\n",
    "#### **Running the Tests:**\n",
    "To run the tests, navigate to the directory containing the test file and run:\n",
    "\n",
    "```bash\n",
    "pytest\n",
    "```\n",
    "\n",
    "`pytest` will automatically discover and run all tests that follow the naming conventions.\n",
    "\n",
    "---\n",
    "\n",
    "### **Advanced Features of `pytest`**\n",
    "\n",
    "#### **1. Parametrized Tests**\n",
    "\n",
    "If you want to run the same test with different input values, you can use `pytest.mark.parametrize`.\n",
    "\n",
    "```python\n",
    "@pytest.mark.parametrize(\"a, b, result\", [(2, 3, 5), (-1, 1, 0), (0, 0, 0)])\n",
    "def test_add(a, b, result):\n",
    "    assert add(a, b) == result\n",
    "```\n",
    "\n",
    "This will run `test_add` three times with different values for `a`, `b`, and `result`.\n",
    "\n",
    "#### **2. Testing for Exceptions**\n",
    "\n",
    "You can test whether a specific exception is raised using the `pytest.raises()` context manager:\n",
    "\n",
    "```python\n",
    "def test_divide_by_zero():\n",
    "    with pytest.raises(ValueError, match=\"Cannot divide by zero!\"):\n",
    "        divide(1, 0)\n",
    "```\n",
    "\n",
    "Here, `pytest.raises()` checks that the `ValueError` is raised, and `match` checks that the error message contains the correct text.\n",
    "\n",
    "---\n",
    "\n",
    "### **Fixtures in `pytest`**\n",
    "\n",
    "**Fixtures** are a way to provide a fixed baseline for tests, such as providing test data, initializing objects, or setting up resources before tests run.\n",
    "\n",
    "#### **Example of Fixtures:**\n",
    "```python\n",
    "# file: test_fixture.py\n",
    "import pytest\n",
    "\n",
    "@pytest.fixture\n",
    "def numbers():\n",
    "    return (10, 5)\n",
    "\n",
    "def test_add(numbers):\n",
    "    a, b = numbers\n",
    "    assert add(a, b) == 15\n",
    "\n",
    "def test_divide(numbers):\n",
    "    a, b = numbers\n",
    "    assert divide(a, b) == 2\n",
    "```\n",
    "\n",
    "In this example, the `numbers` fixture provides the input `(10, 5)` for the `test_add()` and `test_divide()` functions. Fixtures make tests cleaner and more maintainable by reducing the amount of repetitive code.\n",
    "\n",
    "---\n",
    "\n",
    "### **Mocking in `pytest`**\n",
    "\n",
    "In some cases, you may need to test functions that interact with external systems (e.g., databases, APIs). **Mocking** is a technique to replace real objects with mock objects that simulate their behavior.\n",
    "\n",
    "You can use the `unittest.mock` library, which is compatible with `pytest`.\n",
    "\n",
    "#### **Example of Mocking:**\n",
    "```python\n",
    "from unittest.mock import patch\n",
    "\n",
    "def get_data_from_api():\n",
    "    # Imagine this function fetches data from an external API\n",
    "    return {\"data\": \"real_data\"}\n",
    "\n",
    "def process_data():\n",
    "    data = get_data_from_api()\n",
    "    return f\"Processed {data['data']}\"\n",
    "\n",
    "@patch('app.get_data_from_api', return_value={\"data\": \"mock_data\"})\n",
    "def test_process_data(mock_get_data):\n",
    "    result = process_data()\n",
    "    assert result == \"Processed mock_data\"\n",
    "```\n",
    "\n",
    "In this example, the `get_data_from_api` function is mocked to return `{\"data\": \"mock_data\"}` instead of calling the real API. This way, the test is isolated and doesn't rely on external systems.\n",
    "\n",
    "---\n",
    "\n",
    "### **Test Coverage**\n",
    "\n",
    "To ensure that your tests cover most or all of your code, you can use the `pytest-cov` plugin to measure **test coverage**.\n",
    "\n",
    "#### **Installing `pytest-cov`:**\n",
    "```bash\n",
    "pip install pytest-cov\n",
    "```\n",
    "\n",
    "#### **Running Tests with Coverage:**\n",
    "```bash\n",
    "pytest --cov=app\n",
    "```\n",
    "\n",
    "This will show a summary of how much of your code was covered by the tests.\n",
    "\n",
    "---\n",
    "\n",
    "### **Key Benefits of `pytest`:**\n",
    "- **Simple and readable**: Writing tests in `pytest` is straightforward and the output is easy to understand.\n",
    "- **Powerful fixtures**: Reusable setups that can be shared across multiple test functions.\n",
    "- **Parametrization**: Allows running the same test logic across multiple sets of inputs.\n",
    "- **Rich ecosystem**: Many plugins (like `pytest-cov` for coverage, `pytest-mock` for mocking) enhance functionality.\n",
    "\n",
    "### **When to Use Unit Testing:**\n",
    "- **Small, independent functions**: Unit tests are designed to test small units of code in isolation.\n",
    "- **Regression testing**: Unit tests ensure that new changes do not break existing functionality.\n",
    "- **Edge cases**: Testing edge cases (like dividing by zero) ensures your code is robust and handles all potential inputs.\n",
    "\n",
    "---\n",
    "\n",
    "### **Summary of Key Features:**\n",
    "- **Assertion**: `assert` keyword for checking conditions.\n",
    "- **Parametrization**: Reuse tests with multiple inputs using `@pytest.mark.parametrize`.\n",
    "- **Fixtures**: Set up shared test data or context with `@pytest.fixture`.\n",
    "- **Exception Handling**: Use `pytest.raises` to check for exceptions.\n",
    "- **Coverage**: Measure test coverage using the `pytest-cov` plugin.\n",
    "\n",
    "`pytest` makes writing and running unit tests in Python efficient, flexible, and easy to maintain, making it an essential tool for any Python project."
   ]
  },
  {
   "cell_type": "code",
   "execution_count": null,
   "id": "692b6627",
   "metadata": {},
   "outputs": [],
   "source": [
    "import threading\n",
    "\n",
    "def print_number():\n",
    "    for i in range(10):\n",
    "        print(i)\n",
    "\n",
    "thread = threading.Thread(target=print_number)\n",
    "thread.start()"
   ]
  },
  {
   "cell_type": "code",
   "execution_count": null,
   "id": "b6985eec",
   "metadata": {},
   "outputs": [],
   "source": [
    "#thread lock -- one thread accesses a shared resources at a time\n",
    "\n",
    "import threading\n",
    "\n",
    "lock = threading.Lock()\n",
    "c = 0\n",
    "\n",
    "def increment():\n",
    "    global c\n",
    "    with lock:\n",
    "        c += 1\n",
    "        print(c)\n",
    "\n",
    "threads = []\n",
    "for _ in range(10):\n",
    "    thread = threading.Thread(target=increment)\n",
    "    thread.start()\n",
    "    threads.append(thread)\n",
    "\n",
    "for th in threads:\n",
    "    th.join()\n"
   ]
  },
  {
   "cell_type": "code",
   "execution_count": 10,
   "id": "6b311024",
   "metadata": {},
   "outputs": [],
   "source": [
    "def func_exmpl(*args, **kwargs):\n",
    "    print(f'{args} = {kwargs}')\n",
    "    for arg in args:\n",
    "        print(f'arg = {arg}')\n",
    "\n",
    "    for k in kwargs:\n",
    "        print(f'for keyward argd {k} = {kwargs[k]}')"
   ]
  },
  {
   "cell_type": "code",
   "execution_count": 11,
   "id": "9933ffb1",
   "metadata": {},
   "outputs": [
    {
     "name": "stdout",
     "output_type": "stream",
     "text": [
      "(1, 2, 24) = {'a': 4, 'b': 6}\n",
      "arg = 1\n",
      "arg = 2\n",
      "arg = 24\n",
      "for keyward argd a = 4\n",
      "for keyward argd b = 6\n"
     ]
    }
   ],
   "source": [
    "func_exmpl(1,2,24,a=4,b=6)"
   ]
  },
  {
   "cell_type": "code",
   "execution_count": 1,
   "id": "cbb4dfc2",
   "metadata": {},
   "outputs": [
    {
     "name": "stdout",
     "output_type": "stream",
     "text": [
      "[0, 1, 1, 2, 3]\n"
     ]
    }
   ],
   "source": [
    "def fibonacci(n):\n",
    "    a, b = 0, 1\n",
    "    result = []\n",
    "    while len(result) < n:\n",
    "        result.append(a)\n",
    "        a, b = b, a + b\n",
    "    return result\n",
    "\n",
    "# Example usage\n",
    "print(fibonacci(5)) "
   ]
  },
  {
   "cell_type": "code",
   "execution_count": 10,
   "id": "e94bf8a8",
   "metadata": {},
   "outputs": [
    {
     "name": "stdout",
     "output_type": "stream",
     "text": [
      "24\n"
     ]
    }
   ],
   "source": [
    "def factorial(n):\n",
    "    if n == 0 or n == 1:\n",
    "        return 1\n",
    "    return n * factorial(n - 1)\n",
    "\n",
    "# Example usage\n",
    "print(factorial(4))  # Output: 120"
   ]
  },
  {
   "cell_type": "code",
   "execution_count": 11,
   "id": "743783b6",
   "metadata": {},
   "outputs": [
    {
     "name": "stdout",
     "output_type": "stream",
     "text": [
      "24\n"
     ]
    }
   ],
   "source": [
    "def factorial(n):\n",
    "    if n == 0 or n == 1:\n",
    "        return 1\n",
    "    return n * factorial1(n - 1)\n",
    "\n",
    "def factorial1(n):\n",
    "    if n == 0 or n == 1:\n",
    "        return 1\n",
    "    return n * factorial(n - 1)\n",
    "# Example usage\n",
    "print(factorial(4))"
   ]
  },
  {
   "cell_type": "code",
   "execution_count": 12,
   "id": "cbabd8e0",
   "metadata": {},
   "outputs": [
    {
     "name": "stdout",
     "output_type": "stream",
     "text": [
      "2 1 0 ----- 1\n",
      "3 1 1 ----- 2\n",
      "4 2 1 ----- 3\n",
      "[0, 1, 1, 2, 3]\n"
     ]
    }
   ],
   "source": [
    "def fibonacci(n):\n",
    "    sq =[0,1]\n",
    "    \n",
    "    for i in range(2,n):\n",
    "        print(i,sq[-1],sq[-2],'-----',sq[-1]+sq[-2])\n",
    "        sq.append(sq[-1]+sq[-2])\n",
    "\n",
    "    return sq[:n]\n",
    "\n",
    "# Example usage\n",
    "print(fibonacci(5))  # Output: 120"
   ]
  },
  {
   "cell_type": "code",
   "execution_count": 3,
   "id": "29a95805",
   "metadata": {},
   "outputs": [
    {
     "name": "stdout",
     "output_type": "stream",
     "text": [
      "[3, 4]\n"
     ]
    }
   ],
   "source": [
    "def common_elements(list1, list2):\n",
    "    return list(set(list1) & set(list2))\n",
    "\n",
    "# Example usage\n",
    "list1 = [1, 2, 3, 4]\n",
    "list2 = [3, 4, 5, 6]\n",
    "print(common_elements(list1, list2))  # Output: [3, 4]\"\""
   ]
  },
  {
   "cell_type": "code",
   "execution_count": 4,
   "id": "febf0f9b",
   "metadata": {},
   "outputs": [
    {
     "name": "stdout",
     "output_type": "stream",
     "text": [
      "2\n"
     ]
    }
   ],
   "source": [
    "def binary_search(arr, target):\n",
    "    low, high = 0, len(arr) - 1\n",
    "    while low <= high:\n",
    "        mid = (low + high) // 2\n",
    "        if arr[mid] == target:\n",
    "            return mid\n",
    "        elif arr[mid] < target:\n",
    "            low = mid + 1\n",
    "        else:\n",
    "            high = mid - 1\n",
    "    return -1\n",
    "\n",
    "# Example usage\n",
    "arr = [1, 3, 5, 7, 9]\n",
    "print(binary_search(arr, 5))  # Output: 2"
   ]
  },
  {
   "cell_type": "code",
   "execution_count": 7,
   "id": "e3ebef93",
   "metadata": {},
   "outputs": [
    {
     "name": "stdout",
     "output_type": "stream",
     "text": [
      "amanaplanacanalpanama amanaplanacanalpanama\n"
     ]
    },
    {
     "data": {
      "text/plain": [
       "True"
      ]
     },
     "execution_count": 7,
     "metadata": {},
     "output_type": "execute_result"
    }
   ],
   "source": [
    "def is_palin(s):\n",
    "    s = s.lower().replace(' ','')\n",
    "    return s == s[::-1]\n",
    "\n",
    "is_palin('a man a plan a canal panama')"
   ]
  },
  {
   "cell_type": "code",
   "execution_count": 18,
   "id": "68eac3db",
   "metadata": {},
   "outputs": [
    {
     "name": "stdout",
     "output_type": "stream",
     "text": [
      "6\n"
     ]
    },
    {
     "data": {
      "text/plain": [
       "4"
      ]
     },
     "execution_count": 18,
     "metadata": {},
     "output_type": "execute_result"
    }
   ],
   "source": [
    "def missing(l):\n",
    "    n = len(l)+1\n",
    "    print(n)\n",
    "    total = n * (n+1) //2\n",
    "    \n",
    "    miss= total-sum(l)\n",
    "    \n",
    "    return miss\n",
    "\n",
    "missing([1,2,3,5,6])\n"
   ]
  },
  {
   "cell_type": "code",
   "execution_count": 22,
   "id": "9684447b",
   "metadata": {},
   "outputs": [
    {
     "data": {
      "text/plain": [
       "[1, 2]"
      ]
     },
     "execution_count": 22,
     "metadata": {},
     "output_type": "execute_result"
    }
   ],
   "source": [
    "#duplication\n",
    "\n",
    "def find_dup(l):\n",
    "    return list(set([x for x in l if l.count(x) >1]))\n",
    "\n",
    "find_dup([1,2,3,4,2,1])"
   ]
  },
  {
   "cell_type": "code",
   "execution_count": null,
   "id": "2db871c4",
   "metadata": {},
   "outputs": [],
   "source": []
  },
  {
   "cell_type": "code",
   "execution_count": 14,
   "id": "6b26489a",
   "metadata": {},
   "outputs": [
    {
     "data": {
      "text/plain": [
       "True"
      ]
     },
     "execution_count": 14,
     "metadata": {},
     "output_type": "execute_result"
    }
   ],
   "source": [
    "def is_prime(n):\n",
    "    if n<=1: return False\n",
    "    for i in range(2,n):\n",
    "        if n%i  == 0:\n",
    "            return False\n",
    "        return True\n",
    "is_prime(5)"
   ]
  },
  {
   "cell_type": "code",
   "execution_count": 30,
   "id": "43031be9",
   "metadata": {},
   "outputs": [
    {
     "data": {
      "text/plain": [
       "300"
      ]
     },
     "execution_count": 30,
     "metadata": {},
     "output_type": "execute_result"
    }
   ],
   "source": [
    "def value_sum(d):\n",
    "    s = 0 \n",
    "    for i in d.values():\n",
    "        s += i \n",
    "    return s\n",
    "d = {'a':100, \"n\":200}\n",
    "value_sum(d)"
   ]
  },
  {
   "cell_type": "code",
   "execution_count": 32,
   "id": "a60daa33",
   "metadata": {},
   "outputs": [
    {
     "data": {
      "text/plain": [
       "{100: 'a', 200: 'n'}"
      ]
     },
     "execution_count": 32,
     "metadata": {},
     "output_type": "execute_result"
    }
   ],
   "source": [
    "def swap_key_values(d):\n",
    "    return {v:k for k,v in d.items()}\n",
    "\n",
    "swap_key_values(d)"
   ]
  },
  {
   "cell_type": "markdown",
   "id": "e4868a96",
   "metadata": {},
   "source": [
    "To define a class with a generator that iterates over numbers divisible by 7 between a given range (from 0 to `n`), you can use the following approach:\n",
    "\n",
    "### Code:\n",
    "\n",
    "```python\n",
    "class DivisibleBySeven:\n",
    "    def __init__(self, n):\n",
    "        self.n = n\n",
    "\n",
    "    def generator(self):\n",
    "        for i in range(0, self.n + 1):\n",
    "            if i % 7 == 0:\n",
    "                yield i\n",
    "\n",
    "# Example usage:\n",
    "n = 50\n",
    "divisible_by_seven = DivisibleBySeven(n)\n",
    "for num in divisible_by_seven.generator():\n",
    "    print(num)\n",
    "```\n",
    "\n",
    "### Explanation:\n",
    "1. **Class Definition**: The `DivisibleBySeven` class takes an integer `n` as an argument in its constructor (`__init__` method), representing the upper limit of the range.\n",
    "   \n",
    "2. **Generator Method**: The `generator` method uses a `for` loop to iterate from `0` to `n`. For each number in the range, it checks if the number is divisible by 7 (`i % 7 == 0`). If so, the number is yielded by the generator.\n",
    "\n",
    "3. **Usage**: The class can be instantiated with any value of `n`, and the `generator` method is used to iterate over the numbers divisible by 7 in the range.\n",
    "\n",
    "### Output:\n",
    "For `n = 50`, the output will be:\n",
    "```\n",
    "0\n",
    "7\n",
    "14\n",
    "21\n",
    "28\n",
    "35\n",
    "42\n",
    "49\n",
    "```"
   ]
  },
  {
   "cell_type": "code",
   "execution_count": 2,
   "id": "8da4f7cd",
   "metadata": {},
   "outputs": [
    {
     "name": "stdout",
     "output_type": "stream",
     "text": [
      "{'h': 1, 'e': 1, 'l': 3, 'o': 2, ' ': 1, 'w': 1, 'r': 1, 'd': 1}\n"
     ]
    }
   ],
   "source": [
    "def count_char_frequencies(s):\n",
    "    freq_dict = {}\n",
    "    for char in s:\n",
    "        if char in freq_dict:\n",
    "            freq_dict[char] += 1\n",
    "        else:\n",
    "            freq_dict[char] = 1\n",
    "    return freq_dict\n",
    "\n",
    "# Example usage:\n",
    "input_string = \"hello world\"\n",
    "frequencies = count_char_frequencies(input_string)\n",
    "print(frequencies)"
   ]
  },
  {
   "cell_type": "code",
   "execution_count": 20,
   "id": "06a06c69",
   "metadata": {},
   "outputs": [
    {
     "name": "stdout",
     "output_type": "stream",
     "text": [
      "{'banana': 5, 'orange': 7, 'apple': 10}\n"
     ]
    }
   ],
   "source": [
    "def sort_dict_by_values(d):\n",
    "    return dict(sorted(d.items(), key=lambda item: item[1]))\n",
    "\n",
    "# Example usage:\n",
    "my_dict = {'apple': 10, 'banana': 5, 'orange': 7}\n",
    "sorted_dict = sort_dict_by_values(my_dict)\n",
    "print(sorted_dict)"
   ]
  },
  {
   "cell_type": "code",
   "execution_count": 5,
   "id": "4cf120f3",
   "metadata": {},
   "outputs": [
    {
     "name": "stdout",
     "output_type": "stream",
     "text": [
      "{'apple': 10, 'banana': 7, 'orange': 5}\n"
     ]
    }
   ],
   "source": [
    "def sort_dict_by_values(d):\n",
    "    return dict(sorted(d.items(), key=lambda item: item[0]))\n",
    "\n",
    "# Example usage:\n",
    "my_dict = {'apple': 10, 'orange': 5, 'banana': 7}\n",
    "sorted_dict = sort_dict_by_values(my_dict)\n",
    "print(sorted_dict)"
   ]
  },
  {
   "cell_type": "code",
   "execution_count": 6,
   "id": "fafa931e",
   "metadata": {},
   "outputs": [
    {
     "name": "stdout",
     "output_type": "stream",
     "text": [
      "Function 'say_hello' is being called.\n",
      "Hello, Alice!\n",
      "Function 'say_hello' finished execution.\n"
     ]
    }
   ],
   "source": [
    "\n",
    "def log_decorator(func):\n",
    "    def wrapper(*args, **kwargs):\n",
    "        print(f\"Function '{func.__name__}' is being called.\")\n",
    "        result = func(*args, **kwargs)\n",
    "        print(f\"Function '{func.__name__}' finished execution.\")\n",
    "        return result\n",
    "    return wrapper\n",
    "\n",
    "# Applying the decorator\n",
    "@log_decorator\n",
    "def say_hello(name):\n",
    "    print(f\"Hello, {name}!\")\n",
    "\n",
    "# Example usage:\n",
    "say_hello(\"Alice\")\n"
   ]
  },
  {
   "cell_type": "code",
   "execution_count": 11,
   "id": "d5e0d14f",
   "metadata": {},
   "outputs": [
    {
     "data": {
      "text/plain": [
       "5"
      ]
     },
     "execution_count": 11,
     "metadata": {},
     "output_type": "execute_result"
    }
   ],
   "source": [
    "x = 10\n",
    "def a(): \n",
    "  \n",
    "  global x \n",
    "  x = 5\n",
    "  return x\n",
    "a()"
   ]
  },
  {
   "cell_type": "code",
   "execution_count": 13,
   "id": "39a1153c",
   "metadata": {},
   "outputs": [
    {
     "name": "stdout",
     "output_type": "stream",
     "text": [
      "number\n"
     ]
    }
   ],
   "source": [
    "d = {\n",
    "    \"key\":\"value\",\n",
    "    3.4: \"number\",\n",
    "    (1,2): \"tuple\"\n",
    "}\n",
    "print(d[3.4])"
   ]
  },
  {
   "cell_type": "code",
   "execution_count": 14,
   "id": "9fd9476e",
   "metadata": {},
   "outputs": [
    {
     "ename": "SyntaxError",
     "evalue": "invalid syntax (3734407223.py, line 1)",
     "output_type": "error",
     "traceback": [
      "\u001b[1;36m  Cell \u001b[1;32mIn[14], line 1\u001b[1;36m\u001b[0m\n\u001b[1;33m    tuples - where to use\u001b[0m\n\u001b[1;37m                   ^\u001b[0m\n\u001b[1;31mSyntaxError\u001b[0m\u001b[1;31m:\u001b[0m invalid syntax\n"
     ]
    }
   ],
   "source": []
  },
  {
   "cell_type": "code",
   "execution_count": 15,
   "id": "8e29e7b2",
   "metadata": {},
   "outputs": [
    {
     "name": "stdout",
     "output_type": "stream",
     "text": [
      "('Alice', 30)\n"
     ]
    }
   ],
   "source": [
    "def get_person_info():\n",
    "    name = \"Alice\"\n",
    "    age = 30\n",
    "    return name, age  # Returns a tuple ('Alice', 30)\n",
    "\n",
    "person_info = get_person_info()\n",
    "print(person_info)  # Output: ('Alice', 30)\n"
   ]
  },
  {
   "cell_type": "code",
   "execution_count": 16,
   "id": "a95df485",
   "metadata": {},
   "outputs": [
    {
     "name": "stdout",
     "output_type": "stream",
     "text": [
      "1000\n"
     ]
    }
   ],
   "source": [
    "data = {(2023, \"Q1\"): 1000, (2023, \"Q2\"): 1500}  # Tuple as a dictionary key\n",
    "print(data[(2023, \"Q1\")])  # Output: 1000\n"
   ]
  },
  {
   "cell_type": "markdown",
   "id": "c02c14c0",
   "metadata": {},
   "source": [
    "# department wise gender count\n",
    "SELECT \n",
    "    department_id,\n",
    "    COUNT(CASE WHEN gender = 'Male' THEN 1 END) AS male_count,\n",
    "    COUNT(CASE WHEN gender = 'Female' THEN 1 END) AS female_count\n",
    "FROM \n",
    "    employees\n",
    "GROUP BY \n",
    "    department_id;"
   ]
  },
  {
   "cell_type": "markdown",
   "id": "f7098cf8",
   "metadata": {},
   "source": [
    "# employees who joined the company exactly 10 days ago, y\n",
    "SELECT name\n",
    "FROM employees\n",
    "WHERE DATEDIFF(CURRENT_DATE, hire_date) = 10;\n",
    "\n",
    "SELECT name\n",
    "FROM employees\n",
    "WHERE hire_date = (CURRENT_DATE - INTERVAL '10 days')::date;\n"
   ]
  },
  {
   "cell_type": "code",
   "execution_count": null,
   "id": "77693c97",
   "metadata": {},
   "outputs": [],
   "source": [
    "WITH CTE AS (\n",
    "    SELECT \n",
    "        *,\n",
    "        ROW_NUMBER() OVER (PARTITION BY email ORDER BY id) AS row_num\n",
    "    FROM \n",
    "        employees\n",
    ")\n",
    "DELETE FROM CTE\n",
    "WHERE row_num > 1;\n"
   ]
  },
  {
   "cell_type": "code",
   "execution_count": 2,
   "id": "4b021a08",
   "metadata": {},
   "outputs": [
    {
     "data": {
      "text/plain": [
       "{'a': 5, 'b': 2, 't': 1, 'c': 1, 'd': 1, 'e': 1}"
      ]
     },
     "execution_count": 2,
     "metadata": {},
     "output_type": "execute_result"
    }
   ],
   "source": [
    "np_list = ['a', 'a', 'a', 'b', 't', 'b', 'a', 'c', 'd', 'e', 'a']\n",
    "\n",
    "res_dict = {}\n",
    "\n",
    "for ele in np_list:\n",
    "\tif ele in res_dict:\n",
    "\t\tres_dict[ele] = res_dict[ele]+1\n",
    "\telse:\n",
    "\t\tres_dict[ele] = 1\n",
    "\t\t\n",
    "res_dict"
   ]
  },
  {
   "cell_type": "code",
   "execution_count": 21,
   "id": "74116eb0",
   "metadata": {},
   "outputs": [
    {
     "ename": "TypeError",
     "evalue": "descriptor 'add' for 'set' objects doesn't apply to a 'tuple' object",
     "output_type": "error",
     "traceback": [
      "\u001b[1;31m---------------------------------------------------------------------------\u001b[0m",
      "\u001b[1;31mTypeError\u001b[0m                                 Traceback (most recent call last)",
      "Cell \u001b[1;32mIn[21], line 8\u001b[0m\n\u001b[0;32m      6\u001b[0m \t\ttotal \u001b[38;5;241m=\u001b[39m ele1\u001b[38;5;241m+\u001b[39mele\n\u001b[0;32m      7\u001b[0m \t\t\u001b[38;5;28;01mif\u001b[39;00m total \u001b[38;5;241m==\u001b[39m \u001b[38;5;28msum\u001b[39m:\n\u001b[1;32m----> 8\u001b[0m \t\t\t\u001b[43mres\u001b[49m\u001b[38;5;241;43m.\u001b[39;49m\u001b[43madd\u001b[49m\u001b[43m(\u001b[49m\u001b[43m(\u001b[49m\u001b[43mele\u001b[49m\u001b[43m,\u001b[49m\u001b[43mele1\u001b[49m\u001b[43m)\u001b[49m\u001b[43m)\u001b[49m\n\u001b[0;32m     10\u001b[0m res\n",
      "\u001b[1;31mTypeError\u001b[0m: descriptor 'add' for 'set' objects doesn't apply to a 'tuple' object"
     ]
    }
   ],
   "source": [
    "nums = [10, 15, 3, 7, 1, 8, 4, 6, 2, 9]\n",
    "sum = 10\n",
    "res = set\n",
    "for ele in nums:\n",
    "\tfor ele1 in nums:\n",
    "\t\ttotal = ele1+ele\n",
    "\t\tif total == sum:\n",
    "\t\t\tres.add((ele,ele1))\n",
    "\n",
    "res"
   ]
  },
  {
   "cell_type": "code",
   "execution_count": 23,
   "id": "a90f1c51",
   "metadata": {},
   "outputs": [
    {
     "name": "stdout",
     "output_type": "stream",
     "text": [
      "[(3, 7), (4, 6), (8, 2), (1, 9)]\n"
     ]
    }
   ],
   "source": [
    "def find_pairs_with_sum(nums, target_sum):\n",
    "    seen = set()\n",
    "    pairs = []\n",
    "    \n",
    "    for num in nums:\n",
    "        complement = target_sum - num\n",
    "        if complement in seen:\n",
    "            pairs.append((complement, num))\n",
    "        seen.add(num)\n",
    "    \n",
    "    return pairs\n",
    "\n",
    "# Input list\n",
    "nums = [10, 15, 3, 7, 1, 8, 4, 6, 2, 9]\n",
    "\n",
    "# Finding pairs that sum to 10\n",
    "target_sum = 10\n",
    "pairs = find_pairs_with_sum(nums, target_sum)\n",
    "\n",
    "print(pairs)\n"
   ]
  },
  {
   "cell_type": "code",
   "execution_count": 1,
   "id": "a9ecc70a",
   "metadata": {},
   "outputs": [
    {
     "name": "stdout",
     "output_type": "stream",
     "text": [
      "madam is a palindrome\n"
     ]
    }
   ],
   "source": [
    "def is_palindrome(string):\n",
    "    reversed_string = string[::-1]\n",
    "    return string == reversed_string\n",
    "\n",
    "# Test the function\n",
    "word = \"madam\"\n",
    "if is_palindrome(word):\n",
    "    print(f\"{word} is a palindrome\")\n",
    "else:\n",
    "    print(f\"{word} is not a palindrome\")"
   ]
  },
  {
   "cell_type": "code",
   "execution_count": 2,
   "id": "cf280514",
   "metadata": {},
   "outputs": [
    {
     "name": "stdout",
     "output_type": "stream",
     "text": [
      "!dlroW ,olleH\n"
     ]
    }
   ],
   "source": [
    "def reverse_string(string):\n",
    "    return string[::-1]\n",
    "\n",
    "# Test the function\n",
    "text = \"Hello, World!\"\n",
    "reversed_text = reverse_string(text)\n",
    "print(reversed_text)"
   ]
  },
  {
   "cell_type": "code",
   "execution_count": 3,
   "id": "b4ae18cc",
   "metadata": {},
   "outputs": [
    {
     "name": "stdout",
     "output_type": "stream",
     "text": [
      "!dlroW ,olleH\n"
     ]
    }
   ],
   "source": [
    "def reverse_string(string):\n",
    "\n",
    "    res = []\n",
    "    for i in string[::-1]:\n",
    "        res.append(i)\n",
    "    \n",
    "    res_str = r\"\".join(res)\n",
    "    return res_str\n",
    "\n",
    "# Test the function\n",
    "text = \"Hello, World!\"\n",
    "reversed_text = reverse_string(text)\n",
    "print(reversed_text)"
   ]
  },
  {
   "cell_type": "code",
   "execution_count": 24,
   "id": "a7ba2568",
   "metadata": {},
   "outputs": [
    {
     "name": "stdout",
     "output_type": "stream",
     "text": [
      "{1: 1, 2: 1, 3: 1, 4: 1, 5: 1}\n"
     ]
    }
   ],
   "source": [
    "def count_frequency(numbers):\n",
    "    frequency = {}\n",
    "    for num in numbers:\n",
    "        if num in frequency:\n",
    "            frequency[num] == frequency[num] +1\n",
    "        else:\n",
    "            frequency[num] = 1\n",
    "    return frequency\n",
    "\n",
    "# Test the function\n",
    "nums = [1, 2, 3, 2, 1, 3, 2, 4, 5, 4]\n",
    "frequency_count = count_frequency(nums)\n",
    "print(frequency_count)"
   ]
  },
  {
   "cell_type": "code",
   "execution_count": 7,
   "id": "bd32c189",
   "metadata": {},
   "outputs": [
    {
     "name": "stdout",
     "output_type": "stream",
     "text": [
      "4\n",
      "17 is a prime number\n"
     ]
    }
   ],
   "source": [
    "def is_prime(number):\n",
    "    if number < 2:\n",
    "        return False\n",
    "    print(int(number**0.5))\n",
    "    for i in range(2, int(number**0.5) + 1):\n",
    "        if number % i == 0:\n",
    "            return False\n",
    "    return True\n",
    "\n",
    "# Test the function\n",
    "num = 17\n",
    "if is_prime(num):\n",
    "    print(f\"{num} is a prime number\")\n",
    "else:\n",
    "    print(f\"{num} is not a prime number\")"
   ]
  },
  {
   "cell_type": "code",
   "execution_count": null,
   "id": "89dcdca9",
   "metadata": {},
   "outputs": [
    {
     "name": "stdout",
     "output_type": "stream",
     "text": [
      "[4, 5]\n"
     ]
    }
   ],
   "source": [
    "'''This function is for finding common elements in two lists using list while looping and appending to a new list.'''\n",
    "def find_common_elements(list1, list2):\n",
    "    common_elements = []\n",
    "    for item in list1:\n",
    "        if item in list2:\n",
    "            common_elements.append(item)\n",
    "    return common_elements\n",
    "\n",
    "# Test the function\n",
    "list_a = [1, 2, 3, 4, 5]\n",
    "list_b = [4, 5, 6, 7, 8]\n",
    "common = find_common_elements(list_a, list_b)\n",
    "print(common)"
   ]
  },
  {
   "cell_type": "code",
   "execution_count": null,
   "id": "d10da3a2",
   "metadata": {},
   "outputs": [
    {
     "name": "stdout",
     "output_type": "stream",
     "text": [
      "Common elements: [4, 5]\n"
     ]
    }
   ],
   "source": [
    "'''This function is for finding common elements in two lists using set intersection.'''\n",
    "def find_common_elements(list1, list2):\n",
    "    # Convert both lists to sets to remove duplicates and find intersection\n",
    "    set1 = set(list1)\n",
    "    set2 = set(list2)\n",
    "    \n",
    "    # Find common elements using set intersection\n",
    "    common_elements = set1 & set2\n",
    "    \n",
    "    return common_elements\n",
    "\n",
    "# Example usage\n",
    "list1 = [1, 2, 3, 4, 5]\n",
    "list2 = [4, 5, 6, 7, 8]\n",
    "\n",
    "common = find_common_elements(list1, list2)\n",
    "print(\"Common elements:\", list(common))\n"
   ]
  },
  {
   "cell_type": "code",
   "execution_count": null,
   "id": "5cbb4732",
   "metadata": {},
   "outputs": [
    {
     "name": "stdout",
     "output_type": "stream",
     "text": [
      "Common elements: {4, 5}\n"
     ]
    }
   ],
   "source": [
    "'''This function is for finding common elements in two lists using a loop and a set to store results.'''\n",
    "def find_common_elements(list1, list2):\n",
    "    common_elements = set()  # Using a set to store common elements\n",
    "\n",
    "    # Loop through each element in the first list\n",
    "    for elem in list1:\n",
    "        # Check if the element is also present in the second list\n",
    "        if elem in list2:\n",
    "            # Add the common element to the set\n",
    "            common_elements.add(elem)\n",
    "\n",
    "    return common_elements\n",
    "\n",
    "# Example usage\n",
    "list1 = [1, 2, 3, 4, 5]\n",
    "list2 = [4, 5, 6, 7, 8]\n",
    "\n",
    "common = find_common_elements(list1, list2)\n",
    "print(\"Common elements:\", common)\n"
   ]
  },
  {
   "cell_type": "code",
   "execution_count": null,
   "id": "04f82421",
   "metadata": {},
   "outputs": [
    {
     "name": "stdout",
     "output_type": "stream",
     "text": [
      "[1, 2, 5, 8, 9]\n"
     ]
    }
   ],
   "source": [
    "'''This function implements the bubble sort algorithm to sort a list of elements in ascending order.'''\n",
    "def bubble_sort(elements):\n",
    "    n = len(elements)\n",
    "    for i in range(n - 1):# normal loop\n",
    "        for j in range(n - i - 1):#reverse loop\n",
    "            if elements[j] > elements[j + 1]: #first ele > second element ---> interchange its position swap\n",
    "                elements[j], elements[j + 1] = elements[j + 1], elements[j]\n",
    "\n",
    "# Test the function\n",
    "nums = [5, 2, 8, 1, 9]\n",
    "bubble_sort(nums)\n",
    "print(nums)"
   ]
  },
  {
   "cell_type": "code",
   "execution_count": null,
   "id": "1dd272d2",
   "metadata": {},
   "outputs": [],
   "source": [
    "'''This function implements the bubble sort algorithm to sort a list of elements in descending order.'''\n",
    "\n",
    "def bubble_sort_descending(elements):\n",
    "    n = len(elements)\n",
    "    for i in range(n - 1):# normal loop\n",
    "        for j in range(n - i - 1):#reverse loop\n",
    "            if elements[j] < elements[j + 1]: #first ele < second element ---> interchange its position swap\n",
    "                elements[j], elements[j + 1] = elements[j + 1], elements[j]\n"
   ]
  },
  {
   "cell_type": "code",
   "execution_count": 26,
   "id": "c86717fa",
   "metadata": {},
   "outputs": [
    {
     "data": {
      "text/plain": [
       "[1, 2, 3, 4, 5]"
      ]
     },
     "execution_count": 26,
     "metadata": {},
     "output_type": "execute_result"
    }
   ],
   "source": [
    "def bs(ls):\n",
    "    n = len(ls)\n",
    "    for i in range(n-1):\n",
    "        for j in range(n-i-1):\n",
    "            if ls[j] > ls[j+1]:\n",
    "                ls[j],ls[j+1] = ls[j+1],ls[j]\n",
    "\n",
    "ls = [1,5,4,3,2]\n",
    "bs(ls)\n",
    "ls\n"
   ]
  },
  {
   "cell_type": "code",
   "execution_count": null,
   "id": "36e9c19f",
   "metadata": {},
   "outputs": [
    {
     "name": "stdout",
     "output_type": "stream",
     "text": [
      "-inf -inf\n",
      "The second largest number is 10\n"
     ]
    }
   ],
   "source": [
    "# why we use float('-inf') ---> to initialize the largest and second_largest variables to the smallest possible value. \n",
    "# This ensures that any number in the input list will be larger than these initial values, \n",
    "# allowing the algorithm to correctly identify the largest and second largest numbers in the list.\n",
    "def find_second_largest(numbers):\n",
    "    largest = float('-inf')\n",
    "    second_largest = float('-inf')\n",
    "    print(largest,second_largest)\n",
    "    for num in numbers:\n",
    "        if num > largest:\n",
    "            second_largest = largest\n",
    "            largest = num\n",
    "        elif num > second_largest and num != largest:\n",
    "            second_largest = num\n",
    "    return second_largest\n",
    "\n",
    "# Test the function\n",
    "nums = [10, 5, 8, 20, 3]\n",
    "second_largest_num = find_second_largest(nums)\n",
    "print(f\"The second largest number is {second_largest_num}\")"
   ]
  },
  {
   "cell_type": "code",
   "execution_count": 13,
   "id": "19b1f9b4",
   "metadata": {},
   "outputs": [
    {
     "name": "stdout",
     "output_type": "stream",
     "text": [
      "[1, 2, 3, 4, 5]\n"
     ]
    }
   ],
   "source": [
    "def remove_duplicates(numbers):\n",
    "    unique_numbers = []\n",
    "    for num in numbers:\n",
    "        if num not in unique_numbers:\n",
    "            unique_numbers.append(num)\n",
    "    return unique_numbers\n",
    "\n",
    "# Test the function\n",
    "nums = [1, 2, 3, 2, 1, 3, 2, 4, 5, 4]\n",
    "unique_nums = remove_duplicates(nums)\n",
    "print(unique_nums)"
   ]
  },
  {
   "cell_type": "code",
   "execution_count": null,
   "id": "303e8144",
   "metadata": {},
   "outputs": [
    {
     "data": {
      "text/plain": [
       "[1, 2, 3, 4, 5]"
      ]
     },
     "execution_count": 27,
     "metadata": {},
     "output_type": "execute_result"
    }
   ],
   "source": [
    "'''This function removes duplicates from a list while preserving the original order of elements.\n",
    "'''\n",
    "\n",
    "def remove_duplicates(numbers):\n",
    "    unique_numbers = []\n",
    "    for num in numbers:\n",
    "        if num not in unique_numbers:\n",
    "            unique_numbers.append(num)\n",
    "    return unique_numbers\n",
    "\n",
    "# Test the function\n",
    "nums = [1, 2, 3, 2, 1, 3, 2, 4, 5, 4]\n",
    "unique_nums = remove_duplicates(nums)\n",
    "\n",
    "# this below function sorts the list using bubble sort algorithm\n",
    "def bs(ls):\n",
    "    n = len(ls)\n",
    "    for i in range(n-1):\n",
    "        for j in range(n-i-1):\n",
    "            if ls[j] > ls[j+1]:\n",
    "                ls[j],ls[j+1] = ls[j+1],ls[j]\n",
    "\n",
    "\n",
    "bs(unique_nums)\n",
    "unique_nums"
   ]
  },
  {
   "cell_type": "code",
   "execution_count": 12,
   "id": "df571c25",
   "metadata": {},
   "outputs": [
    {
     "name": "stdout",
     "output_type": "stream",
     "text": [
      "Second largest element: 8\n"
     ]
    }
   ],
   "source": [
    "def second_largest(nums):\n",
    "    # Remove duplicates and sort the list\n",
    "    unique_nums = list(set(nums))\n",
    "    if len(unique_nums) < 2:\n",
    "        return None  # Return None if there are less than 2 unique elements\n",
    "    # Find the second largest\n",
    "    unique_nums.sort()\n",
    "    return unique_nums[-2]\n",
    "\n",
    "# Example usage\n",
    "nums = [5, 1, 8, 7, 1, 8, 10]\n",
    "print(\"Second largest element:\", second_largest(nums))"
   ]
  },
  {
   "cell_type": "code",
   "execution_count": 11,
   "id": "ea2bce8c",
   "metadata": {},
   "outputs": [
    {
     "name": "stdout",
     "output_type": "stream",
     "text": [
      "Flattened list: [1, 2, 3, 4, 5, 6, 7]\n"
     ]
    }
   ],
   "source": [
    "def flatten_list(nested_list):\n",
    "    flat_list = []\n",
    "    \n",
    "    # Iterate through the elements in the nested list\n",
    "    for item in nested_list:\n",
    "        if isinstance(item, list):\n",
    "            # If the item is a list, extend the flat list with its elements\n",
    "            flat_list.extend(flatten_list(item))\n",
    "        else:\n",
    "            # If it's not a list, just add the item\n",
    "            flat_list.append(item)\n",
    "    \n",
    "    return flat_list\n",
    "\n",
    "# Example usage\n",
    "nested_list = [1, [2, 3], [4, [5, 6]], 7]\n",
    "print(\"Flattened list:\", flatten_list(nested_list))\n"
   ]
  },
  {
   "cell_type": "code",
   "execution_count": 29,
   "id": "467ad12a",
   "metadata": {},
   "outputs": [
    {
     "ename": "TypeError",
     "evalue": "list.extend() takes exactly one argument (0 given)",
     "output_type": "error",
     "traceback": [
      "\u001b[1;31m---------------------------------------------------------------------------\u001b[0m",
      "\u001b[1;31mTypeError\u001b[0m                                 Traceback (most recent call last)",
      "Cell \u001b[1;32mIn[29], line 1\u001b[0m\n\u001b[1;32m----> 1\u001b[0m [\u001b[38;5;28;43mlist\u001b[39;49m\u001b[38;5;241;43m.\u001b[39;49m\u001b[43mextend\u001b[49m\u001b[43m(\u001b[49m\u001b[43mitem\u001b[49m\u001b[43m)\u001b[49m \u001b[38;5;28;01mif\u001b[39;00m \u001b[38;5;28misinstance\u001b[39m(item,\u001b[38;5;28mlist\u001b[39m) \u001b[38;5;28;01melse\u001b[39;00m item \u001b[38;5;28;01mfor\u001b[39;00m item \u001b[38;5;129;01min\u001b[39;00m nested_list]\n",
      "\u001b[1;31mTypeError\u001b[0m: list.extend() takes exactly one argument (0 given)"
     ]
    }
   ],
   "source": [
    "[list.extend(item) if isinstance(item,list) else item for item in nested_list]"
   ]
  },
  {
   "cell_type": "code",
   "execution_count": 10,
   "id": "d42374dd",
   "metadata": {},
   "outputs": [
    {
     "name": "stdout",
     "output_type": "stream",
     "text": [
      "Most frequent element: 1\n"
     ]
    }
   ],
   "source": [
    "from collections import Counter\n",
    "\n",
    "def most_frequent(nums):\n",
    "    # Use Counter to find frequency of each element\n",
    "    count = Counter(nums)\n",
    "    \n",
    "    # Find the element with the maximum frequency\n",
    "    return count.most_common(1)[0][0]\n",
    "\n",
    "# Example usage\n",
    "nums = [1, 2, 3, 1, 2, 1, 4, 5]\n",
    "print(\"Most frequent element:\", most_frequent(nums))  # Output: 1\n"
   ]
  },
  {
   "cell_type": "code",
   "execution_count": 9,
   "id": "3a945743",
   "metadata": {},
   "outputs": [
    {
     "name": "stdout",
     "output_type": "stream",
     "text": [
      "The most frequent element is: 4\n"
     ]
    }
   ],
   "source": [
    "# Sample list\n",
    "data = [1, 2, 2, 3, 3, 3, 4, 4, 4, 4]\n",
    "\n",
    "# Create an empty dictionary to store frequencies\n",
    "frequency = {}\n",
    "\n",
    "# Count the occurrences of each element\n",
    "for item in data:\n",
    "    if item in frequency:\n",
    "        frequency[item] += 1\n",
    "    else:\n",
    "        frequency[item] = 1\n",
    "\n",
    "# Find the element with the highest frequency\n",
    "most_frequent_element = None\n",
    "max_count = 0\n",
    "\n",
    "for key, count in frequency.items():\n",
    "    if count > max_count:\n",
    "        max_count = count\n",
    "        most_frequent_element = key\n",
    "\n",
    "print(f\"The most frequent element is: {most_frequent_element}\")\n"
   ]
  },
  {
   "cell_type": "code",
   "execution_count": 8,
   "id": "c9dbfdb9",
   "metadata": {},
   "outputs": [
    {
     "name": "stdout",
     "output_type": "stream",
     "text": [
      "h\n",
      "w\n"
     ]
    }
   ],
   "source": [
    "ST = 'hello word'\n",
    "\n",
    "for i in ST.split(\" \"):\n",
    "    print(i[0])"
   ]
  },
  {
   "cell_type": "markdown",
   "id": "d9051010",
   "metadata": {},
   "source": [
    "In Python, there are several common patterns used to solve problems and structure code effectively. Here are some of the most important ones:\n",
    "\n",
    "### 1. **Singleton Pattern**\n",
    "   Ensures that a class has only one instance and provides a global point of access to that instance.\n",
    "   ```python\n",
    "   class Singleton:\n",
    "       _instance = None\n",
    "\n",
    "       def __new__(cls):\n",
    "           if cls._instance is None:\n",
    "               cls._instance = super(Singleton, cls).__new__(cls)\n",
    "           return cls._instance\n",
    "   ```\n",
    "\n",
    "### 2. **Factory Pattern**\n",
    "   Used to create objects without specifying the exact class of object that will be created. It delegates the creation to subclasses or other functions.\n",
    "   ```python\n",
    "   class Dog:\n",
    "       def speak(self):\n",
    "           return \"Woof!\"\n",
    "\n",
    "   class Cat:\n",
    "       def speak(self):\n",
    "           return \"Meow!\"\n",
    "\n",
    "   def animal_factory(animal_type):\n",
    "       if animal_type == \"dog\":\n",
    "           return Dog()\n",
    "       elif animal_type == \"cat\":\n",
    "           return Cat()\n",
    "   ```\n",
    "\n",
    "### 3. **Observer Pattern**\n",
    "   A way of notifying different parts of an application when an event happens. Commonly used in event-driven programming.\n",
    "   ```python\n",
    "   class Observer:\n",
    "       def update(self, message):\n",
    "           pass\n",
    "\n",
    "   class Subject:\n",
    "       def __init__(self):\n",
    "           self._observers = []\n",
    "\n",
    "       def register_observer(self, observer):\n",
    "           self._observers.append(observer)\n",
    "\n",
    "       def notify_observers(self, message):\n",
    "           for observer in self._observers:\n",
    "               observer.update(message)\n",
    "   ```\n",
    "\n",
    "### 4. **Decorator Pattern**\n",
    "   A way to modify or extend the functionality of functions or methods dynamically.\n",
    "   ```python\n",
    "   def decorator(func):\n",
    "       def wrapper():\n",
    "           print(\"Something before the function\")\n",
    "           func()\n",
    "           print(\"Something after the function\")\n",
    "       return wrapper\n",
    "\n",
    "   @decorator\n",
    "   def my_function():\n",
    "       print(\"The function itself\")\n",
    "\n",
    "   my_function()\n",
    "   ```\n",
    "\n",
    "### 5. **Iterator Pattern**\n",
    "   Provides a way to sequentially access elements of a collection without exposing the underlying structure.\n",
    "   ```python\n",
    "   class MyIterator:\n",
    "       def __init__(self, data):\n",
    "           self.data = data\n",
    "           self.index = 0\n",
    "\n",
    "       def __iter__(self):\n",
    "           return self\n",
    "\n",
    "       def __next__(self):\n",
    "           if self.index < len(self.data):\n",
    "               value = self.data[self.index]\n",
    "               self.index += 1\n",
    "               return value\n",
    "           else:\n",
    "               raise StopIteration\n",
    "\n",
    "   my_list = [1, 2, 3]\n",
    "   iterator = MyIterator(my_list)\n",
    "\n",
    "   for item in iterator:\n",
    "       print(item)\n",
    "   ```\n",
    "\n",
    "### 6. **Strategy Pattern**\n",
    "   Defines a family of algorithms, encapsulates each one, and makes them interchangeable at runtime.\n",
    "   ```python\n",
    "   class Operation:\n",
    "       def execute(self, a, b):\n",
    "           pass\n",
    "\n",
    "   class AddOperation(Operation):\n",
    "       def execute(self, a, b):\n",
    "           return a + b\n",
    "\n",
    "   class SubtractOperation(Operation):\n",
    "       def execute(self, a, b):\n",
    "           return a - b\n",
    "\n",
    "   class Context:\n",
    "       def __init__(self, strategy):\n",
    "           self.strategy = strategy\n",
    "\n",
    "       def execute_strategy(self, a, b):\n",
    "           return self.strategy.execute(a, b)\n",
    "\n",
    "   context = Context(AddOperation())\n",
    "   print(context.execute_strategy(3, 4))  # Output: 7\n",
    "   ```\n",
    "\n",
    "### 7. **Builder Pattern**\n",
    "   Separates the construction of a complex object from its representation, allowing the same construction process to create different objects.\n",
    "   ```python\n",
    "   class Car:\n",
    "       def __init__(self):\n",
    "           self.wheels = 4\n",
    "           self.color = \"White\"\n",
    "\n",
    "   class CarBuilder:\n",
    "       def __init__(self):\n",
    "           self.car = Car()\n",
    "\n",
    "       def set_color(self, color):\n",
    "           self.car.color = color\n",
    "           return self\n",
    "\n",
    "       def get_result(self):\n",
    "           return self.car\n",
    "\n",
    "   builder = CarBuilder()\n",
    "   car = builder.set_color(\"Red\").get_result()\n",
    "   print(car.color)  # Output: Red\n",
    "   ```\n",
    "\n",
    "Each of these patterns can help make your Python code more structured, reusable, and maintainable, depending on the scenario."
   ]
  },
  {
   "cell_type": "markdown",
   "id": "c0d4dfb7",
   "metadata": {},
   "source": [
    "In a typical **singleton pattern**, the idea is to restrict the instantiation of a class to only one instance. However, there are ways to bypass this and create multiple instances of a singleton class in Python. Here are a few scenarios where this might happen:\n",
    "\n",
    "### 1. **Direct Bypassing the Singleton Pattern**\n",
    "   You can manually create another instance of the singleton class by directly calling the class constructor.\n",
    "\n",
    "   ```python\n",
    "   class Singleton:\n",
    "       _instance = None\n",
    "\n",
    "       def __new__(cls):\n",
    "           if cls._instance is None:\n",
    "               cls._instance = super(Singleton, cls).__new__(cls)\n",
    "           return cls._instance\n",
    "\n",
    "   # Create the first instance\n",
    "   s1 = Singleton()\n",
    "\n",
    "   # Bypass the singleton by directly invoking the class\n",
    "   s2 = Singleton.__new__(Singleton)  # Creates a new instance\n",
    "\n",
    "   print(s1 is s2)  # False, these are different instances\n",
    "   ```\n",
    "\n",
    "### 2. **Using `copy` or `deepcopy`**\n",
    "   Using Python's `copy` or `deepcopy` can create multiple instances of a singleton, effectively breaking the singleton pattern.\n",
    "\n",
    "   ```python\n",
    "   import copy\n",
    "\n",
    "   class Singleton:\n",
    "       _instance = None\n",
    "\n",
    "       def __new__(cls):\n",
    "           if cls._instance is None:\n",
    "               cls._instance = super(Singleton, cls).__new__(cls)\n",
    "           return cls._instance\n",
    "\n",
    "   s1 = Singleton()\n",
    "   s2 = copy.copy(s1)      # Shallow copy\n",
    "   s3 = copy.deepcopy(s1)  # Deep copy\n",
    "\n",
    "   print(s1 is s2)  # False, they are different instances\n",
    "   print(s1 is s3)  # False, deep copy also creates a new instance\n",
    "   ```\n",
    "\n",
    "### 3. **Multiple Instances in Subclasses**\n",
    "   If a class inherits from a singleton class, the singleton pattern can be broken because the subclass can create its own instance.\n",
    "\n",
    "   ```python\n",
    "   class Singleton:\n",
    "       _instance = None\n",
    "\n",
    "       def __new__(cls):\n",
    "           if cls._instance is None:\n",
    "               cls._instance = super(Singleton, cls).__new__(cls)\n",
    "           return cls._instance\n",
    "\n",
    "   class Subclass(Singleton):\n",
    "       pass\n",
    "\n",
    "   s1 = Singleton()\n",
    "   s2 = Subclass()\n",
    "\n",
    "   print(s1 is s2)  # False, Subclass creates its own instance\n",
    "   ```\n",
    "\n",
    "### 4. **Manually Resetting the Singleton**\n",
    "   You can explicitly reset the singleton instance, allowing a new instance to be created.\n",
    "\n",
    "   ```python\n",
    "   class Singleton:\n",
    "       _instance = None\n",
    "\n",
    "       def __new__(cls):\n",
    "           if cls._instance is None:\n",
    "               cls._instance = super(Singleton, cls).__new__(cls)\n",
    "           return cls._instance\n",
    "\n",
    "       @classmethod\n",
    "       def reset_instance(cls):\n",
    "           cls._instance = None\n",
    "\n",
    "   s1 = Singleton()\n",
    "   Singleton.reset_instance()\n",
    "   s2 = Singleton()\n",
    "\n",
    "   print(s1 is s2)  # False, new instance created after reset\n",
    "   ```\n",
    "\n",
    "### Conclusion\n",
    "Although a singleton class is designed to have a single instance, there are several ways you can create multiple instances. These approaches generally go against the purpose of the singleton pattern, so they should be used carefully and with intention."
   ]
  },
  {
   "cell_type": "markdown",
   "id": "721e08af",
   "metadata": {},
   "source": [
    "A **custom context manager** in Python can be created using two main approaches: \n",
    "\n",
    "1. Using a **class** that implements `__enter__` and `__exit__` methods.\n",
    "2. Using a **generator function** with the `contextlib.contextmanager` decorator.\n",
    "\n",
    "### 1. **Creating a Custom Context Manager using a Class**\n",
    "\n",
    "When using a class, you define two special methods:\n",
    "- `__enter__(self)`: This method is executed when entering the context.\n",
    "- `__exit__(self, exc_type, exc_value, traceback)`: This method is executed when exiting the context, whether it's due to an exception or not.\n",
    "\n",
    "#### Example:\n",
    "\n",
    "```python\n",
    "class FileManager:\n",
    "    def __init__(self, filename, mode):\n",
    "        self.filename = filename\n",
    "        self.mode = mode\n",
    "        self.file = None\n",
    "\n",
    "    def __enter__(self):\n",
    "        # Open the file when entering the context\n",
    "        self.file = open(self.filename, self.mode)\n",
    "        return self.file\n",
    "\n",
    "    def __exit__(self, exc_type, exc_value, traceback):\n",
    "        # Close the file when exiting the context\n",
    "        if self.file:\n",
    "            self.file.close()\n",
    "\n",
    "# Using the custom context manager\n",
    "with FileManager('example.txt', 'w') as f:\n",
    "    f.write('Hello, World!')\n",
    "```\n",
    "\n",
    "In this example:\n",
    "- The `FileManager` class opens a file in `__enter__` and closes it in `__exit__`.\n",
    "- The `with` statement makes sure the file is properly closed, even if an exception occurs within the block.\n",
    "\n",
    "### 2. **Creating a Custom Context Manager using `contextlib.contextmanager`**\n",
    "\n",
    "Using the `contextlib.contextmanager` decorator, you can define a context manager using a generator function, which is more concise.\n",
    "\n",
    "#### Example:\n",
    "\n",
    "```python\n",
    "from contextlib import contextmanager\n",
    "\n",
    "@contextmanager\n",
    "def file_manager(filename, mode):\n",
    "    file = open(filename, mode)\n",
    "    try:\n",
    "        yield file  # Yield control back to the context\n",
    "    finally:\n",
    "        file.close()  # Ensure the file is closed\n",
    "\n",
    "# Using the custom context manager\n",
    "with file_manager('example.txt', 'w') as f:\n",
    "    f.write('Hello, World!')\n",
    "```\n",
    "\n",
    "In this example:\n",
    "- The function `file_manager` opens the file and yields control back to the `with` block using `yield`.\n",
    "- The code following the `yield` (in `finally`) ensures the file is always closed.\n",
    "\n",
    "### Key Points:\n",
    "- The **class-based** approach gives you more control if you need complex setup and teardown logic.\n",
    "- The **`contextlib.contextmanager`** decorator allows you to define simpler context managers in a more Pythonic way.\n",
    "\n",
    "Both methods ensure proper resource management, like closing files, releasing database connections, or any other cleanup operations after the code inside the `with` block finishes execution."
   ]
  },
  {
   "cell_type": "markdown",
   "id": "601ebf0d",
   "metadata": {},
   "source": [
    "In Python, decorators are a powerful tool that allow you to modify the behavior of functions or classes. You can pass the function name to a decorator by defining a decorator function that takes another function as an argument. The decorator function wraps the input function and can add extra behavior before or after the wrapped function is called, or even replace it entirely.\n",
    "\n",
    "Here’s a detailed breakdown of how this works:\n",
    "\n",
    "### Basic Structure of a Decorator\n",
    "A decorator is essentially a function that takes another function as an argument, adds some behavior, and returns a new function.\n",
    "\n",
    "```python\n",
    "def my_decorator(func):\n",
    "    def wrapper(*args, **kwargs):\n",
    "        # Do something before calling the function\n",
    "        print(f\"Calling function {func.__name__}\")\n",
    "        \n",
    "        result = func(*args, **kwargs)  # Call the original function\n",
    "        \n",
    "        # Do something after calling the function\n",
    "        print(f\"Finished calling {func.__name__}\")\n",
    "        \n",
    "        return result\n",
    "    return wrapper\n",
    "```\n",
    "\n",
    "### Using the Decorator\n",
    "You can apply the decorator using the `@decorator_name` syntax before the function definition, or by manually passing the function to the decorator.\n",
    "\n",
    "#### Example:\n",
    "```python\n",
    "# Define the decorator\n",
    "def my_decorator(func):\n",
    "    def wrapper(*args, **kwargs):\n",
    "        print(f\"Before calling {func.__name__}\")\n",
    "        result = func(*args, **kwargs)\n",
    "        print(f\"After calling {func.__name__}\")\n",
    "        return result\n",
    "    return wrapper\n",
    "\n",
    "# Apply the decorator using @\n",
    "@my_decorator\n",
    "def greet(name):\n",
    "    print(f\"Hello, {name}!\")\n",
    "\n",
    "# Call the decorated function\n",
    "greet(\"Alice\")\n",
    "```\n",
    "\n",
    "**Output:**\n",
    "```\n",
    "Before calling greet\n",
    "Hello, Alice!\n",
    "After calling greet\n",
    "```\n",
    "\n",
    "In this example:\n",
    "1. The `greet` function is decorated with `my_decorator`.\n",
    "2. When `greet(\"Alice\")` is called, the `wrapper` inside the decorator is executed, printing the extra messages before and after calling the original `greet` function.\n",
    "\n",
    "### Passing the Function Name Inside a Decorator\n",
    "You can access the function’s name inside the decorator using `func.__name__`. This allows you to reference or log the function name when it is passed into the decorator.\n",
    "\n",
    "#### Example with Function Name Logging:\n",
    "```python\n",
    "def log_function_name(func):\n",
    "    def wrapper(*args, **kwargs):\n",
    "        print(f\"Function name: {func.__name__}\")\n",
    "        return func(*args, **kwargs)\n",
    "    return wrapper\n",
    "\n",
    "@log_function_name\n",
    "def say_hello():\n",
    "    print(\"Hello, world!\")\n",
    "\n",
    "say_hello()\n",
    "```\n",
    "\n",
    "**Output:**\n",
    "```\n",
    "Function name: say_hello\n",
    "Hello, world!\n",
    "```\n",
    "\n",
    "Here, the decorator logs the function's name before calling the original function.\n",
    "\n",
    "### Manually Applying the Decorator\n",
    "You can also manually pass a function to a decorator, like this:\n",
    "\n",
    "```python\n",
    "def square(x):\n",
    "    return x * x\n",
    "\n",
    "# Manually decorate the function\n",
    "decorated_square = my_decorator(square)\n",
    "\n",
    "# Call the decorated function\n",
    "decorated_square(5)\n",
    "```\n",
    "\n",
    "This achieves the same effect as using the `@` syntax but allows more flexibility if you need to apply decorators conditionally.\n",
    "\n",
    "### Summary\n",
    "- A decorator is a function that takes another function as an argument, adds behavior (e.g., logging, timing), and returns a new function.\n",
    "- You can pass the function name inside the decorator by using `func.__name__`.\n",
    "- Decorators can be applied using the `@decorator_name` syntax or manually by passing the function to the decorator.\n",
    "\n",
    "This technique can be used to log, time, validate, or modify the behavior of any function. If you need more advanced examples or further clarification, let me know!"
   ]
  },
  {
   "cell_type": "markdown",
   "id": "ee18caeb",
   "metadata": {},
   "source": [
    "To achieve this behavior where a decorator can accept different functions (e.g., `add`, `mul`) and modify the behavior of another function accordingly, you'll need to create a **parameterized decorator**. A parameterized decorator allows you to pass arguments to the decorator, in this case, the function (`add` or `mul`), and then apply that operation inside the decorator to the decorated function.\n",
    "\n",
    "Here’s how you can implement this:\n",
    "\n",
    "### Step-by-Step Explanation\n",
    "\n",
    "1. **Create the `add` and `mul` functions**: These will represent the operations that you want to perform inside the decorator.\n",
    "2. **Create a decorator that accepts a function (`add` or `mul`) as an argument**: This decorator will apply the passed function to the arguments of the decorated function.\n",
    "3. **Apply the decorator using `@decorator_name(add)` or `@decorator_name(mul)`**: This allows you to pass the operation you want to apply to the decorated function.\n",
    "\n",
    "### Example:\n",
    "\n",
    "#### Step 1: Define `add` and `mul` Functions\n",
    "```python\n",
    "def add(a, b):\n",
    "    return a + b\n",
    "\n",
    "def mul(a, b):\n",
    "    return a * b\n",
    "```\n",
    "\n",
    "#### Step 2: Create a Parameterized Decorator\n",
    "This decorator takes a function (`add` or `mul`) as a parameter and uses it to modify the behavior of the decorated function.\n",
    "\n",
    "```python\n",
    "def apply_operation(operation):\n",
    "    def decorator(func):\n",
    "        def wrapper(a, b):\n",
    "            print(f\"Applying {operation.__name__} on {a} and {b}\")\n",
    "            result = operation(a, b)  # Perform the operation (add or mul)\n",
    "            print(f\"Result of {operation.__name__}: {result}\")\n",
    "            return result\n",
    "        return wrapper\n",
    "    return decorator\n",
    "```\n",
    "\n",
    "#### Step 3: Apply the Decorator with `add` or `mul`\n",
    "Now, you can use the `apply_operation` decorator and pass either the `add` or `mul` function.\n",
    "\n",
    "```python\n",
    "@apply_operation(add)\n",
    "def perform_addition(a, b):\n",
    "    return a, b\n",
    "\n",
    "@apply_operation(mul)\n",
    "def perform_multiplication(a, b):\n",
    "    return a, b\n",
    "\n",
    "# Call the decorated functions\n",
    "perform_addition(3, 4)\n",
    "perform_multiplication(3, 4)\n",
    "```\n",
    "\n",
    "### Output:\n",
    "```\n",
    "Applying add on 3 and 4\n",
    "Result of add: 7\n",
    "Applying mul on 3 and 4\n",
    "Result of mul: 12\n",
    "```\n",
    "\n",
    "### How It Works:\n",
    "1. **`apply_operation`** is a decorator that accepts a function (`add` or `mul`) and returns a new decorator.\n",
    "2. The inner `decorator` function wraps the original function (`perform_addition`, `perform_multiplication`) and applies the passed `operation` (`add` or `mul`) to the arguments.\n",
    "3. **`wrapper`** is the actual function that gets executed when you call the decorated function. It applies the chosen operation to the arguments and prints the result.\n",
    "\n",
    "### Calling Decorator:\n",
    "- You can now call the decorator with the specific operation:\n",
    "  - `@apply_operation(add)` for addition.\n",
    "  - `@apply_operation(mul)` for multiplication.\n",
    "\n",
    "### Conclusion:\n",
    "In this example, the `@apply_operation(add)` and `@apply_operation(mul)` decorator calls allow the user to decide which operation to apply to the function. You can create a flexible and reusable decorator that works with multiple functions by passing them as arguments. \n",
    "\n",
    "Let me know if you need further clarification or more examples!"
   ]
  },
  {
   "cell_type": "markdown",
   "id": "7102e0a6",
   "metadata": {},
   "source": [
    "A **parameterized decorator** is a decorator that takes additional arguments besides just the function to be decorated. It allows you to pass arguments to the decorator, which can then be used to modify the behavior of the decorated function.\n",
    "\n",
    "To create a parameterized decorator, you need to add an extra layer of functions: one function to accept the parameters, another function to accept the original function, and finally a wrapper function that performs the actual decoration.\n",
    "\n",
    "### Basic Structure of a Parameterized Decorator\n",
    "\n",
    "```python\n",
    "def decorator_with_args(arg1, arg2):\n",
    "    def actual_decorator(func):\n",
    "        def wrapper(*args, **kwargs):\n",
    "            # Use the arguments passed to the decorator (arg1, arg2)\n",
    "            print(f\"Decorator arguments: {arg1}, {arg2}\")\n",
    "            # Call the original function\n",
    "            result = func(*args, **kwargs)\n",
    "            return result\n",
    "        return wrapper\n",
    "    return actual_decorator\n",
    "```\n",
    "\n",
    "### Example: Logging with a Parameterized Decorator\n",
    "\n",
    "Let’s create a decorator that logs function execution with a customizable log message.\n",
    "\n",
    "#### Step 1: Define the Parameterized Decorator\n",
    "\n",
    "```python\n",
    "def log_message(msg):\n",
    "    def decorator(func):\n",
    "        def wrapper(*args, **kwargs):\n",
    "            print(f\"{msg} - Calling {func.__name__}\")\n",
    "            result = func(*args, **kwargs)\n",
    "            print(f\"{msg} - Finished {func.__name__}\")\n",
    "            return result\n",
    "        return wrapper\n",
    "    return decorator\n",
    "```\n",
    "\n",
    "#### Step 2: Apply the Parameterized Decorator\n",
    "\n",
    "```python\n",
    "@log_message(\"DEBUG\")\n",
    "def greet(name):\n",
    "    print(f\"Hello, {name}!\")\n",
    "\n",
    "@log_message(\"INFO\")\n",
    "def add(a, b):\n",
    "    return a + b\n",
    "```\n",
    "\n",
    "#### Step 3: Call the Functions\n",
    "\n",
    "```python\n",
    "greet(\"Alice\")\n",
    "print(add(3, 4))\n",
    "```\n",
    "\n",
    "### Output:\n",
    "```\n",
    "DEBUG - Calling greet\n",
    "Hello, Alice!\n",
    "DEBUG - Finished greet\n",
    "INFO - Calling add\n",
    "INFO - Finished add\n",
    "7\n",
    "```\n",
    "\n",
    "### Explanation:\n",
    "\n",
    "1. **`log_message(msg)`**: This function takes a string `msg` as a parameter and returns the actual decorator.\n",
    "2. **`decorator(func)`**: This is the decorator that takes the function `func` to be decorated.\n",
    "3. **`wrapper(*args, **kwargs)`**: This inner function wraps the original function. It uses the `msg` argument passed to the decorator to print messages before and after calling the decorated function.\n",
    "\n",
    "### Example: Parameterized Decorator with Arguments for Function Logic\n",
    "\n",
    "You can also use parameterized decorators to modify the logic of a function based on the parameters passed.\n",
    "\n",
    "#### Example: A Repeater Decorator\n",
    "\n",
    "Let’s create a decorator that repeats the execution of a function a specified number of times.\n",
    "\n",
    "```python\n",
    "def repeat(num_times):\n",
    "    def decorator(func):\n",
    "        def wrapper(*args, **kwargs):\n",
    "            for _ in range(num_times):\n",
    "                result = func(*args, **kwargs)\n",
    "            return result\n",
    "        return wrapper\n",
    "    return decorator\n",
    "```\n",
    "\n",
    "#### Applying the Repeater Decorator\n",
    "\n",
    "```python\n",
    "@repeat(3)\n",
    "def say_hello():\n",
    "    print(\"Hello!\")\n",
    "\n",
    "# Call the decorated function\n",
    "say_hello()\n",
    "```\n",
    "\n",
    "### Output:\n",
    "```\n",
    "Hello!\n",
    "Hello!\n",
    "Hello!\n",
    "```\n",
    "\n",
    "### How It Works:\n",
    "1. **`repeat(num_times)`**: This function takes an integer `num_times` and returns the actual decorator.\n",
    "2. **`decorator(func)`**: This is the decorator that takes the function `func` to be decorated.\n",
    "3. **`wrapper(*args, **kwargs)`**: This inner function wraps the original function. It repeats the execution of the original function `num_times` times.\n",
    "\n",
    "### Summary:\n",
    "\n",
    "- A **parameterized decorator** takes additional arguments besides the function itself.\n",
    "- It uses an outer function to accept the parameters and an inner function to wrap the target function.\n",
    "- The decorator can modify behavior based on the arguments passed to it.\n",
    "\n",
    "Parameterized decorators offer flexibility and allow for more customized control over the behavior of functions. Let me know if you'd like to see more complex examples or have further questions!"
   ]
  },
  {
   "cell_type": "markdown",
   "id": "a3bb186b",
   "metadata": {},
   "source": [
    "To **restrict the execution of a function from one file (say `file1.py`) when it is imported in another file (say `file2.py`)**, you can use the `if __name__ == \"__main__\":` construct in Python.\n",
    "\n",
    "This construct ensures that certain code in `file1.py` is only executed when `file1.py` is run as the main script, and **not** when it is imported into another file, like `file2.py`.\n",
    "\n",
    "### How `if __name__ == \"__main__\":` Works\n",
    "\n",
    "- When a Python file is run directly, Python sets the special variable `__name__` to `\"__main__\"`.\n",
    "- However, when a file is **imported** as a module in another file, `__name__` is set to the name of the module (i.e., the file name, without the `.py` extension).\n",
    "\n",
    "### Example:\n",
    "\n",
    "#### `file1.py`\n",
    "```python\n",
    "def my_function():\n",
    "    print(\"This function is available for import and execution.\")\n",
    "\n",
    "def main_function():\n",
    "    print(\"This function should only run when file1.py is executed directly.\")\n",
    "\n",
    "# Restricting the execution of the main function\n",
    "if __name__ == \"__main__\":\n",
    "    main_function()  # This will not run if file1.py is imported\n",
    "```\n",
    "\n",
    "#### `file2.py` (importing `file1.py`)\n",
    "```python\n",
    "import file1\n",
    "\n",
    "# Using the imported function\n",
    "file1.my_function()\n",
    "```\n",
    "\n",
    "### Explanation:\n",
    "\n",
    "1. **`file1.py`**:\n",
    "   - `my_function()` is a normal function that can be imported and executed in any other file.\n",
    "   - `main_function()` is inside the `if __name__ == \"__main__\":` block, meaning it will **only run** when `file1.py` is executed directly as a script. It will **not run** if `file1.py` is imported into another file like `file2.py`.\n",
    "\n",
    "2. **`file2.py`**:\n",
    "   - When `file1` is imported, only `my_function()` is available for execution. The `main_function()` is not executed because the code under `if __name__ == \"__main__\":` is ignored during the import.\n",
    "\n",
    "### Running:\n",
    "\n",
    "- If you run `python file1.py`, the output will be:\n",
    "  ```\n",
    "  This function should only run when file1.py is executed directly.\n",
    "  ```\n",
    "\n",
    "- If you run `python file2.py`, the output will be:\n",
    "  ```\n",
    "  This function is available for import and execution.\n",
    "  ```\n",
    "\n",
    "### Summary:\n",
    "- To **restrict a function from executing when a file is imported** into another file, place the function call inside an `if __name__ == \"__main__\":` block.\n",
    "- This ensures that the function only executes when the file is run as the main script and **not** when it's imported as a module."
   ]
  },
  {
   "cell_type": "markdown",
   "id": "9339ed7a",
   "metadata": {},
   "source": [
    "If you want to **restrict the execution of a function from one file when imported into another file** without using the `if __name__ == \"__main__\":` block, there are a few alternative methods. These approaches mainly rely on selectively importing functions or controlling access to certain parts of the code.\n",
    "\n",
    "### Method 1: Use a Flag or Configuration Setting\n",
    "\n",
    "You can introduce a global flag or configuration setting that controls whether a particular function or block of code should run. This flag can be set in a way that prevents execution when the file is imported but allows it when the file is executed directly.\n",
    "\n",
    "#### Example:\n",
    "\n",
    "##### `file1.py`\n",
    "```python\n",
    "# Global flag to control execution\n",
    "run_restricted_function = True\n",
    "\n",
    "def my_function():\n",
    "    print(\"This function is available for import and execution.\")\n",
    "\n",
    "def restricted_function():\n",
    "    print(\"This function should only run in specific conditions.\")\n",
    "\n",
    "if run_restricted_function:\n",
    "    restricted_function()\n",
    "```\n",
    "\n",
    "##### `file2.py` (importing `file1.py`)\n",
    "```python\n",
    "import file1\n",
    "\n",
    "# Modify the global flag to prevent execution of restricted_function\n",
    "file1.run_restricted_function = False\n",
    "\n",
    "# Now import or use any function\n",
    "file1.my_function()  # This will execute normally\n",
    "```\n",
    "\n",
    "### Explanation:\n",
    "- In `file1.py`, the function `restricted_function()` will only run if `run_restricted_function` is set to `True`.\n",
    "- In `file2.py`, you can explicitly set `file1.run_restricted_function = False` before importing or calling any functions to ensure the restricted function does not execute.\n",
    "\n",
    "---\n",
    "\n",
    "### Method 2: Conditional Imports\n",
    "\n",
    "You can prevent a function from being imported into another file by limiting its exposure using `__all__` in the module. The `__all__` list defines what should be imported when you do `from file1 import *`. By excluding the restricted function, it won't be imported directly.\n",
    "\n",
    "#### Example:\n",
    "\n",
    "##### `file1.py`\n",
    "```python\n",
    "__all__ = ['my_function']  # Limit imports to my_function only\n",
    "\n",
    "def my_function():\n",
    "    print(\"This function is available for import and execution.\")\n",
    "\n",
    "def restricted_function():\n",
    "    print(\"This function is restricted and should not be imported.\")\n",
    "```\n",
    "\n",
    "##### `file2.py` (importing `file1.py`)\n",
    "```python\n",
    "from file1 import *\n",
    "\n",
    "# restricted_function() will not be available\n",
    "my_function()  # Works fine\n",
    "```\n",
    "\n",
    "### Explanation:\n",
    "- Only the functions listed in `__all__` (in this case, `my_function()`) will be imported when using `from file1 import *`.\n",
    "- `restricted_function()` is not listed in `__all__`, so it won’t be imported or executed when using wildcard imports.\n",
    "\n",
    "---\n",
    "\n",
    "### Method 3: Use a Custom Import Mechanism\n",
    "\n",
    "You can create a custom import mechanism to selectively import or block certain functions. This can be achieved by importing specific functions explicitly or using conditionals to control access.\n",
    "\n",
    "#### Example:\n",
    "\n",
    "##### `file1.py`\n",
    "```python\n",
    "def my_function():\n",
    "    print(\"This function is available for import and execution.\")\n",
    "\n",
    "def restricted_function():\n",
    "    print(\"This function is restricted.\")\n",
    "```\n",
    "\n",
    "##### `file2.py` (importing only specific functions)\n",
    "```python\n",
    "# Import only the desired function\n",
    "from file1 import my_function\n",
    "\n",
    "# restricted_function() is not imported\n",
    "my_function()  # This works fine\n",
    "```\n",
    "\n",
    "### Explanation:\n",
    "- Instead of importing the entire `file1.py` module, you selectively import `my_function()`. The `restricted_function()` is never imported, so it can’t be executed in `file2.py`.\n",
    "\n",
    "---\n",
    "\n",
    "### Method 4: Using Private Naming Convention\n",
    "\n",
    "You can use Python’s convention for private variables and functions. If you prefix a function name with an underscore (`_`), it indicates that the function is intended to be private, and though it can still be accessed, it’s a signal to other developers that it’s not meant for public use.\n",
    "\n",
    "#### Example:\n",
    "\n",
    "##### `file1.py`\n",
    "```python\n",
    "def my_function():\n",
    "    print(\"This function is available for import and execution.\")\n",
    "\n",
    "def _restricted_function():\n",
    "    print(\"This function is intended to be private.\")\n",
    "```\n",
    "\n",
    "##### `file2.py` (importing `file1.py`)\n",
    "```python\n",
    "from file1 import my_function\n",
    "\n",
    "# _restricted_function is not imported\n",
    "my_function()  # This works fine\n",
    "```\n",
    "\n",
    "### Explanation:\n",
    "- By using the underscore `_restricted_function()`, you indicate that it is meant to be private. Although you can technically still import and use it, the naming convention discourages direct use of such functions.\n",
    "\n",
    "---\n",
    "\n",
    "### Summary of Alternatives:\n",
    "1. **Global Flag**: Use a global flag or configuration setting to control whether certain functions should be executed.\n",
    "2. **`__all__` Directive**: Use the `__all__` list to restrict which functions can be imported.\n",
    "3. **Selective Imports**: Manually import only the required functions to avoid running unwanted code.\n",
    "4. **Private Naming Convention**: Prefix the function with an underscore (`_`) to indicate that it’s private and should not be accessed outside the module.\n",
    "\n",
    "Each method can help you control the execution of functions when working across multiple files, offering flexibility based on your needs. Let me know if you want more details on any of these approaches!"
   ]
  },
  {
   "cell_type": "code",
   "execution_count": 4,
   "id": "d84ebaa0",
   "metadata": {},
   "outputs": [
    {
     "data": {
      "text/plain": [
       "'Woof!'"
      ]
     },
     "execution_count": 4,
     "metadata": {},
     "output_type": "execute_result"
    }
   ],
   "source": [
    "class Dog:\n",
    "    def speak(self):\n",
    "        return \"Woof!\"\n",
    "\n",
    "class Cat:\n",
    "    def speak(self):\n",
    "        return \"Meow!\"\n",
    "\n",
    "def animal_factory(animal_type):\n",
    "    if animal_type == \"dog\":\n",
    "        return Dog()\n",
    "    elif animal_type == \"cat\":\n",
    "        return Cat()\n",
    "\n",
    "animal_factory('dog').speak()"
   ]
  },
  {
   "cell_type": "code",
   "execution_count": 7,
   "id": "04c580c4",
   "metadata": {},
   "outputs": [
    {
     "data": {
      "text/plain": [
       "True"
      ]
     },
     "execution_count": 7,
     "metadata": {},
     "output_type": "execute_result"
    }
   ],
   "source": [
    "class Singleton:\n",
    "    _instance = None\n",
    "\n",
    "    def __new__(cls):\n",
    "        if cls._instance is None:\n",
    "            cls._instance = super(Singleton, cls).__new__(cls)\n",
    "        return cls._instance\n",
    "\n",
    "# Create the first instance\n",
    "s1 = Singleton()\n",
    "\n",
    "# Bypass the singleton by directly invoking the class\n",
    "s2 = Singleton.__new__(Singleton)  # Creates a new instance\n",
    "s1 is s2"
   ]
  },
  {
   "cell_type": "code",
   "execution_count": null,
   "id": "d90874c3",
   "metadata": {},
   "outputs": [
    {
     "name": "stdout",
     "output_type": "stream",
     "text": [
      "True\n",
      "True\n"
     ]
    }
   ],
   "source": [
    "''' This code demonstrates how to bypass the singleton pattern using the copy module.\n",
    "'''\n",
    "\n",
    "import copy\n",
    "\n",
    "class Singleton:\n",
    "    _instance = None\n",
    "\n",
    "    def __new__(cls):\n",
    "        if cls._instance is None:\n",
    "            cls._instance = super(Singleton, cls).__new__(cls)\n",
    "        return cls._instance\n",
    "\n",
    "s1 = Singleton()\n",
    "s2 = copy.copy(s1)      # Shallow copy\n",
    "s3 = copy.deepcopy(s1)  # Deep copy\n",
    "\n",
    "print(s1 is s2)  # False, they are different instances\n",
    "print(s1 is s3)"
   ]
  },
  {
   "cell_type": "code",
   "execution_count": null,
   "id": "9fdbd07e",
   "metadata": {},
   "outputs": [
    {
     "name": "stdout",
     "output_type": "stream",
     "text": [
      "True\n"
     ]
    }
   ],
   "source": [
    "''' This code defines a Singleton class that ensures only one instance of the class can be created.\n",
    "However, it also includes a method to prevent creating new instances using the __new__ method directly\n",
    "even after an instance has already been created.\n",
    "In which case  this needs ? Ans is Yes, to prevent bypassing the singleton pattern.\n",
    "'''\n",
    "\n",
    "class Singleton:\n",
    "    _instance = None\n",
    "\n",
    "    def __new__(cls):\n",
    "        if cls._instance is None:\n",
    "            cls._instance = super(Singleton, cls).__new__(cls)\n",
    "        return cls._instance\n",
    "\n",
    "    @classmethod\n",
    "    def _prevent_direct_new(cls):\n",
    "        if cls._instance is not None:\n",
    "            raise Exception(\"Use the Singleton instance already created, instead of creating a new one.\")\n",
    "\n",
    "# Create the first instance\n",
    "s1 = Singleton()\n",
    "\n",
    "# Attempt to bypass the singleton with __new__\n",
    "# try:\n",
    "s2 = Singleton.__new__(Singleton)\n",
    "#Singleton._prevent_direct_new()  # Checks if trying to create another instance\n",
    "# except Exception as e:\n",
    "#     print(e)  # This will catch the attempt to bypass and raise an error\n",
    "\n",
    "print(s1 is s2)  # False (if you remove the exception handling, otherwise it would be prevented)\n"
   ]
  },
  {
   "cell_type": "code",
   "execution_count": null,
   "id": "ba6e9f54",
   "metadata": {},
   "outputs": [
    {
     "name": "stdout",
     "output_type": "stream",
     "text": [
      "Applying add on 3 and 4\n",
      "Result of add: 7\n",
      "Applying mul on 3 and 4\n",
      "Result of mul: 12\n"
     ]
    },
    {
     "data": {
      "text/plain": [
       "12"
      ]
     },
     "execution_count": 12,
     "metadata": {},
     "output_type": "execute_result"
    }
   ],
   "source": [
    "''' this code defines a decorator that can apply either addition or multiplication to the arguments of a function,\n",
    " based on the function passed to the decorator.'''\n",
    "\n",
    "def add(a, b):\n",
    "    return a + b\n",
    "\n",
    "def mul(a, b):\n",
    "    return a * b\n",
    "\n",
    "def apply_operation(operation):\n",
    "    def decorator(func):\n",
    "        def wrapper(a, b):\n",
    "            print(f\"Applying {operation.__name__} on {a} and {b}\")\n",
    "            result = operation(a, b)  # Perform the operation (add or mul)\n",
    "            print(f\"Result of {operation.__name__}: {result}\")\n",
    "            return result\n",
    "        return wrapper\n",
    "    return decorator\n",
    "\n",
    "#### Step 3: Apply the Decorator with `add` or `mul`\n",
    "#Now, you can use the `apply_operation` decorator and pass either the `add` or `mul` function.\n",
    "\n",
    "#python\n",
    "@apply_operation(add)\n",
    "def perform_addition(a, b):\n",
    "    return a, b\n",
    "\n",
    "@apply_operation(mul)\n",
    "def perform_multiplication(a, b):\n",
    "    return a, b\n",
    "\n",
    "# Call the decorated functions\n",
    "perform_addition(3, 4)\n",
    "perform_multiplication(3, 4)\n",
    "\n"
   ]
  },
  {
   "cell_type": "code",
   "execution_count": null,
   "id": "1990c6ac",
   "metadata": {},
   "outputs": [
    {
     "name": "stdout",
     "output_type": "stream",
     "text": [
      "[1, 4, 5, 6, 7]\n"
     ]
    }
   ],
   "source": [
    "# Write a Python Program to sort a list of unique elements without using built-in functions\n",
    "\n",
    "ls = [1, 4, 5, 7, 6, 7, 5, 4, 1]\n",
    "\n",
    "# Get unique values manually\n",
    "unique_ls = []\n",
    "for num in ls:\n",
    "    if num not in unique_ls:\n",
    "        unique_ls.append(num)\n",
    "\n",
    "# Sort the list manually (using bubble sort for simplicity)\n",
    "for i in range(len(unique_ls)):\n",
    "    \n",
    "    for j in range(0, len(unique_ls) - i - 1): # Last i elements are already in place #logic is to compare adjacent elements \n",
    "        \n",
    "        if unique_ls[j] > unique_ls[j + 1]:\n",
    "            unique_ls[j], unique_ls[j + 1] = unique_ls[j + 1], unique_ls[j]\n",
    "\n",
    "print(unique_ls)\n"
   ]
  },
  {
   "cell_type": "code",
   "execution_count": 5,
   "id": "187c09dc",
   "metadata": {},
   "outputs": [
    {
     "name": "stdout",
     "output_type": "stream",
     "text": [
      "True\n",
      "True\n"
     ]
    }
   ],
   "source": [
    "def is_balanced(inp):\n",
    "    count = 0\n",
    "    for char in inp:\n",
    "        if char == '(':\n",
    "            count += 1\n",
    "        elif char == ')':\n",
    "            count -= 1\n",
    "        \n",
    "        # If count goes negative, there's a closing parenthesis without a matching opening one\n",
    "        if count < 0:\n",
    "            return \"False\"\n",
    "    \n",
    "    # If count is not zero, there are unmatched opening parentheses\n",
    "    return \"True\" if count == 0 else \"False\"\n",
    "\n",
    "inp = '()()()'\n",
    "print(is_balanced(inp))\n",
    "\n",
    "inp = '()[]{'\n",
    "print(is_balanced(inp))"
   ]
  },
  {
   "cell_type": "code",
   "execution_count": 2,
   "id": "8e27402b",
   "metadata": {},
   "outputs": [
    {
     "name": "stdout",
     "output_type": "stream",
     "text": [
      "True\n",
      "False\n",
      "True\n",
      "True\n"
     ]
    }
   ],
   "source": [
    "def is_balanced_general(inp):\n",
    "    # Define your own pairs of brackets or delimiters\n",
    "    bracket_pairs = {\n",
    "        '(': ')',\n",
    "        '[': ']',\n",
    "        '{': '}',\n",
    "        # Add more if needed, e.g., '<': '>'\n",
    "    }\n",
    "    # Initialize counters for each bracket type\n",
    "    counters = {open_br: 0 for open_br in bracket_pairs.keys()}\n",
    "    \n",
    "    for char in inp:\n",
    "        if char in bracket_pairs:  # Opening bracket\n",
    "            counters[char] += 1\n",
    "        elif char in bracket_pairs.values():  # Closing bracket\n",
    "            # Find the corresponding opening bracket\n",
    "            open_br = next((key for key, value in bracket_pairs.items() if value == char), None)\n",
    "            if open_br is None or counters[open_br] == 0:\n",
    "                return False  # Either mismatch or extra closing bracket\n",
    "            counters[open_br] -= 1\n",
    "    \n",
    "    # At the end, all counters must be zero for the string to be balanced\n",
    "    return all(count == 0 for count in counters.values())\n",
    "\n",
    "\n",
    "\n",
    "# Test with various inputs\n",
    "inp1 = '()[]{}'  # Balanced\n",
    "inp2 = '()[]{}('  # Unbalanced\n",
    "inp3 = '{[()]}'  # Balanced\n",
    "inp4 = '{[(])}'  # Unbalanced\n",
    "\n",
    "print(is_balanced_general(inp1))  # Output: True\n",
    "print(is_balanced_general(inp2))  # Output: False\n",
    "print(is_balanced_general(inp3))  # Output: True\n",
    "print(is_balanced_general(inp4))  # Output: False\n"
   ]
  },
  {
   "cell_type": "code",
   "execution_count": 4,
   "id": "e7a8102e",
   "metadata": {},
   "outputs": [
    {
     "data": {
      "text/plain": [
       "False"
      ]
     },
     "execution_count": 4,
     "metadata": {},
     "output_type": "execute_result"
    }
   ],
   "source": [
    "is_balanced_general('()()(')"
   ]
  },
  {
   "cell_type": "code",
   "execution_count": 2,
   "id": "cbf44be9",
   "metadata": {},
   "outputs": [
    {
     "name": "stdout",
     "output_type": "stream",
     "text": [
      "Collecting requests\n",
      "  Downloading requests-2.32.3-py3-none-any.whl.metadata (4.6 kB)\n",
      "Collecting charset-normalizer<4,>=2 (from requests)\n",
      "  Downloading charset_normalizer-3.4.0-cp312-cp312-win_amd64.whl.metadata (34 kB)\n",
      "Collecting idna<4,>=2.5 (from requests)\n",
      "  Downloading idna-3.10-py3-none-any.whl.metadata (10 kB)\n",
      "Collecting urllib3<3,>=1.21.1 (from requests)\n",
      "  Downloading urllib3-2.2.3-py3-none-any.whl.metadata (6.5 kB)\n",
      "Collecting certifi>=2017.4.17 (from requests)\n",
      "  Downloading certifi-2024.8.30-py3-none-any.whl.metadata (2.2 kB)\n",
      "Downloading requests-2.32.3-py3-none-any.whl (64 kB)\n",
      "Downloading certifi-2024.8.30-py3-none-any.whl (167 kB)\n",
      "Downloading charset_normalizer-3.4.0-cp312-cp312-win_amd64.whl (102 kB)\n",
      "Downloading idna-3.10-py3-none-any.whl (70 kB)\n",
      "Downloading urllib3-2.2.3-py3-none-any.whl (126 kB)\n",
      "Installing collected packages: urllib3, idna, charset-normalizer, certifi, requests\n",
      "Successfully installed certifi-2024.8.30 charset-normalizer-3.4.0 idna-3.10 requests-2.32.3 urllib3-2.2.3\n",
      "Note: you may need to restart the kernel to use updated packages.\n"
     ]
    },
    {
     "name": "stderr",
     "output_type": "stream",
     "text": [
      "  WARNING: The script normalizer.exe is installed in 'c:\\Users\\Shashank\\AppData\\Local\\Programs\\Python\\Python312\\Scripts' which is not on PATH.\n",
      "  Consider adding this directory to PATH or, if you prefer to suppress this warning, use --no-warn-script-location.\n"
     ]
    }
   ],
   "source": [
    "pip install requests"
   ]
  },
  {
   "cell_type": "code",
   "execution_count": null,
   "id": "eb54d030",
   "metadata": {},
   "outputs": [],
   "source": []
  },
  {
   "cell_type": "code",
   "execution_count": 5,
   "id": "8114b21a",
   "metadata": {},
   "outputs": [
    {
     "name": "stdout",
     "output_type": "stream",
     "text": [
      "Expecting value: line 1 column 1 (char 0)\n"
     ]
    }
   ],
   "source": [
    "import requests\n",
    "try:\n",
    "    url = \"https://example.com/public/randomusers\"\n",
    "    querystring = {\"page\":\"1\",\"limit\":\"10\"}\n",
    "    headers = {\"accept\": \"application/json\"}\n",
    "    response = requests.get(url, headers=headers, params=querystring)\n",
    "    print(response.json())\n",
    "except Exception as e:\n",
    "    print(e)"
   ]
  },
  {
   "cell_type": "code",
   "execution_count": 6,
   "id": "ee764144",
   "metadata": {},
   "outputs": [
    {
     "name": "stdout",
     "output_type": "stream",
     "text": [
      "HTTP error occurred: 404 Client Error: Not Found for url: https://example.com/public/randomusers?page=1&limit=10\n"
     ]
    }
   ],
   "source": [
    "import requests\n",
    "\n",
    "try:\n",
    "    url = \"https://example.com/public/randomusers\"\n",
    "    querystring = {\"page\": \"1\", \"limit\": \"10\"}\n",
    "    headers = {\"accept\": \"application/json\"}\n",
    "\n",
    "    response = requests.get(url, headers=headers, params=querystring)\n",
    "    \n",
    "    # Check if the request was successful\n",
    "    response.raise_for_status()\n",
    "\n",
    "    # Check if the response is not empty\n",
    "    if response.headers.get(\"Content-Type\") == \"application/json\":\n",
    "        print(response.json())\n",
    "    else:\n",
    "        print(\"Response is not in JSON format. Content:\", response.text)\n",
    "\n",
    "except requests.exceptions.HTTPError as http_err:\n",
    "    print(f\"HTTP error occurred: {http_err}\")\n",
    "except requests.exceptions.ConnectionError as conn_err:\n",
    "    print(f\"Connection error occurred: {conn_err}\")\n",
    "except requests.exceptions.Timeout as timeout_err:\n",
    "    print(f\"Timeout error occurred: {timeout_err}\")\n",
    "except requests.exceptions.RequestException as req_err:\n",
    "    print(f\"An error occurred: {req_err}\")\n",
    "except ValueError as json_err:\n",
    "    print(f\"JSON decoding failed: {json_err}\")\n",
    "except Exception as e:\n",
    "    print(f\"An unexpected error occurred: {e}\")\n"
   ]
  },
  {
   "cell_type": "code",
   "execution_count": 17,
   "id": "6122a65b",
   "metadata": {},
   "outputs": [
    {
     "name": "stdout",
     "output_type": "stream",
     "text": [
      "{'gender': 'female', 'name': {'title': 'Mrs', 'first': 'Hannelore', 'last': 'Münster'}, 'location': {'street': {'number': 7128, 'name': 'Wiesenstraße'}, 'city': 'Witten', 'state': 'Schleswig-Holstein', 'country': 'Germany', 'postcode': 77496, 'coordinates': {'latitude': '44.7005', 'longitude': '93.8748'}, 'timezone': {'offset': '-8:00', 'description': 'Pacific Time (US & Canada)'}}, 'email': 'hannelore.munster@example.com', 'login': {'uuid': '2452cee6-4222-425c-9b88-15639ce75dbc', 'username': 'blackpeacock571', 'password': 'quest1', 'salt': 'A1znq7RS', 'md5': 'e9b6f2baa7ffd669191508a87c9b0a4b', 'sha1': 'f500acc3990cb19a0964c9ab99e72b9e1fd0d4d1', 'sha256': 'e16516af1c11c5a91760096cca9219c08f0a62ef513a172a416ea9c593bfb0d8'}, 'dob': {'date': '1992-10-19T08:35:04.307Z', 'age': 30}, 'registered': {'date': '2020-08-05T16:56:14.273Z', 'age': 2}, 'phone': '0822-2109047', 'cell': '0174-8554151', 'id': 394, 'picture': {'large': 'https://randomuser.me/api/portraits/women/87.jpg', 'medium': 'https://randomuser.me/api/portraits/med/women/87.jpg', 'thumbnail': 'https://randomuser.me/api/portraits/thumb/women/87.jpg'}, 'nat': 'DE'}\n",
      "fullname is Hannelore Münster, city - Witten, state - Schleswig-Holstein, country - Germany\n"
     ]
    }
   ],
   "source": [
    "import requests\n",
    "import json\n",
    "\n",
    "url = \"https://api.freeapi.app/api/v1/public/randomusers/user/random\"\n",
    "\n",
    "headers = {\"accept\": \"application/json\"}\n",
    "\n",
    "response = requests.get(url, headers=headers)\n",
    "\n",
    "res = response.json()\n",
    "\n",
    "data = res['data']\n",
    "print(data)\n",
    "\n",
    "name = data['name']['first']+' '+ data['name']['last']\n",
    "city = data['location']['city']\n",
    "state = data['location']['state']\n",
    "country = data['location']['country']\n",
    "print(f'fullname is {name}, city - {city}, state - {state}, country - {country}')\n",
    "\n"
   ]
  },
  {
   "cell_type": "code",
   "execution_count": 18,
   "id": "2866d1c9",
   "metadata": {},
   "outputs": [
    {
     "name": "stdout",
     "output_type": "stream",
     "text": [
      "{'statusCode': 200, 'data': {'method': 'POST', 'headers': {'connection': 'upgrade', 'host': 'api.freeapi.app', 'x-real-ip': '103.117.218.127', 'x-forwarded-for': '103.117.218.127', 'content-length': '0', 'user-agent': 'python-requests/2.32.3', 'accept-encoding': 'gzip, deflate', 'accept': 'application/json'}, 'origin': '::ffff:172.26.0.3', 'url': 'http://api.freeapi.app/api/v1/kitchen-sink/http-methods/post'}, 'message': 'POST request', 'success': True}\n"
     ]
    }
   ],
   "source": [
    "import requests\n",
    "\n",
    "url = \"https://api.freeapi.app/api/v1/kitchen-sink/http-methods/post\"\n",
    "\n",
    "headers = {\"accept\": \"application/json\"}\n",
    "\n",
    "response = requests.post(url, headers=headers)\n",
    "\n",
    "print(response.json())"
   ]
  },
  {
   "cell_type": "markdown",
   "id": "2db293cd",
   "metadata": {},
   "source": [
    "\n",
    "\n",
    "\n",
    "Today, we’re delving into the realm of Python development, particularly focusing on the top 10 interview questions commonly asked when seeking a senior Python developer. I’ll walk you through each question with clear explanations and concise answers, presented in a conversational format between an interviewer and an ideal candidate.\n",
    "\n",
    "1. Interviewer: “Let’s dive right in. Can you explain the difference between list and tuple in Python?”\n",
    "\n",
    "Candidate: “Certainly! Lists and tuples are both sequence data types in Python, fundamental for storing and managing collections of items. The key distinction between them is their mutability. Lists, like dynamic arrays, are mutable, allowing the addition, removal, or modification of elements after their creation. On the other hand, tuples are immutable, embodying a fixed collection of elements. Once a tuple is created, its elements cannot be altered, providing a stable and unchanging dataset.”\n",
    "\n",
    "Interviewer: “That’s clear. Now, could you provide an example of a scenario where you would prefer using a list over a tuple, or vice versa?”\n",
    "\n",
    "Candidate: “Certainly! Let’s say we’re dealing with a collection of user data, and we want to update a user’s information. In this case, a list would be preferable because we can easily modify specific elements, such as updating a user’s email or username. On the other hand, if we have a set of constant values representing the days of the week, where we don’t expect any changes, using a tuple would be more appropriate for the assurance of immutability.”\n",
    "\n",
    "2. Interviewer: “Excellent explanation. Moving on, what are decorators in Python and how do they work?”\n",
    "\n",
    "Candidate: “Certainly! Decorators in Python are like the wizards of function modification. They empower you to enchant your functions with additional functionalities without cluttering their original code. Picture a decorator as a magical spell you cast over a function, enhancing or altering its behavior. Technically, decorators are functions that take another function as their argument, weave their magic around it, and then return a new function with the upgraded capabilities. They act as a versatile tool, often employed for tasks such as logging, authentication, and memoization, making your code more modular, readable, and elegant.”\n",
    "\n",
    "Interviewer: “Fascinating analogy! Can you provide an example of how you’ve utilized decorators in your previous projects?”\n",
    "\n",
    "Candidate: “Certainly! Imagine we have a web application with various routes that require authentication. Instead of cluttering each route function with authentication logic, I’ve used a decorator to wrap those functions. The decorator checks if the user is authenticated; if not, it redirects them to the login page; if yes, it allows the function to execute. This way, the authentication logic is neatly separated, making the code more maintainable and adhering to the DRY (Don’t Repeat Yourself) principle.”\n",
    "\n",
    "Interviewer: “Great example! Now, how do you ensure that decorators themselves are reusable and follow best practices?”\n",
    "\n",
    "Candidate: “To ensure reusability, I design decorators to be generic and customizable. I often make them accept parameters, allowing me to configure their behavior based on specific requirements. Additionally, I ensure that decorators adhere to best practices, such as preserving the original function’s signature using functools.wraps. This not only maintains clarity in documentation but also ensures that introspection tools and IDEs work seamlessly with the decorated functions. Ultimately, writing decorators that are modular, well-documented, and adherent to conventions enhances their reusability and maintainability.\"\n",
    "\n",
    "3. Interviewer: “That’s clear. Now, could you explain the concept of a generator in Python?”\n",
    "\n",
    "Candidate: “Absolutely! Generators are like magical iterators in Python. Instead of creating and storing all values in memory at once, they generate values on the fly, allowing for more memory-efficient operations. A generator function uses the yield keyword, which pauses the function's state, allowing it to be resumed later. This is particularly useful for scenarios where you're dealing with large datasets or infinite sequences, providing efficiency without compromising on functionality.\"\n",
    "\n",
    "Interviewer: “That’s intriguing. Can you share an example of when you would choose a generator over a traditional list for iteration?”\n",
    "\n",
    "Candidate: “Certainly! Imagine we need to process a massive log file with millions of entries. Using a generator, we can iterate through the file one line at a time, processing each entry without loading the entire file into memory. This not only saves memory but also speeds up the processing as we don’t have to wait for the entire file to be read before starting our operations. Generators shine in scenarios where lazy evaluation and efficiency are crucial.”\n",
    "\n",
    "4. Interviewer: “Great explanation. Onto the next question: What is the Global Interpreter Lock (GIL) in Python and how does it impact multi-threaded programs?”\n",
    "\n",
    "Candidate: “Certainly. The Global Interpreter Lock, or GIL, is a unique aspect of CPython, the default and widely used implementation of Python. Think of the GIL as a traffic cop situated inside the Python interpreter. It’s a mutex, a lock that protects access to Python objects and prevents multiple native threads from executing Python bytecodes simultaneously. Now, while this might sound like a good safety feature, it comes with a caveat. In the realm of CPU-bound tasks, where the focus is on heavy computation, the GIL can be a bit of a bottleneck. It restricts the full utilization of multiple CPU cores because only one thread can execute Python bytecode at a time.”\n",
    "\n",
    "Interviewer: “So, in what scenarios does the GIL become less of a concern, and how can developers mitigate its impact?”\n",
    "\n",
    "Candidate: “The GIL becomes less of a concern in I/O-bound tasks, where threads spend a significant amount of time waiting for input/output operations to complete. Since the GIL is released during these waiting periods, it doesn’t impede the overall performance in such scenarios. To mitigate the impact of the GIL on CPU-bound tasks, developers often resort to alternative approaches, such as multiprocessing or using external libraries that release the GIL during specific operations. Additionally, in cases where parallelism is crucial, Pythonistas might consider using other implementations like Jython or IronPython, which don’t have a GIL, though they have their own trade-offs.”\n",
    "\n",
    "Interviewer: “Given these complexities, can you share an example from your experience where you had to navigate the challenges posed by the GIL in a multi-threaded application?”\n",
    "\n",
    "Candidate: “Certainly! In a data processing application, we had to deal with a large dataset that required parallel processing. However, due to the GIL, achieving true parallelism with threads was challenging. We opted for a multiprocessing approach, dividing the workload among multiple processes to leverage the full power of available CPU cores. It required careful consideration of inter-process communication and data synchronization, but it allowed us to overcome the GIL limitations and significantly improve the application’s performance.”\n",
    "\n",
    "5. Interviewer: “Thank you for clarifying that. Now, let’s discuss Python’s garbage collection mechanism. How does it work and when does it occur?”\n",
    "\n",
    "Candidate: “Certainly! Python’s garbage collection mechanism is akin to having a diligent janitor who ensures the memory space is tidy and clutter-free. It operates on the principle of automatically deallocating memory occupied by objects that are no longer in use or reachable by the program. Python employs a two-pronged approach for garbage collection: reference counting and a cyclic garbage collector.\n",
    "\n",
    "Reference counting involves keeping track of the number of references to an object. When this count drops to zero, it’s a sign that the object is no longer needed, and the memory it occupies can be reclaimed. However, reference counting alone has its limitations, especially when dealing with circular references. That’s where the cyclic garbage collector comes into play. It identifies and collects cycles of objects that reference each other, preventing memory leaks.\n",
    "\n",
    "Garbage collection doesn’t happen continuously but rather at specific intervals during program execution. This periodic cleanup is triggered by factors such as reaching predefined memory allocation thresholds or explicit calls to gc.collect(). It ensures that the memory space stays efficient, preventing unnecessary memory leaks and contributing to the overall stability of the Python runtime environment.\"\n",
    "\n",
    "Interviewer: “Impressive! Can you elaborate on how circular references are detected and handled by the cyclic garbage collector?”\n",
    "\n",
    "Candidate: “Absolutely! Circular references occur when a group of objects reference each other in a cycle, forming an interconnected structure. This can pose a challenge for reference counting alone, as the reference counts of these objects never reach zero. The cyclic garbage collector, utilizing a technique called ‘graph traversal,’ identifies these cycles. It starts from the objects known to be in use, traverses through their references, and marks each visited object. After marking, the collector can then identify and collect the unmarked objects, breaking the circular references and freeing up memory. This process ensures that even in scenarios where reference counting might fall short, the cyclic garbage collector steps in to maintain a clean and efficient memory space.”\n",
    "\n",
    "Interviewer: “In your experience, have you ever encountered challenges related to garbage collection, and how did you address them?”\n",
    "\n",
    "Candidate: “Certainly. In a project with high memory usage, we faced occasional performance hits due to the automatic garbage collection kicking in at inopportune moments. We optimized our code to minimize unnecessary object creation and judiciously used the gc module to fine-tune garbage collection, invoking it during periods of lower activity. This allowed us to strike a balance between memory management and application performance, ensuring that garbage collection happened efficiently without adversely impacting the user experience.\"\n",
    "\n",
    "6. Interviewer: “Clear explanation. Next question: Can you explain the difference between __str__ and __repr__ in Python?\"\n",
    "\n",
    "Candidate: “Certainly! Both __str__ and __repr__ are special methods used to represent objects as strings, but they serve different purposes. __str__ is called by the str() function and is intended to return a human-readable string representation of the object. On the other hand, __repr__ is called by the repr() function and is meant to return an unambiguous string representation that can be used to recreate the object.\"\n",
    "\n",
    "Interviewer: “Can you share an example from your experience where the distinction between str and repr proved beneficial?”\n",
    "\n",
    "Candidate: “Absolutely. In a financial application, we had a complex class representing financial transactions. When developers were debugging or inspecting the code, having a detailed and unambiguous representation of the transaction object proved immensely valuable. So, we implemented a robust __repr__ method to provide all the necessary details – transaction amount, type, date, involved parties, and more. On the other hand, the __str__ method was crafted to present a more concise and user-friendly version for logging and display purposes. This clear separation allowed us to cater to both the debugging needs of developers and the user-facing requirements, enhancing the overall maintainability of the codebase.\"\n",
    "\n",
    "7. Interviewer: “Well explained. Let’s move on to a more practical question: How would you handle errors and exceptions in Python?”\n",
    "\n",
    "Candidate: “Certainly. In Python, error handling is accomplished through the use of try-except blocks. The try block encapsulates the code that might raise an exception, and the except block provides a mechanism for handling different types of exceptions. Additionally, the finally block allows you to specify code that should always execute, regardless of whether an exception occurred or not.”\n",
    "\n",
    "Interviewer: “Can you provide an example where effective error handling played a crucial role in maintaining the stability of an application?”\n",
    "\n",
    "Candidate: “Certainly. Consider a scenario in a web scraping project where data is fetched from external sources. Network issues or unexpected changes in data format could disrupt the process. By implementing try-except blocks, we could gracefully handle specific exceptions — like timeouts or connection errors. For each exception type, we defined appropriate responses, such as retrying the operation, logging the issue, or skipping the problematic data point. The finally block was utilized to close resources, ensuring proper cleanup even in the face of unexpected challenges.”\n",
    "\n",
    "Interviewer: “Given the complexity of some projects, how do you balance comprehensive error handling with code readability?”\n",
    "\n",
    "Candidate: “Maintaining a balance between thorough error handling and readable code is crucial. Instead of catching every conceivable exception, focus on handling the ones you anticipate or can reasonably predict. Overhandling exceptions can clutter the code. Additionally, logging plays a crucial role. Rather than inundating users or developers with detailed error messages during runtime, you can log the specifics for later analysis. This approach ensures informative error handling without sacrificing code readability, making the codebase more navigable.”\n",
    "\n",
    "8. Interviewer: “Good overview. Now, let’s talk about Python’s virtual environments. Why are they used and how would you create one?”\n",
    "\n",
    "Candidate: “Virtual environments in Python are used to create isolated environments for Python projects, allowing you to install dependencies without affecting other projects or the system Python installation. They are created using the venv module, which comes bundled with Python 3. To create a virtual environment, you simply run python3 -m venv <path_to_env> where <path_to_env> is the directory where you want to create the environment.\"\n",
    "\n",
    "9. Interviewer: “Thank you for the explanation. Now, onto a more advanced topic: Could you explain how asynchronous programming works in Python?”\n",
    "\n",
    "Candidate: “Certainly, let’s delve into the intricate world of asynchronous programming in Python. At its core, asynchronous programming provides a way to write non-blocking, concurrent code, allowing tasks to progress independently. The key actors in this scenario are coroutines and event loops. Coroutines are special functions that can be paused and resumed during execution, marked by the async keyword and utilized with await. They enable the program to switch between tasks efficiently without waiting for each to complete fully. On the stage managing these coroutines is the event loop – a mechanism orchestrating the execution of multiple coroutines, ensuring they run cooperatively without blocking one another. This dance of coroutines and event loops forms the basis of Python's async/await syntax. It's like having a choreographer (event loop) coordinating a group of dancers (coroutines) to perform a seamless and non-blocking routine.\"\n",
    "\n",
    "Interviewer: “Can you provide a practical example where asynchronous programming proved beneficial, and what challenges did you encounter?”\n",
    "\n",
    "Candidate: “Certainly. In a web scraping project, we had to fetch data from multiple sources concurrently. Using asynchronous programming, we could issue requests to different servers without waiting for each response before moving to the next one. This significantly improved the overall speed of data retrieval, as the program could efficiently switch between tasks while waiting for I/O operations, such as network requests, to complete. However, it’s important to note that asynchronous programming may not be suitable for all scenarios. If the tasks are primarily CPU-bound, asynchronous code might not yield the same performance benefits and could even introduce complexity without substantial gains.”\n",
    "\n",
    "Interviewer: “Given the complexities involved, how do you ensure the maintainability of asynchronous code, especially in large projects?”\n",
    "\n",
    "Candidate: “An excellent question. While asynchronous programming offers performance advantages, it does introduce a level of complexity that can impact maintainability. First and foremost, clear documentation is crucial. Clearly stating the purpose of each coroutine, the dependencies between them, and the role of the event loop provides a roadmap for developers navigating the codebase. Additionally, leveraging libraries and frameworks built for asynchronous programming, such as asyncio in Python, helps maintain consistency and ensures adherence to best practices. Thorough testing is also vital, as the asynchronous nature can introduce subtle bugs that are harder to detect. A disciplined and well-documented approach ensures that the benefits of asynchronous programming outweigh its complexities in large projects.”\n",
    "\n",
    "10. Interviewer: “Great overview. Finally, let’s discuss Python’s support for functional programming. What are first-class functions, and how are they used?”\n",
    "\n",
    "Candidate: “In Python, a first-class function is not just a piece of code; it’s a full-fledged citizen in the programming ecosystem. It can be treated with the utmost respect, passed around like a message, and even assigned a seat at the variable table. This means you can pass functions as arguments to other functions, return them as values from functions, and store them in variables, opening up a world of expressive possibilities.\n",
    "\n",
    "These first-class functions lay the foundation for powerful functional programming techniques. Higher-order functions, for instance, become a reality, allowing you to write functions that take other functions as arguments or return functions as results. This brings a level of abstraction that can lead to elegant and concise code. Function composition, another jewel in the functional programming crown, becomes a natural choice. You can seamlessly combine functions to create new ones, enhancing code readability and maintainability. Closures, the ability of a function to remember the environment in which it was created, become a handy tool in certain scenarios, providing encapsulation and state retention.\n",
    "\n",
    "In practice, first-class functions are frequently employed in Python for a variety of tasks. Callbacks, where a function is passed as an argument to another function to be executed later, become straightforward. Event handling, where functions are assigned to handle specific events, benefits from the flexibility of first-class functions. Functional transformations, such as mapping and filtering, are streamlined by the ability to pass functions as arguments. In essence, first-class functions in Python empower developers to embrace the principles of functional programming, fostering code that is concise, modular, and often more expressive.”\n",
    "\n",
    "Interviewer: “Given the flexibility that first-class functions offer, can you share a real-world scenario where you found them particularly beneficial in your Python development experience?”\n",
    "\n",
    "Candidate: “Certainly. In a data processing pipeline, we had a need to apply a series of transformations to a dataset. By leveraging first-class functions, we created a library of transformation functions, each addressing a specific aspect of the data manipulation. Our main processing function could then take these transformation functions as arguments, allowing us to customize the data processing workflow dynamically. This not only enhanced the flexibility of our pipeline but also simplified the addition of new transformations without modifying the core processing logic. It showcased the power of first-class functions in creating modular and extensible code.”\n",
    "\n",
    "Interviewer: “Thank you for taking the interview. Your responses were thorough and demonstrated a solid understanding of the topics. I appreciate your detailed explanations. I wish you the best in the further rounds! :)”\n",
    "\n",
    "Candidate: “It was my pleasure. I thoroughly enjoyed discussing my passion for Python development. Thank you for the opportunity!”\n",
    "\n",
    "And there you have it! I’ve demystified the top 10 interview questions for a senior Python developer, providing clear explanations and concise answers to each question. I hope this conversation-style breakdown has helped you better understand these fundamental concepts in Python development. Stay tuned for more insightful content in my future posts!\n",
    "\n"
   ]
  },
  {
   "cell_type": "code",
   "execution_count": 1,
   "id": "d3074db6",
   "metadata": {},
   "outputs": [
    {
     "name": "stdout",
     "output_type": "stream",
     "text": [
      "True\n"
     ]
    }
   ],
   "source": [
    "class Singleton:\n",
    "    _instance = None\n",
    "\n",
    "    def __new__(cls):\n",
    "        if cls._instance is None:\n",
    "            cls._instance = super(Singleton, cls).__new__(cls)\n",
    "        return cls._instance\n",
    "\n",
    "# Usage\n",
    "singleton1 = Singleton()\n",
    "singleton2 = Singleton()\n",
    "\n",
    "print(singleton1 is singleton2)"
   ]
  },
  {
   "cell_type": "code",
   "execution_count": null,
   "id": "2019e82c",
   "metadata": {},
   "outputs": [],
   "source": []
  }
 ],
 "metadata": {
  "kernelspec": {
   "display_name": ".venv",
   "language": "python",
   "name": "python3"
  },
  "language_info": {
   "codemirror_mode": {
    "name": "ipython",
    "version": 3
   },
   "file_extension": ".py",
   "mimetype": "text/x-python",
   "name": "python",
   "nbconvert_exporter": "python",
   "pygments_lexer": "ipython3",
   "version": "3.12.0"
  }
 },
 "nbformat": 4,
 "nbformat_minor": 5
}
