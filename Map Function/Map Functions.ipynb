{
 "cells": [
  {
   "cell_type": "markdown",
   "id": "b76ceee8",
   "metadata": {},
   "source": [
    "🧠 What is the map() Function?\n",
    "\n",
    "The map() function is a built-in Python function used to apply a function to each item in an iterable (like a list, tuple, etc.) and return a new iterable (a map object).\n",
    "\n",
    "📌 Syntax:\n",
    "map(function, iterable)\n",
    "\n",
    "\n",
    "function: A function to apply to each element.\n",
    "\n",
    "iterable: A list, tuple, or any iterable.\n",
    "\n",
    "The result is a map object, which you can convert to a list, tuple, etc.\n",
    "\n",
    "✅ Key Points:\n",
    "\n",
    "map() applies the same function to every element of the iterable.\n",
    "\n",
    "Returns a map object, which is lazy (doesn’t compute results until needed).\n",
    "\n",
    "You typically wrap it in list() or tuple() to see the result."
   ]
  },
  {
   "cell_type": "markdown",
   "id": "80d1543b",
   "metadata": {},
   "source": [
    "📌 When to Use map()\n",
    "\n",
    "Use map() when:\n",
    "\n",
    "You want to transform data (not filter or reduce it).\n",
    "\n",
    "You want a functional programming style.\n",
    "\n",
    "You’re applying a pure function (no side effects) to each element.\n",
    "\n",
    "⚠️ Tips & Gotchas\n",
    "\n",
    "map() returns a map object, not a list:\n",
    "\n",
    "type(map(str.upper, names))  # <class 'map'>\n",
    "\n",
    "\n",
    "So you often need to use:\n",
    "\n",
    "list(map(...))\n",
    "\n",
    "\n",
    "If you pass multiple iterables, map() stops at the shortest one.\n",
    "\n",
    "🔄 Alternative: List Comprehension\n",
    "\n",
    "Sometimes, a list comprehension is more readable:\n",
    "\n",
    "squares = [x*x for x in numbers]\n",
    "\n",
    "\n",
    "Equivalent to:\n",
    "\n",
    "squares = list(map(lambda x: x*x, numbers))\n",
    "\n",
    "🧪 Summary\n",
    "Feature\tDetails\n",
    "Purpose\tApply a function to all items in an iterable\n",
    "Returns\tA map object (convert with list())\n",
    "Accepts\tOne or more iterables\n",
    "Common with\tlambda functions or built-ins like str.upper, int, etc."
   ]
  },
  {
   "cell_type": "code",
   "execution_count": 1,
   "id": "ad9163d5",
   "metadata": {},
   "outputs": [
    {
     "name": "stdout",
     "output_type": "stream",
     "text": [
      "[1, 4, 9, 16, 25]\n"
     ]
    }
   ],
   "source": [
    "# Square each number in a list\n",
    "def square(x):\n",
    "    return x * x\n",
    "\n",
    "numbers = [1, 2, 3, 4, 5]\n",
    "squares = list(map(square, numbers))\n",
    "\n",
    "print(squares)"
   ]
  },
  {
   "cell_type": "code",
   "execution_count": 5,
   "id": "30602b3e",
   "metadata": {},
   "outputs": [
    {
     "name": "stdout",
     "output_type": "stream",
     "text": [
      "[1, 4, 9, 16, 25]\n"
     ]
    }
   ],
   "source": [
    "numbers = [1, 2, 3, 4, 5]\n",
    "squares = list(map(lambda x: x **2 , numbers))\n",
    "print(squares)"
   ]
  },
  {
   "cell_type": "code",
   "execution_count": 6,
   "id": "0cc97ffd",
   "metadata": {},
   "outputs": [
    {
     "name": "stdout",
     "output_type": "stream",
     "text": [
      "['APPLE', 'BANANA', 'CHERRY']\n"
     ]
    }
   ],
   "source": [
    "# convert list of strings to uppercase\n",
    "fruits = ['apple', 'banana', 'cherry']\n",
    "def to_uppercase(s):\n",
    "    return s.upper()\n",
    "upper_fruits = list(map(to_uppercase, fruits))\n",
    "print(upper_fruits)"
   ]
  },
  {
   "cell_type": "code",
   "execution_count": 7,
   "id": "8f9487be",
   "metadata": {},
   "outputs": [
    {
     "name": "stdout",
     "output_type": "stream",
     "text": [
      "[5, 7, 9]\n"
     ]
    }
   ],
   "source": [
    "#Add two lists element-wise\n",
    "a = [1, 2, 3]\n",
    "b = [4, 5, 6]\n",
    "result = list(map(lambda x, y: x + y, a, b))\n",
    "print(result)"
   ]
  },
  {
   "cell_type": "code",
   "execution_count": 8,
   "id": "7efac9c9",
   "metadata": {},
   "outputs": [
    {
     "name": "stdout",
     "output_type": "stream",
     "text": [
      "['Alice', 'Bob', 'Carol']\n"
     ]
    }
   ],
   "source": [
    "#Strip and Title-Case List of Names\n",
    "names = ['  alice ', 'bob ', ' carol']\n",
    "cleaned_names = list(map(lambda name: name.strip().title(), names))\n",
    "\n",
    "print(cleaned_names)             "
   ]
  },
  {
   "cell_type": "code",
   "execution_count": 9,
   "id": "49eff55a",
   "metadata": {},
   "outputs": [
    {
     "name": "stdout",
     "output_type": "stream",
     "text": [
      "['1', '2', '3', '4', '5']\n"
     ]
    }
   ],
   "source": [
    "#Convert List of Integers to Strings\n",
    "\n",
    "ints = [1, 2, 3, 4, 5]\n",
    "strs = list(map(str, ints))\n",
    "print(strs)"
   ]
  },
  {
   "cell_type": "code",
   "execution_count": 10,
   "id": "1d70df0a",
   "metadata": {},
   "outputs": [
    {
     "name": "stdout",
     "output_type": "stream",
     "text": [
      "[5, 5, 6, 3]\n"
     ]
    }
   ],
   "source": [
    "#Calculate Length of Each Word\n",
    "words = ['hello', 'world', 'python', 'map']\n",
    "lengths = list(map(len, words))\n",
    "print(lengths)"
   ]
  },
  {
   "cell_type": "markdown",
   "id": "0bb4e891",
   "metadata": {},
   "source": [
    "#Before We Begin: Quick Recap\n",
    "\n",
    "map(func, iterable) → Transforms each element\n",
    "\n",
    "filter(func, iterable) → Filters elements based on a condition\n",
    "\n",
    "reduce(func, iterable) → Reduces all elements to a single value (requires from functools import reduce)"
   ]
  },
  {
   "cell_type": "code",
   "execution_count": 11,
   "id": "bde06e8b",
   "metadata": {},
   "outputs": [
    {
     "name": "stdout",
     "output_type": "stream",
     "text": [
      "[4, 16, 36, 64, 100]\n"
     ]
    }
   ],
   "source": [
    "#Filter Even Numbers, then Square Them\n",
    "numbers = [1, 2, 3, 4, 5, 6, 7, 8, 9, 10]\n",
    "even_squares = list(map(lambda x: x ** 2, filter(lambda x: x % 2 == 0, numbers)))\n",
    "print(even_squares)"
   ]
  },
  {
   "cell_type": "code",
   "execution_count": 12,
   "id": "f019b312",
   "metadata": {},
   "outputs": [
    {
     "name": "stdout",
     "output_type": "stream",
     "text": [
      "[1, 27, 125, 343, 729]\n"
     ]
    }
   ],
   "source": [
    "#Filter odd Numbers, then cube Them\n",
    "odd_cubes = list(map(lambda x: x ** 3, filter(lambda x: x % 2 != 0, numbers)))\n",
    "print(odd_cubes)"
   ]
  },
  {
   "cell_type": "code",
   "execution_count": 16,
   "id": "0dd2bed4",
   "metadata": {},
   "outputs": [
    {
     "name": "stdout",
     "output_type": "stream",
     "text": [
      " from given list [1, 2, 3, 4, 5, 6] even number are [2, 4, 6] and squared are [4, 16, 36]\n"
     ]
    }
   ],
   "source": [
    "nums = [1, 2, 3, 4, 5, 6]\n",
    "\n",
    "even_nums = filter(lambda x: x % 2 == 0, nums)\n",
    "even_nums = list(even_nums)\n",
    "squared = list(map(lambda x: x * x, even_nums))\n",
    "\n",
    "print(f' from given list {nums} even number are {even_nums} and squared are {squared}')"
   ]
  },
  {
   "cell_type": "code",
   "execution_count": 17,
   "id": "b814ee76",
   "metadata": {},
   "outputs": [
    {
     "name": "stdout",
     "output_type": "stream",
     "text": [
      "[2, 3, 5]\n"
     ]
    }
   ],
   "source": [
    "#Total Word Count in Sentences\n",
    "sentences = [\n",
    "    \"Hello world\",\n",
    "    \"Python is great\",\n",
    "    \"Map and filter are useful\"\n",
    "]\n",
    "word_counts = list(map(lambda s: len(s.split()), sentences))\n",
    "print(word_counts)"
   ]
  },
  {
   "cell_type": "code",
   "execution_count": null,
   "id": "2c18d29b",
   "metadata": {},
   "outputs": [
    {
     "name": "stdout",
     "output_type": "stream",
     "text": [
      "[2, 3, 5]\n"
     ]
    }
   ],
   "source": [
    "#Total Word Count in Sentences -- programmatically without map  function\n",
    "word_counts = []\n",
    "for s in sentences:\n",
    "    word_counts.append(len(s.split()))\n",
    "print(word_counts)\n"
   ]
  },
  {
   "cell_type": "code",
   "execution_count": null,
   "id": "7fd44ff3",
   "metadata": {},
   "outputs": [
    {
     "name": "stdout",
     "output_type": "stream",
     "text": [
      "[2, 3, 5]\n"
     ]
    }
   ],
   "source": [
    "#Total Word Count in Sentences -- programmatically without map and len function\n",
    "word_counts = []\n",
    "for s in sentences:\n",
    "    count = 0\n",
    "    for char in s:\n",
    "        if char == ' ': # Space indicates a new word\n",
    "            count += 1\n",
    "    word_counts.append(count + 1)  # Add 1 for the last word\n",
    "print(word_counts)"
   ]
  },
  {
   "cell_type": "code",
   "execution_count": 20,
   "id": "2d057e27",
   "metadata": {},
   "outputs": [
    {
     "name": "stdout",
     "output_type": "stream",
     "text": [
      "[19.99, 5.49, 3.5]\n"
     ]
    }
   ],
   "source": [
    "#Convert Price Strings to Floats\n",
    "price_strings = [\"$19.99\", \"$5.49\", \"$3.50\"]\n",
    "prices = list(map(lambda s: float(s.replace('$', '')), price_strings))\n",
    "print(prices)"
   ]
  },
  {
   "cell_type": "code",
   "execution_count": 22,
   "id": "817e18c6",
   "metadata": {},
   "outputs": [
    {
     "name": "stdout",
     "output_type": "stream",
     "text": [
      "[19.99, 5.49, 3.5]\n"
     ]
    }
   ],
   "source": [
    "converted = list(map(lambda x: float(x.strip('$')), price_strings))\n",
    "print(converted)"
   ]
  },
  {
   "cell_type": "code",
   "execution_count": 23,
   "id": "bf96c95b",
   "metadata": {},
   "outputs": [
    {
     "name": "stdout",
     "output_type": "stream",
     "text": [
      "['Alice', 'Andrew', 'Anna']\n"
     ]
    }
   ],
   "source": [
    "#Filter Names Starting with 'A' and Title Case\n",
    "names = ['alice', 'bob', 'andrew', 'carol', 'anna']\n",
    "a_names = list(map(lambda name: name.title(), filter(lambda name: name.lower().startswith('a'), names)))\n",
    "print(a_names)"
   ]
  },
  {
   "cell_type": "code",
   "execution_count": 24,
   "id": "95fb3dc1",
   "metadata": {},
   "outputs": [
    {
     "name": "stdout",
     "output_type": "stream",
     "text": [
      "['Alice', 'Amy', 'Ann']\n"
     ]
    }
   ],
   "source": [
    "names = ['alice', 'bob', 'amy', 'ann', 'carol']\n",
    "\n",
    "starts_with_a = filter(lambda name: name.lower().startswith('a'), names)\n",
    "formatted = list(map(lambda name: name.title(), starts_with_a))\n",
    "\n",
    "print(formatted)"
   ]
  },
  {
   "cell_type": "code",
   "execution_count": null,
   "id": "f49318f9",
   "metadata": {},
   "outputs": [],
   "source": []
  }
 ],
 "metadata": {
  "kernelspec": {
   "display_name": ".venv",
   "language": "python",
   "name": "python3"
  },
  "language_info": {
   "codemirror_mode": {
    "name": "ipython",
    "version": 3
   },
   "file_extension": ".py",
   "mimetype": "text/x-python",
   "name": "python",
   "nbconvert_exporter": "python",
   "pygments_lexer": "ipython3",
   "version": "3.12.0"
  }
 },
 "nbformat": 4,
 "nbformat_minor": 5
}
