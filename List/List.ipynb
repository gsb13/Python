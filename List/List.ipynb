{
 "cells": [
  {
   "cell_type": "markdown",
   "id": "1a127e19",
   "metadata": {},
   "source": [
    "In Python, a **list** is a built-in **mutable** and **ordered** data structure that is used to store **multiple items** in a single variable. Lists can hold elements of **any data type**: integers, strings, floats, other lists, etc.\n",
    "\n",
    "---\n",
    "\n",
    "### 🧠 **Definition & Syntax of List**\n",
    "\n",
    "```python\n",
    "my_list = [10, \"apple\", 3.14, True]\n",
    "```\n",
    "\n",
    "* `my_list` is a list that contains an integer, a string, a float, and a boolean.\n",
    "* Lists are defined using **square brackets** `[]`.\n",
    "* Items are **comma-separated**.\n",
    "\n",
    "---\n",
    "\n",
    "## ✅ **Key Properties of Lists**\n",
    "\n",
    "| Property          | Description                                           |\n",
    "| ----------------- | ----------------------------------------------------- |\n",
    "| **Ordered**       | Elements maintain the order in which they were added. |\n",
    "| **Mutable**       | You can change, add, or remove elements.              |\n",
    "| **Heterogeneous** | A list can contain elements of different types.       |\n",
    "| **Indexed**       | Access elements using index (starts at 0).            |\n",
    "\n",
    "---\n",
    "\n",
    "## 📘 **Common List Methods with Examples**\n",
    "\n",
    "Here's a detailed explanation of the most used list methods:\n",
    "\n",
    "---\n",
    "\n",
    "### 1. `append()`\n",
    "\n",
    "**Adds an element at the end of the list.**\n",
    "\n",
    "```python\n",
    "fruits = ['apple', 'banana']\n",
    "fruits.append('orange')\n",
    "print(fruits)  # ['apple', 'banana', 'orange']\n",
    "```\n",
    "\n",
    "---\n",
    "\n",
    "### 2. `insert(index, element)`\n",
    "\n",
    "**Inserts an element at a specified index.**\n",
    "\n",
    "```python\n",
    "fruits.insert(1, 'mango')\n",
    "print(fruits)  # ['apple', 'mango', 'banana', 'orange']\n",
    "```\n",
    "\n",
    "---\n",
    "\n",
    "### 3. `extend(iterable)`\n",
    "\n",
    "**Adds all elements from another iterable (like another list) to the list.**\n",
    "\n",
    "```python\n",
    "fruits.extend(['grape', 'kiwi'])\n",
    "print(fruits)  # ['apple', 'mango', 'banana', 'orange', 'grape', 'kiwi']\n",
    "```\n",
    "\n",
    "---\n",
    "\n",
    "### 4. `remove(element)`\n",
    "\n",
    "**Removes the first occurrence of the specified element.**\n",
    "\n",
    "```python\n",
    "fruits.remove('banana')\n",
    "print(fruits)  # ['apple', 'mango', 'orange', 'grape', 'kiwi']\n",
    "```\n",
    "\n",
    "❗Raises an error if the element is not found.\n",
    "\n",
    "---\n",
    "\n",
    "### 5. `pop([index])`\n",
    "\n",
    "**Removes and returns the element at the given index. If no index is specified, removes the last item.**\n",
    "\n",
    "```python\n",
    "last_fruit = fruits.pop()\n",
    "print(last_fruit)  # 'kiwi'\n",
    "print(fruits)      # ['apple', 'mango', 'orange', 'grape']\n",
    "```\n",
    "\n",
    "---\n",
    "\n",
    "### 6. `clear()`\n",
    "\n",
    "**Removes all elements from the list.**\n",
    "\n",
    "```python\n",
    "fruits.clear()\n",
    "print(fruits)  # []\n",
    "```\n",
    "\n",
    "---\n",
    "\n",
    "### 7. `index(element)`\n",
    "\n",
    "**Returns the index of the first occurrence of the element.**\n",
    "\n",
    "```python\n",
    "numbers = [1, 2, 3, 2, 4]\n",
    "print(numbers.index(2))  # 1\n",
    "```\n",
    "\n",
    "---\n",
    "\n",
    "### 8. `count(element)`\n",
    "\n",
    "**Returns the number of times the element appears in the list.**\n",
    "\n",
    "```python\n",
    "print(numbers.count(2))  # 2\n",
    "```\n",
    "\n",
    "---\n",
    "\n",
    "### 9. `sort(reverse=False)`\n",
    "\n",
    "**Sorts the list in ascending order. Use `reverse=True` for descending.**\n",
    "\n",
    "```python\n",
    "numbers.sort()\n",
    "print(numbers)  # [1, 2, 2, 3, 4]\n",
    "```\n",
    "\n",
    "---\n",
    "\n",
    "### 10. `reverse()`\n",
    "\n",
    "**Reverses the order of elements in the list.**\n",
    "\n",
    "```python\n",
    "numbers.reverse()\n",
    "print(numbers)  # [4, 3, 2, 2, 1]\n",
    "```\n",
    "\n",
    "---\n",
    "\n",
    "### 11. `copy()`\n",
    "\n",
    "**Returns a shallow copy of the list.**\n",
    "\n",
    "```python\n",
    "copy_list = numbers.copy()\n",
    "print(copy_list)  # [4, 3, 2, 2, 1]\n",
    "```\n",
    "\n",
    "---\n",
    "\n",
    "## 📌 Other Useful List Operations\n",
    "\n",
    "| Operation  | Example              | Description                |\n",
    "| ---------- | -------------------- | -------------------------- |\n",
    "| Indexing   | `my_list[0]`         | Access first element       |\n",
    "| Slicing    | `my_list[1:3]`       | Elements from index 1 to 2 |\n",
    "| Length     | `len(my_list)`       | Number of elements         |\n",
    "| Membership | `'apple' in my_list` | Returns `True` or `False`  |\n",
    "\n",
    "---\n",
    "\n",
    "## 🧪 Example Use Case\n",
    "\n",
    "```python\n",
    "students = ['Alice', 'Bob', 'Charlie']\n",
    "\n",
    "# Add a new student\n",
    "students.append('Diana')\n",
    "\n",
    "# Remove a student\n",
    "students.remove('Bob')\n",
    "\n",
    "# Sort the list\n",
    "students.sort()\n",
    "\n",
    "print(students)  # ['Alice', 'Charlie', 'Diana']\n",
    "```\n",
    "\n",
    "---\n",
    "\n",
    "## 📝 Summary Table of List Methods\n",
    "\n",
    "| Method         | Description                       |\n",
    "| -------------- | --------------------------------- |\n",
    "| `append(x)`    | Add x to end                      |\n",
    "| `extend(iter)` | Add all items from iterable       |\n",
    "| `insert(i, x)` | Insert x at index i               |\n",
    "| `remove(x)`    | Remove first occurrence of x      |\n",
    "| `pop([i])`     | Remove and return item at index i |\n",
    "| `clear()`      | Remove all items                  |\n",
    "| `index(x)`     | First index of x                  |\n",
    "| `count(x)`     | Count occurrences of x            |\n",
    "| `sort()`       | Sort the list                     |\n",
    "| `reverse()`    | Reverse the list                  |\n",
    "| `copy()`       | Shallow copy of the list          |\n",
    "\n",
    "---"
   ]
  },
  {
   "cell_type": "markdown",
   "id": "360ab8b4",
   "metadata": {},
   "source": [
    "\n",
    "---\n",
    "\n",
    "## 🔁 Comparison of **List** with Other Python Data Types\n",
    "\n",
    "We'll compare **List** with:\n",
    "\n",
    "* **Tuple**\n",
    "* **Set**\n",
    "* **Dictionary**\n",
    "* **String**\n",
    "\n",
    "---\n",
    "\n",
    "## 📊 1. **List vs Tuple**\n",
    "\n",
    "| Feature     | **List**                 | **Tuple**                    |\n",
    "| ----------- | ------------------------ | ---------------------------- |\n",
    "| Syntax      | `[1, 2, 3]`              | `(1, 2, 3)`                  |\n",
    "| Mutability  | ✅ Mutable                | ❌ Immutable                  |\n",
    "| Performance | Slightly slower          | Faster (due to immutability) |\n",
    "| Use Case    | When data can change     | When data should stay fixed  |\n",
    "| Methods     | Many (e.g., append, pop) | Very few                     |\n",
    "\n",
    "### ✅ Advantages of List over Tuple:\n",
    "\n",
    "* Can add/remove/update elements.\n",
    "* More flexible for dynamic data.\n",
    "\n",
    "### ❌ Disadvantages:\n",
    "\n",
    "* Slightly slower.\n",
    "* Less secure for fixed data.\n",
    "\n",
    "---\n",
    "\n",
    "## 🔁 2. **List vs Set**\n",
    "\n",
    "| Feature    | **List**               | **Set**       |\n",
    "| ---------- | ---------------------- | ------------- |\n",
    "| Syntax     | `[1, 2, 3]`            | `{1, 2, 3}`   |\n",
    "| Duplicates | ✅ Allowed              | ❌ Not Allowed |\n",
    "| Order      | ✅ Ordered              | ❌ Unordered   |\n",
    "| Indexing   | ✅ Yes (e.g., list\\[0]) | ❌ No indexing |\n",
    "| Mutability | ✅ Mutable              | ✅ Mutable     |\n",
    "\n",
    "### ✅ Advantages of List over Set:\n",
    "\n",
    "* Maintains order.\n",
    "* Allows duplicates.\n",
    "* Supports indexing and slicing.\n",
    "\n",
    "### ❌ Disadvantages:\n",
    "\n",
    "* Slower for membership tests (`in`).\n",
    "* Cannot perform set operations directly (like union, intersection).\n",
    "\n",
    "---\n",
    "\n",
    "## 🧾 3. **List vs Dictionary**\n",
    "\n",
    "| Feature      | **List**                    | **Dictionary**              |\n",
    "| ------------ | --------------------------- | --------------------------- |\n",
    "| Syntax       | `[10, 20, 30]`              | `{'a': 10, 'b': 20}`        |\n",
    "| Data Format  | Sequence of values          | Key-value pairs             |\n",
    "| Access       | By index                    | By key                      |\n",
    "| Order (3.7+) | ✅ Maintains insertion order | ✅ Maintains insertion order |\n",
    "| Mutability   | ✅ Mutable                   | ✅ Mutable                   |\n",
    "\n",
    "### ✅ Advantages of List over Dictionary:\n",
    "\n",
    "* Simpler when only values are needed.\n",
    "* Less memory usage for small sequences.\n",
    "\n",
    "### ❌ Disadvantages:\n",
    "\n",
    "* Less readable for structured data.\n",
    "* No key-based access.\n",
    "\n",
    "---\n",
    "\n",
    "## 🧵 4. **List vs String**\n",
    "\n",
    "| Feature      | **List**           | **String**            |\n",
    "| ------------ | ------------------ | --------------------- |\n",
    "| Syntax       | `['a', 'b', 'c']`  | `\"abc\"`               |\n",
    "| Mutability   | ✅ Mutable          | ❌ Immutable           |\n",
    "| Indexing     | ✅ Yes              | ✅ Yes                 |\n",
    "| Element type | Can be mixed types | Only characters (str) |\n",
    "\n",
    "### ✅ Advantages of List over String:\n",
    "\n",
    "* Can store multiple data types.\n",
    "* Can be modified (add/remove elements).\n",
    "\n",
    "### ❌ Disadvantages:\n",
    "\n",
    "* Uses more memory.\n",
    "* Not suitable for textual data manipulation like `replace()`.\n",
    "\n",
    "---\n",
    "\n",
    "## 📌 Summary Table: List vs Other Data Types\n",
    "\n",
    "| Feature     | List  | Tuple | Set   | Dict         | String |\n",
    "| ----------- | ----- | ----- | ----- | ------------ | ------ |\n",
    "| Mutable     | ✅ Yes | ❌ No  | ✅ Yes | ✅ Yes        | ❌ No   |\n",
    "| Ordered     | ✅ Yes | ✅ Yes | ❌ No  | ✅ Yes (3.7+) | ✅ Yes  |\n",
    "| Duplicates  | ✅ Yes | ✅ Yes | ❌ No  | ✅ Keys no    | ✅ Yes  |\n",
    "| Indexing    | ✅ Yes | ✅ Yes | ❌ No  | ❌ (by key)   | ✅ Yes  |\n",
    "| Mixed types | ✅ Yes | ✅ Yes | ✅ Yes | ✅ Yes        | ❌ No   |\n",
    "| Keys/Values | ❌ No  | ❌ No  | ❌ No  | ✅ Yes        | ❌ No   |\n",
    "\n",
    "---\n",
    "\n",
    "## ✅ Advantages of List\n",
    "\n",
    "* Easy to use and flexible.\n",
    "* Allows mixed data types.\n",
    "* Supports indexing, slicing, and multiple built-in methods.\n",
    "\n",
    "## ❌ Disadvantages of List\n",
    "\n",
    "* Slower compared to `tuple` for fixed data.\n",
    "* Allows duplicates (can be an issue in some use cases).\n",
    "* Not ideal for high-performance lookup or large datasets compared to `set` or `dict`.\n",
    "\n",
    "---\n",
    "\n",
    "\n"
   ]
  },
  {
   "cell_type": "markdown",
   "id": "38de984b",
   "metadata": {},
   "source": [
    "# 1.Remove Duplicates from a List\n"
   ]
  },
  {
   "cell_type": "code",
   "execution_count": 2,
   "id": "434c9b89",
   "metadata": {},
   "outputs": [
    {
     "name": "stdout",
     "output_type": "stream",
     "text": [
      "Output List: [1, 2, 3, 4, 5]\n"
     ]
    }
   ],
   "source": [
    "#Remove Duplicates from a List\n",
    "#approach 1: Using set()\n",
    "\n",
    "def remove_duplicates(input_list):\n",
    "    return list(set(input_list))\n",
    "\n",
    "# Example usage\n",
    "input_list = [1, 2, 2, 3, 4, 4, 5]\n",
    "output_list = remove_duplicates(input_list)\n",
    "print(\"Output List:\", output_list)"
   ]
  },
  {
   "cell_type": "code",
   "execution_count": 3,
   "id": "9395a975",
   "metadata": {},
   "outputs": [
    {
     "data": {
      "text/plain": [
       "[1, 2, 3, 4, 5]"
      ]
     },
     "execution_count": 3,
     "metadata": {},
     "output_type": "execute_result"
    }
   ],
   "source": [
    "#approach 2: Using loop and list\n",
    "def remove_duplicates_loop(input_list):\n",
    "    output_list = []\n",
    "    for item in input_list:\n",
    "        if item not in output_list:\n",
    "            output_list.append(item)\n",
    "    return output_list\n",
    "\n",
    "remove_duplicates_loop(input_list)\n"
   ]
  },
  {
   "cell_type": "code",
   "execution_count": 4,
   "id": "1637d81c",
   "metadata": {},
   "outputs": [
    {
     "data": {
      "text/plain": [
       "[1, 2, 3, 4, 5]"
      ]
     },
     "execution_count": 4,
     "metadata": {},
     "output_type": "execute_result"
    }
   ],
   "source": [
    "# approch 3: Using dictionary keys\n",
    "def remove_duplicates_dict(input_list):\n",
    "    return list(dict.fromkeys(input_list))\n",
    "remove_duplicates_dict(input_list)"
   ]
  },
  {
   "cell_type": "markdown",
   "id": "1559b4c4",
   "metadata": {},
   "source": [
    "# 2. Find Second Largest Number in List"
   ]
  },
  {
   "cell_type": "code",
   "execution_count": 8,
   "id": "1da744d0",
   "metadata": {},
   "outputs": [
    {
     "name": "stdout",
     "output_type": "stream",
     "text": [
      "Second Largest Number: 24\n"
     ]
    }
   ],
   "source": [
    "#🚀 Approaches:Find Second Largest Number in List \n",
    "def second_largest(input_list):\n",
    "    first, second = float('-inf'), float('-inf') # -inf is used to handle negative numbers \n",
    "    #logic is if we have all negative numbers in list\n",
    "\n",
    "    for number in input_list:\n",
    "        if number > first: #if number is greater than first largest\n",
    "            second = first\n",
    "            first = number\n",
    "        elif first > number > second: #if number is between first and second largest\n",
    "            second = number\n",
    "    return second if second != float('-inf') else None # if second largest doesn't exist\n",
    "\n",
    "# Example usage\n",
    "input_list = [10, 20, 4, 24, 99]\n",
    "result = second_largest(input_list)\n",
    "print(\"Second Largest Number:\", result)"
   ]
  },
  {
   "cell_type": "code",
   "execution_count": 9,
   "id": "4ddcd237",
   "metadata": {},
   "outputs": [
    {
     "data": {
      "text/plain": [
       "24"
      ]
     },
     "execution_count": 9,
     "metadata": {},
     "output_type": "execute_result"
    }
   ],
   "source": [
    "# Approach 2: Using sorting\n",
    "def second_largest_sort(input_list):\n",
    "    unique_list = list(set(input_list)) # Remove duplicates\n",
    "    if len(unique_list) < 2:\n",
    "        return None # If there is no second largest\n",
    "    unique_list.sort(reverse=True) # Sort in descending order\n",
    "    return unique_list[1] # Return the second element\n",
    "second_largest_sort(input_list)"
   ]
  },
  {
   "cell_type": "code",
   "execution_count": 10,
   "id": "466ab240",
   "metadata": {},
   "outputs": [
    {
     "data": {
      "text/plain": [
       "24"
      ]
     },
     "execution_count": 10,
     "metadata": {},
     "output_type": "execute_result"
    }
   ],
   "source": [
    "# approach 3: Using Without  WITH DICTIONARY\n",
    "def second_largest_dict(input_list):\n",
    "    unique_list = list(dict.fromkeys(input_list)) # Remove duplicates while preserving order\n",
    "    if len(unique_list) < 2:\n",
    "        return None # If there is no second largest\n",
    "    unique_list.remove(max(unique_list)) # Remove the largest element\n",
    "    return max(unique_list) # Return the next largest element\n",
    "second_largest_dict(input_list)"
   ]
  },
  {
   "cell_type": "markdown",
   "id": "fb92b6a8",
   "metadata": {},
   "source": [
    "# 3. Reverse a List Without Using Built-in Reverse"
   ]
  },
  {
   "cell_type": "code",
   "execution_count": 11,
   "id": "b01d7130",
   "metadata": {},
   "outputs": [
    {
     "data": {
      "text/plain": [
       "[5, 4, 3, 2, 1]"
      ]
     },
     "execution_count": 11,
     "metadata": {},
     "output_type": "execute_result"
    }
   ],
   "source": [
    "#3. Reverse a List Without Using Built-in Reverse\n",
    "# approach 1: Using Slicing\n",
    "def reverse_list_slicing(input_list):\n",
    "    return input_list[::-1]\n",
    "\n",
    "input_list = [1, 2, 3, 4, 5]\n",
    "reverse_list_slicing(input_list)\n"
   ]
  },
  {
   "cell_type": "code",
   "execution_count": 12,
   "id": "cfa8672b",
   "metadata": {},
   "outputs": [
    {
     "data": {
      "text/plain": [
       "[5, 4, 3, 2, 1]"
      ]
     },
     "execution_count": 12,
     "metadata": {},
     "output_type": "execute_result"
    }
   ],
   "source": [
    "# approach2 : Using Loop\n",
    "def reverse_list_loop(input_list):\n",
    "    reversed_list = []\n",
    "    for item in input_list:\n",
    "        reversed_list.insert(0, item) # Insert each item at the beginning\n",
    "    return reversed_list\n",
    "reverse_list_loop(input_list)\n"
   ]
  },
  {
   "cell_type": "code",
   "execution_count": 13,
   "id": "79b11864",
   "metadata": {},
   "outputs": [
    {
     "data": {
      "text/plain": [
       "[5, 4, 3, 2, 1]"
      ]
     },
     "execution_count": 13,
     "metadata": {},
     "output_type": "execute_result"
    }
   ],
   "source": [
    "# approach 3: Using recursion\n",
    "def reverse_list_recursion(input_list):\n",
    "    if len(input_list) == 0:\n",
    "        return []\n",
    "    else:\n",
    "        return [input_list[-1]] + reverse_list_recursion(input_list[:-1])\n",
    "reverse_list_recursion(input_list)"
   ]
  },
  {
   "cell_type": "markdown",
   "id": "2203292a",
   "metadata": {},
   "source": [
    "# 4. Flatten a Nested List"
   ]
  },
  {
   "cell_type": "code",
   "execution_count": 14,
   "id": "d696f969",
   "metadata": {},
   "outputs": [
    {
     "data": {
      "text/plain": [
       "[1, 2, 3, 4, 5, 6]"
      ]
     },
     "execution_count": 14,
     "metadata": {},
     "output_type": "execute_result"
    }
   ],
   "source": [
    "# 4. Flatten a Nested List\n",
    "#Approach 1: Using Recursion\n",
    "\n",
    "def flatten_list(nested_list):\n",
    "    flat_list = []\n",
    "    for item in nested_list:\n",
    "        if isinstance(item, list):\n",
    "            flat_list.extend(flatten_list(item)) # Recursively flatten the sublist\n",
    "        else:\n",
    "            flat_list.append(item) # Append non-list item\n",
    "    return flat_list\n",
    "nested_list = [1, [2, [3, 4], 5], 6]\n",
    "flatten_list(nested_list)"
   ]
  },
  {
   "cell_type": "code",
   "execution_count": 15,
   "id": "ed01276f",
   "metadata": {},
   "outputs": [
    {
     "data": {
      "text/plain": [
       "[6, 2, 3, 4, 5, 1]"
      ]
     },
     "execution_count": 15,
     "metadata": {},
     "output_type": "execute_result"
    }
   ],
   "source": [
    "# 4. Flatten a Nested List\n",
    "#Approach 2: Using Iteration\n",
    "\n",
    "def flatten_list_iterative(nested_list):\n",
    "    flat_list = []\n",
    "    stack = list(nested_list) # Create a stack to hold the items to be processed\n",
    "    while stack:\n",
    "        item = stack.pop() # Pop an item from the stack\n",
    "        if isinstance(item, list):\n",
    "            stack.extend(reversed(item)) # If it's a list, extend the stack with its items (in reverse order)\n",
    "        else:\n",
    "            flat_list.append(item) # If it's not a list, append it to the flat_list\n",
    "    return flat_list    \n",
    "nested_list = [1, [2, [3, 4], 5], 6]\n",
    "flatten_list_iterative(nested_list)"
   ]
  },
  {
   "cell_type": "markdown",
   "id": "79837fd8",
   "metadata": {},
   "source": [
    "5. Find All Pairs in List That Sum to a Target\n"
   ]
  },
  {
   "cell_type": "code",
   "execution_count": 17,
   "id": "c6741a3f",
   "metadata": {},
   "outputs": [
    {
     "data": {
      "text/plain": [
       "[(1, 6), (2, 5), (3, 4)]"
      ]
     },
     "execution_count": 17,
     "metadata": {},
     "output_type": "execute_result"
    }
   ],
   "source": [
    "# 5. Find All Pairs in List That Sum to a Target\n",
    "# Approach 1: Using a Set for Lookup\n",
    "def find_pairs_with_sum(input_list, target_sum):\n",
    "    seen = set()\n",
    "    pairs = set() # Use a set to avoid duplicate pairs\n",
    "    for number in input_list:\n",
    "        complement = target_sum - number # Find the complement that would sum to target_sum\n",
    "        if complement in seen: # If the complement has been seen, we found a pair\n",
    "            # min and max are used to store pairs in a consistent order\n",
    "            # ex: (2,5) and (5,2) are considered the same pair\n",
    "            pairs.add((min(number, complement), max(number, complement))) # Store pairs in a sorted order\n",
    "        seen.add(number)\n",
    "    return list(pairs) # Convert the set of pairs back to a list\n",
    "input_list = [1, 2, 3, 4, 5, 6]\n",
    "target_sum = 7\n",
    "find_pairs_with_sum(input_list, target_sum)\n"
   ]
  },
  {
   "cell_type": "code",
   "execution_count": 19,
   "id": "aca06b17",
   "metadata": {},
   "outputs": [
    {
     "name": "stdout",
     "output_type": "stream",
     "text": [
      "{(1, 6), (2, 5), (3, 4)}\n"
     ]
    },
    {
     "data": {
      "text/plain": [
       "[(1, 6), (2, 5), (3, 4)]"
      ]
     },
     "execution_count": 19,
     "metadata": {},
     "output_type": "execute_result"
    }
   ],
   "source": [
    "# approach 2: Using Two Pointers (Requires Sorted List)\n",
    "def find_pairs_with_sum_sorted(input_list, target_sum):\n",
    "    input_list.sort() # Sort the list first\n",
    "    left, right = 0, len(input_list) - 1\n",
    "    pairs = set() # Use a set to avoid duplicate pairs\n",
    "    while left < right:\n",
    "        current_sum = input_list[left] + input_list[right]\n",
    "        if current_sum == target_sum:\n",
    "            pairs.add((input_list[left], input_list[right])) # Store pairs in a sorted order\n",
    "            left += 1\n",
    "            right -= 1\n",
    "        elif current_sum < target_sum:\n",
    "            left += 1\n",
    "        else:\n",
    "            right -= 1\n",
    "    print(pairs)\n",
    "    return list(pairs) # Convert the set of pairs back to a list\n",
    "\n",
    "input_list = [1, 2, 3, 4, 5, 6]\n",
    "target_sum = 7\n",
    "find_pairs_with_sum_sorted(input_list, target_sum)"
   ]
  },
  {
   "cell_type": "code",
   "execution_count": 20,
   "id": "67bd2de5",
   "metadata": {},
   "outputs": [
    {
     "data": {
      "text/plain": [
       "[(1, 6), (2, 5), (3, 4)]"
      ]
     },
     "execution_count": 20,
     "metadata": {},
     "output_type": "execute_result"
    }
   ],
   "source": [
    "# approach 3: Find All Pairs in List That Sum to a Target\n",
    "def find_pairs_with_sum_bruteforce(input_list, target_sum):\n",
    "    pairs = set() # Use a set to avoid duplicate pairs\n",
    "    n = len(input_list)\n",
    "    for i in range(n):\n",
    "        for j in range(i + 1, n): # Start j from i+1 to avoid using the same element\n",
    "            if input_list[i] + input_list[j] == target_sum:\n",
    "                pairs.add((min(input_list[i], input_list[j]), max(input_list[i], input_list[j]))) # Store pairs in a sorted order\n",
    "    return list(pairs) # Convert the set of pairs back to a list\n",
    "\n",
    "input_list = [1, 2, 3, 4, 5, 6]\n",
    "target_sum = 7\n",
    "find_pairs_with_sum_bruteforce(input_list, target_sum)"
   ]
  },
  {
   "cell_type": "code",
   "execution_count": 21,
   "id": "5477b7e0",
   "metadata": {},
   "outputs": [
    {
     "data": {
      "text/plain": [
       "[4, 5, 1, 2, 3]"
      ]
     },
     "execution_count": 21,
     "metadata": {},
     "output_type": "execute_result"
    }
   ],
   "source": [
    "# 6. Rotate List by k Positions\n",
    "# Input: [1, 2, 3, 4, 5], k=2\n",
    "# Output: [4, 5, 1, 2, 3]\n",
    "\n",
    "def rotate_list(input_list, k):\n",
    "    n = len(input_list)\n",
    "    k = k % n  # Handle cases where k is greater than the list length\n",
    "    return input_list[-k:] + input_list[:-k] # Slice and concatenate\n",
    "rotate_list([1, 2, 3, 4, 5], 2)\n",
    "\n"
   ]
  },
  {
   "cell_type": "code",
   "execution_count": 23,
   "id": "e7604f03",
   "metadata": {},
   "outputs": [
    {
     "data": {
      "text/plain": [
       "{1: 1, 2: 2, 3: 1, 4: 2, 5: 1}"
      ]
     },
     "execution_count": 23,
     "metadata": {},
     "output_type": "execute_result"
    }
   ],
   "source": [
    "#7. Count Occurrences of Each Element\n",
    "# Approach 1: Using Dictionary\n",
    "def count_occurrences(input_list):\n",
    "    occurrence_dict = {}\n",
    "    for item in input_list:\n",
    "        if item in occurrence_dict:\n",
    "            occurrence_dict[item] += 1 # Increment count if item already exists\n",
    "        else:\n",
    "            occurrence_dict[item] = 1 # Initialize count if item is new\n",
    "    return occurrence_dict\n",
    "input_list = [1, 2, 2, 3, 4, 4, 5]\n",
    "count_occurrences(input_list)"
   ]
  },
  {
   "cell_type": "code",
   "execution_count": 24,
   "id": "7e11a4ca",
   "metadata": {},
   "outputs": [
    {
     "data": {
      "text/plain": [
       "{1: 1, 2: 2, 3: 1, 4: 2, 5: 1}"
      ]
     },
     "execution_count": 24,
     "metadata": {},
     "output_type": "execute_result"
    }
   ],
   "source": [
    "#  Count Occurrences of Each Element\n",
    "#  Approach 2: Using Two Pointers (Requires Sorted List)\n",
    "def count_occurrences_sorted(input_list):\n",
    "    input_list.sort() # Sort the list first\n",
    "    occurrence_dict = {}\n",
    "    n = len(input_list)\n",
    "    i = 0\n",
    "    while i < n:\n",
    "        count = 1\n",
    "        while i + 1 < n and input_list[i] == input_list[i + 1]:\n",
    "            count += 1\n",
    "            i += 1\n",
    "        occurrence_dict[input_list[i]] = count\n",
    "        i += 1\n",
    "    return occurrence_dict\n",
    "\n",
    "input_list = [1, 2, 2, 3, 4, 4, 5]\n",
    "count_occurrences_sorted(input_list)"
   ]
  },
  {
   "cell_type": "code",
   "execution_count": 26,
   "id": "4bb0f22e",
   "metadata": {},
   "outputs": [
    {
     "data": {
      "text/plain": [
       "{'apple': 3, 'banana': 2, 'orange': 1}"
      ]
     },
     "execution_count": 26,
     "metadata": {},
     "output_type": "execute_result"
    }
   ],
   "source": [
    "data = ['apple', 'banana', 'apple', 'orange', 'banana', 'apple']\n",
    "# Approach 3: WITHOUT USING DICTIONARY\n",
    "def count_occurrences_no_dict(input_list):\n",
    "    unique_items = []\n",
    "    counts = []\n",
    "    for item in input_list:\n",
    "        if item in unique_items:\n",
    "            index = unique_items.index(item)\n",
    "            counts[index] += 1 # Increment count if item already exists\n",
    "        else:\n",
    "            unique_items.append(item) # Add new item to unique_items\n",
    "            counts.append(1) # Initialize count for the new item\n",
    "    return dict(zip(unique_items, counts)) # Combine unique_items and counts into a dictionary\n",
    "count_occurrences_no_dict(data)"
   ]
  },
  {
   "cell_type": "code",
   "execution_count": 27,
   "id": "d48f4cec",
   "metadata": {},
   "outputs": [
    {
     "data": {
      "text/plain": [
       "True"
      ]
     },
     "execution_count": 27,
     "metadata": {},
     "output_type": "execute_result"
    }
   ],
   "source": [
    "#8. Check if Two Lists are Anagrams (Same elements, any order)\n",
    "# Approach 1: Using Sorting\n",
    "def are_anagrams_sort(list1, list2):\n",
    "    return sorted(list1) == sorted(list2) # Sort both lists and compare\n",
    "\n",
    "list1 = [1, 2, 3, 4]\n",
    "list2 = [4, 3, 2, 1]\n",
    "are_anagrams_sort(list1, list2)\n"
   ]
  },
  {
   "cell_type": "code",
   "execution_count": 29,
   "id": "8d9310e1",
   "metadata": {},
   "outputs": [
    {
     "data": {
      "text/plain": [
       "True"
      ]
     },
     "execution_count": 29,
     "metadata": {},
     "output_type": "execute_result"
    }
   ],
   "source": [
    "# A pproach 2: Using Dictionary\n",
    "def are_anagrams_dict(list1, list2):\n",
    "    if len(list1) != len(list2):\n",
    "        return False # If lengths differ, they can't be anagrams\n",
    "    count_dict = {}\n",
    "    for item in list1:\n",
    "        count_dict[item] = count_dict.get(item, 0) + 1 # Count occurrences in list1\n",
    "    for item in list2:\n",
    "        if item in count_dict:\n",
    "            count_dict[item] -= 1 # Decrement count for items found in list2\n",
    "            if count_dict[item] < 0:\n",
    "                return False # More occurrences in list2 than in list1\n",
    "        else:\n",
    "            return False # Item in list2 not found in list1\n",
    "    return all(count == 0 for count in count_dict.values()) # Check if all counts are zero\n",
    "\n",
    "are_anagrams_dict(list1, list2)"
   ]
  },
  {
   "cell_type": "code",
   "execution_count": null,
   "id": "b3e3d7c3",
   "metadata": {},
   "outputs": [],
   "source": []
  }
 ],
 "metadata": {
  "kernelspec": {
   "display_name": ".venv",
   "language": "python",
   "name": "python3"
  },
  "language_info": {
   "codemirror_mode": {
    "name": "ipython",
    "version": 3
   },
   "file_extension": ".py",
   "mimetype": "text/x-python",
   "name": "python",
   "nbconvert_exporter": "python",
   "pygments_lexer": "ipython3",
   "version": "3.12.0"
  }
 },
 "nbformat": 4,
 "nbformat_minor": 5
}
