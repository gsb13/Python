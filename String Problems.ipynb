{
 "cells": [
  {
   "cell_type": "markdown",
   "id": "7e66b77d",
   "metadata": {},
   "source": [
    "# String problems \n",
    " - palindrome check\n"
   ]
  },
  {
   "cell_type": "code",
   "execution_count": null,
   "id": "f767e16e",
   "metadata": {},
   "outputs": [
    {
     "name": "stdout",
     "output_type": "stream",
     "text": [
      "1 racecar --> True\n",
      "2 hello  --> False\n",
      "3 madam--> True\n"
     ]
    }
   ],
   "source": [
    "# approach 1: Using string slicing\n",
    "def is_palindrome_v1(s):\n",
    "    return s == s[::-1]\n",
    "\n",
    "print(f'1 {\"racecar\"} -->', is_palindrome_v1(\"racecar\"))\n",
    "print(f'2 {\"hello\"}  -->',is_palindrome_v1(\"hello\"))\n",
    "print(f'3 {\"madam\"}-->',is_palindrome_v1(\"madam\"))"
   ]
  },
  {
   "cell_type": "code",
   "execution_count": 1,
   "id": "9a41c5e9",
   "metadata": {},
   "outputs": [
    {
     "name": "stdout",
     "output_type": "stream",
     "text": [
      "1 racecar --> True\n",
      "2 hello  --> False\n",
      "3 madam--> True\n"
     ]
    }
   ],
   "source": [
    "# approach 2: Using a loop to compare characters from start and end\n",
    "def is_palindrome_v2(s):\n",
    "    for i in range(len(s) // 2): # only need to check half the string\n",
    "        # s[i] != s[-(i + 1)] ---> this compares the character at position i from the start with \n",
    "        # the character at position i from the end of the string.\n",
    "        # example: for i = 0, s[0] is compared with s[-1] (the last character)\n",
    "        if s[i] != s[-(i + 1)]: # compare characters from start and end of string moving towards the center \n",
    "            return False\n",
    "    return True\n",
    "\n",
    "print(f'1 {\"racecar\"} -->', is_palindrome_v2(\"racecar\"))\n",
    "print(f'2 {\"hello\"}  -->',is_palindrome_v2(\"hello\"))\n",
    "print(f'3 {\"madam\"}-->',is_palindrome_v2(\"madam\"))"
   ]
  },
  {
   "cell_type": "code",
   "execution_count": 2,
   "id": "18b831b5",
   "metadata": {},
   "outputs": [
    {
     "name": "stdout",
     "output_type": "stream",
     "text": [
      "1 racecar --> True\n",
      "2 hello  --> False\n",
      "3 madam--> True\n"
     ]
    }
   ],
   "source": [
    "# approach 3: Using recursion\n",
    "def is_palindrome_v3(s):\n",
    "    if len(s) <= 1: # base case: a string of length 0 or 1 is a palindrome\n",
    "        return True\n",
    "    if s[0] != s[-1]: # compare the first and last characters\n",
    "        return False\n",
    "    return is_palindrome_v3(s[1:-1]) # recursive case: check the substring without the first and last characters\n",
    "print(f'1 {\"racecar\"} -->', is_palindrome_v3(\"racecar\"))\n",
    "print(f'2 {\"hello\"}  -->',is_palindrome_v3(\"hello\"))\n",
    "print(f'3 {\"madam\"}-->',is_palindrome_v3(\"madam\"))"
   ]
  },
  {
   "cell_type": "code",
   "execution_count": 3,
   "id": "ea6dec30",
   "metadata": {},
   "outputs": [
    {
     "name": "stdout",
     "output_type": "stream",
     "text": [
      "1 racecar --> True\n"
     ]
    }
   ],
   "source": [
    "# approach 4: Using two-pointer technique\n",
    "def is_palindrome_v3(s):\n",
    "    left, right = 0, len(s) - 1 # initialize two pointers at the start and end of the string \n",
    "    # Move the pointers towards the center, comparing characters at each step   \n",
    "    # If a mismatch is found, return False\n",
    "    while left < right:\n",
    "        if s[left] != s[right]: # compare characters at the two pointers EXAMPLE: s[0] with s[-1]\n",
    "            return False\n",
    "        left += 1\n",
    "        right -= 1\n",
    "    return True\n",
    "\n",
    "print(f'1 {\"racecar\"} -->', is_palindrome_v3(\"racecar\"))"
   ]
  },
  {
   "cell_type": "markdown",
   "id": "864d671c",
   "metadata": {},
   "source": [
    "# 🔎 2. First Non-Repeating Character"
   ]
  },
  {
   "cell_type": "code",
   "execution_count": 5,
   "id": "4763217d",
   "metadata": {},
   "outputs": [
    {
     "name": "stdout",
     "output_type": "stream",
     "text": [
      "{'s': 3, 'w': 1, 'i': 1}\n",
      "1 swiss --> w\n",
      "{'r': 2, 'e': 3, 'p': 1, 'a': 1, 't': 1}\n",
      "2 repeater --> p\n"
     ]
    }
   ],
   "source": [
    "#to find First Non-Repeating Character\n",
    "# approach 1: Using a dictionary to count occurrences\n",
    "def first_non_repeating_char_v1(s):\n",
    "    char_count = {}\n",
    "    for char in s:\n",
    "        char_count[char] = char_count.get(char, 0) + 1\n",
    "    print(char_count)\n",
    "    for char in s:\n",
    "        if char_count[char] == 1:\n",
    "            return char\n",
    "    return None\n",
    "\n",
    "print(f'1 {\"swiss\"} -->', first_non_repeating_char_v1(\"swiss\"))\n",
    "print(f'2 {\"repeater\"} -->', first_non_repeating_char_v1(\"repeater\"))"
   ]
  },
  {
   "cell_type": "code",
   "execution_count": 6,
   "id": "e4fff8ca",
   "metadata": {},
   "outputs": [
    {
     "name": "stdout",
     "output_type": "stream",
     "text": [
      "Counter({'s': 3, 'w': 1, 'i': 1})\n",
      "1 swiss --> w\n",
      "Counter({'e': 3, 'r': 2, 'p': 1, 'a': 1, 't': 1})\n",
      "2 repeater --> p\n"
     ]
    }
   ],
   "source": [
    "# approch 2: Using collections.Counter\n",
    "from collections import Counter\n",
    "def first_non_repeating_char_v2(s):\n",
    "    char_count = Counter(s)\n",
    "    print(char_count)\n",
    "    for char in s:\n",
    "        if char_count[char] == 1:\n",
    "            return char\n",
    "    return None\n",
    "print(f'1 {\"swiss\"} -->', first_non_repeating_char_v2(\"swiss\"))\n",
    "print(f'2 {\"repeater\"} -->', first_non_repeating_char_v2(\"repeater\"))"
   ]
  },
  {
   "cell_type": "code",
   "execution_count": 8,
   "id": "e2998b6f",
   "metadata": {},
   "outputs": [
    {
     "name": "stdout",
     "output_type": "stream",
     "text": [
      "1 swiss --> ('w', 1)\n",
      "2 repeater --> ('p', 2)\n"
     ]
    }
   ],
   "source": [
    "# approach 3: for find First Non-Repeating Character and its index\n",
    "# Using index() and count() methods\n",
    "def first_non_repeating_char_v3(s):\n",
    "    for i, char in enumerate(s):\n",
    "        if s.count(char) == 1:  # count occurrences of char in the string\n",
    "            return char, i  # return the character and its index\n",
    "    return None, -1  # return None and -1 if no non-repeating character is found\n",
    "print(f'1 {\"swiss\"} -->', first_non_repeating_char_v3(\"swiss\"))\n",
    "print(f'2 {\"repeater\"} -->', first_non_repeating_char_v3(\"repeater\"))\n"
   ]
  },
  {
   "cell_type": "markdown",
   "id": "ba3dd442",
   "metadata": {},
   "source": [
    "# 🔁 3. Check if Two Strings Are Anagrams"
   ]
  },
  {
   "cell_type": "markdown",
   "id": "9c06012b",
   "metadata": {},
   "source": []
  },
  {
   "cell_type": "code",
   "execution_count": 10,
   "id": "1854a976",
   "metadata": {},
   "outputs": [
    {
     "name": "stdout",
     "output_type": "stream",
     "text": [
      "1 ('listen', 'silent') --> True\n",
      "2 ('hello', 'world') --> False\n"
     ]
    }
   ],
   "source": [
    "# 3. Check if Two Strings Are Anagrams\n",
    "# approach1: Using sorted() function\n",
    "def are_anagrams_v1(s1, s2):\n",
    "    return sorted(s1) == sorted(s2)\n",
    "print(f'1 {\"listen\", \"silent\"} -->', are_anagrams_v1(\"listen\", \"silent\"))\n",
    "print(f'2 {\"hello\", \"world\"} -->', are_anagrams_v1(\"hello\", \"world\"))"
   ]
  },
  {
   "cell_type": "code",
   "execution_count": null,
   "id": "ddba618d",
   "metadata": {},
   "outputs": [
    {
     "name": "stdout",
     "output_type": "stream",
     "text": [
      "1 ('listen', 'silent') --> True\n",
      "2 ('hello', 'world') --> False\n"
     ]
    }
   ],
   "source": [
    "# approach 2 : withouy inbuilt functions\n",
    "def are_anagrams_v2(s1, s2):\n",
    "    ''' this function checks if two strings are anagrams of each other without using inbuilt functions\n",
    "    Anagrams are words or phrases made by rearranging the letters of another, using all the original letters exactly once.\n",
    "    logic of the function:\n",
    "    1. If the lengths of the two strings are different, they cannot be anagrams\n",
    "    2. Create a dictionary to count the occurrences of each character in the first string\n",
    "    3. Decrease the count for each character found in the second string\n",
    "    4. If any count goes below zero or a character is found in the second string that is not in the first, they are not anagrams\n",
    "    5. If all counts are zero at the end, the strings are anagrams'''\n",
    "    if len(s1) != len(s2):\n",
    "        return False\n",
    "    char_count = {}\n",
    "    for char in s1:\n",
    "        char_count[char] = char_count.get(char, 0) + 1\n",
    "    for char in s2:\n",
    "        if char in char_count:\n",
    "            char_count[char] -= 1\n",
    "            if char_count[char] < 0:\n",
    "                return False\n",
    "        else:\n",
    "            return False\n",
    "    return all(count == 0 for count in char_count.values())\n",
    "print(f'1 {\"listen\", \"silent\"} -->', are_anagrams_v2(\"listen\", \"silent\"))\n",
    "print(f'2 {\"hello\", \"world\"} -->', are_anagrams_v2(\"hello\", \"world\"))"
   ]
  },
  {
   "cell_type": "code",
   "execution_count": null,
   "id": "ea6d9b99",
   "metadata": {},
   "outputs": [
    {
     "name": "stdout",
     "output_type": "stream",
     "text": [
      "Counter({'l': 1, 'i': 1, 's': 1, 't': 1, 'e': 1, 'n': 1})\n",
      "Counter({'s': 1, 'i': 1, 'l': 1, 'e': 1, 'n': 1, 't': 1})\n",
      "1 ('listen', 'silent') --> True\n",
      "Counter({'h': 1, 'e': 1, 'l': 1, 'o': 1})\n",
      "Counter({'w': 1, 'o': 1, 'l': 1, 'd': 1})\n",
      "2 ('helo', 'wold') --> False\n"
     ]
    }
   ],
   "source": [
    "# approach 3: for anagrams using collections.Counter\n",
    "from collections import Counter\n",
    "def are_anagrams_v3(s1, s2):\n",
    "    ''' logic of the function:\n",
    "     1. Use Counter to count occurrences of each character in both strings\n",
    "     2. Compare the two Counters; if they are equal, the strings are anagrams\n",
    "     '''\n",
    "    print(Counter(s1))\n",
    "    print(Counter(s2))\n",
    "    return Counter(s1) == Counter(s2) # compare the two Counters how many times each character appears in the strings\n",
    "print(f'1 {\"listen\", \"silent\"} -->', are_anagrams_v3(\"listen\", \"silent\"))\n",
    "print(f'2 {\"helo\", \"wold\"} -->', are_anagrams_v3(\"helo\", \"wold\"))\n"
   ]
  },
  {
   "cell_type": "markdown",
   "id": "15e5a4c4",
   "metadata": {
    "vscode": {
     "languageId": "bat"
    }
   },
   "source": [
    "# Longest Substring Without Repeating Characters"
   ]
  },
  {
   "cell_type": "code",
   "execution_count": 16,
   "id": "88fb3861",
   "metadata": {},
   "outputs": [
    {
     "name": "stdout",
     "output_type": "stream",
     "text": [
      "1 abcabcbb --> ('abc', 3)\n",
      "2 bbbbb --> ('b', 1)\n"
     ]
    }
   ],
   "source": [
    "# 4. Longest Substring Without Repeating Characters\n",
    "# approach 1: Using sliding window technique with a set\n",
    "def longest_substring_v1(s):\n",
    "    char_set = set() # to store unique characters in the current window\n",
    "    left = 0 # left pointer of the sliding window\n",
    "    max_length = 0 # to keep track of the maximum length found\n",
    "    start_index = 0 # to store the starting index of the longest substring found\n",
    "\n",
    "    for right in range(len(s)): # right pointer of the sliding window\n",
    "        while s[right] in char_set: # if the character at right pointer is already in the set, we have a duplicate\n",
    "            char_set.remove(s[left]) # remove the character at left pointer from the set\n",
    "            left += 1 # move the left pointer to the right\n",
    "        char_set.add(s[right]) # add the character at right pointer to the set\n",
    "        if right - left + 1 > max_length: # update max_length and start_index if we found a longer substring\n",
    "            max_length = right - left + 1\n",
    "            start_index = left\n",
    "\n",
    "    return s[start_index:start_index + max_length], max_length # return the longest substring and its length\n",
    "\n",
    "print(f'1 {\"abcabcbb\"} -->', longest_substring_v1(\"abcabcbb\"))\n",
    "print(f'2 {\"bbbbb\"} -->', longest_substring_v1(\"bbbbb\"))\n"
   ]
  },
  {
   "cell_type": "code",
   "execution_count": null,
   "id": "cacee67b",
   "metadata": {},
   "outputs": [
    {
     "name": "stdout",
     "output_type": "stream",
     "text": [
      "['a3', 'b3', 'c2']\n",
      "1 aaabbbcc --> a3b3c2\n",
      "['a1', 'b1', 'c1', 'd1']\n",
      "2 abcd --> a1b1c1d1\n"
     ]
    }
   ],
   "source": [
    "# Problem 5: String Compression\n",
    "# approach 1: Using a loop to count consecutive characters\n",
    "def compress_string(s):\n",
    "    ''' logic of the function:\n",
    "    1. Initialize an empty list to store the compressed parts of the string\n",
    "    2. Iterate through the string, counting consecutive identical characters\n",
    "    3. When a different character is encountered, append the character and its count to the list\n",
    "    4. Join the list into a single string and return it\n",
    "    5. If the input string is empty, return an empty string\n",
    "    '''\n",
    "    if not s:\n",
    "        return \"\"\n",
    "    result = []\n",
    "    count = 1\n",
    "    for i in range(1, len(s)):\n",
    "        if s[i] == s[i - 1]: # if the current character is the same as the previous one\n",
    "            count += 1\n",
    "        else:\n",
    "            result.append(s[i - 1] + str(count)) # append the previous character and its count to the result\n",
    "            count = 1\n",
    "    result.append(s[-1] + str(count)) # append the last character and its count\n",
    "    print(result)\n",
    "    return ''.join(result)\n",
    "\n",
    "print(f'1 {\"aaabbbcc\"} -->', compress_string(\"aaabbbcc\"))\n",
    "print(f'2 {\"abcd\"} -->', compress_string(\"abcd\"))"
   ]
  },
  {
   "cell_type": "code",
   "execution_count": 29,
   "id": "f33e642a",
   "metadata": {},
   "outputs": [
    {
     "name": "stdout",
     "output_type": "stream",
     "text": [
      "True\n",
      "True\n",
      "False\n",
      "False\n"
     ]
    }
   ],
   "source": [
    "# validate tje email address\n",
    "import re\n",
    "\n",
    "def is_valid_email(email):\n",
    "    r'''logic regex pattern for a basic email validation \n",
    "    1. asserts the start of the string.\n",
    "    2. [\\w\\.-]+ matches one or more word characters (letters, digits, underscores), dots, or hyphens before the \"@\" symbol.\n",
    "    3. @ matches the \"@\" symbol.\n",
    "    4. [\\w\\.-]+ matches one or more word characters (letters, digits, underscores), dots, or hyphens after the \"@\" symbol and before the domain.\n",
    "    5. matches \\.  a literal dot.\n",
    "    6. matches \\w{2,} two or more word characters (letters, digits, underscores) for the domain extension.\n",
    "    7. $ asserts the end of the string.\n",
    "    8. The re.match function checks if the entire string matches the pattern from start to end.\n",
    "    9. The function returns True if the email matches the pattern, otherwise it returns False.\n",
    "    '''\n",
    "    pattern = r'^[\\w\\.-]+@[\\w\\.-]+\\.\\w{2,}$' \n",
    "    return bool(re.match(pattern, email))\n",
    "\n",
    "# Test cases\n",
    "# Valid email addresses\n",
    "print(is_valid_email(\"abcd@gmail.com\"))\n",
    "print(is_valid_email(\"ganeh@ncsj.com\"))\n",
    "# Invalid email addresses\n",
    "print(is_valid_email(\"invalid-email@.com\"))\n",
    "print(is_valid_email(\"another.invalid.email.com\"))"
   ]
  },
  {
   "cell_type": "code",
   "execution_count": 30,
   "id": "b78f76eb",
   "metadata": {},
   "outputs": [
    {
     "name": "stdout",
     "output_type": "stream",
     "text": [
      "1 Hello World from Python --> Python from World Hello\n",
      "2 OpenAI is amazing --> amazing is OpenAI\n"
     ]
    }
   ],
   "source": [
    "# Reverse Words in a Sentence\n",
    "# approach 1: Using split() and join() methods\n",
    "def reverse_words(sentence):\n",
    "    words = sentence.split() # split the sentence into words\n",
    "    reversed_words = words[::-1] # reverse the list of words\n",
    "    return ' '.join(reversed_words) # join the reversed list back into a string\n",
    "print(f'1 {\"Hello World from Python\"} -->', reverse_words(\"Hello World from Python\"))\n",
    "print(f'2 {\"OpenAI is amazing\"} -->', reverse_words(\"OpenAI is amazing\"))"
   ]
  },
  {
   "cell_type": "code",
   "execution_count": null,
   "id": "588b9870",
   "metadata": {},
   "outputs": [
    {
     "name": "stdout",
     "output_type": "stream",
     "text": [
      "1 Hello World from Python --> Python from World Hello\n",
      "2 OpenAI is amazing --> amazing is OpenAI\n"
     ]
    }
   ],
   "source": [
    "# Reverse Words in a Sentence\n",
    "# approach 2: Using a loop to build the reversed sentence\n",
    "def reverse_words_v2(sentence):\n",
    "    words = sentence.split() # split the sentence into words\n",
    "    reversed_sentence = [] # list to hold the reversed words\n",
    "    for word in words:\n",
    "        reversed_sentence.insert(0, word) # insert each word at the beginning of the list\n",
    "    return ' '.join(reversed_sentence) # join the list back into a string\n",
    "print(f'1 {\"Hello World from Python\"} -->', reverse_words_v2(\"Hello World from Python\"))\n",
    "print(f'2 {\"OpenAI is amazing\"} -->', reverse_words_v2(\"OpenAI is amazing\"))"
   ]
  },
  {
   "cell_type": "code",
   "execution_count": 33,
   "id": "97f98555",
   "metadata": {},
   "outputs": [
    {
     "name": "stdout",
     "output_type": "stream",
     "text": [
      "1 Hello World from Python --> Python from World Hello\n"
     ]
    }
   ],
   "source": [
    "# Reverse Words in a Sentence\n",
    "# approach 3: using without recursion \n",
    "def reverse_words_v3(sentence):\n",
    "    words = sentence.split() # split the sentence into words\n",
    "    reversed_sentence = []\n",
    "    index = len(words) - 1\n",
    "    while index >= 0:\n",
    "        reversed_sentence.append(words[index]) # append words from the end to the list\n",
    "        index -= 1\n",
    "    return ' '.join(reversed_sentence) # join the list back into a string\n",
    "print(f'1 {\"Hello World from Python\"} -->', reverse_words_v3(\"Hello World from Python\"))\n"
   ]
  },
  {
   "cell_type": "code",
   "execution_count": 34,
   "id": "4633a08a",
   "metadata": {},
   "outputs": [
    {
     "name": "stdout",
     "output_type": "stream",
     "text": [
      "1 Hello World from Python --> olleH dlroW morf nohtyP\n"
     ]
    }
   ],
   "source": [
    "# Reverse each character in word  of the Sentence\n",
    "# approach 1: Using split() and join() methods\n",
    "def reverse_each_word(sentence):\n",
    "    words = sentence.split() # split the sentence into words\n",
    "    reversed_words = [word[::-1] for word in words] # reverse each word using slicing\n",
    "    return ' '.join(reversed_words) # join the reversed words back into a string\n",
    "print(f'1 {\"Hello World from Python\"} -->', reverse_each_word(\"Hello World from Python\"))"
   ]
  },
  {
   "cell_type": "code",
   "execution_count": 35,
   "id": "77f2a9c0",
   "metadata": {},
   "outputs": [
    {
     "name": "stdout",
     "output_type": "stream",
     "text": [
      "1 Hello World from Python --> olleH dlroW morf nohtyP\n"
     ]
    }
   ],
   "source": [
    "# Reverse each character in word  of the Sentence\n",
    "# approach 2: Using a loop to reverse each word\n",
    "def reverse_each_word_v2(sentence):\n",
    "    words = sentence.split() # split the sentence into words\n",
    "    reversed_words = []\n",
    "    for word in words:\n",
    "        reversed_word = ''\n",
    "        for char in word:\n",
    "            reversed_word = char + reversed_word # build the reversed word character by character\n",
    "        reversed_words.append(reversed_word) # append the reversed word to the list\n",
    "    return ' '.join(reversed_words) # join the list back into a string\n",
    "print(f'1 {\"Hello World from Python\"} -->', reverse_each_word_v2(\"Hello World from Python\"))"
   ]
  },
  {
   "cell_type": "code",
   "execution_count": 36,
   "id": "eeb3e670",
   "metadata": {},
   "outputs": [
    {
     "name": "stdout",
     "output_type": "stream",
     "text": [
      "1 Hello World from Python --> olleH dlroW morf nohtyP\n"
     ]
    }
   ],
   "source": [
    "# Reverse each character in word  of the Sentence\n",
    "# approach 3: using without recursion\n",
    "def reverse_each_word_v3(sentence):\n",
    "    words = sentence.split() # split the sentence into words\n",
    "    reversed_words = []\n",
    "    for word in words:\n",
    "        char_list = list(word) # convert the word to a list of characters\n",
    "        left, right = 0, len(char_list) - 1\n",
    "        while left < right:\n",
    "            char_list[left], char_list[right] = char_list[right], char_list[left] # swap characters\n",
    "            left += 1\n",
    "            right -= 1\n",
    "        reversed_words.append(''.join(char_list)) # join the list back into a string and append to the result\n",
    "    return ' '.join(reversed_words) # join the list back into a string\n",
    "print(f'1 {\"Hello World from Python\"} -->', reverse_each_word_v3(\"Hello World from Python\"))"
   ]
  },
  {
   "cell_type": "code",
   "execution_count": null,
   "id": "dda08e3f",
   "metadata": {},
   "outputs": [],
   "source": [
    "# test"
   ]
  }
 ],
 "metadata": {
  "kernelspec": {
   "display_name": ".venv",
   "language": "python",
   "name": "python3"
  },
  "language_info": {
   "codemirror_mode": {
    "name": "ipython",
    "version": 3
   },
   "file_extension": ".py",
   "mimetype": "text/x-python",
   "name": "python",
   "nbconvert_exporter": "python",
   "pygments_lexer": "ipython3",
   "version": "3.12.0"
  }
 },
 "nbformat": 4,
 "nbformat_minor": 5
}
