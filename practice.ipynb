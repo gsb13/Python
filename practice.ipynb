{
 "cells": [
  {
   "cell_type": "code",
   "execution_count": 2,
   "metadata": {},
   "outputs": [
    {
     "name": "stdout",
     "output_type": "stream",
     "text": [
      "Hello world\n"
     ]
    }
   ],
   "source": [
    "print('Hello world')"
   ]
  },
  {
   "cell_type": "code",
   "execution_count": 215,
   "metadata": {},
   "outputs": [
    {
     "name": "stdout",
     "output_type": "stream",
     "text": [
      "Nokia Notwork\n"
     ]
    },
    {
     "data": {
      "text/plain": [
       "'Nekia Notwork'"
      ]
     },
     "execution_count": 215,
     "metadata": {},
     "output_type": "execute_result"
    }
   ],
   "source": [
    "a = 'Nokia Network'\n",
    "# output = 'Nekia Notwork'\n",
    "l = a.split()\n",
    "\n",
    "n = l[0][0:2]\n",
    "n\n",
    "m = l[1][0:2]\n",
    "m\n",
    "l1 = a.replace(m,n,1)\n",
    "print(l1)\n",
    "l1=l1.replace(n,m,1)\n",
    "l1"
   ]
  },
  {
   "cell_type": "code",
   "execution_count": 16,
   "metadata": {},
   "outputs": [
    {
     "data": {
      "text/plain": [
       "[['cat', 'tac'], ['eat', 'ate', 'tea'], ['bat', 'tab']]"
      ]
     },
     "execution_count": 16,
     "metadata": {},
     "output_type": "execute_result"
    }
   ],
   "source": [
    "# list out anagram words in each seperate list\n",
    "words = [\"eat\",\"ate\",\"bat\",\"tea\",\"tab\",\"cat\",'tac']\n",
    "#output = [['cat', 'tac'], ['eat', 'ate', 'tea'], ['bat', 'tab']] \n",
    "# sort unique word\n",
    "sort_word = set([''.join(sorted(word)) for word in words])\n",
    "sort_word\n",
    "# find anagram word with sorted word\n",
    "anagram_word = [[word for word in words if ''.join(sorted(word)) == word1] for word1 in sort_word]\n",
    "anagram_word\n"
   ]
  },
  {
   "cell_type": "code",
   "execution_count": 2,
   "metadata": {},
   "outputs": [
    {
     "name": "stdout",
     "output_type": "stream",
     "text": [
      "('()()()()', 4)\n"
     ]
    }
   ],
   "source": [
    "# written occurances of open close bracket \n",
    "def occurance(s):\n",
    "    count = 0\n",
    "    result =''\n",
    "    for i in range(len(s)):\n",
    "        if s[i:i+2] == '()':\n",
    "            count +=1\n",
    "            result += '()'\n",
    "    return result,count\n",
    "s = \"(()) ((() () () ))\"\n",
    "print(occurance(s))\n"
   ]
  },
  {
   "cell_type": "code",
   "execution_count": 149,
   "metadata": {},
   "outputs": [
    {
     "name": "stdout",
     "output_type": "stream",
     "text": [
      "the string has balanced paranthesis :True\n"
     ]
    }
   ],
   "source": [
    "# balanced paranthesis check eg: ()\n",
    "def balanced_paranthesis(s):\n",
    "    # create empty list to hold opening paranthesis\n",
    "    lis =[]\n",
    "    \n",
    "    for ch in s: # iterate over string\n",
    "        if ch =='(': # check for opening parathesi\n",
    "            lis.append(ch) # append in lis\n",
    "        elif ch == ')': # check for closing pranthesis\n",
    "            if not lis: # if it is empty \n",
    "                return False # unbalnced paranthesis\n",
    "            lis.pop() # else remove last inseted opening paranthesis\n",
    "    return len(lis) ==0 # finally check for len of lis if it is 0 then it balance paranthesis\n",
    "s = \"(()) ((() () () ))\"\n",
    "output = balanced_paranthesis(s)\n",
    "print(f'the string has balanced paranthesis :{output}')"
   ]
  },
  {
   "cell_type": "code",
   "execution_count": 150,
   "metadata": {},
   "outputs": [
    {
     "name": "stdout",
     "output_type": "stream",
     "text": [
      "True\n",
      "False\n"
     ]
    }
   ],
   "source": [
    "def is_balanced(s):\n",
    "    # Stack to hold opening brackets\n",
    "    stack = []\n",
    "    \n",
    "    # Dictionary to map closing brackets to their corresponding opening brackets\n",
    "    brackets = {')': '(', '}': '{', ']': '['}\n",
    "    \n",
    "    # Iterate through each character in the string\n",
    "    for char in s:\n",
    "        # If it's an opening bracket, push it onto the stack\n",
    "        if char in brackets.values():\n",
    "            stack.append(char)\n",
    "        # If it's a closing bracket\n",
    "        elif char in brackets.keys():\n",
    "            # Check if the stack is empty or if the top of the stack doesn't match\n",
    "            if not stack or stack[-1] != brackets[char]:\n",
    "                return False\n",
    "            # If it matches, pop the top of the stack\n",
    "            stack.pop()\n",
    "    \n",
    "    # If the stack is empty, the string is balanced\n",
    "    return len(stack) == 0\n",
    "\n",
    "# Example usage\n",
    "input1 = \"([]){}\"\n",
    "input2 = \"([]{}\"\n",
    "\n",
    "print(is_balanced(input1))  # Output: True\n",
    "print(is_balanced(input2))  # Output: False"
   ]
  },
  {
   "cell_type": "code",
   "execution_count": 6,
   "metadata": {},
   "outputs": [
    {
     "name": "stdout",
     "output_type": "stream",
     "text": [
      "Symetrical\n",
      "Anagram\n"
     ]
    }
   ],
   "source": [
    "# palindrome and symmetrical\n",
    "####\n",
    "# symetrical\n",
    "string = 'amaama'\n",
    "len_s = len(string)//2\n",
    "\n",
    "first_half = string[len_s:]\n",
    "first_half\n",
    "second_half = string[:len_s]\n",
    "second_half\n",
    "\n",
    "if first_half == second_half:\n",
    "    print('Symetrical')\n",
    "else:\n",
    "    print('Asymetrical')\n",
    "    \n",
    "# palindrome\n",
    "if first_half == second_half[::-1]:\n",
    "    print('Anagram')\n",
    "else:\n",
    "    print('Non anagram')"
   ]
  },
  {
   "cell_type": "code",
   "execution_count": 25,
   "metadata": {},
   "outputs": [
    {
     "name": "stdout",
     "output_type": "stream",
     "text": [
      "10\n"
     ]
    },
    {
     "data": {
      "text/plain": [
       "10"
      ]
     },
     "execution_count": 25,
     "metadata": {},
     "output_type": "execute_result"
    }
   ],
   "source": [
    "# find the difference between two smallest no\n",
    "l = [10,9,4,6]\n",
    "max1 = l[0] # assign first element of lis as max of list\n",
    "max1\n",
    "\n",
    "for i in range(len(l)):\n",
    "    if l[i] > max1: # check each item size \n",
    "        max1 = l[i] # if item is greate then assign it max1 variable  \n",
    "print(max1)\n",
    "\n",
    "\n",
    "# alteranate method\n",
    "max = sorted(l, reverse=True)\n",
    "max[0]\n",
    "#print(max[0])\n"
   ]
  },
  {
   "cell_type": "code",
   "execution_count": 47,
   "metadata": {},
   "outputs": [
    {
     "data": {
      "text/plain": [
       "[3, 13, 17, 7]"
      ]
     },
     "execution_count": 47,
     "metadata": {},
     "output_type": "execute_result"
    }
   ],
   "source": [
    "# addition of each number in the list\n",
    "test_list = [12, 67, 98, 34] \n",
    "# output =[3, 13, 17, 7]\n",
    "l = [] # empty list to store result\n",
    "for digit in test_list: # iterate over input list\n",
    "    sum = 0             # to store addition\n",
    "    for ele in str(digit): # iterate over digit by converting to string for time being\n",
    "        #print(ele)\n",
    "        sum += int(ele) # add this each ele in to sum by converting to int\n",
    "    l.append(sum) # finally append the sum\n",
    "l\n",
    "\n"
   ]
  },
  {
   "cell_type": "code",
   "execution_count": 48,
   "metadata": {},
   "outputs": [
    {
     "ename": "TypeError",
     "evalue": "'int' object is not callable",
     "output_type": "error",
     "traceback": [
      "\u001b[1;31m---------------------------------------------------------------------------\u001b[0m",
      "\u001b[1;31mTypeError\u001b[0m                                 Traceback (most recent call last)",
      "Cell \u001b[1;32mIn[48], line 6\u001b[0m\n\u001b[0;32m      3\u001b[0m     \u001b[38;5;28;01mreturn\u001b[39;00m [\u001b[38;5;28msum\u001b[39m(\u001b[38;5;28mint\u001b[39m(digit) \u001b[38;5;28;01mfor\u001b[39;00m digit \u001b[38;5;129;01min\u001b[39;00m \u001b[38;5;28mstr\u001b[39m(num)) \u001b[38;5;28;01mfor\u001b[39;00m num \u001b[38;5;129;01min\u001b[39;00m test_list ]\n\u001b[0;32m      5\u001b[0m test_list \u001b[38;5;241m=\u001b[39m [\u001b[38;5;241m12\u001b[39m, \u001b[38;5;241m67\u001b[39m, \u001b[38;5;241m98\u001b[39m, \u001b[38;5;241m34\u001b[39m] \n\u001b[1;32m----> 6\u001b[0m \u001b[43msum_of_all\u001b[49m\u001b[43m(\u001b[49m\u001b[43mtest_list\u001b[49m\u001b[43m)\u001b[49m\n",
      "Cell \u001b[1;32mIn[48], line 3\u001b[0m, in \u001b[0;36msum_of_all\u001b[1;34m(test_list)\u001b[0m\n\u001b[0;32m      2\u001b[0m \u001b[38;5;28;01mdef\u001b[39;00m \u001b[38;5;21msum_of_all\u001b[39m(test_list):\n\u001b[1;32m----> 3\u001b[0m     \u001b[38;5;28;01mreturn\u001b[39;00m \u001b[43m[\u001b[49m\u001b[38;5;28;43msum\u001b[39;49m\u001b[43m(\u001b[49m\u001b[38;5;28;43mint\u001b[39;49m\u001b[43m(\u001b[49m\u001b[43mdigit\u001b[49m\u001b[43m)\u001b[49m\u001b[43m \u001b[49m\u001b[38;5;28;43;01mfor\u001b[39;49;00m\u001b[43m \u001b[49m\u001b[43mdigit\u001b[49m\u001b[43m \u001b[49m\u001b[38;5;129;43;01min\u001b[39;49;00m\u001b[43m \u001b[49m\u001b[38;5;28;43mstr\u001b[39;49m\u001b[43m(\u001b[49m\u001b[43mnum\u001b[49m\u001b[43m)\u001b[49m\u001b[43m)\u001b[49m\u001b[43m \u001b[49m\u001b[38;5;28;43;01mfor\u001b[39;49;00m\u001b[43m \u001b[49m\u001b[43mnum\u001b[49m\u001b[43m \u001b[49m\u001b[38;5;129;43;01min\u001b[39;49;00m\u001b[43m \u001b[49m\u001b[43mtest_list\u001b[49m\u001b[43m \u001b[49m\u001b[43m]\u001b[49m\n",
      "Cell \u001b[1;32mIn[48], line 3\u001b[0m, in \u001b[0;36m<listcomp>\u001b[1;34m(.0)\u001b[0m\n\u001b[0;32m      2\u001b[0m \u001b[38;5;28;01mdef\u001b[39;00m \u001b[38;5;21msum_of_all\u001b[39m(test_list):\n\u001b[1;32m----> 3\u001b[0m     \u001b[38;5;28;01mreturn\u001b[39;00m [\u001b[38;5;28;43msum\u001b[39;49m\u001b[43m(\u001b[49m\u001b[38;5;28;43mint\u001b[39;49m\u001b[43m(\u001b[49m\u001b[43mdigit\u001b[49m\u001b[43m)\u001b[49m\u001b[43m \u001b[49m\u001b[38;5;28;43;01mfor\u001b[39;49;00m\u001b[43m \u001b[49m\u001b[43mdigit\u001b[49m\u001b[43m \u001b[49m\u001b[38;5;129;43;01min\u001b[39;49;00m\u001b[43m \u001b[49m\u001b[38;5;28;43mstr\u001b[39;49m\u001b[43m(\u001b[49m\u001b[43mnum\u001b[49m\u001b[43m)\u001b[49m\u001b[43m)\u001b[49m \u001b[38;5;28;01mfor\u001b[39;00m num \u001b[38;5;129;01min\u001b[39;00m test_list ]\n",
      "\u001b[1;31mTypeError\u001b[0m: 'int' object is not callable"
     ]
    }
   ],
   "source": [
    "# alteranate code \n",
    "def sum_of_all(test_list):\n",
    "    return [sum(int(digit) for digit in str(num)) for num in test_list ]\n",
    "\n",
    "test_list = [12, 67, 98, 34] \n",
    "sum_of_all(test_list)"
   ]
  },
  {
   "cell_type": "code",
   "execution_count": 49,
   "metadata": {},
   "outputs": [
    {
     "data": {
      "text/plain": [
       "[1, 3, 10, 14]"
      ]
     },
     "execution_count": 49,
     "metadata": {},
     "output_type": "execute_result"
    }
   ],
   "source": [
    "#addition of each element sum of all element of list \n",
    "l = [1,2,7,4]\n",
    "\n",
    "l1 = []\n",
    "sum = 0\n",
    "for i in l:\n",
    "    sum += i \n",
    "    l1.append(sum)\n",
    "\n",
    "l1\n",
    "    "
   ]
  },
  {
   "cell_type": "code",
   "execution_count": 51,
   "metadata": {},
   "outputs": [
    {
     "data": {
      "text/plain": [
       "'geksfor'"
      ]
     },
     "execution_count": 51,
     "metadata": {},
     "output_type": "execute_result"
    }
   ],
   "source": [
    "## unique\n",
    "s = 'geeksforgeeks'\n",
    "# output = geksfor\n",
    "t = ''\n",
    "\n",
    "for i in s:\n",
    "    if i not in t:\n",
    "        t += i\n",
    "t\n",
    "\n",
    "\n"
   ]
  },
  {
   "cell_type": "code",
   "execution_count": 54,
   "metadata": {},
   "outputs": [
    {
     "name": "stdout",
     "output_type": "stream",
     "text": [
      "char g appears 2\n",
      "char e appears 4\n",
      "char k appears 2\n",
      "char s appears 2\n",
      "char f appears 1\n",
      "char o appears 1\n",
      "char r appears 1\n"
     ]
    }
   ],
   "source": [
    "# count occurance of each char\n",
    "s = 'geeksforgeeks'\n",
    "d = {}\n",
    "for ch in s:\n",
    "    d[ch] = d.get(ch,0) + 1\n",
    "d\n",
    "\n",
    "for k,v in d.items():\n",
    "    print(f'char {k} appears {v}')\n",
    "    "
   ]
  },
  {
   "cell_type": "code",
   "execution_count": 62,
   "metadata": {},
   "outputs": [
    {
     "name": "stdout",
     "output_type": "stream",
     "text": [
      "{'Gfg': 2, 'is': 1, 'best': 1, '.': 1, 'Geeks': 2, 'are': 1, 'good': 1, 'and': 1, 'like': 1}\n",
      "Gfg appears 2 times\n",
      "is appears 1 times\n",
      "best appears 1 times\n",
      ". appears 1 times\n",
      "Geeks appears 2 times\n",
      "are appears 1 times\n",
      "good appears 1 times\n",
      "and appears 1 times\n",
      "like appears 1 times\n"
     ]
    }
   ],
   "source": [
    "test_str = 'Gfg is best . Geeks are good and Geeks like Gfg'\n",
    "# dict comprehenssion\n",
    "d1 = {key:test_str.count(key) for key in test_str.split()}\n",
    "print(d1)\n",
    "# Normal implementation\n",
    "def key_count(s):\n",
    "    \n",
    "    d = {}\n",
    "    s = test_str.split()\n",
    "\n",
    "    for ch in s:\n",
    "        d[ch] = d.get(ch,0)+1\n",
    "    \n",
    "    for k,v in d.items():\n",
    "        print(f'{k} appears {v} times')\n",
    "s = 'Gfg is best . Geeks are good and Geeks like Gfg'\n",
    "key_count(s)"
   ]
  },
  {
   "cell_type": "code",
   "execution_count": 71,
   "metadata": {},
   "outputs": [
    {
     "data": {
      "text/plain": [
       "[1, 8, 3, 6, 5, 4, 7, 2, 9]"
      ]
     },
     "execution_count": 71,
     "metadata": {},
     "output_type": "execute_result"
    }
   ],
   "source": [
    "# rearrange with even no in descendin ordeer\n",
    "#i/p = [1, 2, 3, 4, 5, 6, 7, 8, 9]\n",
    "#o/p = [1, 8, 3, 6, 5, 4, 7, 2, 9]\n",
    "\n",
    "l = [1, 2, 3, 4, 5, 6, 7, 8, 9]\n",
    "l1 = []\n",
    "for i in range(len(l)):\n",
    "    if i%2 ==0:\n",
    "        l1.append(l[i]) # it will append even index item\n",
    "                        # here even idex consist item(1,3,5,7,9)\n",
    "    else:\n",
    "        l1.append(l[-i-1]) # it will append odd index item in descending order\n",
    "                           #it consiste of add index items(8,6,4,2)\n",
    "l1"
   ]
  },
  {
   "cell_type": "code",
   "execution_count": 77,
   "metadata": {},
   "outputs": [
    {
     "name": "stdout",
     "output_type": "stream",
     "text": [
      "1 appears twice\n",
      "3 appears twice\n"
     ]
    }
   ],
   "source": [
    "# Find twice occurance \n",
    "s = [1,1,2,2,2,3,3,5]\n",
    "d = {}\n",
    "\n",
    "for i in s:\n",
    "    d[i] = d.get(i,0)+1\n",
    "d\n",
    "l = []\n",
    "for k,v in d.items():\n",
    "    if v == 2:\n",
    "        print(f'{k} appears twice')\n",
    "\n",
    "        "
   ]
  },
  {
   "cell_type": "code",
   "execution_count": 84,
   "metadata": {},
   "outputs": [
    {
     "data": {
      "text/plain": [
       "[4, 10, 20, 45, 99]"
      ]
     },
     "execution_count": 84,
     "metadata": {},
     "output_type": "execute_result"
    }
   ],
   "source": [
    "# bubble sort\n",
    "arr = [10, 20, 4, 45, 99]  \n",
    "\n",
    "for i in range(len(arr)-1):\n",
    "    for j in range(len(arr)-1-i):\n",
    "        if arr[j]>arr[j+1]:\n",
    "            arr[j],arr[j+1] = arr[j+1],arr[j]\n",
    "arr"
   ]
  },
  {
   "cell_type": "code",
   "execution_count": 92,
   "metadata": {},
   "outputs": [
    {
     "data": {
      "text/plain": [
       "'DataCampBlackFridaySale'"
      ]
     },
     "execution_count": 92,
     "metadata": {},
     "output_type": "execute_result"
    }
   ],
   "source": [
    "# replace character\n",
    "text = \"D t C mpBl ckFrid yS le\"\n",
    "result = ''\n",
    "ch = 'a'\n",
    "\n",
    "for i in text:\n",
    "    #print(i)\n",
    "    if i == \" \":\n",
    "        i = ch\n",
    "    result += i\n",
    "result"
   ]
  },
  {
   "cell_type": "code",
   "execution_count": 98,
   "metadata": {},
   "outputs": [
    {
     "ename": "TypeError",
     "evalue": "'list' object is not callable",
     "output_type": "error",
     "traceback": [
      "\u001b[1;31m---------------------------------------------------------------------------\u001b[0m",
      "\u001b[1;31mTypeError\u001b[0m                                 Traceback (most recent call last)",
      "Cell \u001b[1;32mIn[98], line 4\u001b[0m\n\u001b[0;32m      1\u001b[0m \u001b[38;5;66;03m# second high number\u001b[39;00m\n\u001b[0;32m      2\u001b[0m lis \u001b[38;5;241m=\u001b[39m[\u001b[38;5;241m2\u001b[39m,\u001b[38;5;241m4\u001b[39m,\u001b[38;5;241m6\u001b[39m,\u001b[38;5;241m7\u001b[39m,\u001b[38;5;241m8\u001b[39m]\n\u001b[1;32m----> 4\u001b[0m l1 \u001b[38;5;241m=\u001b[39m \u001b[43m[\u001b[49m\u001b[43mlis\u001b[49m\u001b[43m[\u001b[49m\u001b[43mi\u001b[49m\u001b[43m]\u001b[49m\u001b[43m \u001b[49m\u001b[38;5;28;43;01mfor\u001b[39;49;00m\u001b[43m \u001b[49m\u001b[43mi\u001b[49m\u001b[43m \u001b[49m\u001b[38;5;129;43;01min\u001b[39;49;00m\u001b[43m \u001b[49m\u001b[38;5;28;43mrange\u001b[39;49m\u001b[43m(\u001b[49m\u001b[38;5;28;43mlen\u001b[39;49m\u001b[43m(\u001b[49m\u001b[43mlis\u001b[49m\u001b[43m)\u001b[49m\u001b[43m)\u001b[49m\u001b[43m \u001b[49m\u001b[38;5;28;43;01mif\u001b[39;49;00m\u001b[43m \u001b[49m\u001b[43mlis\u001b[49m\u001b[43m[\u001b[49m\u001b[43mi\u001b[49m\u001b[43m]\u001b[49m\u001b[43m \u001b[49m\u001b[38;5;241;43m<\u001b[39;49m\u001b[43m \u001b[49m\u001b[38;5;28;43mmax\u001b[39;49m\u001b[43m(\u001b[49m\u001b[43mlis\u001b[49m\u001b[43m)\u001b[49m\u001b[43m]\u001b[49m\n\u001b[0;32m      5\u001b[0m l1\n",
      "Cell \u001b[1;32mIn[98], line 4\u001b[0m, in \u001b[0;36m<listcomp>\u001b[1;34m(.0)\u001b[0m\n\u001b[0;32m      1\u001b[0m \u001b[38;5;66;03m# second high number\u001b[39;00m\n\u001b[0;32m      2\u001b[0m lis \u001b[38;5;241m=\u001b[39m[\u001b[38;5;241m2\u001b[39m,\u001b[38;5;241m4\u001b[39m,\u001b[38;5;241m6\u001b[39m,\u001b[38;5;241m7\u001b[39m,\u001b[38;5;241m8\u001b[39m]\n\u001b[1;32m----> 4\u001b[0m l1 \u001b[38;5;241m=\u001b[39m [lis[i] \u001b[38;5;28;01mfor\u001b[39;00m i \u001b[38;5;129;01min\u001b[39;00m \u001b[38;5;28mrange\u001b[39m(\u001b[38;5;28mlen\u001b[39m(lis)) \u001b[38;5;28;01mif\u001b[39;00m lis[i] \u001b[38;5;241m<\u001b[39m \u001b[38;5;28;43mmax\u001b[39;49m\u001b[43m(\u001b[49m\u001b[43mlis\u001b[49m\u001b[43m)\u001b[49m]\n\u001b[0;32m      5\u001b[0m l1\n",
      "\u001b[1;31mTypeError\u001b[0m: 'list' object is not callable"
     ]
    }
   ],
   "source": [
    "# second high number\n",
    "lis =[2,4,6,7,8]\n",
    "\n",
    "l1 =[ [lis[i] for i in range(len(lis)) if lis[i] < max(lis)]]\n",
    "l1"
   ]
  },
  {
   "cell_type": "code",
   "execution_count": 100,
   "metadata": {},
   "outputs": [
    {
     "data": {
      "text/plain": [
       "{'Rash': 1, 'Kil': 4, 'Varsha': 5}"
      ]
     },
     "execution_count": 100,
     "metadata": {},
     "output_type": "execute_result"
    }
   ],
   "source": [
    "#create dictionary \n",
    "test_keys = [\"Rash\", \"Kil\", \"Varsha\"]\n",
    "test_values = [1, 4, 5]\n",
    "\n",
    "d = {test_keys[i]: test_values[i] for i in range(len(test_keys))}\n",
    "d"
   ]
  },
  {
   "cell_type": "code",
   "execution_count": 105,
   "metadata": {},
   "outputs": [
    {
     "name": "stdout",
     "output_type": "stream",
     "text": [
      "1\n",
      "22\n"
     ]
    }
   ],
   "source": [
    "# three consecative number\n",
    "arr = [1, 1, 1, 64, 23, 64, 22, 22, 22]\n",
    "\n",
    "len_s = len(arr)\n",
    "\n",
    "for i in range(len_s-2):\n",
    "    if arr[i] == arr[i+1] and arr[i+1] == arr[i+2]:\n",
    "        print(arr[i])\n",
    "        "
   ]
  },
  {
   "cell_type": "code",
   "execution_count": 112,
   "metadata": {},
   "outputs": [
    {
     "name": "stdout",
     "output_type": "stream",
     "text": [
      "list is in range: True\n"
     ]
    }
   ],
   "source": [
    "# find the list is in given range\n",
    "test_list = [4, 5, 6, 7, 3, 8]\n",
    "\n",
    "i,j = 3,9\n",
    "res = True\n",
    "\n",
    "for ele in test_list:\n",
    "    if ele < i or ele >= j:\n",
    "        res = False \n",
    "        break\n",
    "print(f'list is in range: {res}')"
   ]
  },
  {
   "cell_type": "code",
   "execution_count": 114,
   "metadata": {},
   "outputs": [
    {
     "name": "stdout",
     "output_type": "stream",
     "text": [
      "even : 3, odd : 4\n"
     ]
    }
   ],
   "source": [
    "# count of add even number\n",
    "list1 = [10, 21, 4, 45, 66, 93, 1]\n",
    "c1 = 0\n",
    "c2 = 0\n",
    "for i in list1:\n",
    "    if i%2 == 0:\n",
    "        c1 +=1\n",
    "    else:\n",
    "        c2 += 1\n",
    "print(f'even : {c1}, odd : {c2}')"
   ]
  },
  {
   "cell_type": "code",
   "execution_count": 117,
   "metadata": {},
   "outputs": [
    {
     "data": {
      "text/plain": [
       "[21, 93]"
      ]
     },
     "execution_count": 117,
     "metadata": {},
     "output_type": "execute_result"
    }
   ],
   "source": [
    "# find positive numbers\n",
    "list1 = [-10, 21, -4, -45, -66, 93]\n",
    "l = []\n",
    "\n",
    "for i in list1:\n",
    "    if i >=0 :\n",
    "        l.append(i)\n",
    "l"
   ]
  },
  {
   "cell_type": "code",
   "execution_count": 119,
   "metadata": {},
   "outputs": [
    {
     "data": {
      "text/plain": [
       "90"
      ]
     },
     "execution_count": 119,
     "metadata": {},
     "output_type": "execute_result"
    }
   ],
   "source": [
    "# multiplication unique no\n",
    "test_list = [1, 3, 5, 6, 3, 5, 6, 1]\n",
    "\n",
    "l = []\n",
    "res = 1\n",
    "for i in test_list:\n",
    "    if i not in l:\n",
    "        l.append(i)\n",
    "for i in l :\n",
    "    res = res * i\n",
    "res"
   ]
  },
  {
   "cell_type": "code",
   "execution_count": 123,
   "metadata": {},
   "outputs": [
    {
     "data": {
      "text/plain": [
       "'RAVIKIRANRAJA'"
      ]
     },
     "execution_count": 123,
     "metadata": {},
     "output_type": "execute_result"
    }
   ],
   "source": [
    "# joint two list with alterate words\n",
    "s1 ='RAVIKIRAN'\n",
    "s2 ='RAJA'\n",
    "output = ''\n",
    "i,j =0,0\n",
    "for i in range(len(s1)):\n",
    "    output +=s1[i]\n",
    "    i +=1\n",
    "for j in range(len(s2)):\n",
    "    output += s2[j]\n",
    "    j +=1\n",
    "output\n",
    "    "
   ]
  },
  {
   "cell_type": "code",
   "execution_count": 128,
   "metadata": {},
   "outputs": [
    {
     "name": "stdout",
     "output_type": "stream",
     "text": [
      "a appears 4 time\n",
      "e appears 1 time\n"
     ]
    }
   ],
   "source": [
    "# function to write vowels count int string\n",
    "vowel = ['a','e','i','o','u','A','E','I','O','U']\n",
    "string = 'Pankaj Ramesh Dhas'\n",
    "d = {}\n",
    "for ch in string:\n",
    "    if ch in vowel:\n",
    "        d[ch] = d.get(ch,0)+1\n",
    "d\n",
    "for k , v in d.items():\n",
    "    print(f'{k} appears {v} time')"
   ]
  },
  {
   "cell_type": "code",
   "execution_count": 1,
   "metadata": {},
   "outputs": [
    {
     "data": {
      "text/plain": [
       "'A3B4C2D1'"
      ]
     },
     "execution_count": 1,
     "metadata": {},
     "output_type": "execute_result"
    }
   ],
   "source": [
    "# AAABBBBCD = A3B4C1D1\n",
    "s = 'ABABCBABCD'\n",
    "d = {}\n",
    "output = ''\n",
    "for ch in s:\n",
    "    d[ch] = d.get(ch,0)+1\n",
    "d \n",
    "for k,v in d.items():\n",
    "    output += k+str(v)\n",
    "output\n",
    "    \n"
   ]
  },
  {
   "cell_type": "code",
   "execution_count": 2,
   "metadata": {},
   "outputs": [
    {
     "data": {
      "text/plain": [
       "'aaaabbbccaaa'"
      ]
     },
     "execution_count": 2,
     "metadata": {},
     "output_type": "execute_result"
    }
   ],
   "source": [
    "# a4b3c2 = aaaabbbcc\n",
    "\n",
    "s = 'a4b3c2a3'\n",
    "output = ''\n",
    "for i in s:\n",
    "    if i.isalpha():\n",
    "        ch = i\n",
    "        \n",
    "    else:\n",
    "        output += ch * int(i)\n",
    "output"
   ]
  },
  {
   "cell_type": "code",
   "execution_count": 139,
   "metadata": {},
   "outputs": [
    {
     "data": {
      "text/plain": [
       "['even', 'even', 'even', 7, 'even']"
      ]
     },
     "execution_count": 139,
     "metadata": {},
     "output_type": "execute_result"
    }
   ],
   "source": [
    "# list comprihension function \n",
    "l =[2,4,6,7,8]\n",
    "\n",
    "l1 = [x if x%2 != 0 else 'even' for x in l]\n",
    "l1"
   ]
  },
  {
   "cell_type": "code",
   "execution_count": 148,
   "metadata": {},
   "outputs": [
    {
     "name": "stdout",
     "output_type": "stream",
     "text": [
      "Number is palindrome\n"
     ]
    }
   ],
   "source": [
    "n = 153\n",
    "size = len(str(n))\n",
    "type(size)\n",
    "num = n \n",
    "count = 0\n",
    "\n",
    "while n > 0:\n",
    "    reminde = n%10\n",
    "    count = (reminde ** size) + count\n",
    "    n = n//10\n",
    "if num == count:\n",
    "    print('Number is palindrome')\n",
    "else:\n",
    "    print('Number is not')"
   ]
  },
  {
   "cell_type": "code",
   "execution_count": 152,
   "metadata": {},
   "outputs": [
    {
     "name": "stdout",
     "output_type": "stream",
     "text": [
      "['Words', 'Longer', 'given', 'Words']\n"
     ]
    }
   ],
   "source": [
    "#Write a Python program \n",
    "#to find the list of words that are longer than n from a given list of words\n",
    "\n",
    "n=4\n",
    "str1 = \"Find the List of Words that are Longer than n from a given List of Words\"\n",
    "lis = str1.split()\n",
    "l = []\n",
    "for ch in lis :\n",
    "    if len(ch) > n :\n",
    "        l.append(ch)\n",
    "print(l)\n"
   ]
  },
  {
   "cell_type": "code",
   "execution_count": 156,
   "metadata": {},
   "outputs": [
    {
     "name": "stdout",
     "output_type": "stream",
     "text": [
      "list is having [5, 6, 7]\n"
     ]
    }
   ],
   "source": [
    "list1=[1,2,3,4,5,6,7]\n",
    "list2=[5,6,7,8,9]\n",
    "com = []\n",
    "\n",
    "for x in list1:\n",
    "    for y in list2:\n",
    "        if y == x:\n",
    "            com.append(y)\n",
    "com\n",
    "\n",
    "if not com :\n",
    "    print('list is empty')\n",
    "else:\n",
    "    print(f'list is having {com}')"
   ]
  },
  {
   "cell_type": "code",
   "execution_count": 158,
   "metadata": {},
   "outputs": [
    {
     "data": {
      "text/plain": [
       "['Dog', 'Elephant', 'Fox', 'Ponda']"
      ]
     },
     "execution_count": 158,
     "metadata": {},
     "output_type": "execute_result"
    }
   ],
   "source": [
    "'''Write a Python program to print a specified list\n",
    "after removing the 0th, 4th and 5th elements'''\n",
    "\n",
    "\n",
    "animal = [\"Cat\", \"Dog\", \"Elephant\", \"Fox\", \"Tiger\", \"Lion\", \"Ponda\"]\n",
    "\n",
    "l = [x for i,x in enumerate(animal) if i not in (0,4,5)]\n",
    "l"
   ]
  },
  {
   "cell_type": "code",
   "execution_count": 165,
   "metadata": {},
   "outputs": [
    {
     "data": {
      "text/plain": [
       "[3, 6, 9, 12, 15, 18, 21, 24, 27, 30]"
      ]
     },
     "execution_count": 165,
     "metadata": {},
     "output_type": "execute_result"
    }
   ],
   "source": [
    "# thress's table\n",
    "l = [i for i in range(3,31) if i%3 == 0]\n",
    "l"
   ]
  },
  {
   "cell_type": "code",
   "execution_count": 167,
   "metadata": {},
   "outputs": [
    {
     "name": "stdout",
     "output_type": "stream",
     "text": [
      "sqaure of first five no : [1, 4, 9, 16, 25]\n",
      "sqaure of first five no : [676, 729, 784, 841, 900]\n"
     ]
    }
   ],
   "source": [
    "'''Write a Python program to generate and\n",
    "print a list of first and last 5 elements \n",
    "where the values are square of numbers\n",
    "between 1 and 30'''\n",
    "\n",
    "square = [x**2 for x in range(1,31)]\n",
    "\n",
    "first_five = square[:5]\n",
    "last_five = square[-5:]\n",
    "\n",
    "print(f'sqaure of first five no : {first_five}')\n",
    "print(f'sqaure of first five no : {last_five}')\n"
   ]
  },
  {
   "cell_type": "code",
   "execution_count": 169,
   "metadata": {},
   "outputs": [
    {
     "name": "stdout",
     "output_type": "stream",
     "text": [
      "[(1, 2, 3), (1, 3, 2), (2, 1, 3), (2, 3, 1), (3, 1, 2), (3, 2, 1)]\n"
     ]
    }
   ],
   "source": [
    "# permutation and commbinatination of given list\n",
    "import itertools\n",
    "print(list(itertools.permutations([1,2,3])))"
   ]
  },
  {
   "cell_type": "code",
   "execution_count": 185,
   "metadata": {},
   "outputs": [
    {
     "ename": "TypeError",
     "evalue": "sequence item 0: expected str instance, int found",
     "output_type": "error",
     "traceback": [
      "\u001b[1;31m---------------------------------------------------------------------------\u001b[0m",
      "\u001b[1;31mTypeError\u001b[0m                                 Traceback (most recent call last)",
      "Cell \u001b[1;32mIn[185], line 8\u001b[0m\n\u001b[0;32m      6\u001b[0m \u001b[38;5;28;01mfor\u001b[39;00m i \u001b[38;5;129;01min\u001b[39;00m \u001b[38;5;28mrange\u001b[39m(\u001b[38;5;28mlen\u001b[39m(s2[::\u001b[38;5;241m-\u001b[39m\u001b[38;5;241m1\u001b[39m])):\n\u001b[0;32m      7\u001b[0m     l\u001b[38;5;241m.\u001b[39mappend(i)\n\u001b[1;32m----> 8\u001b[0m l1 \u001b[38;5;241m=\u001b[39m \u001b[38;5;124;43m'\u001b[39;49m\u001b[38;5;124;43m \u001b[39;49m\u001b[38;5;124;43m'\u001b[39;49m\u001b[38;5;241;43m.\u001b[39;49m\u001b[43mjoin\u001b[49m\u001b[43m(\u001b[49m\u001b[43ml\u001b[49m\u001b[43m)\u001b[49m\n\u001b[0;32m      9\u001b[0m l1\n",
      "\u001b[1;31mTypeError\u001b[0m: sequence item 0: expected str instance, int found"
     ]
    }
   ],
   "source": [
    "s = ['T','u','t','o','r',' ','J','o','e','s']\n",
    "s1 = ''.join(s)\n",
    "s1\n",
    "s2 = s1.split()\n",
    "l = []\n",
    "for i in range(len(s2[::-1])):\n",
    "    l.append(i)\n",
    "l1 = ' '.join(l)\n",
    "l1"
   ]
  },
  {
   "cell_type": "code",
   "execution_count": 192,
   "metadata": {},
   "outputs": [
    {
     "name": "stdout",
     "output_type": "stream",
     "text": [
      "Dog\n"
     ]
    }
   ],
   "source": [
    "import random\n",
    "animal = [\"Cat\", \"Dog\", \"Elephant\", \"Fox\", \"Tiger\", \"Lion\", \"Ponda\"]\n",
    "print(random.choice(animal))\n"
   ]
  },
  {
   "cell_type": "code",
   "execution_count": 196,
   "metadata": {},
   "outputs": [
    {
     "data": {
      "text/plain": [
       "2"
      ]
     },
     "execution_count": 196,
     "metadata": {},
     "output_type": "execute_result"
    }
   ],
   "source": [
    "num = [ 2,4,56,78,4,5,8,9]\n",
    "small = num[0]\n",
    "\n",
    "for i in num:\n",
    "    if i < small:\n",
    "        small = i\n",
    "        \n",
    "small\n",
    "        "
   ]
  },
  {
   "cell_type": "code",
   "execution_count": 200,
   "metadata": {},
   "outputs": [
    {
     "name": "stdout",
     "output_type": "stream",
     "text": [
      "[85, 41]\n"
     ]
    }
   ],
   "source": [
    "def n_max_num(list,N):\n",
    "    lis = []\n",
    "    for i in range(0,N):\n",
    "        maximum = 0\n",
    "        for j in range(len(list)):\n",
    "            if list[j] > maximum:\n",
    "                maximum = list[j]\n",
    "        list.remove(maximum)\n",
    "        lis.append(maximum)\n",
    "        \n",
    "    return lis\n",
    "#test\n",
    "list1 = [2, 6, 41, 85, 0, 3, 7, 6, 10]\n",
    "N = 2\n",
    "print(n_max_num(list1,N))\n",
    "\n",
    "        "
   ]
  },
  {
   "cell_type": "code",
   "execution_count": 208,
   "metadata": {},
   "outputs": [
    {
     "name": "stdout",
     "output_type": "stream",
     "text": [
      "[10, 41, 85]\n"
     ]
    }
   ],
   "source": [
    "# second approch \n",
    "def n_max_sort(list,N):\n",
    "    list.sort()\n",
    "    return list[-N:]\n",
    "list1 = [2, 6, 41, 85, 0, 3, 7, 6, 10]\n",
    "N = 3\n",
    "print(n_max_sort(list1,N))\n",
    "    \n",
    "    "
   ]
  },
  {
   "cell_type": "code",
   "execution_count": 213,
   "metadata": {},
   "outputs": [
    {
     "data": {
      "text/plain": [
       "[2, 6, 85, 0, 7, 6, 10]"
      ]
     },
     "execution_count": 213,
     "metadata": {},
     "output_type": "execute_result"
    }
   ],
   "source": [
    "# positive no \n",
    "list1 = [2, 6, -41, 85, 0, -3, 7, 6, 10]\n",
    "l = []\n",
    "for ele in list1:\n",
    "    if ele >= 0:\n",
    "        l.append(ele)\n",
    "l"
   ]
  },
  {
   "cell_type": "code",
   "execution_count": 216,
   "metadata": {},
   "outputs": [
    {
     "data": {
      "text/plain": [
       "[2, 6, 85, 0, 7, 6, 10]"
      ]
     },
     "execution_count": 216,
     "metadata": {},
     "output_type": "execute_result"
    }
   ],
   "source": [
    "list1 = [2, 6, -41, 85, 0, -3, 7, 6, 10]\n",
    "l = [x for x in list1 if x >= 0]\n",
    "l"
   ]
  },
  {
   "cell_type": "code",
   "execution_count": 218,
   "metadata": {},
   "outputs": [
    {
     "data": {
      "text/plain": [
       "230"
      ]
     },
     "execution_count": 218,
     "metadata": {},
     "output_type": "execute_result"
    }
   ],
   "source": [
    "dic={'x':30, 'y':145, 'z':55 }\n",
    "sum = 0\n",
    "for i in dic.values():\n",
    "    sum += i\n",
    "sum"
   ]
  }
 ],
 "metadata": {
  "kernelspec": {
   "display_name": "Python 3",
   "language": "python",
   "name": "python3"
  },
  "language_info": {
   "codemirror_mode": {
    "name": "ipython",
    "version": 3
   },
   "file_extension": ".py",
   "mimetype": "text/x-python",
   "name": "python",
   "nbconvert_exporter": "python",
   "pygments_lexer": "ipython3",
   "version": "3.11.2"
  }
 },
 "nbformat": 4,
 "nbformat_minor": 2
}
