{
 "cells": [
  {
   "cell_type": "markdown",
   "id": "b1270ca9",
   "metadata": {},
   "source": [
    "Sure! Let's dive into **Python File Handling** — an essential part of programming when you want to read from or write to files.\n",
    "\n",
    "---\n",
    "\n",
    "## 🔹 What is File Handling?\n",
    "\n",
    "File handling in Python allows you to **create**, **read**, **write**, and **append** files. It is done using built-in functions like `open()`, `read()`, `write()`, `close()`, etc.\n",
    "\n",
    "---\n",
    "\n",
    "## 🔹 File Modes in Python\n",
    "\n",
    "When using `open()`, you need to specify the **mode**:\n",
    "\n",
    "| Mode  | Description                                         |\n",
    "| ----- | --------------------------------------------------- |\n",
    "| `'r'` | Read (default). Error if file doesn't exist.        |\n",
    "| `'w'` | Write. Creates new or overwrites existing file.     |\n",
    "| `'a'` | Append. Adds to end of file. Creates if not exists. |\n",
    "| `'x'` | Create. Error if file exists.                       |\n",
    "| `'b'` | Binary mode (e.g., images)                          |\n",
    "| `'t'` | Text mode (default)                                 |\n",
    "\n",
    "👉 Example: `open(\"file.txt\", \"rt\")` — read in text mode.\n",
    "\n",
    "---\n",
    "\n",
    "## 🔹 Basic File Handling Operations\n",
    "\n",
    "### ✅ Opening a File\n",
    "\n",
    "```python\n",
    "file = open(\"sample.txt\", \"r\")  # Open for reading\n",
    "```\n",
    "\n",
    "### ✅ Reading a File\n",
    "\n",
    "```python\n",
    "# read entire content\n",
    "content = file.read()\n",
    "\n",
    "# read line by line\n",
    "line1 = file.readline()\n",
    "\n",
    "# read all lines into a list\n",
    "lines = file.readlines()\n",
    "```\n",
    "\n",
    "### ✅ Writing to a File\n",
    "\n",
    "```python\n",
    "file = open(\"sample.txt\", \"w\")  # overwrites\n",
    "file.write(\"Hello, World!\")\n",
    "```\n",
    "\n",
    "### ✅ Appending to a File\n",
    "\n",
    "```python\n",
    "file = open(\"sample.txt\", \"a\")\n",
    "file.write(\"\\nNew Line\")\n",
    "```\n",
    "\n",
    "### ✅ Closing a File\n",
    "\n",
    "```python\n",
    "file.close()\n",
    "```\n",
    "\n",
    "### ✅ Using `with` Statement (Best Practice)\n",
    "\n",
    "```python\n",
    "with open(\"sample.txt\", \"r\") as file:\n",
    "    content = file.read()\n",
    "# no need to call file.close()\n",
    "```\n",
    "\n",
    "---\n",
    "\n",
    "## 🧠 Common Interview Questions (with Answers)\n",
    "\n",
    "### 1. **What does the `open()` function do?**\n",
    "\n",
    "**Ans:** It opens a file and returns a file object. You can specify mode like `'r'`, `'w'`, `'a'`, etc.\n",
    "\n",
    "### 2. **What is the difference between `'w'` and `'a'` mode?**\n",
    "\n",
    "**Ans:**\n",
    "\n",
    "* `'w'`: Overwrites existing file or creates a new one.\n",
    "* `'a'`: Appends to end of file. Does not overwrite.\n",
    "\n",
    "### 3. **How do you ensure a file is closed properly?**\n",
    "\n",
    "**Ans:** Use the `with` statement, which automatically closes the file.\n",
    "\n",
    "### 4. **What is the use of `readlines()`?**\n",
    "\n",
    "**Ans:** It reads the entire file and returns a list where each element is a line from the file.\n",
    "\n",
    "### 5. **What happens if you try to read a non-existent file in `'r'` mode?**\n",
    "\n",
    "**Ans:** Python raises a `FileNotFoundError`.\n",
    "\n",
    "---\n",
    "\n",
    "## 📝 Summary\n",
    "\n",
    "| Operation       | Function                              |\n",
    "| --------------- | ------------------------------------- |\n",
    "| Open a file     | `open()`                              |\n",
    "| Read file       | `read()`, `readline()`, `readlines()` |\n",
    "| Write file      | `write()`                             |\n",
    "| Append to file  | `write()` in `'a'` mode               |\n",
    "| Close file      | `close()` or use `with`               |\n",
    "| Check existence | `os.path.exists()` (from `os` module) |\n",
    "\n",
    "---\n",
    "\n"
   ]
  },
  {
   "cell_type": "markdown",
   "id": "93c8a1f1",
   "metadata": {},
   "source": [
    "Q: What is DictReader?\n",
    "\n",
    "Ans: It's a CSV reader that returns rows as dictionaries using the first line as keys.\n",
    "\n"
   ]
  },
  {
   "cell_type": "code",
   "execution_count": 1,
   "id": "5bd583f4",
   "metadata": {},
   "outputs": [
    {
     "name": "stdout",
     "output_type": "stream",
     "text": [
      "Python is awesome!\n",
      "File handling is easy.\n",
      "\n"
     ]
    }
   ],
   "source": [
    "# Write to file\n",
    "with open(\"example.txt\", \"w\") as file:\n",
    "    file.write(\"Python is awesome!\\n\")\n",
    "    file.write(\"File handling is easy.\\n\")\n",
    "\n",
    "# Read from file\n",
    "with open(\"example.txt\", \"r\") as file:\n",
    "    content = file.read()\n",
    "    print(content)"
   ]
  },
  {
   "cell_type": "code",
   "execution_count": 2,
   "id": "40c4d857",
   "metadata": {},
   "outputs": [
    {
     "name": "stdout",
     "output_type": "stream",
     "text": [
      "Lines: 2\n",
      "Words: 7\n",
      "Characters: 42\n"
     ]
    }
   ],
   "source": [
    "with open(\"example.txt\", \"r\") as file:\n",
    "    lines = file.readlines()\n",
    "\n",
    "line_count = len(lines)\n",
    "word_count = sum(len(line.split()) for line in lines)\n",
    "char_count = sum(len(line) for line in lines)\n",
    "\n",
    "print(f\"Lines: {line_count}\")\n",
    "print(f\"Words: {word_count}\")\n",
    "print(f\"Characters: {char_count}\")"
   ]
  },
  {
   "cell_type": "code",
   "execution_count": 3,
   "id": "c0e1ca87",
   "metadata": {},
   "outputs": [],
   "source": [
    "with open(\"example.txt\", \"r\") as src, open(\"destination.txt\", \"w\") as dest:\n",
    "    for line in src:\n",
    "        dest.write(line)\n",
    "\n",
    "        "
   ]
  },
  {
   "cell_type": "code",
   "execution_count": 4,
   "id": "d67b035a",
   "metadata": {},
   "outputs": [
    {
     "name": "stdout",
     "output_type": "stream",
     "text": [
      "'Python' found in file.\n"
     ]
    }
   ],
   "source": [
    "# Search for a word in file\n",
    "word_to_search = \"Python\"\n",
    "found = False\n",
    "\n",
    "with open(\"example.txt\", \"r\") as file:\n",
    "    for line in file:\n",
    "        if word_to_search in line:\n",
    "            found = True\n",
    "            break\n",
    "\n",
    "if found:\n",
    "    print(f\"'{word_to_search}' found in file.\")\n",
    "else:\n",
    "    print(f\"'{word_to_search}' not found.\")"
   ]
  },
  {
   "cell_type": "code",
   "execution_count": 6,
   "id": "30648a04",
   "metadata": {},
   "outputs": [
    {
     "name": "stdout",
     "output_type": "stream",
     "text": [
      "Current Directory: j:\\Project\\2025\\June\\File Handling\n",
      "Created file1.txt with content.\n",
      "Created file2.txt with content.\n",
      "Created file3.txt with content.\n",
      "Files merged into 'merged_file.txt'\n",
      "This is file 1.\n",
      "It contains some text.\n",
      "This is file 2.\n",
      "It also contains some text.\n",
      "This is file 3.\n",
      "It has some different text.\n",
      "\n"
     ]
    }
   ],
   "source": [
    "# Program : Merge Contents of Multiple Text Files into One\n",
    "import os   \n",
    "Current_Directory = os.getcwd()\n",
    "print(\"Current Directory:\", Current_Directory)\n",
    "#create each files also with some content\n",
    "def create_files(file_contents):\n",
    "    for file_name, content in file_contents.items():\n",
    "        with open(file_name, \"w\") as file:\n",
    "            file.write(content)\n",
    "            print(f\"Created {file_name} with content.\")\n",
    "\n",
    "# Define file names and their contents\n",
    "file_contents = {\n",
    "    \"file1.txt\": \"This is file 1.\\nIt contains some text.\",\n",
    "    \"file2.txt\": \"This is file 2.\\nIt also contains some text.\",\n",
    "    \"file3.txt\": \"This is file 3.\\nIt has some different text.\"\n",
    "}\n",
    "\n",
    "# Call the function to create the files\n",
    "create_files(file_contents)\n",
    "\n",
    "\n",
    "# List of files to merge\n",
    "file_list = [\"file1.txt\", \"file2.txt\", \"file3.txt\"]\n",
    "\n",
    "# merge files into target file\n",
    "with open(\"merged_file.txt\", \"w\") as target_file:\n",
    "    for file_name in file_list:\n",
    "        with open(file_name, \"r\") as source_file:\n",
    "            target_file.write(source_file.read() + \"\\n\")\n",
    "\n",
    "print(\"Files merged into 'merged_file.txt'\")\n",
    "\n",
    "#verify the content of merged file\n",
    "with open(\"merged_file.txt\", \"r\") as merged_file:\n",
    "    print(merged_file.read())"
   ]
  },
  {
   "cell_type": "code",
   "execution_count": null,
   "id": "4658a05f",
   "metadata": {},
   "outputs": [
    {
     "name": "stdout",
     "output_type": "stream",
     "text": [
      "Created sample.csv with sample data.\n",
      "Number of rows where City is 'New York': 2\n"
     ]
    }
   ],
   "source": [
    "# Program 2: Read CSV File and Count Rows with Specific Criteria\n",
    "\n",
    "# create a sample CSV file\n",
    "import csv\n",
    "csv_file = \"sample.csv\"\n",
    "with open(csv_file, \"w\", newline='') as file:\n",
    "    writer = csv.writer(file)\n",
    "    writer.writerow([\"Name\", \"Age\", \"City\"])\n",
    "    writer.writerow([\"Alice\", 30, \"New York\"])\n",
    "    writer.writerow([\"Bob\", 25, \"Los Angeles\"])\n",
    "    writer.writerow([\"Charlie\", 35, \"New York\"])\n",
    "    writer.writerow([\"David\", 28, \"Chicago\"])\n",
    "print(f\"Created {csv_file} with sample data.\")\n",
    "\n",
    "# create a function to Read CSV and count rows where City is \"New York\"\n",
    "def count_rows_with_city(file_name, city_name):\n",
    "    count = 0\n",
    "    with open(file_name, \"r\") as file:\n",
    "        reader = csv.DictReader(file)\n",
    "        for row in reader:\n",
    "            if row[\"City\"] == city_name:\n",
    "                count += 1\n",
    "    return count\n",
    "\n",
    "city_to_search = \"New York\"\n",
    "row_count = count_rows_with_city(csv_file, city_to_search)\n",
    "print(f\"Number of rows where City is '{city_to_search}': {row_count}\")\n",
    "\n"
   ]
  },
  {
   "cell_type": "code",
   "execution_count": 8,
   "id": "87bc2d91",
   "metadata": {},
   "outputs": [
    {
     "name": "stdout",
     "output_type": "stream",
     "text": [
      "Created scores.csv with sample data.\n",
      "Average score: 86.66666666666667\n"
     ]
    }
   ],
   "source": [
    "# create a sample CSV file with below content\n",
    "# name,score\n",
    "# Alice,95\n",
    "# Bob,87\n",
    "# Charlie,78'\n",
    "\n",
    "import csv\n",
    "#create a sample CSV file \n",
    "csv_file = \"scores.csv\"\n",
    "with open(csv_file, \"w\", newline='') as file:\n",
    "    writer = csv.writer(file)\n",
    "    writer.writerow([\"name\", \"score\"])\n",
    "    writer.writerow([\"Alice\", 95])\n",
    "    writer.writerow([\"Bob\", 87])\n",
    "    writer.writerow([\"Charlie\", 78])\n",
    "print(f\"Created {csv_file} with sample data.\")\n",
    "\n",
    "# Function to read CSV and calculate average score\n",
    "def calculate_average_score(file_name):\n",
    "    total_score = 0\n",
    "    count = 0\n",
    "    with open(file_name, \"r\") as file:\n",
    "        reader = csv.DictReader(file)\n",
    "        for row in reader:\n",
    "            total_score += int(row[\"score\"])\n",
    "            count += 1\n",
    "    return total_score / count if count > 0 else 0\n",
    "average_score = calculate_average_score(csv_file)\n",
    "print(f\"Average score: {average_score}\")"
   ]
  },
  {
   "cell_type": "code",
   "execution_count": 12,
   "id": "2aa71b8a",
   "metadata": {},
   "outputs": [
    {
     "name": "stdout",
     "output_type": "stream",
     "text": [
      "Number of scores above 90: 2\n"
     ]
    }
   ],
   "source": [
    "# Function to count number of scores and scores above a certain threshold\n",
    "def count_high_scores(file_name, threshold=90):\n",
    "    count = 0\n",
    "    with open(file_name, 'r') as csvfile:\n",
    "        reader = csv.DictReader(csvfile)\n",
    "        for row in reader:\n",
    "            if int(row['score']) > threshold:\n",
    "                count += 1\n",
    "    return count\n",
    "high_score_count = count_high_scores(csv_file, 85)\n",
    "print(f\"Number of scores above 90: {high_score_count}\")"
   ]
  },
  {
   "cell_type": "code",
   "execution_count": 13,
   "id": "c473d2ae",
   "metadata": {},
   "outputs": [],
   "source": [
    "# Handle file errors and log them\n",
    "\n",
    "def process_files(files):\n",
    "    with open(\"error.log\", \"w\") as log:\n",
    "        for fname in files:\n",
    "            try:\n",
    "                with open(fname, 'r') as f:\n",
    "                    print(f.read())\n",
    "            except Exception as e:\n",
    "                log.write(f\"Error with {fname}: {e}\\n\")\n",
    "\n",
    "files = [\"one.txt\", \"two.txt\", \"missing.txt\"]\n",
    "process_files(files)"
   ]
  },
  {
   "cell_type": "code",
   "execution_count": 14,
   "id": "7101f8d9",
   "metadata": {},
   "outputs": [
    {
     "name": "stdout",
     "output_type": "stream",
     "text": [
      "{'name': 'Alice', 'age': 30, 'city': 'New York'}\n"
     ]
    }
   ],
   "source": [
    "# Serialize Python Dictionary to File Using json\n",
    "import json\n",
    "data = {\n",
    "    \"name\": \"Alice\",\n",
    "    \"age\": 30,\n",
    "    \"city\": \"New York\"\n",
    "}\n",
    "\n",
    "with open(\"data.json\", \"w\") as json_file:\n",
    "    json.dump(data, json_file)\n",
    "\n",
    "# read json file\n",
    "with open(\"data.json\", \"r\") as json_file:\n",
    "    loaded_data = json.load(json_file)\n",
    "    print(loaded_data)"
   ]
  },
  {
   "cell_type": "code",
   "execution_count": 15,
   "id": "789482fb",
   "metadata": {},
   "outputs": [
    {
     "name": "stdout",
     "output_type": "stream",
     "text": [
      "{\"name\": \"Bob\", \"age\": 25, \"city\": \"Los Angeles\"}\n"
     ]
    }
   ],
   "source": [
    "#json.dump() writes to a file\n",
    "#json.dumps() returns a JSON string (for logging or sending over a network)\n",
    "\n",
    "\n",
    "#give example of json.dump() and json.dumps()\n",
    "\n",
    "import json\n",
    "data = {\n",
    "    \"name\": \"Bob\",\n",
    "    \"age\": 25,\n",
    "    \"city\": \"Los Angeles\"\n",
    "}\n",
    "# Using json.dump() to write to a file\n",
    "with open(\"bob_data.json\", \"w\") as json_file:\n",
    "    json.dump(data, json_file)\n",
    "\n",
    "# Using json.dumps() to convert to a JSON string\n",
    "json_string = json.dumps(data)\n",
    "print(json_string)\n"
   ]
  },
  {
   "cell_type": "code",
   "execution_count": null,
   "id": "f5c59987",
   "metadata": {},
   "outputs": [
    {
     "name": "stdout",
     "output_type": "stream",
     "text": [
      "{'a': 0, 'b': 0, 'c': 0}\n"
     ]
    }
   ],
   "source": [
    "# Why use dict.fromkeys()?\n",
    "# It creates a new dictionary with specified keys and a common value, useful for initializing dictionaries.\n",
    "# It removes duplicates while preserving the order (unlike a plain set()).\n",
    "keys = ['a', 'b', 'c']\n",
    "value = 0\n",
    "\n",
    "new_dict = dict.fromkeys(keys, value)\n",
    "print(new_dict) "
   ]
  },
  {
   "cell_type": "code",
   "execution_count": null,
   "id": "07051e6a",
   "metadata": {},
   "outputs": [
    {
     "name": "stdout",
     "output_type": "stream",
     "text": [
      "Current Directory: j:\\Project\\2025\\June\\File Handling\n",
      "Renamed destination.txt to test_1758119094_destination.txt\n",
      "Renamed example.txt to test_1758119094_example.txt\n",
      "Renamed file1.txt to test_1758119094_file1.txt\n",
      "Renamed file2.txt to test_1758119094_file2.txt\n",
      "Renamed file3.txt to test_1758119094_file3.txt\n",
      "Renamed merged_file.txt to test_1758119094_merged_file.txt\n",
      "Renamed files:\n",
      "test_1758119094_destination.txt\n",
      "test_1758119094_example.txt\n",
      "test_1758119094_file1.txt\n",
      "test_1758119094_file2.txt\n",
      "test_1758119094_file3.txt\n",
      "test_1758119094_merged_file.txt\n"
     ]
    }
   ],
   "source": [
    "# Rename All .txt Files in a Folder with Prefix\n",
    "\n",
    "import os\n",
    "#get current directory\n",
    "Current_Directory = os.getcwd()\n",
    "print(\"Current Directory:\", Current_Directory)\n",
    "\n",
    "# Rename all .txt files in the current directory by adding a prefix also add timestamp to avoid overwriting\n",
    "import time\n",
    "prefix = \"test_\"\n",
    "for filename in os.listdir(Current_Directory):\n",
    "    if filename.endswith(\".txt\"):\n",
    "        timestamp = int(time.time())\n",
    "        new_name = f\"{prefix}{timestamp}_{filename}\"\n",
    "        os.rename(os.path.join(Current_Directory, filename), os.path.join(Current_Directory, new_name))\n",
    "        print(f\"Renamed {filename} to {new_name}\")\n",
    "\n",
    "# verify the renamed files\n",
    "print(\"Renamed files:\")\n",
    "for filename in os.listdir(Current_Directory):\n",
    "    if filename.startswith(prefix) and filename.endswith(\".txt\"):\n",
    "        print(filename)\n",
    "\n",
    "        "
   ]
  },
  {
   "cell_type": "code",
   "execution_count": null,
   "id": "96f81067",
   "metadata": {},
   "outputs": [
    {
     "name": "stdout",
     "output_type": "stream",
     "text": [
      "Current Directory: j:\\Project\\2025\\June\\File Handling\n",
      "Renamed test_1758119094_destination.txt to destination.txt\n",
      "Renamed test_1758119094_example.txt to example.txt\n",
      "Renamed test_1758119094_file1.txt to file1.txt\n",
      "Renamed test_1758119094_file2.txt to file2.txt\n",
      "Renamed test_1758119094_file3.txt to file3.txt\n",
      "Renamed test_1758119094_merged_file.txt to merged_file.txt\n",
      "Renamed files:\n",
      "destination.txt\n",
      "example.txt\n",
      "file1.txt\n",
      "file2.txt\n",
      "file3.txt\n",
      "merged_file.txt\n"
     ]
    }
   ],
   "source": [
    "# remove the prefix  test_timestamp from all .txt files in the current directory\n",
    "\n",
    "import os\n",
    "Current_Directory = os.getcwd()\n",
    "print(\"Current Directory:\", Current_Directory)\n",
    "\n",
    "prefix = \"test_\"\n",
    "for filename in os.listdir(Current_Directory):\n",
    "    if filename.startswith(prefix) and filename.endswith(\".txt\"):\n",
    "        # Find the position of the second underscore to remove timestamp as well\n",
    "        second_underscore_pos = filename.find(\"_\", len(prefix)) # find underscore after prefix\n",
    "        if second_underscore_pos != -1: # ensure there is a second underscore ex: test_1700000000_file1.txt\n",
    "            new_name = filename[second_underscore_pos + 1:]\n",
    "            os.rename(os.path.join(Current_Directory, filename), os.path.join(Current_Directory, new_name))\n",
    "            print(f\"Renamed {filename} to {new_name}\")\n",
    "\n",
    "# verify the renamed files\n",
    "print(\"Renamed files:\")\n",
    "for filename in os.listdir(Current_Directory):\n",
    "    if filename.endswith(\".txt\") and not filename.startswith(prefix):\n",
    "        print(filename)\n",
    "\n"
   ]
  },
  {
   "cell_type": "code",
   "execution_count": 19,
   "id": "c410f9a1",
   "metadata": {},
   "outputs": [
    {
     "name": "stdout",
     "output_type": "stream",
     "text": [
      "defaultdict(<class 'int'>, {'Python': 1, 'is': 2, 'awesome!': 1, 'File': 1, 'handling': 1, 'easy.': 1})\n"
     ]
    }
   ],
   "source": [
    "#Count Frequency of Each Word in a File without using collections module\n",
    "\n",
    "from collections import defaultdict\n",
    "word_count = defaultdict(int)\n",
    "with open(\"example.txt\", \"r\") as file:\n",
    "    for line in file:\n",
    "        words = line.split()\n",
    "        for word in words:\n",
    "            word_count[word] += 1\n",
    "print(word_count)\n",
    "\n",
    "\n"
   ]
  },
  {
   "cell_type": "code",
   "execution_count": 20,
   "id": "91be5dff",
   "metadata": {},
   "outputs": [
    {
     "name": "stdout",
     "output_type": "stream",
     "text": [
      "[('is', 2), ('python', 1), ('awesome!', 1), ('file', 1), ('handling', 1)]\n"
     ]
    }
   ],
   "source": [
    "from collections import Counter\n",
    "\n",
    "def word_frequency(file_name):\n",
    "    with open(file_name, 'r') as f:\n",
    "        text = f.read().lower()\n",
    "\n",
    "    words = text.split()\n",
    "    freq = Counter(words)\n",
    "    return freq\n",
    "\n",
    "freq = word_frequency(\"example.txt\")\n",
    "print(freq.most_common(5))"
   ]
  },
  {
   "cell_type": "code",
   "execution_count": 21,
   "id": "97723d6b",
   "metadata": {},
   "outputs": [],
   "source": [
    "\n",
    "# Why use 'rb' and 'wb'?\n",
    "#Ans: These modes are required for handling binary files like images, PDFs, etc."
   ]
  },
  {
   "cell_type": "code",
   "execution_count": null,
   "id": "788031f8",
   "metadata": {},
   "outputs": [],
   "source": []
  }
 ],
 "metadata": {
  "kernelspec": {
   "display_name": ".venv",
   "language": "python",
   "name": "python3"
  },
  "language_info": {
   "codemirror_mode": {
    "name": "ipython",
    "version": 3
   },
   "file_extension": ".py",
   "mimetype": "text/x-python",
   "name": "python",
   "nbconvert_exporter": "python",
   "pygments_lexer": "ipython3",
   "version": "3.12.0"
  }
 },
 "nbformat": 4,
 "nbformat_minor": 5
}
